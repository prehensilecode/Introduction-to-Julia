{
 "cells": [
  {
   "cell_type": "markdown",
   "metadata": {},
   "source": [
    "# Julia is fast\n",
    "\n",
    "Very often, benchmarks are used to compare languages.  These benchmarks can lead to long discussions, first as to exactly what is being benchmarked and secondly what explains the differences.  These simple questions can sometimes get more complicated than you at first might imagine.\n",
    "\n",
    "The purpose of this notebook is for you to see a simple benchmark for yourself.  One can read the notebook and see what happened on the author's Macbook Pro with a 4-core Intel Core I7, or run the notebook yourself.\n",
    "\n",
    "(This material began life as a wonderful lecture by Steven Johnson at MIT: https://github.com/stevengj/18S096/blob/master/lectures/lecture1/Boxes-and-registers.ipynb.)"
   ]
  },
  {
   "cell_type": "markdown",
   "metadata": {},
   "source": [
    "# Outline of this notebook\n",
    "\n",
    "- Define the sum function\n",
    "- Implementations & benchmarking of sum in...\n",
    "    - C (hand-written)\n",
    "    - C (hand-written with -ffast-math)\n",
    "    - python (built-in)\n",
    "    - python (numpy)\n",
    "    - python (hand-written)\n",
    "    - Julia (built-in)\n",
    "    - Julia (hand-written)\n",
    "    - Julia (hand-written with SIMD)\n",
    "- Summary of benchmarks"
   ]
  },
  {
   "cell_type": "markdown",
   "metadata": {},
   "source": [
    "# `sum`: An easy enough function to understand"
   ]
  },
  {
   "cell_type": "markdown",
   "metadata": {},
   "source": [
    "Consider the  **sum** function `sum(a)`, which computes\n",
    "$$\n",
    "\\mathrm{sum}(a) = \\sum_{i=1}^n a_i,\n",
    "$$\n",
    "where $n$ is the length of `a`."
   ]
  },
  {
   "cell_type": "code",
   "execution_count": 1,
   "metadata": {},
   "outputs": [
    {
     "data": {
      "text/plain": [
       "10000000-element Vector{Float64}:\n",
       " 0.975294601701897\n",
       " 0.8624066446287034\n",
       " 0.8422160866016808\n",
       " 0.33344103053138185\n",
       " 0.6943380852061868\n",
       " 0.0666756654341466\n",
       " 0.29672925186003374\n",
       " 0.233983183823812\n",
       " 0.4148380485170401\n",
       " 0.20584151353663593\n",
       " 0.5862437740408536\n",
       " 0.8312459671362049\n",
       " 0.5983727971425438\n",
       " ⋮\n",
       " 0.6352490105732269\n",
       " 0.17247458837865004\n",
       " 0.9693138545843843\n",
       " 0.400229508646855\n",
       " 0.07380412837930106\n",
       " 0.0722587843918614\n",
       " 0.3888228089218506\n",
       " 0.5675924819586521\n",
       " 0.4459718816371855\n",
       " 0.6743856449506023\n",
       " 0.2536386807773964\n",
       " 0.9040739231337452"
      ]
     },
     "execution_count": 1,
     "metadata": {},
     "output_type": "execute_result"
    }
   ],
   "source": [
    "a = rand(10^7) # 1D vector of random numbers, uniform on [0,1)"
   ]
  },
  {
   "cell_type": "code",
   "execution_count": 2,
   "metadata": {},
   "outputs": [
    {
     "data": {
      "text/plain": [
       "5.000626451388976e6"
      ]
     },
     "execution_count": 2,
     "metadata": {},
     "output_type": "execute_result"
    }
   ],
   "source": [
    "sum(a)"
   ]
  },
  {
   "cell_type": "markdown",
   "metadata": {},
   "source": [
    "The expected result is 0.5 * 10^7, since the mean of each entry is 0.5"
   ]
  },
  {
   "cell_type": "markdown",
   "metadata": {},
   "source": [
    "# Benchmarking a few ways in a few languages"
   ]
  },
  {
   "cell_type": "code",
   "execution_count": 3,
   "metadata": {},
   "outputs": [
    {
     "name": "stdout",
     "output_type": "stream",
     "text": [
      "  0.007449 seconds (1 allocation: 16 bytes)\n"
     ]
    },
    {
     "data": {
      "text/plain": [
       "5.000626451388976e6"
      ]
     },
     "execution_count": 3,
     "metadata": {},
     "output_type": "execute_result"
    }
   ],
   "source": [
    "@time sum(a)"
   ]
  },
  {
   "cell_type": "code",
   "execution_count": 4,
   "metadata": {},
   "outputs": [
    {
     "name": "stdout",
     "output_type": "stream",
     "text": [
      "  0.007625 seconds (1 allocation: 16 bytes)\n"
     ]
    },
    {
     "data": {
      "text/plain": [
       "5.000626451388976e6"
      ]
     },
     "execution_count": 4,
     "metadata": {},
     "output_type": "execute_result"
    }
   ],
   "source": [
    "@time sum(a)"
   ]
  },
  {
   "cell_type": "code",
   "execution_count": 5,
   "metadata": {},
   "outputs": [
    {
     "name": "stdout",
     "output_type": "stream",
     "text": [
      "  0.007726 seconds (1 allocation: 16 bytes)\n"
     ]
    },
    {
     "data": {
      "text/plain": [
       "5.000626451388976e6"
      ]
     },
     "execution_count": 5,
     "metadata": {},
     "output_type": "execute_result"
    }
   ],
   "source": [
    "@time sum(a)"
   ]
  },
  {
   "cell_type": "markdown",
   "metadata": {},
   "source": [
    "The `@time` macro can yield noisy results, so it's not our best choice for benchmarking!\n",
    "\n",
    "Luckily, Julia has a `BenchmarkTools.jl` package to make benchmarking easy and accurate:"
   ]
  },
  {
   "cell_type": "code",
   "execution_count": 6,
   "metadata": {},
   "outputs": [
    {
     "name": "stderr",
     "output_type": "stream",
     "text": [
      "\u001b[32m\u001b[1m   Resolving\u001b[22m\u001b[39m package versions...\n",
      "\u001b[32m\u001b[1m  No Changes\u001b[22m\u001b[39m to `~/Src/Introduction-to-Julia/Project.toml`\n",
      "\u001b[32m\u001b[1m  No Changes\u001b[22m\u001b[39m to `~/Src/Introduction-to-Julia/Manifest.toml`\n"
     ]
    }
   ],
   "source": [
    "using Pkg\n",
    "Pkg.add(\"BenchmarkTools\")"
   ]
  },
  {
   "cell_type": "code",
   "execution_count": 7,
   "metadata": {},
   "outputs": [],
   "source": [
    "using BenchmarkTools  "
   ]
  },
  {
   "cell_type": "markdown",
   "metadata": {},
   "source": [
    "#  1. The C language\n",
    "\n",
    "C is often considered the gold standard: difficult on the human, nice for the machine. Getting within a factor of 2 of C is often satisfying. Nonetheless, even within C, there are many kinds of optimizations possible that a naive C writer may or may not get the advantage of.\n",
    "\n",
    "The current author does not speak C, so he does not read the cell below, but is happy to know that you can put C code in a Julia session, compile it, and run it. Note that the `\"\"\"` wrap a multi-line string."
   ]
  },
  {
   "cell_type": "code",
   "execution_count": 8,
   "metadata": {},
   "outputs": [
    {
     "data": {
      "text/plain": [
       "c_sum (generic function with 1 method)"
      ]
     },
     "execution_count": 8,
     "metadata": {},
     "output_type": "execute_result"
    }
   ],
   "source": [
    "using Libdl\n",
    "C_code = \"\"\"\n",
    "#include <stddef.h>\n",
    "double c_sum(size_t n, double *X) {\n",
    "    double s = 0.0;\n",
    "    for (size_t i = 0; i < n; ++i) {\n",
    "        s += X[i];\n",
    "    }\n",
    "    return s;\n",
    "}\n",
    "\"\"\"\n",
    "\n",
    "const Clib = tempname()   # make a temporary file\n",
    "\n",
    "\n",
    "# compile to a shared library by piping C_code to gcc\n",
    "# (works only if you have gcc installed):\n",
    "\n",
    "open(`gcc -fPIC -O3 -msse3 -xc -shared -o $(Clib * \".\" * Libdl.dlext) -`, \"w\") do f\n",
    "    print(f, C_code) \n",
    "end\n",
    "\n",
    "# define a Julia function that calls the C function:\n",
    "c_sum(X::Array{Float64}) = ccall((\"c_sum\", Clib), Float64, (Csize_t, Ptr{Float64}), length(X), X)"
   ]
  },
  {
   "cell_type": "code",
   "execution_count": 9,
   "metadata": {},
   "outputs": [
    {
     "data": {
      "text/plain": [
       "5.000626451388183e6"
      ]
     },
     "execution_count": 9,
     "metadata": {},
     "output_type": "execute_result"
    }
   ],
   "source": [
    "c_sum(a)"
   ]
  },
  {
   "cell_type": "code",
   "execution_count": 10,
   "metadata": {},
   "outputs": [
    {
     "data": {
      "text/plain": [
       "true"
      ]
     },
     "execution_count": 10,
     "metadata": {},
     "output_type": "execute_result"
    }
   ],
   "source": [
    "c_sum(a) ≈ sum(a) # type \\approx and then <TAB> to get the ≈ symbolb"
   ]
  },
  {
   "cell_type": "code",
   "execution_count": 11,
   "metadata": {},
   "outputs": [
    {
     "data": {
      "text/plain": [
       "-7.925555109977722e-7"
      ]
     },
     "execution_count": 11,
     "metadata": {},
     "output_type": "execute_result"
    }
   ],
   "source": [
    "c_sum(a) - sum(a)  "
   ]
  },
  {
   "cell_type": "code",
   "execution_count": 12,
   "metadata": {
    "scrolled": true
   },
   "outputs": [
    {
     "data": {
      "text/plain": [
       "isapprox (generic function with 13 methods)"
      ]
     },
     "execution_count": 12,
     "metadata": {},
     "output_type": "execute_result"
    }
   ],
   "source": [
    "≈  # alias for the `isapprox` function"
   ]
  },
  {
   "cell_type": "code",
   "execution_count": 13,
   "metadata": {
    "scrolled": true
   },
   "outputs": [
    {
     "name": "stdout",
     "output_type": "stream",
     "text": [
      "search: \u001b[0m\u001b[1mi\u001b[22m\u001b[0m\u001b[1ms\u001b[22m\u001b[0m\u001b[1ma\u001b[22m\u001b[0m\u001b[1mp\u001b[22m\u001b[0m\u001b[1mp\u001b[22m\u001b[0m\u001b[1mr\u001b[22m\u001b[0m\u001b[1mo\u001b[22m\u001b[0m\u001b[1mx\u001b[22m\n",
      "\n"
     ]
    },
    {
     "data": {
      "text/latex": [
       "\\begin{verbatim}\n",
       "isapprox(x, y; atol::Real=0, rtol::Real=atol>0 ? 0 : √eps, nans::Bool=false[, norm::Function])\n",
       "\\end{verbatim}\n",
       "Inexact equality comparison. Two numbers compare equal if their relative distance \\emph{or} their absolute distance is within tolerance bounds: \\texttt{isapprox} returns \\texttt{true} if \\texttt{norm(x-y) <= max(atol, rtol*max(norm(x), norm(y)))}. The default \\texttt{atol} (absolute tolerance) is zero and the default \\texttt{rtol} (relative tolerance) depends on the types of \\texttt{x} and \\texttt{y}. The keyword argument \\texttt{nans} determines whether or not NaN values are considered equal (defaults to false).\n",
       "\n",
       "For real or complex floating-point values, if an \\texttt{atol > 0} is not specified, \\texttt{rtol} defaults to the square root of \\href{@ref}{\\texttt{eps}} of the type of \\texttt{x} or \\texttt{y}, whichever is bigger (least precise). This corresponds to requiring equality of about half of the significant digits. Otherwise, e.g. for integer arguments or if an \\texttt{atol > 0} is supplied, \\texttt{rtol} defaults to zero.\n",
       "\n",
       "The \\texttt{norm} keyword defaults to \\texttt{abs} for numeric \\texttt{(x,y)} and to \\texttt{LinearAlgebra.norm} for arrays (where an alternative \\texttt{norm} choice is sometimes useful). When \\texttt{x} and \\texttt{y} are arrays, if \\texttt{norm(x-y)} is not finite (i.e. \\texttt{±Inf} or \\texttt{NaN}), the comparison falls back to checking whether all elements of \\texttt{x} and \\texttt{y} are approximately equal component-wise.\n",
       "\n",
       "The binary operator \\texttt{≈} is equivalent to \\texttt{isapprox} with the default arguments, and \\texttt{x ≉ y} is equivalent to \\texttt{!isapprox(x,y)}.\n",
       "\n",
       "Note that \\texttt{x ≈ 0} (i.e., comparing to zero with the default tolerances) is equivalent to \\texttt{x == 0} since the default \\texttt{atol} is \\texttt{0}.  In such cases, you should either supply an appropriate \\texttt{atol} (or use \\texttt{norm(x) ≤ atol}) or rearrange your code (e.g. use \\texttt{x ≈ y} rather than \\texttt{x - y ≈ 0}).   It is not possible to pick a nonzero \\texttt{atol} automatically because it depends on the overall scaling (the \"units\") of your problem: for example, in \\texttt{x - y ≈ 0}, \\texttt{atol=1e-9} is an absurdly small tolerance if \\texttt{x} is the \\href{https://en.wikipedia.org/wiki/Earth_radius}{radius of the Earth} in meters, but an absurdly large tolerance if \\texttt{x} is the \\href{https://en.wikipedia.org/wiki/Bohr_radius}{radius of a Hydrogen atom} in meters.\n",
       "\n",
       "\\begin{quote}\n",
       "\\textbf{compat}\n",
       "\n",
       "Julia 1.6\n",
       "\n",
       "Passing the \\texttt{norm} keyword argument when comparing numeric (non-array) arguments requires Julia 1.6 or later.\n",
       "\n",
       "\\end{quote}\n",
       "\\section{Examples}\n",
       "\\begin{verbatim}\n",
       "julia> isapprox(0.1, 0.15; atol=0.05)\n",
       "true\n",
       "\n",
       "julia> isapprox(0.1, 0.15; rtol=0.34)\n",
       "true\n",
       "\n",
       "julia> isapprox(0.1, 0.15; rtol=0.33)\n",
       "false\n",
       "\n",
       "julia> 0.1 + 1e-10 ≈ 0.1\n",
       "true\n",
       "\n",
       "julia> 1e-10 ≈ 0\n",
       "false\n",
       "\n",
       "julia> isapprox(1e-10, 0, atol=1e-8)\n",
       "true\n",
       "\n",
       "julia> isapprox([10.0^9, 1.0], [10.0^9, 2.0]) # using `norm`\n",
       "true\n",
       "\\end{verbatim}\n",
       "\\rule{\\textwidth}{1pt}\n",
       "\\begin{verbatim}\n",
       "isapprox(x; kwargs...) / ≈(x; kwargs...)\n",
       "\\end{verbatim}\n",
       "Create a function that compares its argument to \\texttt{x} using \\texttt{≈}, i.e. a function equivalent to \\texttt{y -> y ≈ x}.\n",
       "\n",
       "The keyword arguments supported here are the same as those in the 2-argument \\texttt{isapprox}.\n",
       "\n",
       "\\begin{quote}\n",
       "\\textbf{compat}\n",
       "\n",
       "Julia 1.5\n",
       "\n",
       "This method requires Julia 1.5 or later.\n",
       "\n",
       "\\end{quote}\n"
      ],
      "text/markdown": [
       "```\n",
       "isapprox(x, y; atol::Real=0, rtol::Real=atol>0 ? 0 : √eps, nans::Bool=false[, norm::Function])\n",
       "```\n",
       "\n",
       "Inexact equality comparison. Two numbers compare equal if their relative distance *or* their absolute distance is within tolerance bounds: `isapprox` returns `true` if `norm(x-y) <= max(atol, rtol*max(norm(x), norm(y)))`. The default `atol` (absolute tolerance) is zero and the default `rtol` (relative tolerance) depends on the types of `x` and `y`. The keyword argument `nans` determines whether or not NaN values are considered equal (defaults to false).\n",
       "\n",
       "For real or complex floating-point values, if an `atol > 0` is not specified, `rtol` defaults to the square root of [`eps`](@ref) of the type of `x` or `y`, whichever is bigger (least precise). This corresponds to requiring equality of about half of the significant digits. Otherwise, e.g. for integer arguments or if an `atol > 0` is supplied, `rtol` defaults to zero.\n",
       "\n",
       "The `norm` keyword defaults to `abs` for numeric `(x,y)` and to `LinearAlgebra.norm` for arrays (where an alternative `norm` choice is sometimes useful). When `x` and `y` are arrays, if `norm(x-y)` is not finite (i.e. `±Inf` or `NaN`), the comparison falls back to checking whether all elements of `x` and `y` are approximately equal component-wise.\n",
       "\n",
       "The binary operator `≈` is equivalent to `isapprox` with the default arguments, and `x ≉ y` is equivalent to `!isapprox(x,y)`.\n",
       "\n",
       "Note that `x ≈ 0` (i.e., comparing to zero with the default tolerances) is equivalent to `x == 0` since the default `atol` is `0`.  In such cases, you should either supply an appropriate `atol` (or use `norm(x) ≤ atol`) or rearrange your code (e.g. use `x ≈ y` rather than `x - y ≈ 0`).   It is not possible to pick a nonzero `atol` automatically because it depends on the overall scaling (the \"units\") of your problem: for example, in `x - y ≈ 0`, `atol=1e-9` is an absurdly small tolerance if `x` is the [radius of the Earth](https://en.wikipedia.org/wiki/Earth_radius) in meters, but an absurdly large tolerance if `x` is the [radius of a Hydrogen atom](https://en.wikipedia.org/wiki/Bohr_radius) in meters.\n",
       "\n",
       "!!! compat \"Julia 1.6\"\n",
       "    Passing the `norm` keyword argument when comparing numeric (non-array) arguments requires Julia 1.6 or later.\n",
       "\n",
       "\n",
       "# Examples\n",
       "\n",
       "```jldoctest\n",
       "julia> isapprox(0.1, 0.15; atol=0.05)\n",
       "true\n",
       "\n",
       "julia> isapprox(0.1, 0.15; rtol=0.34)\n",
       "true\n",
       "\n",
       "julia> isapprox(0.1, 0.15; rtol=0.33)\n",
       "false\n",
       "\n",
       "julia> 0.1 + 1e-10 ≈ 0.1\n",
       "true\n",
       "\n",
       "julia> 1e-10 ≈ 0\n",
       "false\n",
       "\n",
       "julia> isapprox(1e-10, 0, atol=1e-8)\n",
       "true\n",
       "\n",
       "julia> isapprox([10.0^9, 1.0], [10.0^9, 2.0]) # using `norm`\n",
       "true\n",
       "```\n",
       "\n",
       "---\n",
       "\n",
       "```\n",
       "isapprox(x; kwargs...) / ≈(x; kwargs...)\n",
       "```\n",
       "\n",
       "Create a function that compares its argument to `x` using `≈`, i.e. a function equivalent to `y -> y ≈ x`.\n",
       "\n",
       "The keyword arguments supported here are the same as those in the 2-argument `isapprox`.\n",
       "\n",
       "!!! compat \"Julia 1.5\"\n",
       "    This method requires Julia 1.5 or later.\n",
       "\n"
      ],
      "text/plain": [
       "\u001b[36m  isapprox(x, y; atol::Real=0, rtol::Real=atol>0 ? 0 : √eps, nans::Bool=false[, norm::Function])\u001b[39m\n",
       "\n",
       "  Inexact equality comparison. Two numbers compare equal if their relative\n",
       "  distance \u001b[4mor\u001b[24m their absolute distance is within tolerance bounds: \u001b[36misapprox\u001b[39m\n",
       "  returns \u001b[36mtrue\u001b[39m if \u001b[36mnorm(x-y) <= max(atol, rtol*max(norm(x), norm(y)))\u001b[39m. The\n",
       "  default \u001b[36matol\u001b[39m (absolute tolerance) is zero and the default \u001b[36mrtol\u001b[39m (relative\n",
       "  tolerance) depends on the types of \u001b[36mx\u001b[39m and \u001b[36my\u001b[39m. The keyword argument \u001b[36mnans\u001b[39m\n",
       "  determines whether or not NaN values are considered equal (defaults to\n",
       "  false).\n",
       "\n",
       "  For real or complex floating-point values, if an \u001b[36matol > 0\u001b[39m is not specified,\n",
       "  \u001b[36mrtol\u001b[39m defaults to the square root of \u001b[36meps\u001b[39m of the type of \u001b[36mx\u001b[39m or \u001b[36my\u001b[39m, whichever is\n",
       "  bigger (least precise). This corresponds to requiring equality of about half\n",
       "  of the significant digits. Otherwise, e.g. for integer arguments or if an\n",
       "  \u001b[36matol > 0\u001b[39m is supplied, \u001b[36mrtol\u001b[39m defaults to zero.\n",
       "\n",
       "  The \u001b[36mnorm\u001b[39m keyword defaults to \u001b[36mabs\u001b[39m for numeric \u001b[36m(x,y)\u001b[39m and to \u001b[36mLinearAlgebra.norm\u001b[39m\n",
       "  for arrays (where an alternative \u001b[36mnorm\u001b[39m choice is sometimes useful). When \u001b[36mx\u001b[39m\n",
       "  and \u001b[36my\u001b[39m are arrays, if \u001b[36mnorm(x-y)\u001b[39m is not finite (i.e. \u001b[36m±Inf\u001b[39m or \u001b[36mNaN\u001b[39m), the\n",
       "  comparison falls back to checking whether all elements of \u001b[36mx\u001b[39m and \u001b[36my\u001b[39m are\n",
       "  approximately equal component-wise.\n",
       "\n",
       "  The binary operator \u001b[36m≈\u001b[39m is equivalent to \u001b[36misapprox\u001b[39m with the default arguments,\n",
       "  and \u001b[36mx ≉ y\u001b[39m is equivalent to \u001b[36m!isapprox(x,y)\u001b[39m.\n",
       "\n",
       "  Note that \u001b[36mx ≈ 0\u001b[39m (i.e., comparing to zero with the default tolerances) is\n",
       "  equivalent to \u001b[36mx == 0\u001b[39m since the default \u001b[36matol\u001b[39m is \u001b[36m0\u001b[39m. In such cases, you should\n",
       "  either supply an appropriate \u001b[36matol\u001b[39m (or use \u001b[36mnorm(x) ≤ atol\u001b[39m) or rearrange your\n",
       "  code (e.g. use \u001b[36mx ≈ y\u001b[39m rather than \u001b[36mx - y ≈ 0\u001b[39m). It is not possible to pick a\n",
       "  nonzero \u001b[36matol\u001b[39m automatically because it depends on the overall scaling (the\n",
       "  \"units\") of your problem: for example, in \u001b[36mx - y ≈ 0\u001b[39m, \u001b[36matol=1e-9\u001b[39m is an\n",
       "  absurdly small tolerance if \u001b[36mx\u001b[39m is the radius of the Earth\n",
       "  (https://en.wikipedia.org/wiki/Earth_radius) in meters, but an absurdly\n",
       "  large tolerance if \u001b[36mx\u001b[39m is the radius of a Hydrogen atom\n",
       "  (https://en.wikipedia.org/wiki/Bohr_radius) in meters.\n",
       "\n",
       "\u001b[39m\u001b[1m  │ \u001b[22m\u001b[39m\u001b[1mJulia 1.6\u001b[22m\n",
       "\u001b[39m\u001b[1m  │\u001b[22m\n",
       "\u001b[39m\u001b[1m  │\u001b[22m  Passing the \u001b[36mnorm\u001b[39m keyword argument when comparing numeric\n",
       "\u001b[39m\u001b[1m  │\u001b[22m  (non-array) arguments requires Julia 1.6 or later.\n",
       "\n",
       "\u001b[1m  Examples\u001b[22m\n",
       "\u001b[1m  ≡≡≡≡≡≡≡≡\u001b[22m\n",
       "\n",
       "\u001b[36m  julia> isapprox(0.1, 0.15; atol=0.05)\u001b[39m\n",
       "\u001b[36m  true\u001b[39m\n",
       "\u001b[36m  \u001b[39m\n",
       "\u001b[36m  julia> isapprox(0.1, 0.15; rtol=0.34)\u001b[39m\n",
       "\u001b[36m  true\u001b[39m\n",
       "\u001b[36m  \u001b[39m\n",
       "\u001b[36m  julia> isapprox(0.1, 0.15; rtol=0.33)\u001b[39m\n",
       "\u001b[36m  false\u001b[39m\n",
       "\u001b[36m  \u001b[39m\n",
       "\u001b[36m  julia> 0.1 + 1e-10 ≈ 0.1\u001b[39m\n",
       "\u001b[36m  true\u001b[39m\n",
       "\u001b[36m  \u001b[39m\n",
       "\u001b[36m  julia> 1e-10 ≈ 0\u001b[39m\n",
       "\u001b[36m  false\u001b[39m\n",
       "\u001b[36m  \u001b[39m\n",
       "\u001b[36m  julia> isapprox(1e-10, 0, atol=1e-8)\u001b[39m\n",
       "\u001b[36m  true\u001b[39m\n",
       "\u001b[36m  \u001b[39m\n",
       "\u001b[36m  julia> isapprox([10.0^9, 1.0], [10.0^9, 2.0]) # using `norm`\u001b[39m\n",
       "\u001b[36m  true\u001b[39m\n",
       "\n",
       "  ────────────────────────────────────────────────────────────────────────────\n",
       "\n",
       "\u001b[36m  isapprox(x; kwargs...) / ≈(x; kwargs...)\u001b[39m\n",
       "\n",
       "  Create a function that compares its argument to \u001b[36mx\u001b[39m using \u001b[36m≈\u001b[39m, i.e. a function\n",
       "  equivalent to \u001b[36my -> y ≈ x\u001b[39m.\n",
       "\n",
       "  The keyword arguments supported here are the same as those in the 2-argument\n",
       "  \u001b[36misapprox\u001b[39m.\n",
       "\n",
       "\u001b[39m\u001b[1m  │ \u001b[22m\u001b[39m\u001b[1mJulia 1.5\u001b[22m\n",
       "\u001b[39m\u001b[1m  │\u001b[22m\n",
       "\u001b[39m\u001b[1m  │\u001b[22m  This method requires Julia 1.5 or later."
      ]
     },
     "execution_count": 13,
     "metadata": {},
     "output_type": "execute_result"
    }
   ],
   "source": [
    "?isapprox"
   ]
  },
  {
   "cell_type": "markdown",
   "metadata": {},
   "source": [
    "We can now benchmark the C code directly from Julia:"
   ]
  },
  {
   "cell_type": "code",
   "execution_count": 14,
   "metadata": {},
   "outputs": [
    {
     "data": {
      "text/plain": [
       "BenchmarkTools.Trial: 480 samples with 1 evaluation.\n",
       " Range \u001b[90m(\u001b[39m\u001b[36m\u001b[1mmin\u001b[22m\u001b[39m … \u001b[35mmax\u001b[39m\u001b[90m):  \u001b[39m\u001b[36m\u001b[1m 9.889 ms\u001b[22m\u001b[39m … \u001b[35m 16.728 ms\u001b[39m  \u001b[90m┊\u001b[39m GC \u001b[90m(\u001b[39mmin … max\u001b[90m): \u001b[39m0.00% … 0.00%\n",
       " Time  \u001b[90m(\u001b[39m\u001b[34m\u001b[1mmedian\u001b[22m\u001b[39m\u001b[90m):     \u001b[39m\u001b[34m\u001b[1m10.183 ms               \u001b[22m\u001b[39m\u001b[90m┊\u001b[39m GC \u001b[90m(\u001b[39mmedian\u001b[90m):    \u001b[39m0.00%\n",
       " Time  \u001b[90m(\u001b[39m\u001b[32m\u001b[1mmean\u001b[22m\u001b[39m ± \u001b[32mσ\u001b[39m\u001b[90m):   \u001b[39m\u001b[32m\u001b[1m10.389 ms\u001b[22m\u001b[39m ± \u001b[32m613.009 μs\u001b[39m  \u001b[90m┊\u001b[39m GC \u001b[90m(\u001b[39mmean ± σ\u001b[90m):  \u001b[39m0.00% ± 0.00%\n",
       "\n",
       "  \u001b[39m \u001b[39m▅\u001b[39m▅\u001b[39m█\u001b[39m▃\u001b[39m▁\u001b[34m▂\u001b[39m\u001b[39m \u001b[39m \u001b[39m \u001b[39m \u001b[32m \u001b[39m\u001b[39m \u001b[39m \u001b[39m \u001b[39m \u001b[39m \u001b[39m \u001b[39m \u001b[39m \u001b[39m \u001b[39m \u001b[39m \u001b[39m \u001b[39m \u001b[39m \u001b[39m \u001b[39m \u001b[39m \u001b[39m \u001b[39m \u001b[39m \u001b[39m \u001b[39m \u001b[39m \u001b[39m \u001b[39m \u001b[39m \u001b[39m \u001b[39m \u001b[39m \u001b[39m \u001b[39m \u001b[39m \u001b[39m \u001b[39m \u001b[39m \u001b[39m \u001b[39m \u001b[39m \u001b[39m \u001b[39m \u001b[39m \u001b[39m \u001b[39m \u001b[39m \u001b[39m \u001b[39m \u001b[39m \u001b[39m \u001b[39m \u001b[39m \n",
       "  \u001b[39m▆\u001b[39m█\u001b[39m█\u001b[39m█\u001b[39m█\u001b[39m█\u001b[34m█\u001b[39m\u001b[39m▇\u001b[39m█\u001b[39m▅\u001b[39m▅\u001b[32m▃\u001b[39m\u001b[39m▆\u001b[39m▄\u001b[39m▄\u001b[39m▄\u001b[39m▄\u001b[39m▃\u001b[39m▄\u001b[39m▄\u001b[39m▃\u001b[39m▂\u001b[39m▃\u001b[39m▄\u001b[39m▃\u001b[39m▃\u001b[39m▂\u001b[39m▂\u001b[39m▃\u001b[39m▂\u001b[39m▃\u001b[39m▂\u001b[39m▂\u001b[39m▃\u001b[39m▂\u001b[39m▂\u001b[39m▂\u001b[39m▂\u001b[39m▃\u001b[39m▁\u001b[39m▃\u001b[39m▂\u001b[39m▁\u001b[39m▁\u001b[39m▁\u001b[39m▂\u001b[39m▁\u001b[39m▂\u001b[39m▁\u001b[39m▁\u001b[39m▂\u001b[39m▂\u001b[39m▁\u001b[39m▁\u001b[39m▁\u001b[39m▁\u001b[39m▁\u001b[39m▁\u001b[39m▁\u001b[39m▂\u001b[39m \u001b[39m▃\n",
       "  9.89 ms\u001b[90m         Histogram: frequency by time\u001b[39m         12.7 ms \u001b[0m\u001b[1m<\u001b[22m\n",
       "\n",
       " Memory estimate\u001b[90m: \u001b[39m\u001b[33m0 bytes\u001b[39m, allocs estimate\u001b[90m: \u001b[39m\u001b[33m0\u001b[39m."
      ]
     },
     "execution_count": 14,
     "metadata": {},
     "output_type": "execute_result"
    }
   ],
   "source": [
    "c_bench = @benchmark c_sum($a)"
   ]
  },
  {
   "cell_type": "code",
   "execution_count": 15,
   "metadata": {},
   "outputs": [
    {
     "name": "stdout",
     "output_type": "stream",
     "text": [
      "C: Fastest time was 9.889295 msec\n"
     ]
    }
   ],
   "source": [
    "println(\"C: Fastest time was $(minimum(c_bench.times) / 1e6) msec\")"
   ]
  },
  {
   "cell_type": "code",
   "execution_count": 16,
   "metadata": {
    "scrolled": true
   },
   "outputs": [
    {
     "data": {
      "text/plain": [
       "Dict{Any, Any} with 1 entry:\n",
       "  \"C\" => 9.8893"
      ]
     },
     "execution_count": 16,
     "metadata": {},
     "output_type": "execute_result"
    }
   ],
   "source": [
    "d = Dict()  # a \"dictionary\", i.e. an associative array\n",
    "d[\"C\"] = minimum(c_bench.times) / 1e6  # in milliseconds\n",
    "d"
   ]
  },
  {
   "cell_type": "code",
   "execution_count": 17,
   "metadata": {
    "scrolled": true
   },
   "outputs": [
    {
     "data": {
      "text/plain": [
       "Plots.GRBackend()"
      ]
     },
     "execution_count": 17,
     "metadata": {},
     "output_type": "execute_result"
    }
   ],
   "source": [
    "using Plots\n",
    "gr()"
   ]
  },
  {
   "cell_type": "code",
   "execution_count": 18,
   "metadata": {},
   "outputs": [
    {
     "data": {
      "image/png": "[encoded data removed]",
      "image/svg+xml": [
       "<?xml version=\"1.0\" encoding=\"utf-8\"?>\n",
       "<svg xmlns=\"http://www.w3.org/2000/svg\" xmlns:xlink=\"http://www.w3.org/1999/xlink\" width=\"600\" height=\"400\" viewBox=\"0 0 2400 1600\">\n",
       "<defs>\n",
       "  <clipPath id=\"clip600\">\n",
       "    <rect x=\"0\" y=\"0\" width=\"2400\" height=\"1600\"/>\n",
       "  </clipPath>\n",
       "</defs>\n",
       "<path clip-path=\"url(#clip600)\" d=\"M0 1600 L2400 1600 L2400 0 L0 0  Z\" fill=\"#ffffff\" fill-rule=\"evenodd\" fill-opacity=\"1\"/>\n",
       "<defs>\n",
       "  <clipPath id=\"clip601\">\n",
       "    <rect x=\"480\" y=\"0\" width=\"1681\" height=\"1600\"/>\n",
       "  </clipPath>\n",
       "</defs>\n",
       "<path clip-path=\"url(#clip600)\" d=\"M203.964 1423.18 L2352.76 1423.18 L2352.76 47.2441 L203.964 47.2441  Z\" fill=\"#ffffff\" fill-rule=\"evenodd\" fill-opacity=\"1\"/>\n",
       "<defs>\n",
       "  <clipPath id=\"clip602\">\n",
       "    <rect x=\"203\" y=\"47\" width=\"2150\" height=\"1377\"/>\n",
       "  </clipPath>\n",
       "</defs>\n",
       "<polyline clip-path=\"url(#clip602)\" style=\"stroke:#000000; stroke-linecap:round; stroke-linejoin:round; stroke-width:2; stroke-opacity:0.1; fill:none\" points=\"275.376,1423.18 275.376,47.2441 \"/>\n",
       "<polyline clip-path=\"url(#clip602)\" style=\"stroke:#000000; stroke-linecap:round; stroke-linejoin:round; stroke-width:2; stroke-opacity:0.1; fill:none\" points=\"620.282,1423.18 620.282,47.2441 \"/>\n",
       "<polyline clip-path=\"url(#clip602)\" style=\"stroke:#000000; stroke-linecap:round; stroke-linejoin:round; stroke-width:2; stroke-opacity:0.1; fill:none\" points=\"965.187,1423.18 965.187,47.2441 \"/>\n",
       "<polyline clip-path=\"url(#clip602)\" style=\"stroke:#000000; stroke-linecap:round; stroke-linejoin:round; stroke-width:2; stroke-opacity:0.1; fill:none\" points=\"1310.09,1423.18 1310.09,47.2441 \"/>\n",
       "<polyline clip-path=\"url(#clip602)\" style=\"stroke:#000000; stroke-linecap:round; stroke-linejoin:round; stroke-width:2; stroke-opacity:0.1; fill:none\" points=\"1655,1423.18 1655,47.2441 \"/>\n",
       "<polyline clip-path=\"url(#clip602)\" style=\"stroke:#000000; stroke-linecap:round; stroke-linejoin:round; stroke-width:2; stroke-opacity:0.1; fill:none\" points=\"1999.9,1423.18 1999.9,47.2441 \"/>\n",
       "<polyline clip-path=\"url(#clip602)\" style=\"stroke:#000000; stroke-linecap:round; stroke-linejoin:round; stroke-width:2; stroke-opacity:0.1; fill:none\" points=\"2344.81,1423.18 2344.81,47.2441 \"/>\n",
       "<polyline clip-path=\"url(#clip600)\" style=\"stroke:#000000; stroke-linecap:round; stroke-linejoin:round; stroke-width:4; stroke-opacity:1; fill:none\" points=\"203.964,1423.18 2352.76,1423.18 \"/>\n",
       "<polyline clip-path=\"url(#clip600)\" style=\"stroke:#000000; stroke-linecap:round; stroke-linejoin:round; stroke-width:4; stroke-opacity:1; fill:none\" points=\"275.376,1423.18 275.376,1404.28 \"/>\n",
       "<polyline clip-path=\"url(#clip600)\" style=\"stroke:#000000; stroke-linecap:round; stroke-linejoin:round; stroke-width:4; stroke-opacity:1; fill:none\" points=\"620.282,1423.18 620.282,1404.28 \"/>\n",
       "<polyline clip-path=\"url(#clip600)\" style=\"stroke:#000000; stroke-linecap:round; stroke-linejoin:round; stroke-width:4; stroke-opacity:1; fill:none\" points=\"965.187,1423.18 965.187,1404.28 \"/>\n",
       "<polyline clip-path=\"url(#clip600)\" style=\"stroke:#000000; stroke-linecap:round; stroke-linejoin:round; stroke-width:4; stroke-opacity:1; fill:none\" points=\"1310.09,1423.18 1310.09,1404.28 \"/>\n",
       "<polyline clip-path=\"url(#clip600)\" style=\"stroke:#000000; stroke-linecap:round; stroke-linejoin:round; stroke-width:4; stroke-opacity:1; fill:none\" points=\"1655,1423.18 1655,1404.28 \"/>\n",
       "<polyline clip-path=\"url(#clip600)\" style=\"stroke:#000000; stroke-linecap:round; stroke-linejoin:round; stroke-width:4; stroke-opacity:1; fill:none\" points=\"1999.9,1423.18 1999.9,1404.28 \"/>\n",
       "<polyline clip-path=\"url(#clip600)\" style=\"stroke:#000000; stroke-linecap:round; stroke-linejoin:round; stroke-width:4; stroke-opacity:1; fill:none\" points=\"2344.81,1423.18 2344.81,1404.28 \"/>\n",
       "<path clip-path=\"url(#clip600)\" d=\"M243.062 1484.86 L243.062 1480.6 Q244.821 1481.44 246.626 1481.88 Q248.432 1482.32 250.168 1482.32 Q254.798 1482.32 257.228 1479.21 Q259.682 1476.09 260.029 1469.75 Q258.686 1471.74 256.626 1472.8 Q254.566 1473.87 252.066 1473.87 Q246.881 1473.87 243.849 1470.74 Q240.839 1467.59 240.839 1462.15 Q240.839 1456.83 243.988 1453.61 Q247.136 1450.39 252.367 1450.39 Q258.362 1450.39 261.511 1455 Q264.682 1459.58 264.682 1468.33 Q264.682 1476.51 260.793 1481.39 Q256.927 1486.25 250.376 1486.25 Q248.617 1486.25 246.812 1485.9 Q245.006 1485.56 243.062 1484.86 M252.367 1470.21 Q255.515 1470.21 257.344 1468.06 Q259.196 1465.9 259.196 1462.15 Q259.196 1458.43 257.344 1456.27 Q255.515 1454.1 252.367 1454.1 Q249.219 1454.1 247.367 1456.27 Q245.538 1458.43 245.538 1462.15 Q245.538 1465.9 247.367 1468.06 Q249.219 1470.21 252.367 1470.21 Z\" fill=\"#000000\" fill-rule=\"nonzero\" fill-opacity=\"1\" /><path clip-path=\"url(#clip600)\" d=\"M273.085 1479.7 L277.969 1479.7 L277.969 1485.58 L273.085 1485.58 L273.085 1479.7 Z\" fill=\"#000000\" fill-rule=\"nonzero\" fill-opacity=\"1\" /><path clip-path=\"url(#clip600)\" d=\"M288.293 1484.86 L288.293 1480.6 Q290.052 1481.44 291.858 1481.88 Q293.663 1482.32 295.399 1482.32 Q300.029 1482.32 302.459 1479.21 Q304.913 1476.09 305.26 1469.75 Q303.918 1471.74 301.858 1472.8 Q299.797 1473.87 297.297 1473.87 Q292.112 1473.87 289.08 1470.74 Q286.071 1467.59 286.071 1462.15 Q286.071 1456.83 289.219 1453.61 Q292.367 1450.39 297.598 1450.39 Q303.594 1450.39 306.742 1455 Q309.913 1459.58 309.913 1468.33 Q309.913 1476.51 306.024 1481.39 Q302.158 1486.25 295.608 1486.25 Q293.848 1486.25 292.043 1485.9 Q290.237 1485.56 288.293 1484.86 M297.598 1470.21 Q300.746 1470.21 302.575 1468.06 Q304.427 1465.9 304.427 1462.15 Q304.427 1458.43 302.575 1456.27 Q300.746 1454.1 297.598 1454.1 Q294.45 1454.1 292.598 1456.27 Q290.77 1458.43 290.77 1462.15 Q290.77 1465.9 292.598 1468.06 Q294.45 1470.21 297.598 1470.21 Z\" fill=\"#000000\" fill-rule=\"nonzero\" fill-opacity=\"1\" /><path clip-path=\"url(#clip600)\" d=\"M572.354 1481.64 L579.992 1481.64 L579.992 1455.28 L571.682 1456.95 L571.682 1452.69 L579.946 1451.02 L584.622 1451.02 L584.622 1481.64 L592.261 1481.64 L592.261 1485.58 L572.354 1485.58 L572.354 1481.64 Z\" fill=\"#000000\" fill-rule=\"nonzero\" fill-opacity=\"1\" /><path clip-path=\"url(#clip600)\" d=\"M611.705 1454.1 Q608.094 1454.1 606.265 1457.66 Q604.46 1461.2 604.46 1468.33 Q604.46 1475.44 606.265 1479.01 Q608.094 1482.55 611.705 1482.55 Q615.339 1482.55 617.145 1479.01 Q618.974 1475.44 618.974 1468.33 Q618.974 1461.2 617.145 1457.66 Q615.339 1454.1 611.705 1454.1 M611.705 1450.39 Q617.515 1450.39 620.571 1455 Q623.65 1459.58 623.65 1468.33 Q623.65 1477.06 620.571 1481.67 Q617.515 1486.25 611.705 1486.25 Q605.895 1486.25 602.816 1481.67 Q599.761 1477.06 599.761 1468.33 Q599.761 1459.58 602.816 1455 Q605.895 1450.39 611.705 1450.39 Z\" fill=\"#000000\" fill-rule=\"nonzero\" fill-opacity=\"1\" /><path clip-path=\"url(#clip600)\" d=\"M631.867 1479.7 L636.751 1479.7 L636.751 1485.58 L631.867 1485.58 L631.867 1479.7 Z\" fill=\"#000000\" fill-rule=\"nonzero\" fill-opacity=\"1\" /><path clip-path=\"url(#clip600)\" d=\"M656.936 1454.1 Q653.325 1454.1 651.497 1457.66 Q649.691 1461.2 649.691 1468.33 Q649.691 1475.44 651.497 1479.01 Q653.325 1482.55 656.936 1482.55 Q660.571 1482.55 662.376 1479.01 Q664.205 1475.44 664.205 1468.33 Q664.205 1461.2 662.376 1457.66 Q660.571 1454.1 656.936 1454.1 M656.936 1450.39 Q662.747 1450.39 665.802 1455 Q668.881 1459.58 668.881 1468.33 Q668.881 1477.06 665.802 1481.67 Q662.747 1486.25 656.936 1486.25 Q651.126 1486.25 648.048 1481.67 Q644.992 1477.06 644.992 1468.33 Q644.992 1459.58 648.048 1455 Q651.126 1450.39 656.936 1450.39 Z\" fill=\"#000000\" fill-rule=\"nonzero\" fill-opacity=\"1\" /><path clip-path=\"url(#clip600)\" d=\"M917.872 1481.64 L925.511 1481.64 L925.511 1455.28 L917.201 1456.95 L917.201 1452.69 L925.465 1451.02 L930.141 1451.02 L930.141 1481.64 L937.78 1481.64 L937.78 1485.58 L917.872 1485.58 L917.872 1481.64 Z\" fill=\"#000000\" fill-rule=\"nonzero\" fill-opacity=\"1\" /><path clip-path=\"url(#clip600)\" d=\"M957.224 1454.1 Q953.613 1454.1 951.784 1457.66 Q949.979 1461.2 949.979 1468.33 Q949.979 1475.44 951.784 1479.01 Q953.613 1482.55 957.224 1482.55 Q960.858 1482.55 962.664 1479.01 Q964.492 1475.44 964.492 1468.33 Q964.492 1461.2 962.664 1457.66 Q960.858 1454.1 957.224 1454.1 M957.224 1450.39 Q963.034 1450.39 966.09 1455 Q969.168 1459.58 969.168 1468.33 Q969.168 1477.06 966.09 1481.67 Q963.034 1486.25 957.224 1486.25 Q951.414 1486.25 948.335 1481.67 Q945.28 1477.06 945.28 1468.33 Q945.28 1459.58 948.335 1455 Q951.414 1450.39 957.224 1450.39 Z\" fill=\"#000000\" fill-rule=\"nonzero\" fill-opacity=\"1\" /><path clip-path=\"url(#clip600)\" d=\"M977.386 1479.7 L982.27 1479.7 L982.27 1485.58 L977.386 1485.58 L977.386 1479.7 Z\" fill=\"#000000\" fill-rule=\"nonzero\" fill-opacity=\"1\" /><path clip-path=\"url(#clip600)\" d=\"M993.265 1481.64 L1000.9 1481.64 L1000.9 1455.28 L992.594 1456.95 L992.594 1452.69 L1000.86 1451.02 L1005.53 1451.02 L1005.53 1481.64 L1013.17 1481.64 L1013.17 1485.58 L993.265 1485.58 L993.265 1481.64 Z\" fill=\"#000000\" fill-rule=\"nonzero\" fill-opacity=\"1\" /><path clip-path=\"url(#clip600)\" d=\"M1262.96 1481.64 L1270.6 1481.64 L1270.6 1455.28 L1262.29 1456.95 L1262.29 1452.69 L1270.56 1451.02 L1275.23 1451.02 L1275.23 1481.64 L1282.87 1481.64 L1282.87 1485.58 L1262.96 1485.58 L1262.96 1481.64 Z\" fill=\"#000000\" fill-rule=\"nonzero\" fill-opacity=\"1\" /><path clip-path=\"url(#clip600)\" d=\"M1302.31 1454.1 Q1298.7 1454.1 1296.87 1457.66 Q1295.07 1461.2 1295.07 1468.33 Q1295.07 1475.44 1296.87 1479.01 Q1298.7 1482.55 1302.31 1482.55 Q1305.95 1482.55 1307.75 1479.01 Q1309.58 1475.44 1309.58 1468.33 Q1309.58 1461.2 1307.75 1457.66 Q1305.95 1454.1 1302.31 1454.1 M1302.31 1450.39 Q1308.12 1450.39 1311.18 1455 Q1314.26 1459.58 1314.26 1468.33 Q1314.26 1477.06 1311.18 1481.67 Q1308.12 1486.25 1302.31 1486.25 Q1296.5 1486.25 1293.43 1481.67 Q1290.37 1477.06 1290.37 1468.33 Q1290.37 1459.58 1293.43 1455 Q1296.5 1450.39 1302.31 1450.39 Z\" fill=\"#000000\" fill-rule=\"nonzero\" fill-opacity=\"1\" /><path clip-path=\"url(#clip600)\" d=\"M1322.48 1479.7 L1327.36 1479.7 L1327.36 1485.58 L1322.48 1485.58 L1322.48 1479.7 Z\" fill=\"#000000\" fill-rule=\"nonzero\" fill-opacity=\"1\" /><path clip-path=\"url(#clip600)\" d=\"M1341.57 1481.64 L1357.89 1481.64 L1357.89 1485.58 L1335.95 1485.58 L1335.95 1481.64 Q1338.61 1478.89 1343.19 1474.26 Q1347.8 1469.61 1348.98 1468.27 Q1351.23 1465.74 1352.11 1464.01 Q1353.01 1462.25 1353.01 1460.56 Q1353.01 1457.8 1351.06 1456.07 Q1349.14 1454.33 1346.04 1454.33 Q1343.84 1454.33 1341.39 1455.09 Q1338.96 1455.86 1336.18 1457.41 L1336.18 1452.69 Q1339 1451.55 1341.46 1450.97 Q1343.91 1450.39 1345.95 1450.39 Q1351.32 1450.39 1354.51 1453.08 Q1357.71 1455.77 1357.71 1460.26 Q1357.71 1462.39 1356.9 1464.31 Q1356.11 1466.2 1354 1468.8 Q1353.43 1469.47 1350.32 1472.69 Q1347.22 1475.88 1341.57 1481.64 Z\" fill=\"#000000\" fill-rule=\"nonzero\" fill-opacity=\"1\" /><path clip-path=\"url(#clip600)\" d=\"M1607.39 1481.64 L1615.03 1481.64 L1615.03 1455.28 L1606.72 1456.95 L1606.72 1452.69 L1614.99 1451.02 L1619.66 1451.02 L1619.66 1481.64 L1627.3 1481.64 L1627.3 1485.58 L1607.39 1485.58 L1607.39 1481.64 Z\" fill=\"#000000\" fill-rule=\"nonzero\" fill-opacity=\"1\" /><path clip-path=\"url(#clip600)\" d=\"M1646.75 1454.1 Q1643.13 1454.1 1641.31 1457.66 Q1639.5 1461.2 1639.5 1468.33 Q1639.5 1475.44 1641.31 1479.01 Q1643.13 1482.55 1646.75 1482.55 Q1650.38 1482.55 1652.19 1479.01 Q1654.01 1475.44 1654.01 1468.33 Q1654.01 1461.2 1652.19 1457.66 Q1650.38 1454.1 1646.75 1454.1 M1646.75 1450.39 Q1652.56 1450.39 1655.61 1455 Q1658.69 1459.58 1658.69 1468.33 Q1658.69 1477.06 1655.61 1481.67 Q1652.56 1486.25 1646.75 1486.25 Q1640.94 1486.25 1637.86 1481.67 Q1634.8 1477.06 1634.8 1468.33 Q1634.8 1459.58 1637.86 1455 Q1640.94 1450.39 1646.75 1450.39 Z\" fill=\"#000000\" fill-rule=\"nonzero\" fill-opacity=\"1\" /><path clip-path=\"url(#clip600)\" d=\"M1666.91 1479.7 L1671.79 1479.7 L1671.79 1485.58 L1666.91 1485.58 L1666.91 1479.7 Z\" fill=\"#000000\" fill-rule=\"nonzero\" fill-opacity=\"1\" /><path clip-path=\"url(#clip600)\" d=\"M1696.14 1466.95 Q1699.5 1467.66 1701.37 1469.93 Q1703.27 1472.2 1703.27 1475.53 Q1703.27 1480.65 1699.75 1483.45 Q1696.24 1486.25 1689.75 1486.25 Q1687.58 1486.25 1685.26 1485.81 Q1682.97 1485.39 1680.52 1484.54 L1680.52 1480.02 Q1682.46 1481.16 1684.78 1481.74 Q1687.09 1482.32 1689.62 1482.32 Q1694.01 1482.32 1696.31 1480.58 Q1698.62 1478.84 1698.62 1475.53 Q1698.62 1472.48 1696.47 1470.77 Q1694.34 1469.03 1690.52 1469.03 L1686.49 1469.03 L1686.49 1465.19 L1690.7 1465.19 Q1694.15 1465.19 1695.98 1463.82 Q1697.81 1462.43 1697.81 1459.84 Q1697.81 1457.18 1695.91 1455.77 Q1694.04 1454.33 1690.52 1454.33 Q1688.6 1454.33 1686.4 1454.75 Q1684.2 1455.16 1681.56 1456.04 L1681.56 1451.88 Q1684.22 1451.14 1686.54 1450.77 Q1688.87 1450.39 1690.93 1450.39 Q1696.26 1450.39 1699.36 1452.83 Q1702.46 1455.23 1702.46 1459.35 Q1702.46 1462.22 1700.82 1464.21 Q1699.18 1466.18 1696.14 1466.95 Z\" fill=\"#000000\" fill-rule=\"nonzero\" fill-opacity=\"1\" /><path clip-path=\"url(#clip600)\" d=\"M1951.73 1481.64 L1959.37 1481.64 L1959.37 1455.28 L1951.06 1456.95 L1951.06 1452.69 L1959.32 1451.02 L1964 1451.02 L1964 1481.64 L1971.64 1481.64 L1971.64 1485.58 L1951.73 1485.58 L1951.73 1481.64 Z\" fill=\"#000000\" fill-rule=\"nonzero\" fill-opacity=\"1\" /><path clip-path=\"url(#clip600)\" d=\"M1991.08 1454.1 Q1987.47 1454.1 1985.64 1457.66 Q1983.84 1461.2 1983.84 1468.33 Q1983.84 1475.44 1985.64 1479.01 Q1987.47 1482.55 1991.08 1482.55 Q1994.72 1482.55 1996.52 1479.01 Q1998.35 1475.44 1998.35 1468.33 Q1998.35 1461.2 1996.52 1457.66 Q1994.72 1454.1 1991.08 1454.1 M1991.08 1450.39 Q1996.89 1450.39 1999.95 1455 Q2003.03 1459.58 2003.03 1468.33 Q2003.03 1477.06 1999.95 1481.67 Q1996.89 1486.25 1991.08 1486.25 Q1985.27 1486.25 1982.19 1481.67 Q1979.14 1477.06 1979.14 1468.33 Q1979.14 1459.58 1982.19 1455 Q1985.27 1450.39 1991.08 1450.39 Z\" fill=\"#000000\" fill-rule=\"nonzero\" fill-opacity=\"1\" /><path clip-path=\"url(#clip600)\" d=\"M2011.25 1479.7 L2016.13 1479.7 L2016.13 1485.58 L2011.25 1485.58 L2011.25 1479.7 Z\" fill=\"#000000\" fill-rule=\"nonzero\" fill-opacity=\"1\" /><path clip-path=\"url(#clip600)\" d=\"M2039.16 1455.09 L2027.36 1473.54 L2039.16 1473.54 L2039.16 1455.09 M2037.94 1451.02 L2043.81 1451.02 L2043.81 1473.54 L2048.75 1473.54 L2048.75 1477.43 L2043.81 1477.43 L2043.81 1485.58 L2039.16 1485.58 L2039.16 1477.43 L2023.56 1477.43 L2023.56 1472.92 L2037.94 1451.02 Z\" fill=\"#000000\" fill-rule=\"nonzero\" fill-opacity=\"1\" /><path clip-path=\"url(#clip600)\" d=\"M2297.38 1481.64 L2305.02 1481.64 L2305.02 1455.28 L2296.71 1456.95 L2296.71 1452.69 L2304.97 1451.02 L2309.65 1451.02 L2309.65 1481.64 L2317.29 1481.64 L2317.29 1485.58 L2297.38 1485.58 L2297.38 1481.64 Z\" fill=\"#000000\" fill-rule=\"nonzero\" fill-opacity=\"1\" /><path clip-path=\"url(#clip600)\" d=\"M2336.73 1454.1 Q2333.12 1454.1 2331.29 1457.66 Q2329.48 1461.2 2329.48 1468.33 Q2329.48 1475.44 2331.29 1479.01 Q2333.12 1482.55 2336.73 1482.55 Q2340.36 1482.55 2342.17 1479.01 Q2344 1475.44 2344 1468.33 Q2344 1461.2 2342.17 1457.66 Q2340.36 1454.1 2336.73 1454.1 M2336.73 1450.39 Q2342.54 1450.39 2345.6 1455 Q2348.67 1459.58 2348.67 1468.33 Q2348.67 1477.06 2345.6 1481.67 Q2342.54 1486.25 2336.73 1486.25 Q2330.92 1486.25 2327.84 1481.67 Q2324.79 1477.06 2324.79 1468.33 Q2324.79 1459.58 2327.84 1455 Q2330.92 1450.39 2336.73 1450.39 Z\" fill=\"#000000\" fill-rule=\"nonzero\" fill-opacity=\"1\" /><path clip-path=\"url(#clip600)\" d=\"M2356.89 1479.7 L2361.78 1479.7 L2361.78 1485.58 L2356.89 1485.58 L2356.89 1479.7 Z\" fill=\"#000000\" fill-rule=\"nonzero\" fill-opacity=\"1\" /><path clip-path=\"url(#clip600)\" d=\"M2372.01 1451.02 L2390.36 1451.02 L2390.36 1454.96 L2376.29 1454.96 L2376.29 1463.43 Q2377.31 1463.08 2378.33 1462.92 Q2379.35 1462.73 2380.36 1462.73 Q2386.15 1462.73 2389.53 1465.9 Q2392.91 1469.08 2392.91 1474.49 Q2392.91 1480.07 2389.44 1483.17 Q2385.97 1486.25 2379.65 1486.25 Q2377.47 1486.25 2375.2 1485.88 Q2372.96 1485.51 2370.55 1484.77 L2370.55 1480.07 Q2372.63 1481.2 2374.85 1481.76 Q2377.08 1482.32 2379.55 1482.32 Q2383.56 1482.32 2385.9 1480.21 Q2388.23 1478.1 2388.23 1474.49 Q2388.23 1470.88 2385.9 1468.77 Q2383.56 1466.67 2379.55 1466.67 Q2377.68 1466.67 2375.8 1467.08 Q2373.95 1467.5 2372.01 1468.38 L2372.01 1451.02 Z\" fill=\"#000000\" fill-rule=\"nonzero\" fill-opacity=\"1\" /><path clip-path=\"url(#clip600)\" d=\"M1109.7 1539.24 Q1111.9 1535.29 1114.95 1533.41 Q1118.01 1531.54 1122.15 1531.54 Q1127.72 1531.54 1130.74 1535.45 Q1133.76 1539.33 1133.76 1546.53 L1133.76 1568.04 L1127.87 1568.04 L1127.87 1546.72 Q1127.87 1541.59 1126.06 1539.11 Q1124.25 1536.63 1120.52 1536.63 Q1115.97 1536.63 1113.33 1539.65 Q1110.69 1542.68 1110.69 1547.9 L1110.69 1568.04 L1104.8 1568.04 L1104.8 1546.72 Q1104.8 1541.56 1102.98 1539.11 Q1101.17 1536.63 1097.38 1536.63 Q1092.89 1536.63 1090.25 1539.68 Q1087.61 1542.71 1087.61 1547.9 L1087.61 1568.04 L1081.72 1568.04 L1081.72 1532.4 L1087.61 1532.4 L1087.61 1537.93 Q1089.62 1534.66 1092.42 1533.1 Q1095.22 1531.54 1099.07 1531.54 Q1102.95 1531.54 1105.66 1533.51 Q1108.4 1535.48 1109.7 1539.24 Z\" fill=\"#000000\" fill-rule=\"nonzero\" fill-opacity=\"1\" /><path clip-path=\"url(#clip600)\" d=\"M1145.44 1532.4 L1151.3 1532.4 L1151.3 1568.04 L1145.44 1568.04 L1145.44 1532.4 M1145.44 1518.52 L1151.3 1518.52 L1151.3 1525.93 L1145.44 1525.93 L1145.44 1518.52 Z\" fill=\"#000000\" fill-rule=\"nonzero\" fill-opacity=\"1\" /><path clip-path=\"url(#clip600)\" d=\"M1163.55 1518.52 L1169.41 1518.52 L1169.41 1568.04 L1163.55 1568.04 L1163.55 1518.52 Z\" fill=\"#000000\" fill-rule=\"nonzero\" fill-opacity=\"1\" /><path clip-path=\"url(#clip600)\" d=\"M1181.66 1518.52 L1187.52 1518.52 L1187.52 1568.04 L1181.66 1568.04 L1181.66 1518.52 Z\" fill=\"#000000\" fill-rule=\"nonzero\" fill-opacity=\"1\" /><path clip-path=\"url(#clip600)\" d=\"M1199.78 1532.4 L1205.63 1532.4 L1205.63 1568.04 L1199.78 1568.04 L1199.78 1532.4 M1199.78 1518.52 L1205.63 1518.52 L1205.63 1525.93 L1199.78 1525.93 L1199.78 1518.52 Z\" fill=\"#000000\" fill-rule=\"nonzero\" fill-opacity=\"1\" /><path clip-path=\"url(#clip600)\" d=\"M1240.61 1533.45 L1240.61 1538.98 Q1238.13 1537.71 1235.45 1537.07 Q1232.78 1536.44 1229.92 1536.44 Q1225.56 1536.44 1223.36 1537.77 Q1221.2 1539.11 1221.2 1541.79 Q1221.2 1543.82 1222.76 1545 Q1224.31 1546.15 1229.03 1547.2 L1231.03 1547.64 Q1237.27 1548.98 1239.88 1551.43 Q1242.52 1553.85 1242.52 1558.21 Q1242.52 1563.17 1238.57 1566.07 Q1234.66 1568.97 1227.78 1568.97 Q1224.92 1568.97 1221.8 1568.39 Q1218.71 1567.85 1215.28 1566.74 L1215.28 1560.69 Q1218.52 1562.38 1221.67 1563.24 Q1224.82 1564.07 1227.91 1564.07 Q1232.05 1564.07 1234.28 1562.66 Q1236.51 1561.23 1236.51 1558.65 Q1236.51 1556.27 1234.88 1554.99 Q1233.29 1553.72 1227.85 1552.54 L1225.81 1552.07 Q1220.37 1550.92 1217.95 1548.56 Q1215.53 1546.18 1215.53 1542.04 Q1215.53 1537.01 1219.1 1534.27 Q1222.66 1531.54 1229.22 1531.54 Q1232.46 1531.54 1235.33 1532.01 Q1238.19 1532.49 1240.61 1533.45 Z\" fill=\"#000000\" fill-rule=\"nonzero\" fill-opacity=\"1\" /><path clip-path=\"url(#clip600)\" d=\"M1282.34 1548.76 L1282.34 1551.62 L1255.41 1551.62 Q1255.79 1557.67 1259.04 1560.85 Q1262.32 1564 1268.14 1564 Q1271.52 1564 1274.67 1563.17 Q1277.85 1562.35 1280.97 1560.69 L1280.97 1566.23 Q1277.82 1567.57 1274.51 1568.27 Q1271.2 1568.97 1267.79 1568.97 Q1259.26 1568.97 1254.27 1564 Q1249.3 1559.04 1249.3 1550.57 Q1249.3 1541.82 1254.01 1536.69 Q1258.75 1531.54 1266.77 1531.54 Q1273.97 1531.54 1278.14 1536.18 Q1282.34 1540.8 1282.34 1548.76 M1276.48 1547.04 Q1276.42 1542.23 1273.78 1539.37 Q1271.17 1536.5 1266.84 1536.5 Q1261.94 1536.5 1258.98 1539.27 Q1256.05 1542.04 1255.6 1547.07 L1276.48 1547.04 Z\" fill=\"#000000\" fill-rule=\"nonzero\" fill-opacity=\"1\" /><path clip-path=\"url(#clip600)\" d=\"M1317.6 1533.76 L1317.6 1539.24 Q1315.12 1537.87 1312.61 1537.2 Q1310.12 1536.5 1307.58 1536.5 Q1301.88 1536.5 1298.73 1540.13 Q1295.58 1543.73 1295.58 1550.25 Q1295.58 1556.78 1298.73 1560.4 Q1301.88 1564 1307.58 1564 Q1310.12 1564 1312.61 1563.33 Q1315.12 1562.63 1317.6 1561.26 L1317.6 1566.68 Q1315.15 1567.82 1312.51 1568.39 Q1309.9 1568.97 1306.94 1568.97 Q1298.89 1568.97 1294.15 1563.91 Q1289.4 1558.85 1289.4 1550.25 Q1289.4 1541.53 1294.18 1536.53 Q1298.98 1531.54 1307.32 1531.54 Q1310.03 1531.54 1312.61 1532.11 Q1315.19 1532.65 1317.6 1533.76 Z\" fill=\"#000000\" fill-rule=\"nonzero\" fill-opacity=\"1\" /><path clip-path=\"url(#clip600)\" d=\"M1341.6 1536.5 Q1336.89 1536.5 1334.16 1540.19 Q1331.42 1543.85 1331.42 1550.25 Q1331.42 1556.65 1334.12 1560.34 Q1336.86 1564 1341.6 1564 Q1346.28 1564 1349.02 1560.31 Q1351.76 1556.62 1351.76 1550.25 Q1351.76 1543.92 1349.02 1540.23 Q1346.28 1536.5 1341.6 1536.5 M1341.6 1531.54 Q1349.24 1531.54 1353.6 1536.5 Q1357.96 1541.47 1357.96 1550.25 Q1357.96 1559 1353.6 1564 Q1349.24 1568.97 1341.6 1568.97 Q1333.93 1568.97 1329.57 1564 Q1325.24 1559 1325.24 1550.25 Q1325.24 1541.47 1329.57 1536.5 Q1333.93 1531.54 1341.6 1531.54 Z\" fill=\"#000000\" fill-rule=\"nonzero\" fill-opacity=\"1\" /><path clip-path=\"url(#clip600)\" d=\"M1397.3 1546.53 L1397.3 1568.04 L1391.45 1568.04 L1391.45 1546.72 Q1391.45 1541.66 1389.47 1539.14 Q1387.5 1536.63 1383.55 1536.63 Q1378.81 1536.63 1376.07 1539.65 Q1373.34 1542.68 1373.34 1547.9 L1373.34 1568.04 L1367.45 1568.04 L1367.45 1532.4 L1373.34 1532.4 L1373.34 1537.93 Q1375.44 1534.72 1378.27 1533.13 Q1381.13 1531.54 1384.86 1531.54 Q1391 1531.54 1394.15 1535.36 Q1397.3 1539.14 1397.3 1546.53 Z\" fill=\"#000000\" fill-rule=\"nonzero\" fill-opacity=\"1\" /><path clip-path=\"url(#clip600)\" d=\"M1432.44 1537.81 L1432.44 1518.52 L1438.3 1518.52 L1438.3 1568.04 L1432.44 1568.04 L1432.44 1562.7 Q1430.6 1565.88 1427.76 1567.44 Q1424.96 1568.97 1421.02 1568.97 Q1414.55 1568.97 1410.48 1563.81 Q1406.44 1558.65 1406.44 1550.25 Q1406.44 1541.85 1410.48 1536.69 Q1414.55 1531.54 1421.02 1531.54 Q1424.96 1531.54 1427.76 1533.1 Q1430.6 1534.62 1432.44 1537.81 M1412.49 1550.25 Q1412.49 1556.71 1415.13 1560.4 Q1417.8 1564.07 1422.45 1564.07 Q1427.09 1564.07 1429.77 1560.4 Q1432.44 1556.71 1432.44 1550.25 Q1432.44 1543.79 1429.77 1540.13 Q1427.09 1536.44 1422.45 1536.44 Q1417.8 1536.44 1415.13 1540.13 Q1412.49 1543.79 1412.49 1550.25 Z\" fill=\"#000000\" fill-rule=\"nonzero\" fill-opacity=\"1\" /><path clip-path=\"url(#clip600)\" d=\"M1473.09 1533.45 L1473.09 1538.98 Q1470.6 1537.71 1467.93 1537.07 Q1465.26 1536.44 1462.39 1536.44 Q1458.03 1536.44 1455.84 1537.77 Q1453.67 1539.11 1453.67 1541.79 Q1453.67 1543.82 1455.23 1545 Q1456.79 1546.15 1461.5 1547.2 L1463.51 1547.64 Q1469.74 1548.98 1472.35 1551.43 Q1475 1553.85 1475 1558.21 Q1475 1563.17 1471.05 1566.07 Q1467.13 1568.97 1460.26 1568.97 Q1457.4 1568.97 1454.28 1568.39 Q1451.19 1567.85 1447.75 1566.74 L1447.75 1560.69 Q1451 1562.38 1454.15 1563.24 Q1457.3 1564.07 1460.39 1564.07 Q1464.52 1564.07 1466.75 1562.66 Q1468.98 1561.23 1468.98 1558.65 Q1468.98 1556.27 1467.36 1554.99 Q1465.77 1553.72 1460.32 1552.54 L1458.29 1552.07 Q1452.84 1550.92 1450.42 1548.56 Q1448.01 1546.18 1448.01 1542.04 Q1448.01 1537.01 1451.57 1534.27 Q1455.14 1531.54 1461.69 1531.54 Q1464.94 1531.54 1467.8 1532.01 Q1470.67 1532.49 1473.09 1533.45 Z\" fill=\"#000000\" fill-rule=\"nonzero\" fill-opacity=\"1\" /><polyline clip-path=\"url(#clip602)\" style=\"stroke:#000000; stroke-linecap:round; stroke-linejoin:round; stroke-width:2; stroke-opacity:0.1; fill:none\" points=\"203.964,1423.18 2352.76,1423.18 \"/>\n",
       "<polyline clip-path=\"url(#clip602)\" style=\"stroke:#000000; stroke-linecap:round; stroke-linejoin:round; stroke-width:2; stroke-opacity:0.1; fill:none\" points=\"203.964,1168.38 2352.76,1168.38 \"/>\n",
       "<polyline clip-path=\"url(#clip602)\" style=\"stroke:#000000; stroke-linecap:round; stroke-linejoin:round; stroke-width:2; stroke-opacity:0.1; fill:none\" points=\"203.964,913.574 2352.76,913.574 \"/>\n",
       "<polyline clip-path=\"url(#clip602)\" style=\"stroke:#000000; stroke-linecap:round; stroke-linejoin:round; stroke-width:2; stroke-opacity:0.1; fill:none\" points=\"203.964,658.771 2352.76,658.771 \"/>\n",
       "<polyline clip-path=\"url(#clip602)\" style=\"stroke:#000000; stroke-linecap:round; stroke-linejoin:round; stroke-width:2; stroke-opacity:0.1; fill:none\" points=\"203.964,403.968 2352.76,403.968 \"/>\n",
       "<polyline clip-path=\"url(#clip602)\" style=\"stroke:#000000; stroke-linecap:round; stroke-linejoin:round; stroke-width:2; stroke-opacity:0.1; fill:none\" points=\"203.964,149.165 2352.76,149.165 \"/>\n",
       "<polyline clip-path=\"url(#clip600)\" style=\"stroke:#000000; stroke-linecap:round; stroke-linejoin:round; stroke-width:4; stroke-opacity:1; fill:none\" points=\"203.964,1423.18 203.964,47.2441 \"/>\n",
       "<polyline clip-path=\"url(#clip600)\" style=\"stroke:#000000; stroke-linecap:round; stroke-linejoin:round; stroke-width:4; stroke-opacity:1; fill:none\" points=\"203.964,1423.18 222.861,1423.18 \"/>\n",
       "<polyline clip-path=\"url(#clip600)\" style=\"stroke:#000000; stroke-linecap:round; stroke-linejoin:round; stroke-width:4; stroke-opacity:1; fill:none\" points=\"203.964,1168.38 222.861,1168.38 \"/>\n",
       "<polyline clip-path=\"url(#clip600)\" style=\"stroke:#000000; stroke-linecap:round; stroke-linejoin:round; stroke-width:4; stroke-opacity:1; fill:none\" points=\"203.964,913.574 222.861,913.574 \"/>\n",
       "<polyline clip-path=\"url(#clip600)\" style=\"stroke:#000000; stroke-linecap:round; stroke-linejoin:round; stroke-width:4; stroke-opacity:1; fill:none\" points=\"203.964,658.771 222.861,658.771 \"/>\n",
       "<polyline clip-path=\"url(#clip600)\" style=\"stroke:#000000; stroke-linecap:round; stroke-linejoin:round; stroke-width:4; stroke-opacity:1; fill:none\" points=\"203.964,403.968 222.861,403.968 \"/>\n",
       "<polyline clip-path=\"url(#clip600)\" style=\"stroke:#000000; stroke-linecap:round; stroke-linejoin:round; stroke-width:4; stroke-opacity:1; fill:none\" points=\"203.964,149.165 222.861,149.165 \"/>\n",
       "<path clip-path=\"url(#clip600)\" d=\"M156.019 1408.98 Q152.408 1408.98 150.579 1412.54 Q148.774 1416.08 148.774 1423.21 Q148.774 1430.32 150.579 1433.89 Q152.408 1437.43 156.019 1437.43 Q159.653 1437.43 161.459 1433.89 Q163.288 1430.32 163.288 1423.21 Q163.288 1416.08 161.459 1412.54 Q159.653 1408.98 156.019 1408.98 M156.019 1405.27 Q161.829 1405.27 164.885 1409.88 Q167.964 1414.46 167.964 1423.21 Q167.964 1431.94 164.885 1436.55 Q161.829 1441.13 156.019 1441.13 Q150.209 1441.13 147.13 1436.55 Q144.075 1431.94 144.075 1423.21 Q144.075 1414.46 147.13 1409.88 Q150.209 1405.27 156.019 1405.27 Z\" fill=\"#000000\" fill-rule=\"nonzero\" fill-opacity=\"1\" /><path clip-path=\"url(#clip600)\" d=\"M147.061 1151.1 L165.417 1151.1 L165.417 1155.03 L151.343 1155.03 L151.343 1163.5 Q152.362 1163.16 153.38 1163 Q154.399 1162.81 155.417 1162.81 Q161.204 1162.81 164.584 1165.98 Q167.964 1169.15 167.964 1174.57 Q167.964 1180.15 164.491 1183.25 Q161.019 1186.33 154.7 1186.33 Q152.524 1186.33 150.255 1185.96 Q148.01 1185.59 145.603 1184.85 L145.603 1180.15 Q147.686 1181.28 149.908 1181.84 Q152.13 1182.39 154.607 1182.39 Q158.612 1182.39 160.95 1180.29 Q163.288 1178.18 163.288 1174.57 Q163.288 1170.96 160.95 1168.85 Q158.612 1166.74 154.607 1166.74 Q152.732 1166.74 150.857 1167.16 Q149.005 1167.58 147.061 1168.46 L147.061 1151.1 Z\" fill=\"#000000\" fill-rule=\"nonzero\" fill-opacity=\"1\" /><path clip-path=\"url(#clip600)\" d=\"M116.668 926.919 L124.306 926.919 L124.306 900.553 L115.996 902.22 L115.996 897.961 L124.26 896.294 L128.936 896.294 L128.936 926.919 L136.575 926.919 L136.575 930.854 L116.668 930.854 L116.668 926.919 Z\" fill=\"#000000\" fill-rule=\"nonzero\" fill-opacity=\"1\" /><path clip-path=\"url(#clip600)\" d=\"M156.019 899.373 Q152.408 899.373 150.579 902.937 Q148.774 906.479 148.774 913.609 Q148.774 920.715 150.579 924.28 Q152.408 927.822 156.019 927.822 Q159.653 927.822 161.459 924.28 Q163.288 920.715 163.288 913.609 Q163.288 906.479 161.459 902.937 Q159.653 899.373 156.019 899.373 M156.019 895.669 Q161.829 895.669 164.885 900.275 Q167.964 904.859 167.964 913.609 Q167.964 922.336 164.885 926.942 Q161.829 931.525 156.019 931.525 Q150.209 931.525 147.13 926.942 Q144.075 922.336 144.075 913.609 Q144.075 904.859 147.13 900.275 Q150.209 895.669 156.019 895.669 Z\" fill=\"#000000\" fill-rule=\"nonzero\" fill-opacity=\"1\" /><path clip-path=\"url(#clip600)\" d=\"M117.663 672.116 L125.302 672.116 L125.302 645.75 L116.992 647.417 L116.992 643.158 L125.255 641.491 L129.931 641.491 L129.931 672.116 L137.57 672.116 L137.57 676.051 L117.663 676.051 L117.663 672.116 Z\" fill=\"#000000\" fill-rule=\"nonzero\" fill-opacity=\"1\" /><path clip-path=\"url(#clip600)\" d=\"M147.061 641.491 L165.417 641.491 L165.417 645.426 L151.343 645.426 L151.343 653.898 Q152.362 653.551 153.38 653.389 Q154.399 653.204 155.417 653.204 Q161.204 653.204 164.584 656.375 Q167.964 659.547 167.964 664.963 Q167.964 670.542 164.491 673.644 Q161.019 676.722 154.7 676.722 Q152.524 676.722 150.255 676.352 Q148.01 675.982 145.603 675.241 L145.603 670.542 Q147.686 671.676 149.908 672.232 Q152.13 672.787 154.607 672.787 Q158.612 672.787 160.95 670.681 Q163.288 668.574 163.288 664.963 Q163.288 661.352 160.95 659.246 Q158.612 657.139 154.607 657.139 Q152.732 657.139 150.857 657.556 Q149.005 657.972 147.061 658.852 L147.061 641.491 Z\" fill=\"#000000\" fill-rule=\"nonzero\" fill-opacity=\"1\" /><path clip-path=\"url(#clip600)\" d=\"M119.885 417.313 L136.204 417.313 L136.204 421.248 L114.26 421.248 L114.26 417.313 Q116.922 414.558 121.505 409.929 Q126.112 405.276 127.292 403.933 Q129.538 401.41 130.417 399.674 Q131.32 397.915 131.32 396.225 Q131.32 393.471 129.376 391.734 Q127.455 389.998 124.353 389.998 Q122.154 389.998 119.7 390.762 Q117.269 391.526 114.492 393.077 L114.492 388.355 Q117.316 387.221 119.769 386.642 Q122.223 386.063 124.26 386.063 Q129.63 386.063 132.825 388.748 Q136.019 391.434 136.019 395.924 Q136.019 398.054 135.209 399.975 Q134.422 401.873 132.316 404.466 Q131.737 405.137 128.635 408.355 Q125.533 411.549 119.885 417.313 Z\" fill=\"#000000\" fill-rule=\"nonzero\" fill-opacity=\"1\" /><path clip-path=\"url(#clip600)\" d=\"M156.019 389.767 Q152.408 389.767 150.579 393.332 Q148.774 396.873 148.774 404.003 Q148.774 411.109 150.579 414.674 Q152.408 418.216 156.019 418.216 Q159.653 418.216 161.459 414.674 Q163.288 411.109 163.288 404.003 Q163.288 396.873 161.459 393.332 Q159.653 389.767 156.019 389.767 M156.019 386.063 Q161.829 386.063 164.885 390.67 Q167.964 395.253 167.964 404.003 Q167.964 412.73 164.885 417.336 Q161.829 421.919 156.019 421.919 Q150.209 421.919 147.13 417.336 Q144.075 412.73 144.075 404.003 Q144.075 395.253 147.13 390.67 Q150.209 386.063 156.019 386.063 Z\" fill=\"#000000\" fill-rule=\"nonzero\" fill-opacity=\"1\" /><path clip-path=\"url(#clip600)\" d=\"M120.88 162.51 L137.2 162.51 L137.2 166.445 L115.256 166.445 L115.256 162.51 Q117.918 159.755 122.501 155.126 Q127.107 150.473 128.288 149.131 Q130.533 146.607 131.413 144.871 Q132.316 143.112 132.316 141.422 Q132.316 138.668 130.371 136.932 Q128.45 135.195 125.348 135.195 Q123.149 135.195 120.695 135.959 Q118.265 136.723 115.487 138.274 L115.487 133.552 Q118.311 132.418 120.765 131.839 Q123.218 131.26 125.255 131.26 Q130.626 131.26 133.82 133.945 Q137.015 136.631 137.015 141.121 Q137.015 143.251 136.204 145.172 Q135.417 147.07 133.311 149.663 Q132.732 150.334 129.63 153.552 Q126.529 156.746 120.88 162.51 Z\" fill=\"#000000\" fill-rule=\"nonzero\" fill-opacity=\"1\" /><path clip-path=\"url(#clip600)\" d=\"M147.061 131.885 L165.417 131.885 L165.417 135.82 L151.343 135.82 L151.343 144.293 Q152.362 143.945 153.38 143.783 Q154.399 143.598 155.417 143.598 Q161.204 143.598 164.584 146.769 Q167.964 149.941 167.964 155.357 Q167.964 160.936 164.491 164.038 Q161.019 167.117 154.7 167.117 Q152.524 167.117 150.255 166.746 Q148.01 166.376 145.603 165.635 L145.603 160.936 Q147.686 162.07 149.908 162.626 Q152.13 163.181 154.607 163.181 Q158.612 163.181 160.95 161.075 Q163.288 158.968 163.288 155.357 Q163.288 151.746 160.95 149.64 Q158.612 147.533 154.607 147.533 Q152.732 147.533 150.857 147.95 Q149.005 148.367 147.061 149.246 L147.061 131.885 Z\" fill=\"#000000\" fill-rule=\"nonzero\" fill-opacity=\"1\" /><path clip-path=\"url(#clip600)\" d=\"M29.7248 796.386 L35.1993 796.386 Q33.8307 798.869 33.1623 801.383 Q32.4621 803.866 32.4621 806.412 Q32.4621 812.11 36.0905 815.261 Q39.6872 818.412 46.212 818.412 Q52.7369 818.412 56.3653 815.261 Q59.9619 812.11 59.9619 806.412 Q59.9619 803.866 59.2935 801.383 Q58.5933 798.869 57.2247 796.386 L62.6355 796.386 Q63.7814 798.837 64.3543 801.479 Q64.9272 804.089 64.9272 807.049 Q64.9272 815.102 59.8664 819.844 Q54.8057 824.586 46.212 824.586 Q37.491 824.586 32.4939 819.812 Q27.4968 815.006 27.4968 806.667 Q27.4968 803.962 28.0697 801.383 Q28.6108 798.805 29.7248 796.386 Z\" fill=\"#000000\" fill-rule=\"nonzero\" fill-opacity=\"1\" /><path clip-path=\"url(#clip600)\" d=\"M32.4621 772.388 Q32.4621 777.098 36.1542 779.836 Q39.8145 782.573 46.212 782.573 Q52.6095 782.573 56.3017 779.867 Q59.9619 777.13 59.9619 772.388 Q59.9619 767.709 56.2698 764.972 Q52.5777 762.234 46.212 762.234 Q39.8781 762.234 36.186 764.972 Q32.4621 767.709 32.4621 772.388 M27.4968 772.388 Q27.4968 764.749 32.4621 760.388 Q37.4273 756.028 46.212 756.028 Q54.9649 756.028 59.9619 760.388 Q64.9272 764.749 64.9272 772.388 Q64.9272 780.058 59.9619 784.419 Q54.9649 788.748 46.212 788.748 Q37.4273 788.748 32.4621 784.419 Q27.4968 780.058 27.4968 772.388 Z\" fill=\"#000000\" fill-rule=\"nonzero\" fill-opacity=\"1\" /><path clip-path=\"url(#clip600)\" d=\"M49.9359 746.925 L28.3562 746.925 L28.3562 741.068 L49.7131 741.068 Q54.7739 741.068 57.3202 739.095 Q59.8346 737.122 59.8346 733.175 Q59.8346 728.432 56.8109 725.695 Q53.7872 722.926 48.5673 722.926 L28.3562 722.926 L28.3562 717.07 L64.0042 717.07 L64.0042 722.926 L58.5296 722.926 Q61.7762 725.059 63.3676 727.891 Q64.9272 730.692 64.9272 734.416 Q64.9272 740.559 61.1078 743.742 Q57.2883 746.925 49.9359 746.925 M27.4968 732.188 L27.4968 732.188 Z\" fill=\"#000000\" fill-rule=\"nonzero\" fill-opacity=\"1\" /><path clip-path=\"url(#clip600)\" d=\"M42.4881 675.374 L64.0042 675.374 L64.0042 681.231 L42.679 681.231 Q37.6183 681.231 35.1038 683.204 Q32.5894 685.178 32.5894 689.124 Q32.5894 693.867 35.6131 696.604 Q38.6368 699.341 43.8567 699.341 L64.0042 699.341 L64.0042 705.229 L28.3562 705.229 L28.3562 699.341 L33.8944 699.341 Q30.6797 697.241 29.0883 694.408 Q27.4968 691.543 27.4968 687.819 Q27.4968 681.676 31.3163 678.525 Q35.1038 675.374 42.4881 675.374 Z\" fill=\"#000000\" fill-rule=\"nonzero\" fill-opacity=\"1\" /><path clip-path=\"url(#clip600)\" d=\"M18.2347 657.9 L28.3562 657.9 L28.3562 645.837 L32.9077 645.837 L32.9077 657.9 L52.2594 657.9 Q56.6199 657.9 57.8613 656.723 Q59.1026 655.513 59.1026 651.853 L59.1026 645.837 L64.0042 645.837 L64.0042 651.853 Q64.0042 658.633 61.4897 661.211 Q58.9434 663.789 52.2594 663.789 L32.9077 663.789 L32.9077 668.086 L28.3562 668.086 L28.3562 663.789 L18.2347 663.789 L18.2347 657.9 Z\" fill=\"#000000\" fill-rule=\"nonzero\" fill-opacity=\"1\" /><path clip-path=\"url(#clip602)\" d=\"M206.395 1168.38 L206.395 1423.18 L275.376 1423.18 L275.376 1168.38 L206.395 1168.38 L206.395 1168.38  Z\" fill=\"#009af9\" fill-rule=\"evenodd\" fill-opacity=\"1\"/>\n",
       "<polyline clip-path=\"url(#clip602)\" style=\"stroke:#000000; stroke-linecap:round; stroke-linejoin:round; stroke-width:4; stroke-opacity:1; fill:none\" points=\"206.395,1168.38 206.395,1423.18 275.376,1423.18 275.376,1168.38 206.395,1168.38 \"/>\n",
       "<path clip-path=\"url(#clip602)\" d=\"M275.376 1117.42 L275.376 1423.18 L344.357 1423.18 L344.357 1117.42 L275.376 1117.42 L275.376 1117.42  Z\" fill=\"#009af9\" fill-rule=\"evenodd\" fill-opacity=\"1\"/>\n",
       "<polyline clip-path=\"url(#clip602)\" style=\"stroke:#000000; stroke-linecap:round; stroke-linejoin:round; stroke-width:4; stroke-opacity:1; fill:none\" points=\"275.376,1117.42 275.376,1423.18 344.357,1423.18 344.357,1117.42 275.376,1117.42 \"/>\n",
       "<path clip-path=\"url(#clip602)\" d=\"M344.357 913.574 L344.357 1423.18 L413.338 1423.18 L413.338 913.574 L344.357 913.574 L344.357 913.574  Z\" fill=\"#009af9\" fill-rule=\"evenodd\" fill-opacity=\"1\"/>\n",
       "<polyline clip-path=\"url(#clip602)\" style=\"stroke:#000000; stroke-linecap:round; stroke-linejoin:round; stroke-width:4; stroke-opacity:1; fill:none\" points=\"344.357,913.574 344.357,1423.18 413.338,1423.18 413.338,913.574 344.357,913.574 \"/>\n",
       "<path clip-path=\"url(#clip602)\" d=\"M413.338 658.771 L413.338 1423.18 L482.319 1423.18 L482.319 658.771 L413.338 658.771 L413.338 658.771  Z\" fill=\"#009af9\" fill-rule=\"evenodd\" fill-opacity=\"1\"/>\n",
       "<polyline clip-path=\"url(#clip602)\" style=\"stroke:#000000; stroke-linecap:round; stroke-linejoin:round; stroke-width:4; stroke-opacity:1; fill:none\" points=\"413.338,658.771 413.338,1423.18 482.319,1423.18 482.319,658.771 413.338,658.771 \"/>\n",
       "<path clip-path=\"url(#clip602)\" d=\"M482.319 251.086 L482.319 1423.18 L551.3 1423.18 L551.3 251.086 L482.319 251.086 L482.319 251.086  Z\" fill=\"#009af9\" fill-rule=\"evenodd\" fill-opacity=\"1\"/>\n",
       "<polyline clip-path=\"url(#clip602)\" style=\"stroke:#000000; stroke-linecap:round; stroke-linejoin:round; stroke-width:4; stroke-opacity:1; fill:none\" points=\"482.319,251.086 482.319,1423.18 551.3,1423.18 551.3,251.086 482.319,251.086 \"/>\n",
       "<path clip-path=\"url(#clip602)\" d=\"M551.3 302.047 L551.3 1423.18 L620.282 1423.18 L620.282 302.047 L551.3 302.047 L551.3 302.047  Z\" fill=\"#009af9\" fill-rule=\"evenodd\" fill-opacity=\"1\"/>\n",
       "<polyline clip-path=\"url(#clip602)\" style=\"stroke:#000000; stroke-linecap:round; stroke-linejoin:round; stroke-width:4; stroke-opacity:1; fill:none\" points=\"551.3,302.047 551.3,1423.18 620.282,1423.18 620.282,302.047 551.3,302.047 \"/>\n",
       "<path clip-path=\"url(#clip602)\" d=\"M620.282 454.929 L620.282 1423.18 L689.263 1423.18 L689.263 454.929 L620.282 454.929 L620.282 454.929  Z\" fill=\"#009af9\" fill-rule=\"evenodd\" fill-opacity=\"1\"/>\n",
       "<polyline clip-path=\"url(#clip602)\" style=\"stroke:#000000; stroke-linecap:round; stroke-linejoin:round; stroke-width:4; stroke-opacity:1; fill:none\" points=\"620.282,454.929 620.282,1423.18 689.263,1423.18 689.263,454.929 620.282,454.929 \"/>\n",
       "<path clip-path=\"url(#clip602)\" d=\"M689.263 302.047 L689.263 1423.18 L758.244 1423.18 L758.244 302.047 L689.263 302.047 L689.263 302.047  Z\" fill=\"#009af9\" fill-rule=\"evenodd\" fill-opacity=\"1\"/>\n",
       "<polyline clip-path=\"url(#clip602)\" style=\"stroke:#000000; stroke-linecap:round; stroke-linejoin:round; stroke-width:4; stroke-opacity:1; fill:none\" points=\"689.263,302.047 689.263,1423.18 758.244,1423.18 758.244,302.047 689.263,302.047 \"/>\n",
       "<path clip-path=\"url(#clip602)\" d=\"M758.244 505.889 L758.244 1423.18 L827.225 1423.18 L827.225 505.889 L758.244 505.889 L758.244 505.889  Z\" fill=\"#009af9\" fill-rule=\"evenodd\" fill-opacity=\"1\"/>\n",
       "<polyline clip-path=\"url(#clip602)\" style=\"stroke:#000000; stroke-linecap:round; stroke-linejoin:round; stroke-width:4; stroke-opacity:1; fill:none\" points=\"758.244,505.889 758.244,1423.18 827.225,1423.18 827.225,505.889 758.244,505.889 \"/>\n",
       "<path clip-path=\"url(#clip602)\" d=\"M827.225 47.2441 L827.225 1423.18 L896.206 1423.18 L896.206 47.2441 L827.225 47.2441 L827.225 47.2441  Z\" fill=\"#009af9\" fill-rule=\"evenodd\" fill-opacity=\"1\"/>\n",
       "<polyline clip-path=\"url(#clip602)\" style=\"stroke:#000000; stroke-linecap:round; stroke-linejoin:round; stroke-width:4; stroke-opacity:1; fill:none\" points=\"827.225,47.2441 827.225,1423.18 896.206,1423.18 896.206,47.2441 827.225,47.2441 \"/>\n",
       "<path clip-path=\"url(#clip602)\" d=\"M896.206 454.929 L896.206 1423.18 L965.187 1423.18 L965.187 454.929 L896.206 454.929 L896.206 454.929  Z\" fill=\"#009af9\" fill-rule=\"evenodd\" fill-opacity=\"1\"/>\n",
       "<polyline clip-path=\"url(#clip602)\" style=\"stroke:#000000; stroke-linecap:round; stroke-linejoin:round; stroke-width:4; stroke-opacity:1; fill:none\" points=\"896.206,454.929 896.206,1423.18 965.187,1423.18 965.187,454.929 896.206,454.929 \"/>\n",
       "<path clip-path=\"url(#clip602)\" d=\"M965.187 760.692 L965.187 1423.18 L1034.17 1423.18 L1034.17 760.692 L965.187 760.692 L965.187 760.692  Z\" fill=\"#009af9\" fill-rule=\"evenodd\" fill-opacity=\"1\"/>\n",
       "<polyline clip-path=\"url(#clip602)\" style=\"stroke:#000000; stroke-linecap:round; stroke-linejoin:round; stroke-width:4; stroke-opacity:1; fill:none\" points=\"965.187,760.692 965.187,1423.18 1034.17,1423.18 1034.17,760.692 965.187,760.692 \"/>\n",
       "<path clip-path=\"url(#clip602)\" d=\"M1034.17 556.85 L1034.17 1423.18 L1103.15 1423.18 L1103.15 556.85 L1034.17 556.85 L1034.17 556.85  Z\" fill=\"#009af9\" fill-rule=\"evenodd\" fill-opacity=\"1\"/>\n",
       "<polyline clip-path=\"url(#clip602)\" style=\"stroke:#000000; stroke-linecap:round; stroke-linejoin:round; stroke-width:4; stroke-opacity:1; fill:none\" points=\"1034.17,556.85 1034.17,1423.18 1103.15,1423.18 1103.15,556.85 1034.17,556.85 \"/>\n",
       "<path clip-path=\"url(#clip602)\" d=\"M1103.15 913.574 L1103.15 1423.18 L1172.13 1423.18 L1172.13 913.574 L1103.15 913.574 L1103.15 913.574  Z\" fill=\"#009af9\" fill-rule=\"evenodd\" fill-opacity=\"1\"/>\n",
       "<polyline clip-path=\"url(#clip602)\" style=\"stroke:#000000; stroke-linecap:round; stroke-linejoin:round; stroke-width:4; stroke-opacity:1; fill:none\" points=\"1103.15,913.574 1103.15,1423.18 1172.13,1423.18 1172.13,913.574 1103.15,913.574 \"/>\n",
       "<path clip-path=\"url(#clip602)\" d=\"M1172.13 760.692 L1172.13 1423.18 L1241.11 1423.18 L1241.11 760.692 L1172.13 760.692 L1172.13 760.692  Z\" fill=\"#009af9\" fill-rule=\"evenodd\" fill-opacity=\"1\"/>\n",
       "<polyline clip-path=\"url(#clip602)\" style=\"stroke:#000000; stroke-linecap:round; stroke-linejoin:round; stroke-width:4; stroke-opacity:1; fill:none\" points=\"1172.13,760.692 1172.13,1423.18 1241.11,1423.18 1241.11,760.692 1172.13,760.692 \"/>\n",
       "<path clip-path=\"url(#clip602)\" d=\"M1241.11 556.85 L1241.11 1423.18 L1310.09 1423.18 L1310.09 556.85 L1241.11 556.85 L1241.11 556.85  Z\" fill=\"#009af9\" fill-rule=\"evenodd\" fill-opacity=\"1\"/>\n",
       "<polyline clip-path=\"url(#clip602)\" style=\"stroke:#000000; stroke-linecap:round; stroke-linejoin:round; stroke-width:4; stroke-opacity:1; fill:none\" points=\"1241.11,556.85 1241.11,1423.18 1310.09,1423.18 1310.09,556.85 1241.11,556.85 \"/>\n",
       "<path clip-path=\"url(#clip602)\" d=\"M1310.09 811.653 L1310.09 1423.18 L1379.07 1423.18 L1379.07 811.653 L1310.09 811.653 L1310.09 811.653  Z\" fill=\"#009af9\" fill-rule=\"evenodd\" fill-opacity=\"1\"/>\n",
       "<polyline clip-path=\"url(#clip602)\" style=\"stroke:#000000; stroke-linecap:round; stroke-linejoin:round; stroke-width:4; stroke-opacity:1; fill:none\" points=\"1310.09,811.653 1310.09,1423.18 1379.07,1423.18 1379.07,811.653 1310.09,811.653 \"/>\n",
       "<path clip-path=\"url(#clip602)\" d=\"M1379.07 1066.46 L1379.07 1423.18 L1448.05 1423.18 L1448.05 1066.46 L1379.07 1066.46 L1379.07 1066.46  Z\" fill=\"#009af9\" fill-rule=\"evenodd\" fill-opacity=\"1\"/>\n",
       "<polyline clip-path=\"url(#clip602)\" style=\"stroke:#000000; stroke-linecap:round; stroke-linejoin:round; stroke-width:4; stroke-opacity:1; fill:none\" points=\"1379.07,1066.46 1379.07,1423.18 1448.05,1423.18 1448.05,1066.46 1379.07,1066.46 \"/>\n",
       "<path clip-path=\"url(#clip602)\" d=\"M1448.05 1066.46 L1448.05 1423.18 L1517.04 1423.18 L1517.04 1066.46 L1448.05 1066.46 L1448.05 1066.46  Z\" fill=\"#009af9\" fill-rule=\"evenodd\" fill-opacity=\"1\"/>\n",
       "<polyline clip-path=\"url(#clip602)\" style=\"stroke:#000000; stroke-linecap:round; stroke-linejoin:round; stroke-width:4; stroke-opacity:1; fill:none\" points=\"1448.05,1066.46 1448.05,1423.18 1517.04,1423.18 1517.04,1066.46 1448.05,1066.46 \"/>\n",
       "<path clip-path=\"url(#clip602)\" d=\"M1517.04 658.771 L1517.04 1423.18 L1586.02 1423.18 L1586.02 658.771 L1517.04 658.771 L1517.04 658.771  Z\" fill=\"#009af9\" fill-rule=\"evenodd\" fill-opacity=\"1\"/>\n",
       "<polyline clip-path=\"url(#clip602)\" style=\"stroke:#000000; stroke-linecap:round; stroke-linejoin:round; stroke-width:4; stroke-opacity:1; fill:none\" points=\"1517.04,658.771 1517.04,1423.18 1586.02,1423.18 1586.02,658.771 1517.04,658.771 \"/>\n",
       "<path clip-path=\"url(#clip602)\" d=\"M1586.02 964.535 L1586.02 1423.18 L1655 1423.18 L1655 964.535 L1586.02 964.535 L1586.02 964.535  Z\" fill=\"#009af9\" fill-rule=\"evenodd\" fill-opacity=\"1\"/>\n",
       "<polyline clip-path=\"url(#clip602)\" style=\"stroke:#000000; stroke-linecap:round; stroke-linejoin:round; stroke-width:4; stroke-opacity:1; fill:none\" points=\"1586.02,964.535 1586.02,1423.18 1655,1423.18 1655,964.535 1586.02,964.535 \"/>\n",
       "<path clip-path=\"url(#clip602)\" d=\"M1655 811.653 L1655 1423.18 L1723.98 1423.18 L1723.98 811.653 L1655 811.653 L1655 811.653  Z\" fill=\"#009af9\" fill-rule=\"evenodd\" fill-opacity=\"1\"/>\n",
       "<polyline clip-path=\"url(#clip602)\" style=\"stroke:#000000; stroke-linecap:round; stroke-linejoin:round; stroke-width:4; stroke-opacity:1; fill:none\" points=\"1655,811.653 1655,1423.18 1723.98,1423.18 1723.98,811.653 1655,811.653 \"/>\n",
       "<path clip-path=\"url(#clip602)\" d=\"M1723.98 1219.34 L1723.98 1423.18 L1792.96 1423.18 L1792.96 1219.34 L1723.98 1219.34 L1723.98 1219.34  Z\" fill=\"#009af9\" fill-rule=\"evenodd\" fill-opacity=\"1\"/>\n",
       "<polyline clip-path=\"url(#clip602)\" style=\"stroke:#000000; stroke-linecap:round; stroke-linejoin:round; stroke-width:4; stroke-opacity:1; fill:none\" points=\"1723.98,1219.34 1723.98,1423.18 1792.96,1423.18 1792.96,1219.34 1723.98,1219.34 \"/>\n",
       "<path clip-path=\"url(#clip602)\" d=\"M1792.96 1321.26 L1792.96 1423.18 L1861.94 1423.18 L1861.94 1321.26 L1792.96 1321.26 L1792.96 1321.26  Z\" fill=\"#009af9\" fill-rule=\"evenodd\" fill-opacity=\"1\"/>\n",
       "<polyline clip-path=\"url(#clip602)\" style=\"stroke:#000000; stroke-linecap:round; stroke-linejoin:round; stroke-width:4; stroke-opacity:1; fill:none\" points=\"1792.96,1321.26 1792.96,1423.18 1861.94,1423.18 1861.94,1321.26 1792.96,1321.26 \"/>\n",
       "<path clip-path=\"url(#clip602)\" d=\"M1861.94 1168.38 L1861.94 1423.18 L1930.92 1423.18 L1930.92 1168.38 L1861.94 1168.38 L1861.94 1168.38  Z\" fill=\"#009af9\" fill-rule=\"evenodd\" fill-opacity=\"1\"/>\n",
       "<polyline clip-path=\"url(#clip602)\" style=\"stroke:#000000; stroke-linecap:round; stroke-linejoin:round; stroke-width:4; stroke-opacity:1; fill:none\" points=\"1861.94,1168.38 1861.94,1423.18 1930.92,1423.18 1930.92,1168.38 1861.94,1168.38 \"/>\n",
       "<path clip-path=\"url(#clip602)\" d=\"M1930.92 1219.34 L1930.92 1423.18 L1999.9 1423.18 L1999.9 1219.34 L1930.92 1219.34 L1930.92 1219.34  Z\" fill=\"#009af9\" fill-rule=\"evenodd\" fill-opacity=\"1\"/>\n",
       "<polyline clip-path=\"url(#clip602)\" style=\"stroke:#000000; stroke-linecap:round; stroke-linejoin:round; stroke-width:4; stroke-opacity:1; fill:none\" points=\"1930.92,1219.34 1930.92,1423.18 1999.9,1423.18 1999.9,1219.34 1930.92,1219.34 \"/>\n",
       "<path clip-path=\"url(#clip602)\" d=\"M1999.9 1219.34 L1999.9 1423.18 L2068.88 1423.18 L2068.88 1219.34 L1999.9 1219.34 L1999.9 1219.34  Z\" fill=\"#009af9\" fill-rule=\"evenodd\" fill-opacity=\"1\"/>\n",
       "<polyline clip-path=\"url(#clip602)\" style=\"stroke:#000000; stroke-linecap:round; stroke-linejoin:round; stroke-width:4; stroke-opacity:1; fill:none\" points=\"1999.9,1219.34 1999.9,1423.18 2068.88,1423.18 2068.88,1219.34 1999.9,1219.34 \"/>\n",
       "<path clip-path=\"url(#clip602)\" d=\"M2068.88 1321.26 L2068.88 1423.18 L2137.87 1423.18 L2137.87 1321.26 L2068.88 1321.26 L2068.88 1321.26  Z\" fill=\"#009af9\" fill-rule=\"evenodd\" fill-opacity=\"1\"/>\n",
       "<polyline clip-path=\"url(#clip602)\" style=\"stroke:#000000; stroke-linecap:round; stroke-linejoin:round; stroke-width:4; stroke-opacity:1; fill:none\" points=\"2068.88,1321.26 2068.88,1423.18 2137.87,1423.18 2137.87,1321.26 2068.88,1321.26 \"/>\n",
       "<path clip-path=\"url(#clip602)\" d=\"M2137.87 1117.42 L2137.87 1423.18 L2206.85 1423.18 L2206.85 1117.42 L2137.87 1117.42 L2137.87 1117.42  Z\" fill=\"#009af9\" fill-rule=\"evenodd\" fill-opacity=\"1\"/>\n",
       "<polyline clip-path=\"url(#clip602)\" style=\"stroke:#000000; stroke-linecap:round; stroke-linejoin:round; stroke-width:4; stroke-opacity:1; fill:none\" points=\"2137.87,1117.42 2137.87,1423.18 2206.85,1423.18 2206.85,1117.42 2137.87,1117.42 \"/>\n",
       "<path clip-path=\"url(#clip602)\" d=\"M2206.85 1066.46 L2206.85 1423.18 L2275.83 1423.18 L2275.83 1066.46 L2206.85 1066.46 L2206.85 1066.46  Z\" fill=\"#009af9\" fill-rule=\"evenodd\" fill-opacity=\"1\"/>\n",
       "<polyline clip-path=\"url(#clip602)\" style=\"stroke:#000000; stroke-linecap:round; stroke-linejoin:round; stroke-width:4; stroke-opacity:1; fill:none\" points=\"2206.85,1066.46 2206.85,1423.18 2275.83,1423.18 2275.83,1066.46 2206.85,1066.46 \"/>\n",
       "<path clip-path=\"url(#clip602)\" d=\"M2275.83 1270.3 L2275.83 1423.18 L2344.81 1423.18 L2344.81 1270.3 L2275.83 1270.3 L2275.83 1270.3  Z\" fill=\"#009af9\" fill-rule=\"evenodd\" fill-opacity=\"1\"/>\n",
       "<polyline clip-path=\"url(#clip602)\" style=\"stroke:#000000; stroke-linecap:round; stroke-linejoin:round; stroke-width:4; stroke-opacity:1; fill:none\" points=\"2275.83,1270.3 2275.83,1423.18 2344.81,1423.18 2344.81,1270.3 2275.83,1270.3 \"/>\n",
       "<path clip-path=\"url(#clip602)\" d=\"M2344.81 1117.42 L2344.81 1423.18 L2413.79 1423.18 L2413.79 1117.42 L2344.81 1117.42 L2344.81 1117.42  Z\" fill=\"#009af9\" fill-rule=\"evenodd\" fill-opacity=\"1\"/>\n",
       "<polyline clip-path=\"url(#clip602)\" style=\"stroke:#000000; stroke-linecap:round; stroke-linejoin:round; stroke-width:4; stroke-opacity:1; fill:none\" points=\"2344.81,1117.42 2344.81,1423.18 2413.79,1423.18 2413.79,1117.42 2344.81,1117.42 \"/>\n",
       "<path clip-path=\"url(#clip602)\" d=\"M2413.79 1321.26 L2413.79 1423.18 L2482.77 1423.18 L2482.77 1321.26 L2413.79 1321.26 L2413.79 1321.26  Z\" fill=\"#009af9\" fill-rule=\"evenodd\" fill-opacity=\"1\"/>\n",
       "<polyline clip-path=\"url(#clip602)\" style=\"stroke:#000000; stroke-linecap:round; stroke-linejoin:round; stroke-width:4; stroke-opacity:1; fill:none\" points=\"2413.79,1321.26 2413.79,1423.18 2482.77,1423.18 2482.77,1321.26 2413.79,1321.26 \"/>\n",
       "<path clip-path=\"url(#clip602)\" d=\"M2482.77 1372.22 L2482.77 1423.18 L2551.75 1423.18 L2551.75 1372.22 L2482.77 1372.22 L2482.77 1372.22  Z\" fill=\"#009af9\" fill-rule=\"evenodd\" fill-opacity=\"1\"/>\n",
       "<polyline clip-path=\"url(#clip602)\" style=\"stroke:#000000; stroke-linecap:round; stroke-linejoin:round; stroke-width:4; stroke-opacity:1; fill:none\" points=\"2482.77,1372.22 2482.77,1423.18 2551.75,1423.18 2551.75,1372.22 2482.77,1372.22 \"/>\n",
       "<path clip-path=\"url(#clip602)\" d=\"M2551.75 1117.42 L2551.75 1423.18 L2620.73 1423.18 L2620.73 1117.42 L2551.75 1117.42 L2551.75 1117.42  Z\" fill=\"#009af9\" fill-rule=\"evenodd\" fill-opacity=\"1\"/>\n",
       "<polyline clip-path=\"url(#clip602)\" style=\"stroke:#000000; stroke-linecap:round; stroke-linejoin:round; stroke-width:4; stroke-opacity:1; fill:none\" points=\"2551.75,1117.42 2551.75,1423.18 2620.73,1423.18 2620.73,1117.42 2551.75,1117.42 \"/>\n",
       "<path clip-path=\"url(#clip602)\" d=\"M2620.73 1321.26 L2620.73 1423.18 L2689.71 1423.18 L2689.71 1321.26 L2620.73 1321.26 L2620.73 1321.26  Z\" fill=\"#009af9\" fill-rule=\"evenodd\" fill-opacity=\"1\"/>\n",
       "<polyline clip-path=\"url(#clip602)\" style=\"stroke:#000000; stroke-linecap:round; stroke-linejoin:round; stroke-width:4; stroke-opacity:1; fill:none\" points=\"2620.73,1321.26 2620.73,1423.18 2689.71,1423.18 2689.71,1321.26 2620.73,1321.26 \"/>\n",
       "<path clip-path=\"url(#clip602)\" d=\"M2689.71 1117.42 L2689.71 1423.18 L2758.69 1423.18 L2758.69 1117.42 L2689.71 1117.42 L2689.71 1117.42  Z\" fill=\"#009af9\" fill-rule=\"evenodd\" fill-opacity=\"1\"/>\n",
       "<polyline clip-path=\"url(#clip602)\" style=\"stroke:#000000; stroke-linecap:round; stroke-linejoin:round; stroke-width:4; stroke-opacity:1; fill:none\" points=\"2689.71,1117.42 2689.71,1423.18 2758.69,1423.18 2758.69,1117.42 2689.71,1117.42 \"/>\n",
       "<path clip-path=\"url(#clip602)\" d=\"M2758.69 1219.34 L2758.69 1423.18 L2827.68 1423.18 L2827.68 1219.34 L2758.69 1219.34 L2758.69 1219.34  Z\" fill=\"#009af9\" fill-rule=\"evenodd\" fill-opacity=\"1\"/>\n",
       "<polyline clip-path=\"url(#clip602)\" style=\"stroke:#000000; stroke-linecap:round; stroke-linejoin:round; stroke-width:4; stroke-opacity:1; fill:none\" points=\"2758.69,1219.34 2758.69,1423.18 2827.68,1423.18 2827.68,1219.34 2758.69,1219.34 \"/>\n",
       "<path clip-path=\"url(#clip602)\" d=\"M2827.68 1219.34 L2827.68 1423.18 L2896.66 1423.18 L2896.66 1219.34 L2827.68 1219.34 L2827.68 1219.34  Z\" fill=\"#009af9\" fill-rule=\"evenodd\" fill-opacity=\"1\"/>\n",
       "<polyline clip-path=\"url(#clip602)\" style=\"stroke:#000000; stroke-linecap:round; stroke-linejoin:round; stroke-width:4; stroke-opacity:1; fill:none\" points=\"2827.68,1219.34 2827.68,1423.18 2896.66,1423.18 2896.66,1219.34 2827.68,1219.34 \"/>\n",
       "<path clip-path=\"url(#clip602)\" d=\"M2896.66 1270.3 L2896.66 1423.18 L2965.64 1423.18 L2965.64 1270.3 L2896.66 1270.3 L2896.66 1270.3  Z\" fill=\"#009af9\" fill-rule=\"evenodd\" fill-opacity=\"1\"/>\n",
       "<polyline clip-path=\"url(#clip602)\" style=\"stroke:#000000; stroke-linecap:round; stroke-linejoin:round; stroke-width:4; stroke-opacity:1; fill:none\" points=\"2896.66,1270.3 2896.66,1423.18 2965.64,1423.18 2965.64,1270.3 2896.66,1270.3 \"/>\n",
       "<path clip-path=\"url(#clip602)\" d=\"M2965.64 1270.3 L2965.64 1423.18 L3034.62 1423.18 L3034.62 1270.3 L2965.64 1270.3 L2965.64 1270.3  Z\" fill=\"#009af9\" fill-rule=\"evenodd\" fill-opacity=\"1\"/>\n",
       "<polyline clip-path=\"url(#clip602)\" style=\"stroke:#000000; stroke-linecap:round; stroke-linejoin:round; stroke-width:4; stroke-opacity:1; fill:none\" points=\"2965.64,1270.3 2965.64,1423.18 3034.62,1423.18 3034.62,1270.3 2965.64,1270.3 \"/>\n",
       "<path clip-path=\"url(#clip602)\" d=\"M3034.62 1372.22 L3034.62 1423.18 L3103.6 1423.18 L3103.6 1372.22 L3034.62 1372.22 L3034.62 1372.22  Z\" fill=\"#009af9\" fill-rule=\"evenodd\" fill-opacity=\"1\"/>\n",
       "<polyline clip-path=\"url(#clip602)\" style=\"stroke:#000000; stroke-linecap:round; stroke-linejoin:round; stroke-width:4; stroke-opacity:1; fill:none\" points=\"3034.62,1372.22 3034.62,1423.18 3103.6,1423.18 3103.6,1372.22 3034.62,1372.22 \"/>\n",
       "<path clip-path=\"url(#clip602)\" d=\"M3103.6 1168.38 L3103.6 1423.18 L3172.58 1423.18 L3172.58 1168.38 L3103.6 1168.38 L3103.6 1168.38  Z\" fill=\"#009af9\" fill-rule=\"evenodd\" fill-opacity=\"1\"/>\n",
       "<polyline clip-path=\"url(#clip602)\" style=\"stroke:#000000; stroke-linecap:round; stroke-linejoin:round; stroke-width:4; stroke-opacity:1; fill:none\" points=\"3103.6,1168.38 3103.6,1423.18 3172.58,1423.18 3172.58,1168.38 3103.6,1168.38 \"/>\n",
       "<path clip-path=\"url(#clip602)\" d=\"M3172.58 1321.26 L3172.58 1423.18 L3241.56 1423.18 L3241.56 1321.26 L3172.58 1321.26 L3172.58 1321.26  Z\" fill=\"#009af9\" fill-rule=\"evenodd\" fill-opacity=\"1\"/>\n",
       "<polyline clip-path=\"url(#clip602)\" style=\"stroke:#000000; stroke-linecap:round; stroke-linejoin:round; stroke-width:4; stroke-opacity:1; fill:none\" points=\"3172.58,1321.26 3172.58,1423.18 3241.56,1423.18 3241.56,1321.26 3172.58,1321.26 \"/>\n",
       "<path clip-path=\"url(#clip602)\" d=\"M3241.56 1117.42 L3241.56 1423.18 L3310.54 1423.18 L3310.54 1117.42 L3241.56 1117.42 L3241.56 1117.42  Z\" fill=\"#009af9\" fill-rule=\"evenodd\" fill-opacity=\"1\"/>\n",
       "<polyline clip-path=\"url(#clip602)\" style=\"stroke:#000000; stroke-linecap:round; stroke-linejoin:round; stroke-width:4; stroke-opacity:1; fill:none\" points=\"3241.56,1117.42 3241.56,1423.18 3310.54,1423.18 3310.54,1117.42 3241.56,1117.42 \"/>\n",
       "<path clip-path=\"url(#clip602)\" d=\"M3310.54 1270.3 L3310.54 1423.18 L3379.52 1423.18 L3379.52 1270.3 L3310.54 1270.3 L3310.54 1270.3  Z\" fill=\"#009af9\" fill-rule=\"evenodd\" fill-opacity=\"1\"/>\n",
       "<polyline clip-path=\"url(#clip602)\" style=\"stroke:#000000; stroke-linecap:round; stroke-linejoin:round; stroke-width:4; stroke-opacity:1; fill:none\" points=\"3310.54,1270.3 3310.54,1423.18 3379.52,1423.18 3379.52,1270.3 3310.54,1270.3 \"/>\n",
       "<path clip-path=\"url(#clip602)\" d=\"M3379.52 1321.26 L3379.52 1423.18 L3448.51 1423.18 L3448.51 1321.26 L3379.52 1321.26 L3379.52 1321.26  Z\" fill=\"#009af9\" fill-rule=\"evenodd\" fill-opacity=\"1\"/>\n",
       "<polyline clip-path=\"url(#clip602)\" style=\"stroke:#000000; stroke-linecap:round; stroke-linejoin:round; stroke-width:4; stroke-opacity:1; fill:none\" points=\"3379.52,1321.26 3379.52,1423.18 3448.51,1423.18 3448.51,1321.26 3379.52,1321.26 \"/>\n",
       "<path clip-path=\"url(#clip602)\" d=\"M3448.51 1321.26 L3448.51 1423.18 L3517.49 1423.18 L3517.49 1321.26 L3448.51 1321.26 L3448.51 1321.26  Z\" fill=\"#009af9\" fill-rule=\"evenodd\" fill-opacity=\"1\"/>\n",
       "<polyline clip-path=\"url(#clip602)\" style=\"stroke:#000000; stroke-linecap:round; stroke-linejoin:round; stroke-width:4; stroke-opacity:1; fill:none\" points=\"3448.51,1321.26 3448.51,1423.18 3517.49,1423.18 3517.49,1321.26 3448.51,1321.26 \"/>\n",
       "<path clip-path=\"url(#clip602)\" d=\"M3517.49 1270.3 L3517.49 1423.18 L3586.47 1423.18 L3586.47 1270.3 L3517.49 1270.3 L3517.49 1270.3  Z\" fill=\"#009af9\" fill-rule=\"evenodd\" fill-opacity=\"1\"/>\n",
       "<polyline clip-path=\"url(#clip602)\" style=\"stroke:#000000; stroke-linecap:round; stroke-linejoin:round; stroke-width:4; stroke-opacity:1; fill:none\" points=\"3517.49,1270.3 3517.49,1423.18 3586.47,1423.18 3586.47,1270.3 3517.49,1270.3 \"/>\n",
       "<path clip-path=\"url(#clip602)\" d=\"M3586.47 1423.18 L3586.47 1423.18 L3655.45 1423.18 L3655.45 1423.18 L3586.47 1423.18 L3586.47 1423.18  Z\" fill=\"#009af9\" fill-rule=\"evenodd\" fill-opacity=\"1\"/>\n",
       "<polyline clip-path=\"url(#clip602)\" style=\"stroke:#000000; stroke-linecap:round; stroke-linejoin:round; stroke-width:4; stroke-opacity:1; fill:none\" points=\"3586.47,1423.18 3586.47,1423.18 3655.45,1423.18 3586.47,1423.18 \"/>\n",
       "<path clip-path=\"url(#clip602)\" d=\"M3655.45 1372.22 L3655.45 1423.18 L3724.43 1423.18 L3724.43 1372.22 L3655.45 1372.22 L3655.45 1372.22  Z\" fill=\"#009af9\" fill-rule=\"evenodd\" fill-opacity=\"1\"/>\n",
       "<polyline clip-path=\"url(#clip602)\" style=\"stroke:#000000; stroke-linecap:round; stroke-linejoin:round; stroke-width:4; stroke-opacity:1; fill:none\" points=\"3655.45,1372.22 3655.45,1423.18 3724.43,1423.18 3724.43,1372.22 3655.45,1372.22 \"/>\n",
       "<path clip-path=\"url(#clip602)\" d=\"M3724.43 1372.22 L3724.43 1423.18 L3793.41 1423.18 L3793.41 1372.22 L3724.43 1372.22 L3724.43 1372.22  Z\" fill=\"#009af9\" fill-rule=\"evenodd\" fill-opacity=\"1\"/>\n",
       "<polyline clip-path=\"url(#clip602)\" style=\"stroke:#000000; stroke-linecap:round; stroke-linejoin:round; stroke-width:4; stroke-opacity:1; fill:none\" points=\"3724.43,1372.22 3724.43,1423.18 3793.41,1423.18 3793.41,1372.22 3724.43,1372.22 \"/>\n",
       "<path clip-path=\"url(#clip602)\" d=\"M3793.41 1372.22 L3793.41 1423.18 L3862.39 1423.18 L3862.39 1372.22 L3793.41 1372.22 L3793.41 1372.22  Z\" fill=\"#009af9\" fill-rule=\"evenodd\" fill-opacity=\"1\"/>\n",
       "<polyline clip-path=\"url(#clip602)\" style=\"stroke:#000000; stroke-linecap:round; stroke-linejoin:round; stroke-width:4; stroke-opacity:1; fill:none\" points=\"3793.41,1372.22 3793.41,1423.18 3862.39,1423.18 3862.39,1372.22 3793.41,1372.22 \"/>\n",
       "<path clip-path=\"url(#clip602)\" d=\"M3862.39 1321.26 L3862.39 1423.18 L3931.37 1423.18 L3931.37 1321.26 L3862.39 1321.26 L3862.39 1321.26  Z\" fill=\"#009af9\" fill-rule=\"evenodd\" fill-opacity=\"1\"/>\n",
       "<polyline clip-path=\"url(#clip602)\" style=\"stroke:#000000; stroke-linecap:round; stroke-linejoin:round; stroke-width:4; stroke-opacity:1; fill:none\" points=\"3862.39,1321.26 3862.39,1423.18 3931.37,1423.18 3931.37,1321.26 3862.39,1321.26 \"/>\n",
       "<path clip-path=\"url(#clip602)\" d=\"M3931.37 1219.34 L3931.37 1423.18 L4000.35 1423.18 L4000.35 1219.34 L3931.37 1219.34 L3931.37 1219.34  Z\" fill=\"#009af9\" fill-rule=\"evenodd\" fill-opacity=\"1\"/>\n",
       "<polyline clip-path=\"url(#clip602)\" style=\"stroke:#000000; stroke-linecap:round; stroke-linejoin:round; stroke-width:4; stroke-opacity:1; fill:none\" points=\"3931.37,1219.34 3931.37,1423.18 4000.35,1423.18 4000.35,1219.34 3931.37,1219.34 \"/>\n",
       "<path clip-path=\"url(#clip602)\" d=\"M4000.35 1270.3 L4000.35 1423.18 L4069.33 1423.18 L4069.33 1270.3 L4000.35 1270.3 L4000.35 1270.3  Z\" fill=\"#009af9\" fill-rule=\"evenodd\" fill-opacity=\"1\"/>\n",
       "<polyline clip-path=\"url(#clip602)\" style=\"stroke:#000000; stroke-linecap:round; stroke-linejoin:round; stroke-width:4; stroke-opacity:1; fill:none\" points=\"4000.35,1270.3 4000.35,1423.18 4069.33,1423.18 4069.33,1270.3 4000.35,1270.3 \"/>\n",
       "<path clip-path=\"url(#clip602)\" d=\"M4069.33 1321.26 L4069.33 1423.18 L4138.32 1423.18 L4138.32 1321.26 L4069.33 1321.26 L4069.33 1321.26  Z\" fill=\"#009af9\" fill-rule=\"evenodd\" fill-opacity=\"1\"/>\n",
       "<polyline clip-path=\"url(#clip602)\" style=\"stroke:#000000; stroke-linecap:round; stroke-linejoin:round; stroke-width:4; stroke-opacity:1; fill:none\" points=\"4069.33,1321.26 4069.33,1423.18 4138.32,1423.18 4138.32,1321.26 4069.33,1321.26 \"/>\n",
       "<path clip-path=\"url(#clip602)\" d=\"M4138.32 1372.22 L4138.32 1423.18 L4207.3 1423.18 L4207.3 1372.22 L4138.32 1372.22 L4138.32 1372.22  Z\" fill=\"#009af9\" fill-rule=\"evenodd\" fill-opacity=\"1\"/>\n",
       "<polyline clip-path=\"url(#clip602)\" style=\"stroke:#000000; stroke-linecap:round; stroke-linejoin:round; stroke-width:4; stroke-opacity:1; fill:none\" points=\"4138.32,1372.22 4138.32,1423.18 4207.3,1423.18 4207.3,1372.22 4138.32,1372.22 \"/>\n",
       "<path clip-path=\"url(#clip602)\" d=\"M4207.3 1321.26 L4207.3 1423.18 L4276.28 1423.18 L4276.28 1321.26 L4207.3 1321.26 L4207.3 1321.26  Z\" fill=\"#009af9\" fill-rule=\"evenodd\" fill-opacity=\"1\"/>\n",
       "<polyline clip-path=\"url(#clip602)\" style=\"stroke:#000000; stroke-linecap:round; stroke-linejoin:round; stroke-width:4; stroke-opacity:1; fill:none\" points=\"4207.3,1321.26 4207.3,1423.18 4276.28,1423.18 4276.28,1321.26 4207.3,1321.26 \"/>\n",
       "<path clip-path=\"url(#clip602)\" d=\"M4276.28 1423.18 L4276.28 1423.18 L4345.26 1423.18 L4345.26 1423.18 L4276.28 1423.18 L4276.28 1423.18  Z\" fill=\"#009af9\" fill-rule=\"evenodd\" fill-opacity=\"1\"/>\n",
       "<polyline clip-path=\"url(#clip602)\" style=\"stroke:#000000; stroke-linecap:round; stroke-linejoin:round; stroke-width:4; stroke-opacity:1; fill:none\" points=\"4276.28,1423.18 4276.28,1423.18 4345.26,1423.18 4276.28,1423.18 \"/>\n",
       "<path clip-path=\"url(#clip602)\" d=\"M4345.26 1372.22 L4345.26 1423.18 L4414.24 1423.18 L4414.24 1372.22 L4345.26 1372.22 L4345.26 1372.22  Z\" fill=\"#009af9\" fill-rule=\"evenodd\" fill-opacity=\"1\"/>\n",
       "<polyline clip-path=\"url(#clip602)\" style=\"stroke:#000000; stroke-linecap:round; stroke-linejoin:round; stroke-width:4; stroke-opacity:1; fill:none\" points=\"4345.26,1372.22 4345.26,1423.18 4414.24,1423.18 4414.24,1372.22 4345.26,1372.22 \"/>\n",
       "<path clip-path=\"url(#clip602)\" d=\"M4414.24 1372.22 L4414.24 1423.18 L4483.22 1423.18 L4483.22 1372.22 L4414.24 1372.22 L4414.24 1372.22  Z\" fill=\"#009af9\" fill-rule=\"evenodd\" fill-opacity=\"1\"/>\n",
       "<polyline clip-path=\"url(#clip602)\" style=\"stroke:#000000; stroke-linecap:round; stroke-linejoin:round; stroke-width:4; stroke-opacity:1; fill:none\" points=\"4414.24,1372.22 4414.24,1423.18 4483.22,1423.18 4483.22,1372.22 4414.24,1372.22 \"/>\n",
       "<path clip-path=\"url(#clip602)\" d=\"M4483.22 1321.26 L4483.22 1423.18 L4552.2 1423.18 L4552.2 1321.26 L4483.22 1321.26 L4483.22 1321.26  Z\" fill=\"#009af9\" fill-rule=\"evenodd\" fill-opacity=\"1\"/>\n",
       "<polyline clip-path=\"url(#clip602)\" style=\"stroke:#000000; stroke-linecap:round; stroke-linejoin:round; stroke-width:4; stroke-opacity:1; fill:none\" points=\"4483.22,1321.26 4483.22,1423.18 4552.2,1423.18 4552.2,1321.26 4483.22,1321.26 \"/>\n",
       "<path clip-path=\"url(#clip602)\" d=\"M4552.2 1423.18 L4552.2 1423.18 L4621.18 1423.18 L4621.18 1423.18 L4552.2 1423.18 L4552.2 1423.18  Z\" fill=\"#009af9\" fill-rule=\"evenodd\" fill-opacity=\"1\"/>\n",
       "<polyline clip-path=\"url(#clip602)\" style=\"stroke:#000000; stroke-linecap:round; stroke-linejoin:round; stroke-width:4; stroke-opacity:1; fill:none\" points=\"4552.2,1423.18 4552.2,1423.18 4621.18,1423.18 4552.2,1423.18 \"/>\n",
       "<path clip-path=\"url(#clip602)\" d=\"M4621.18 1372.22 L4621.18 1423.18 L4690.16 1423.18 L4690.16 1372.22 L4621.18 1372.22 L4621.18 1372.22  Z\" fill=\"#009af9\" fill-rule=\"evenodd\" fill-opacity=\"1\"/>\n",
       "<polyline clip-path=\"url(#clip602)\" style=\"stroke:#000000; stroke-linecap:round; stroke-linejoin:round; stroke-width:4; stroke-opacity:1; fill:none\" points=\"4621.18,1372.22 4621.18,1423.18 4690.16,1423.18 4690.16,1372.22 4621.18,1372.22 \"/>\n",
       "<path clip-path=\"url(#clip602)\" d=\"M4690.16 1423.18 L4690.16 1423.18 L4759.15 1423.18 L4759.15 1423.18 L4690.16 1423.18 L4690.16 1423.18  Z\" fill=\"#009af9\" fill-rule=\"evenodd\" fill-opacity=\"1\"/>\n",
       "<polyline clip-path=\"url(#clip602)\" style=\"stroke:#000000; stroke-linecap:round; stroke-linejoin:round; stroke-width:4; stroke-opacity:1; fill:none\" points=\"4690.16,1423.18 4690.16,1423.18 4759.15,1423.18 4690.16,1423.18 \"/>\n",
       "<path clip-path=\"url(#clip602)\" d=\"M4759.15 1219.34 L4759.15 1423.18 L4828.13 1423.18 L4828.13 1219.34 L4759.15 1219.34 L4759.15 1219.34  Z\" fill=\"#009af9\" fill-rule=\"evenodd\" fill-opacity=\"1\"/>\n",
       "<polyline clip-path=\"url(#clip602)\" style=\"stroke:#000000; stroke-linecap:round; stroke-linejoin:round; stroke-width:4; stroke-opacity:1; fill:none\" points=\"4759.15,1219.34 4759.15,1423.18 4828.13,1423.18 4828.13,1219.34 4759.15,1219.34 \"/>\n",
       "<path clip-path=\"url(#clip602)\" d=\"M4828.13 1372.22 L4828.13 1423.18 L4897.11 1423.18 L4897.11 1372.22 L4828.13 1372.22 L4828.13 1372.22  Z\" fill=\"#009af9\" fill-rule=\"evenodd\" fill-opacity=\"1\"/>\n",
       "<polyline clip-path=\"url(#clip602)\" style=\"stroke:#000000; stroke-linecap:round; stroke-linejoin:round; stroke-width:4; stroke-opacity:1; fill:none\" points=\"4828.13,1372.22 4828.13,1423.18 4897.11,1423.18 4897.11,1372.22 4828.13,1372.22 \"/>\n",
       "<path clip-path=\"url(#clip602)\" d=\"M4897.11 1372.22 L4897.11 1423.18 L4966.09 1423.18 L4966.09 1372.22 L4897.11 1372.22 L4897.11 1372.22  Z\" fill=\"#009af9\" fill-rule=\"evenodd\" fill-opacity=\"1\"/>\n",
       "<polyline clip-path=\"url(#clip602)\" style=\"stroke:#000000; stroke-linecap:round; stroke-linejoin:round; stroke-width:4; stroke-opacity:1; fill:none\" points=\"4897.11,1372.22 4897.11,1423.18 4966.09,1423.18 4966.09,1372.22 4897.11,1372.22 \"/>\n",
       "<path clip-path=\"url(#clip602)\" d=\"M4966.09 1423.18 L4966.09 1423.18 L5035.07 1423.18 L5035.07 1423.18 L4966.09 1423.18 L4966.09 1423.18  Z\" fill=\"#009af9\" fill-rule=\"evenodd\" fill-opacity=\"1\"/>\n",
       "<polyline clip-path=\"url(#clip602)\" style=\"stroke:#000000; stroke-linecap:round; stroke-linejoin:round; stroke-width:4; stroke-opacity:1; fill:none\" points=\"4966.09,1423.18 4966.09,1423.18 5035.07,1423.18 4966.09,1423.18 \"/>\n",
       "<path clip-path=\"url(#clip602)\" d=\"M5035.07 1372.22 L5035.07 1423.18 L5104.05 1423.18 L5104.05 1372.22 L5035.07 1372.22 L5035.07 1372.22  Z\" fill=\"#009af9\" fill-rule=\"evenodd\" fill-opacity=\"1\"/>\n",
       "<polyline clip-path=\"url(#clip602)\" style=\"stroke:#000000; stroke-linecap:round; stroke-linejoin:round; stroke-width:4; stroke-opacity:1; fill:none\" points=\"5035.07,1372.22 5035.07,1423.18 5104.05,1423.18 5104.05,1372.22 5035.07,1372.22 \"/>\n",
       "<path clip-path=\"url(#clip602)\" d=\"M5104.05 1270.3 L5104.05 1423.18 L5173.03 1423.18 L5173.03 1270.3 L5104.05 1270.3 L5104.05 1270.3  Z\" fill=\"#009af9\" fill-rule=\"evenodd\" fill-opacity=\"1\"/>\n",
       "<polyline clip-path=\"url(#clip602)\" style=\"stroke:#000000; stroke-linecap:round; stroke-linejoin:round; stroke-width:4; stroke-opacity:1; fill:none\" points=\"5104.05,1270.3 5104.05,1423.18 5173.03,1423.18 5173.03,1270.3 5104.05,1270.3 \"/>\n",
       "<path clip-path=\"url(#clip602)\" d=\"M5173.03 1423.18 L5173.03 1423.18 L5242.01 1423.18 L5242.01 1423.18 L5173.03 1423.18 L5173.03 1423.18  Z\" fill=\"#009af9\" fill-rule=\"evenodd\" fill-opacity=\"1\"/>\n",
       "<polyline clip-path=\"url(#clip602)\" style=\"stroke:#000000; stroke-linecap:round; stroke-linejoin:round; stroke-width:4; stroke-opacity:1; fill:none\" points=\"5173.03,1423.18 5173.03,1423.18 5242.01,1423.18 5173.03,1423.18 \"/>\n",
       "<path clip-path=\"url(#clip602)\" d=\"M5242.01 1423.18 L5242.01 1423.18 L5310.99 1423.18 L5310.99 1423.18 L5242.01 1423.18 L5242.01 1423.18  Z\" fill=\"#009af9\" fill-rule=\"evenodd\" fill-opacity=\"1\"/>\n",
       "<polyline clip-path=\"url(#clip602)\" style=\"stroke:#000000; stroke-linecap:round; stroke-linejoin:round; stroke-width:4; stroke-opacity:1; fill:none\" points=\"5242.01,1423.18 5242.01,1423.18 5310.99,1423.18 5242.01,1423.18 \"/>\n",
       "<path clip-path=\"url(#clip602)\" d=\"M5310.99 1321.26 L5310.99 1423.18 L5379.98 1423.18 L5379.98 1321.26 L5310.99 1321.26 L5310.99 1321.26  Z\" fill=\"#009af9\" fill-rule=\"evenodd\" fill-opacity=\"1\"/>\n",
       "<polyline clip-path=\"url(#clip602)\" style=\"stroke:#000000; stroke-linecap:round; stroke-linejoin:round; stroke-width:4; stroke-opacity:1; fill:none\" points=\"5310.99,1321.26 5310.99,1423.18 5379.98,1423.18 5379.98,1321.26 5310.99,1321.26 \"/>\n",
       "<path clip-path=\"url(#clip602)\" d=\"M5379.98 1423.18 L5379.98 1423.18 L5448.96 1423.18 L5448.96 1423.18 L5379.98 1423.18 L5379.98 1423.18  Z\" fill=\"#009af9\" fill-rule=\"evenodd\" fill-opacity=\"1\"/>\n",
       "<polyline clip-path=\"url(#clip602)\" style=\"stroke:#000000; stroke-linecap:round; stroke-linejoin:round; stroke-width:4; stroke-opacity:1; fill:none\" points=\"5379.98,1423.18 5379.98,1423.18 5448.96,1423.18 5379.98,1423.18 \"/>\n",
       "<path clip-path=\"url(#clip602)\" d=\"M5448.96 1321.26 L5448.96 1423.18 L5517.94 1423.18 L5517.94 1321.26 L5448.96 1321.26 L5448.96 1321.26  Z\" fill=\"#009af9\" fill-rule=\"evenodd\" fill-opacity=\"1\"/>\n",
       "<polyline clip-path=\"url(#clip602)\" style=\"stroke:#000000; stroke-linecap:round; stroke-linejoin:round; stroke-width:4; stroke-opacity:1; fill:none\" points=\"5448.96,1321.26 5448.96,1423.18 5517.94,1423.18 5517.94,1321.26 5448.96,1321.26 \"/>\n",
       "<path clip-path=\"url(#clip602)\" d=\"M5517.94 1423.18 L5517.94 1423.18 L5586.92 1423.18 L5586.92 1423.18 L5517.94 1423.18 L5517.94 1423.18  Z\" fill=\"#009af9\" fill-rule=\"evenodd\" fill-opacity=\"1\"/>\n",
       "<polyline clip-path=\"url(#clip602)\" style=\"stroke:#000000; stroke-linecap:round; stroke-linejoin:round; stroke-width:4; stroke-opacity:1; fill:none\" points=\"5517.94,1423.18 5517.94,1423.18 5586.92,1423.18 5517.94,1423.18 \"/>\n",
       "<path clip-path=\"url(#clip602)\" d=\"M5586.92 1321.26 L5586.92 1423.18 L5655.9 1423.18 L5655.9 1321.26 L5586.92 1321.26 L5586.92 1321.26  Z\" fill=\"#009af9\" fill-rule=\"evenodd\" fill-opacity=\"1\"/>\n",
       "<polyline clip-path=\"url(#clip602)\" style=\"stroke:#000000; stroke-linecap:round; stroke-linejoin:round; stroke-width:4; stroke-opacity:1; fill:none\" points=\"5586.92,1321.26 5586.92,1423.18 5655.9,1423.18 5655.9,1321.26 5586.92,1321.26 \"/>\n",
       "<path clip-path=\"url(#clip602)\" d=\"M5655.9 1372.22 L5655.9 1423.18 L5724.88 1423.18 L5724.88 1372.22 L5655.9 1372.22 L5655.9 1372.22  Z\" fill=\"#009af9\" fill-rule=\"evenodd\" fill-opacity=\"1\"/>\n",
       "<polyline clip-path=\"url(#clip602)\" style=\"stroke:#000000; stroke-linecap:round; stroke-linejoin:round; stroke-width:4; stroke-opacity:1; fill:none\" points=\"5655.9,1372.22 5655.9,1423.18 5724.88,1423.18 5724.88,1372.22 5655.9,1372.22 \"/>\n",
       "<path clip-path=\"url(#clip602)\" d=\"M5724.88 1372.22 L5724.88 1423.18 L5793.86 1423.18 L5793.86 1372.22 L5724.88 1372.22 L5724.88 1372.22  Z\" fill=\"#009af9\" fill-rule=\"evenodd\" fill-opacity=\"1\"/>\n",
       "<polyline clip-path=\"url(#clip602)\" style=\"stroke:#000000; stroke-linecap:round; stroke-linejoin:round; stroke-width:4; stroke-opacity:1; fill:none\" points=\"5724.88,1372.22 5724.88,1423.18 5793.86,1423.18 5793.86,1372.22 5724.88,1372.22 \"/>\n",
       "<path clip-path=\"url(#clip602)\" d=\"M5793.86 1372.22 L5793.86 1423.18 L5862.84 1423.18 L5862.84 1372.22 L5793.86 1372.22 L5793.86 1372.22  Z\" fill=\"#009af9\" fill-rule=\"evenodd\" fill-opacity=\"1\"/>\n",
       "<polyline clip-path=\"url(#clip602)\" style=\"stroke:#000000; stroke-linecap:round; stroke-linejoin:round; stroke-width:4; stroke-opacity:1; fill:none\" points=\"5793.86,1372.22 5793.86,1423.18 5862.84,1423.18 5862.84,1372.22 5793.86,1372.22 \"/>\n",
       "<path clip-path=\"url(#clip602)\" d=\"M5862.84 1423.18 L5862.84 1423.18 L5931.82 1423.18 L5931.82 1423.18 L5862.84 1423.18 L5862.84 1423.18  Z\" fill=\"#009af9\" fill-rule=\"evenodd\" fill-opacity=\"1\"/>\n",
       "<polyline clip-path=\"url(#clip602)\" style=\"stroke:#000000; stroke-linecap:round; stroke-linejoin:round; stroke-width:4; stroke-opacity:1; fill:none\" points=\"5862.84,1423.18 5862.84,1423.18 5931.82,1423.18 5862.84,1423.18 \"/>\n",
       "<path clip-path=\"url(#clip602)\" d=\"M5931.82 1423.18 L5931.82 1423.18 L6000.8 1423.18 L6000.8 1423.18 L5931.82 1423.18 L5931.82 1423.18  Z\" fill=\"#009af9\" fill-rule=\"evenodd\" fill-opacity=\"1\"/>\n",
       "<polyline clip-path=\"url(#clip602)\" style=\"stroke:#000000; stroke-linecap:round; stroke-linejoin:round; stroke-width:4; stroke-opacity:1; fill:none\" points=\"5931.82,1423.18 5931.82,1423.18 6000.8,1423.18 5931.82,1423.18 \"/>\n",
       "<path clip-path=\"url(#clip602)\" d=\"M6000.8 1372.22 L6000.8 1423.18 L6069.79 1423.18 L6069.79 1372.22 L6000.8 1372.22 L6000.8 1372.22  Z\" fill=\"#009af9\" fill-rule=\"evenodd\" fill-opacity=\"1\"/>\n",
       "<polyline clip-path=\"url(#clip602)\" style=\"stroke:#000000; stroke-linecap:round; stroke-linejoin:round; stroke-width:4; stroke-opacity:1; fill:none\" points=\"6000.8,1372.22 6000.8,1423.18 6069.79,1423.18 6069.79,1372.22 6000.8,1372.22 \"/>\n",
       "<path clip-path=\"url(#clip602)\" d=\"M6069.79 1372.22 L6069.79 1423.18 L6138.77 1423.18 L6138.77 1372.22 L6069.79 1372.22 L6069.79 1372.22  Z\" fill=\"#009af9\" fill-rule=\"evenodd\" fill-opacity=\"1\"/>\n",
       "<polyline clip-path=\"url(#clip602)\" style=\"stroke:#000000; stroke-linecap:round; stroke-linejoin:round; stroke-width:4; stroke-opacity:1; fill:none\" points=\"6069.79,1372.22 6069.79,1423.18 6138.77,1423.18 6138.77,1372.22 6069.79,1372.22 \"/>\n",
       "<path clip-path=\"url(#clip602)\" d=\"M6138.77 1423.18 L6138.77 1423.18 L6207.75 1423.18 L6207.75 1423.18 L6138.77 1423.18 L6138.77 1423.18  Z\" fill=\"#009af9\" fill-rule=\"evenodd\" fill-opacity=\"1\"/>\n",
       "<polyline clip-path=\"url(#clip602)\" style=\"stroke:#000000; stroke-linecap:round; stroke-linejoin:round; stroke-width:4; stroke-opacity:1; fill:none\" points=\"6138.77,1423.18 6138.77,1423.18 6207.75,1423.18 6138.77,1423.18 \"/>\n",
       "<path clip-path=\"url(#clip602)\" d=\"M6207.75 1372.22 L6207.75 1423.18 L6276.73 1423.18 L6276.73 1372.22 L6207.75 1372.22 L6207.75 1372.22  Z\" fill=\"#009af9\" fill-rule=\"evenodd\" fill-opacity=\"1\"/>\n",
       "<polyline clip-path=\"url(#clip602)\" style=\"stroke:#000000; stroke-linecap:round; stroke-linejoin:round; stroke-width:4; stroke-opacity:1; fill:none\" points=\"6207.75,1372.22 6207.75,1423.18 6276.73,1423.18 6276.73,1372.22 6207.75,1372.22 \"/>\n",
       "<path clip-path=\"url(#clip602)\" d=\"M6276.73 1372.22 L6276.73 1423.18 L6345.71 1423.18 L6345.71 1372.22 L6276.73 1372.22 L6276.73 1372.22  Z\" fill=\"#009af9\" fill-rule=\"evenodd\" fill-opacity=\"1\"/>\n",
       "<polyline clip-path=\"url(#clip602)\" style=\"stroke:#000000; stroke-linecap:round; stroke-linejoin:round; stroke-width:4; stroke-opacity:1; fill:none\" points=\"6276.73,1372.22 6276.73,1423.18 6345.71,1423.18 6345.71,1372.22 6276.73,1372.22 \"/>\n",
       "<path clip-path=\"url(#clip602)\" d=\"M6345.71 1321.26 L6345.71 1423.18 L6414.69 1423.18 L6414.69 1321.26 L6345.71 1321.26 L6345.71 1321.26  Z\" fill=\"#009af9\" fill-rule=\"evenodd\" fill-opacity=\"1\"/>\n",
       "<polyline clip-path=\"url(#clip602)\" style=\"stroke:#000000; stroke-linecap:round; stroke-linejoin:round; stroke-width:4; stroke-opacity:1; fill:none\" points=\"6345.71,1321.26 6345.71,1423.18 6414.69,1423.18 6414.69,1321.26 6345.71,1321.26 \"/>\n",
       "<path clip-path=\"url(#clip602)\" d=\"M6414.69 1372.22 L6414.69 1423.18 L6483.67 1423.18 L6483.67 1372.22 L6414.69 1372.22 L6414.69 1372.22  Z\" fill=\"#009af9\" fill-rule=\"evenodd\" fill-opacity=\"1\"/>\n",
       "<polyline clip-path=\"url(#clip602)\" style=\"stroke:#000000; stroke-linecap:round; stroke-linejoin:round; stroke-width:4; stroke-opacity:1; fill:none\" points=\"6414.69,1372.22 6414.69,1423.18 6483.67,1423.18 6483.67,1372.22 6414.69,1372.22 \"/>\n",
       "<path clip-path=\"url(#clip602)\" d=\"M6483.67 1423.18 L6483.67 1423.18 L6552.65 1423.18 L6552.65 1423.18 L6483.67 1423.18 L6483.67 1423.18  Z\" fill=\"#009af9\" fill-rule=\"evenodd\" fill-opacity=\"1\"/>\n",
       "<polyline clip-path=\"url(#clip602)\" style=\"stroke:#000000; stroke-linecap:round; stroke-linejoin:round; stroke-width:4; stroke-opacity:1; fill:none\" points=\"6483.67,1423.18 6483.67,1423.18 6552.65,1423.18 6483.67,1423.18 \"/>\n",
       "<path clip-path=\"url(#clip602)\" d=\"M6552.65 1423.18 L6552.65 1423.18 L6621.63 1423.18 L6621.63 1423.18 L6552.65 1423.18 L6552.65 1423.18  Z\" fill=\"#009af9\" fill-rule=\"evenodd\" fill-opacity=\"1\"/>\n",
       "<polyline clip-path=\"url(#clip602)\" style=\"stroke:#000000; stroke-linecap:round; stroke-linejoin:round; stroke-width:4; stroke-opacity:1; fill:none\" points=\"6552.65,1423.18 6552.65,1423.18 6621.63,1423.18 6552.65,1423.18 \"/>\n",
       "<path clip-path=\"url(#clip602)\" d=\"M6621.63 1321.26 L6621.63 1423.18 L6690.62 1423.18 L6690.62 1321.26 L6621.63 1321.26 L6621.63 1321.26  Z\" fill=\"#009af9\" fill-rule=\"evenodd\" fill-opacity=\"1\"/>\n",
       "<polyline clip-path=\"url(#clip602)\" style=\"stroke:#000000; stroke-linecap:round; stroke-linejoin:round; stroke-width:4; stroke-opacity:1; fill:none\" points=\"6621.63,1321.26 6621.63,1423.18 6690.62,1423.18 6690.62,1321.26 6621.63,1321.26 \"/>\n",
       "<path clip-path=\"url(#clip602)\" d=\"M6690.62 1372.22 L6690.62 1423.18 L6759.6 1423.18 L6759.6 1372.22 L6690.62 1372.22 L6690.62 1372.22  Z\" fill=\"#009af9\" fill-rule=\"evenodd\" fill-opacity=\"1\"/>\n",
       "<polyline clip-path=\"url(#clip602)\" style=\"stroke:#000000; stroke-linecap:round; stroke-linejoin:round; stroke-width:4; stroke-opacity:1; fill:none\" points=\"6690.62,1372.22 6690.62,1423.18 6759.6,1423.18 6759.6,1372.22 6690.62,1372.22 \"/>\n",
       "<path clip-path=\"url(#clip602)\" d=\"M6759.6 1372.22 L6759.6 1423.18 L6828.58 1423.18 L6828.58 1372.22 L6759.6 1372.22 L6759.6 1372.22  Z\" fill=\"#009af9\" fill-rule=\"evenodd\" fill-opacity=\"1\"/>\n",
       "<polyline clip-path=\"url(#clip602)\" style=\"stroke:#000000; stroke-linecap:round; stroke-linejoin:round; stroke-width:4; stroke-opacity:1; fill:none\" points=\"6759.6,1372.22 6759.6,1423.18 6828.58,1423.18 6828.58,1372.22 6759.6,1372.22 \"/>\n",
       "<path clip-path=\"url(#clip602)\" d=\"M6828.58 1423.18 L6828.58 1423.18 L6897.56 1423.18 L6897.56 1423.18 L6828.58 1423.18 L6828.58 1423.18  Z\" fill=\"#009af9\" fill-rule=\"evenodd\" fill-opacity=\"1\"/>\n",
       "<polyline clip-path=\"url(#clip602)\" style=\"stroke:#000000; stroke-linecap:round; stroke-linejoin:round; stroke-width:4; stroke-opacity:1; fill:none\" points=\"6828.58,1423.18 6828.58,1423.18 6897.56,1423.18 6828.58,1423.18 \"/>\n",
       "<path clip-path=\"url(#clip602)\" d=\"M6897.56 1423.18 L6897.56 1423.18 L6966.54 1423.18 L6966.54 1423.18 L6897.56 1423.18 L6897.56 1423.18  Z\" fill=\"#009af9\" fill-rule=\"evenodd\" fill-opacity=\"1\"/>\n",
       "<polyline clip-path=\"url(#clip602)\" style=\"stroke:#000000; stroke-linecap:round; stroke-linejoin:round; stroke-width:4; stroke-opacity:1; fill:none\" points=\"6897.56,1423.18 6897.56,1423.18 6966.54,1423.18 6897.56,1423.18 \"/>\n",
       "<path clip-path=\"url(#clip602)\" d=\"M6966.54 1423.18 L6966.54 1423.18 L7035.52 1423.18 L7035.52 1423.18 L6966.54 1423.18 L6966.54 1423.18  Z\" fill=\"#009af9\" fill-rule=\"evenodd\" fill-opacity=\"1\"/>\n",
       "<polyline clip-path=\"url(#clip602)\" style=\"stroke:#000000; stroke-linecap:round; stroke-linejoin:round; stroke-width:4; stroke-opacity:1; fill:none\" points=\"6966.54,1423.18 6966.54,1423.18 7035.52,1423.18 6966.54,1423.18 \"/>\n",
       "<path clip-path=\"url(#clip602)\" d=\"M7035.52 1423.18 L7035.52 1423.18 L7104.5 1423.18 L7104.5 1423.18 L7035.52 1423.18 L7035.52 1423.18  Z\" fill=\"#009af9\" fill-rule=\"evenodd\" fill-opacity=\"1\"/>\n",
       "<polyline clip-path=\"url(#clip602)\" style=\"stroke:#000000; stroke-linecap:round; stroke-linejoin:round; stroke-width:4; stroke-opacity:1; fill:none\" points=\"7035.52,1423.18 7035.52,1423.18 7104.5,1423.18 7035.52,1423.18 \"/>\n",
       "<path clip-path=\"url(#clip602)\" d=\"M7104.5 1423.18 L7104.5 1423.18 L7173.48 1423.18 L7173.48 1423.18 L7104.5 1423.18 L7104.5 1423.18  Z\" fill=\"#009af9\" fill-rule=\"evenodd\" fill-opacity=\"1\"/>\n",
       "<polyline clip-path=\"url(#clip602)\" style=\"stroke:#000000; stroke-linecap:round; stroke-linejoin:round; stroke-width:4; stroke-opacity:1; fill:none\" points=\"7104.5,1423.18 7104.5,1423.18 7173.48,1423.18 7104.5,1423.18 \"/>\n",
       "<path clip-path=\"url(#clip602)\" d=\"M7173.48 1423.18 L7173.48 1423.18 L7242.46 1423.18 L7242.46 1423.18 L7173.48 1423.18 L7173.48 1423.18  Z\" fill=\"#009af9\" fill-rule=\"evenodd\" fill-opacity=\"1\"/>\n",
       "<polyline clip-path=\"url(#clip602)\" style=\"stroke:#000000; stroke-linecap:round; stroke-linejoin:round; stroke-width:4; stroke-opacity:1; fill:none\" points=\"7173.48,1423.18 7173.48,1423.18 7242.46,1423.18 7173.48,1423.18 \"/>\n",
       "<path clip-path=\"url(#clip602)\" d=\"M7242.46 1423.18 L7242.46 1423.18 L7311.45 1423.18 L7311.45 1423.18 L7242.46 1423.18 L7242.46 1423.18  Z\" fill=\"#009af9\" fill-rule=\"evenodd\" fill-opacity=\"1\"/>\n",
       "<polyline clip-path=\"url(#clip602)\" style=\"stroke:#000000; stroke-linecap:round; stroke-linejoin:round; stroke-width:4; stroke-opacity:1; fill:none\" points=\"7242.46,1423.18 7242.46,1423.18 7311.45,1423.18 7242.46,1423.18 \"/>\n",
       "<path clip-path=\"url(#clip602)\" d=\"M7311.45 1423.18 L7311.45 1423.18 L7380.43 1423.18 L7380.43 1423.18 L7311.45 1423.18 L7311.45 1423.18  Z\" fill=\"#009af9\" fill-rule=\"evenodd\" fill-opacity=\"1\"/>\n",
       "<polyline clip-path=\"url(#clip602)\" style=\"stroke:#000000; stroke-linecap:round; stroke-linejoin:round; stroke-width:4; stroke-opacity:1; fill:none\" points=\"7311.45,1423.18 7311.45,1423.18 7380.43,1423.18 7311.45,1423.18 \"/>\n",
       "<path clip-path=\"url(#clip602)\" d=\"M7380.43 1423.18 L7380.43 1423.18 L7449.41 1423.18 L7449.41 1423.18 L7380.43 1423.18 L7380.43 1423.18  Z\" fill=\"#009af9\" fill-rule=\"evenodd\" fill-opacity=\"1\"/>\n",
       "<polyline clip-path=\"url(#clip602)\" style=\"stroke:#000000; stroke-linecap:round; stroke-linejoin:round; stroke-width:4; stroke-opacity:1; fill:none\" points=\"7380.43,1423.18 7380.43,1423.18 7449.41,1423.18 7380.43,1423.18 \"/>\n",
       "<path clip-path=\"url(#clip602)\" d=\"M7449.41 1423.18 L7449.41 1423.18 L7518.39 1423.18 L7518.39 1423.18 L7449.41 1423.18 L7449.41 1423.18  Z\" fill=\"#009af9\" fill-rule=\"evenodd\" fill-opacity=\"1\"/>\n",
       "<polyline clip-path=\"url(#clip602)\" style=\"stroke:#000000; stroke-linecap:round; stroke-linejoin:round; stroke-width:4; stroke-opacity:1; fill:none\" points=\"7449.41,1423.18 7449.41,1423.18 7518.39,1423.18 7449.41,1423.18 \"/>\n",
       "<path clip-path=\"url(#clip602)\" d=\"M7518.39 1372.22 L7518.39 1423.18 L7587.37 1423.18 L7587.37 1372.22 L7518.39 1372.22 L7518.39 1372.22  Z\" fill=\"#009af9\" fill-rule=\"evenodd\" fill-opacity=\"1\"/>\n",
       "<polyline clip-path=\"url(#clip602)\" style=\"stroke:#000000; stroke-linecap:round; stroke-linejoin:round; stroke-width:4; stroke-opacity:1; fill:none\" points=\"7518.39,1372.22 7518.39,1423.18 7587.37,1423.18 7587.37,1372.22 7518.39,1372.22 \"/>\n",
       "<path clip-path=\"url(#clip602)\" d=\"M7587.37 1423.18 L7587.37 1423.18 L7656.35 1423.18 L7656.35 1423.18 L7587.37 1423.18 L7587.37 1423.18  Z\" fill=\"#009af9\" fill-rule=\"evenodd\" fill-opacity=\"1\"/>\n",
       "<polyline clip-path=\"url(#clip602)\" style=\"stroke:#000000; stroke-linecap:round; stroke-linejoin:round; stroke-width:4; stroke-opacity:1; fill:none\" points=\"7587.37,1423.18 7587.37,1423.18 7656.35,1423.18 7587.37,1423.18 \"/>\n",
       "<path clip-path=\"url(#clip602)\" d=\"M7656.35 1423.18 L7656.35 1423.18 L7725.33 1423.18 L7725.33 1423.18 L7656.35 1423.18 L7656.35 1423.18  Z\" fill=\"#009af9\" fill-rule=\"evenodd\" fill-opacity=\"1\"/>\n",
       "<polyline clip-path=\"url(#clip602)\" style=\"stroke:#000000; stroke-linecap:round; stroke-linejoin:round; stroke-width:4; stroke-opacity:1; fill:none\" points=\"7656.35,1423.18 7656.35,1423.18 7725.33,1423.18 7656.35,1423.18 \"/>\n",
       "<path clip-path=\"url(#clip602)\" d=\"M7725.33 1423.18 L7725.33 1423.18 L7794.31 1423.18 L7794.31 1423.18 L7725.33 1423.18 L7725.33 1423.18  Z\" fill=\"#009af9\" fill-rule=\"evenodd\" fill-opacity=\"1\"/>\n",
       "<polyline clip-path=\"url(#clip602)\" style=\"stroke:#000000; stroke-linecap:round; stroke-linejoin:round; stroke-width:4; stroke-opacity:1; fill:none\" points=\"7725.33,1423.18 7725.33,1423.18 7794.31,1423.18 7725.33,1423.18 \"/>\n",
       "<path clip-path=\"url(#clip602)\" d=\"M7794.31 1372.22 L7794.31 1423.18 L7863.29 1423.18 L7863.29 1372.22 L7794.31 1372.22 L7794.31 1372.22  Z\" fill=\"#009af9\" fill-rule=\"evenodd\" fill-opacity=\"1\"/>\n",
       "<polyline clip-path=\"url(#clip602)\" style=\"stroke:#000000; stroke-linecap:round; stroke-linejoin:round; stroke-width:4; stroke-opacity:1; fill:none\" points=\"7794.31,1372.22 7794.31,1423.18 7863.29,1423.18 7863.29,1372.22 7794.31,1372.22 \"/>\n",
       "<path clip-path=\"url(#clip602)\" d=\"M7863.29 1372.22 L7863.29 1423.18 L7932.27 1423.18 L7932.27 1372.22 L7863.29 1372.22 L7863.29 1372.22  Z\" fill=\"#009af9\" fill-rule=\"evenodd\" fill-opacity=\"1\"/>\n",
       "<polyline clip-path=\"url(#clip602)\" style=\"stroke:#000000; stroke-linecap:round; stroke-linejoin:round; stroke-width:4; stroke-opacity:1; fill:none\" points=\"7863.29,1372.22 7863.29,1423.18 7932.27,1423.18 7932.27,1372.22 7863.29,1372.22 \"/>\n",
       "<path clip-path=\"url(#clip602)\" d=\"M7932.27 1423.18 L7932.27 1423.18 L8001.26 1423.18 L8001.26 1423.18 L7932.27 1423.18 L7932.27 1423.18  Z\" fill=\"#009af9\" fill-rule=\"evenodd\" fill-opacity=\"1\"/>\n",
       "<polyline clip-path=\"url(#clip602)\" style=\"stroke:#000000; stroke-linecap:round; stroke-linejoin:round; stroke-width:4; stroke-opacity:1; fill:none\" points=\"7932.27,1423.18 7932.27,1423.18 8001.26,1423.18 7932.27,1423.18 \"/>\n",
       "<path clip-path=\"url(#clip602)\" d=\"M8001.26 1423.18 L8001.26 1423.18 L8070.24 1423.18 L8070.24 1423.18 L8001.26 1423.18 L8001.26 1423.18  Z\" fill=\"#009af9\" fill-rule=\"evenodd\" fill-opacity=\"1\"/>\n",
       "<polyline clip-path=\"url(#clip602)\" style=\"stroke:#000000; stroke-linecap:round; stroke-linejoin:round; stroke-width:4; stroke-opacity:1; fill:none\" points=\"8001.26,1423.18 8001.26,1423.18 8070.24,1423.18 8001.26,1423.18 \"/>\n",
       "<path clip-path=\"url(#clip602)\" d=\"M8070.24 1423.18 L8070.24 1423.18 L8139.22 1423.18 L8139.22 1423.18 L8070.24 1423.18 L8070.24 1423.18  Z\" fill=\"#009af9\" fill-rule=\"evenodd\" fill-opacity=\"1\"/>\n",
       "<polyline clip-path=\"url(#clip602)\" style=\"stroke:#000000; stroke-linecap:round; stroke-linejoin:round; stroke-width:4; stroke-opacity:1; fill:none\" points=\"8070.24,1423.18 8070.24,1423.18 8139.22,1423.18 8070.24,1423.18 \"/>\n",
       "<path clip-path=\"url(#clip602)\" d=\"M8139.22 1423.18 L8139.22 1423.18 L8208.2 1423.18 L8208.2 1423.18 L8139.22 1423.18 L8139.22 1423.18  Z\" fill=\"#009af9\" fill-rule=\"evenodd\" fill-opacity=\"1\"/>\n",
       "<polyline clip-path=\"url(#clip602)\" style=\"stroke:#000000; stroke-linecap:round; stroke-linejoin:round; stroke-width:4; stroke-opacity:1; fill:none\" points=\"8139.22,1423.18 8139.22,1423.18 8208.2,1423.18 8139.22,1423.18 \"/>\n",
       "<path clip-path=\"url(#clip602)\" d=\"M8208.2 1423.18 L8208.2 1423.18 L8277.18 1423.18 L8277.18 1423.18 L8208.2 1423.18 L8208.2 1423.18  Z\" fill=\"#009af9\" fill-rule=\"evenodd\" fill-opacity=\"1\"/>\n",
       "<polyline clip-path=\"url(#clip602)\" style=\"stroke:#000000; stroke-linecap:round; stroke-linejoin:round; stroke-width:4; stroke-opacity:1; fill:none\" points=\"8208.2,1423.18 8208.2,1423.18 8277.18,1423.18 8208.2,1423.18 \"/>\n",
       "<path clip-path=\"url(#clip602)\" d=\"M8277.18 1372.22 L8277.18 1423.18 L8346.16 1423.18 L8346.16 1372.22 L8277.18 1372.22 L8277.18 1372.22  Z\" fill=\"#009af9\" fill-rule=\"evenodd\" fill-opacity=\"1\"/>\n",
       "<polyline clip-path=\"url(#clip602)\" style=\"stroke:#000000; stroke-linecap:round; stroke-linejoin:round; stroke-width:4; stroke-opacity:1; fill:none\" points=\"8277.18,1372.22 8277.18,1423.18 8346.16,1423.18 8346.16,1372.22 8277.18,1372.22 \"/>\n",
       "<path clip-path=\"url(#clip602)\" d=\"M8346.16 1372.22 L8346.16 1423.18 L8415.14 1423.18 L8415.14 1372.22 L8346.16 1372.22 L8346.16 1372.22  Z\" fill=\"#009af9\" fill-rule=\"evenodd\" fill-opacity=\"1\"/>\n",
       "<polyline clip-path=\"url(#clip602)\" style=\"stroke:#000000; stroke-linecap:round; stroke-linejoin:round; stroke-width:4; stroke-opacity:1; fill:none\" points=\"8346.16,1372.22 8346.16,1423.18 8415.14,1423.18 8415.14,1372.22 8346.16,1372.22 \"/>\n",
       "<path clip-path=\"url(#clip602)\" d=\"M8415.14 1423.18 L8415.14 1423.18 L8484.12 1423.18 L8484.12 1423.18 L8415.14 1423.18 L8415.14 1423.18  Z\" fill=\"#009af9\" fill-rule=\"evenodd\" fill-opacity=\"1\"/>\n",
       "<polyline clip-path=\"url(#clip602)\" style=\"stroke:#000000; stroke-linecap:round; stroke-linejoin:round; stroke-width:4; stroke-opacity:1; fill:none\" points=\"8415.14,1423.18 8415.14,1423.18 8484.12,1423.18 8415.14,1423.18 \"/>\n",
       "<path clip-path=\"url(#clip602)\" d=\"M8484.12 1423.18 L8484.12 1423.18 L8553.1 1423.18 L8553.1 1423.18 L8484.12 1423.18 L8484.12 1423.18  Z\" fill=\"#009af9\" fill-rule=\"evenodd\" fill-opacity=\"1\"/>\n",
       "<polyline clip-path=\"url(#clip602)\" style=\"stroke:#000000; stroke-linecap:round; stroke-linejoin:round; stroke-width:4; stroke-opacity:1; fill:none\" points=\"8484.12,1423.18 8484.12,1423.18 8553.1,1423.18 8484.12,1423.18 \"/>\n",
       "<path clip-path=\"url(#clip602)\" d=\"M8553.1 1423.18 L8553.1 1423.18 L8622.09 1423.18 L8622.09 1423.18 L8553.1 1423.18 L8553.1 1423.18  Z\" fill=\"#009af9\" fill-rule=\"evenodd\" fill-opacity=\"1\"/>\n",
       "<polyline clip-path=\"url(#clip602)\" style=\"stroke:#000000; stroke-linecap:round; stroke-linejoin:round; stroke-width:4; stroke-opacity:1; fill:none\" points=\"8553.1,1423.18 8553.1,1423.18 8622.09,1423.18 8553.1,1423.18 \"/>\n",
       "<path clip-path=\"url(#clip602)\" d=\"M8622.09 1423.18 L8622.09 1423.18 L8691.07 1423.18 L8691.07 1423.18 L8622.09 1423.18 L8622.09 1423.18  Z\" fill=\"#009af9\" fill-rule=\"evenodd\" fill-opacity=\"1\"/>\n",
       "<polyline clip-path=\"url(#clip602)\" style=\"stroke:#000000; stroke-linecap:round; stroke-linejoin:round; stroke-width:4; stroke-opacity:1; fill:none\" points=\"8622.09,1423.18 8622.09,1423.18 8691.07,1423.18 8622.09,1423.18 \"/>\n",
       "<path clip-path=\"url(#clip602)\" d=\"M8691.07 1423.18 L8691.07 1423.18 L8760.05 1423.18 L8760.05 1423.18 L8691.07 1423.18 L8691.07 1423.18  Z\" fill=\"#009af9\" fill-rule=\"evenodd\" fill-opacity=\"1\"/>\n",
       "<polyline clip-path=\"url(#clip602)\" style=\"stroke:#000000; stroke-linecap:round; stroke-linejoin:round; stroke-width:4; stroke-opacity:1; fill:none\" points=\"8691.07,1423.18 8691.07,1423.18 8760.05,1423.18 8691.07,1423.18 \"/>\n",
       "<path clip-path=\"url(#clip602)\" d=\"M8760.05 1423.18 L8760.05 1423.18 L8829.03 1423.18 L8829.03 1423.18 L8760.05 1423.18 L8760.05 1423.18  Z\" fill=\"#009af9\" fill-rule=\"evenodd\" fill-opacity=\"1\"/>\n",
       "<polyline clip-path=\"url(#clip602)\" style=\"stroke:#000000; stroke-linecap:round; stroke-linejoin:round; stroke-width:4; stroke-opacity:1; fill:none\" points=\"8760.05,1423.18 8760.05,1423.18 8829.03,1423.18 8760.05,1423.18 \"/>\n",
       "<path clip-path=\"url(#clip602)\" d=\"M8829.03 1423.18 L8829.03 1423.18 L8898.01 1423.18 L8898.01 1423.18 L8829.03 1423.18 L8829.03 1423.18  Z\" fill=\"#009af9\" fill-rule=\"evenodd\" fill-opacity=\"1\"/>\n",
       "<polyline clip-path=\"url(#clip602)\" style=\"stroke:#000000; stroke-linecap:round; stroke-linejoin:round; stroke-width:4; stroke-opacity:1; fill:none\" points=\"8829.03,1423.18 8829.03,1423.18 8898.01,1423.18 8829.03,1423.18 \"/>\n",
       "<path clip-path=\"url(#clip602)\" d=\"M8898.01 1423.18 L8898.01 1423.18 L8966.99 1423.18 L8966.99 1423.18 L8898.01 1423.18 L8898.01 1423.18  Z\" fill=\"#009af9\" fill-rule=\"evenodd\" fill-opacity=\"1\"/>\n",
       "<polyline clip-path=\"url(#clip602)\" style=\"stroke:#000000; stroke-linecap:round; stroke-linejoin:round; stroke-width:4; stroke-opacity:1; fill:none\" points=\"8898.01,1423.18 8898.01,1423.18 8966.99,1423.18 8898.01,1423.18 \"/>\n",
       "<path clip-path=\"url(#clip602)\" d=\"M8966.99 1423.18 L8966.99 1423.18 L9035.97 1423.18 L9035.97 1423.18 L8966.99 1423.18 L8966.99 1423.18  Z\" fill=\"#009af9\" fill-rule=\"evenodd\" fill-opacity=\"1\"/>\n",
       "<polyline clip-path=\"url(#clip602)\" style=\"stroke:#000000; stroke-linecap:round; stroke-linejoin:round; stroke-width:4; stroke-opacity:1; fill:none\" points=\"8966.99,1423.18 8966.99,1423.18 9035.97,1423.18 8966.99,1423.18 \"/>\n",
       "<path clip-path=\"url(#clip602)\" d=\"M9035.97 1423.18 L9035.97 1423.18 L9104.95 1423.18 L9104.95 1423.18 L9035.97 1423.18 L9035.97 1423.18  Z\" fill=\"#009af9\" fill-rule=\"evenodd\" fill-opacity=\"1\"/>\n",
       "<polyline clip-path=\"url(#clip602)\" style=\"stroke:#000000; stroke-linecap:round; stroke-linejoin:round; stroke-width:4; stroke-opacity:1; fill:none\" points=\"9035.97,1423.18 9035.97,1423.18 9104.95,1423.18 9035.97,1423.18 \"/>\n",
       "<path clip-path=\"url(#clip602)\" d=\"M9104.95 1423.18 L9104.95 1423.18 L9173.93 1423.18 L9173.93 1423.18 L9104.95 1423.18 L9104.95 1423.18  Z\" fill=\"#009af9\" fill-rule=\"evenodd\" fill-opacity=\"1\"/>\n",
       "<polyline clip-path=\"url(#clip602)\" style=\"stroke:#000000; stroke-linecap:round; stroke-linejoin:round; stroke-width:4; stroke-opacity:1; fill:none\" points=\"9104.95,1423.18 9104.95,1423.18 9173.93,1423.18 9104.95,1423.18 \"/>\n",
       "<path clip-path=\"url(#clip602)\" d=\"M9173.93 1423.18 L9173.93 1423.18 L9242.91 1423.18 L9242.91 1423.18 L9173.93 1423.18 L9173.93 1423.18  Z\" fill=\"#009af9\" fill-rule=\"evenodd\" fill-opacity=\"1\"/>\n",
       "<polyline clip-path=\"url(#clip602)\" style=\"stroke:#000000; stroke-linecap:round; stroke-linejoin:round; stroke-width:4; stroke-opacity:1; fill:none\" points=\"9173.93,1423.18 9173.93,1423.18 9242.91,1423.18 9173.93,1423.18 \"/>\n",
       "<path clip-path=\"url(#clip602)\" d=\"M9242.91 1423.18 L9242.91 1423.18 L9311.9 1423.18 L9311.9 1423.18 L9242.91 1423.18 L9242.91 1423.18  Z\" fill=\"#009af9\" fill-rule=\"evenodd\" fill-opacity=\"1\"/>\n",
       "<polyline clip-path=\"url(#clip602)\" style=\"stroke:#000000; stroke-linecap:round; stroke-linejoin:round; stroke-width:4; stroke-opacity:1; fill:none\" points=\"9242.91,1423.18 9242.91,1423.18 9311.9,1423.18 9242.91,1423.18 \"/>\n",
       "<path clip-path=\"url(#clip602)\" d=\"M9311.9 1423.18 L9311.9 1423.18 L9380.88 1423.18 L9380.88 1423.18 L9311.9 1423.18 L9311.9 1423.18  Z\" fill=\"#009af9\" fill-rule=\"evenodd\" fill-opacity=\"1\"/>\n",
       "<polyline clip-path=\"url(#clip602)\" style=\"stroke:#000000; stroke-linecap:round; stroke-linejoin:round; stroke-width:4; stroke-opacity:1; fill:none\" points=\"9311.9,1423.18 9311.9,1423.18 9380.88,1423.18 9311.9,1423.18 \"/>\n",
       "<path clip-path=\"url(#clip602)\" d=\"M9380.88 1423.18 L9380.88 1423.18 L9449.86 1423.18 L9449.86 1423.18 L9380.88 1423.18 L9380.88 1423.18  Z\" fill=\"#009af9\" fill-rule=\"evenodd\" fill-opacity=\"1\"/>\n",
       "<polyline clip-path=\"url(#clip602)\" style=\"stroke:#000000; stroke-linecap:round; stroke-linejoin:round; stroke-width:4; stroke-opacity:1; fill:none\" points=\"9380.88,1423.18 9380.88,1423.18 9449.86,1423.18 9380.88,1423.18 \"/>\n",
       "<path clip-path=\"url(#clip602)\" d=\"M9449.86 1423.18 L9449.86 1423.18 L9518.84 1423.18 L9518.84 1423.18 L9449.86 1423.18 L9449.86 1423.18  Z\" fill=\"#009af9\" fill-rule=\"evenodd\" fill-opacity=\"1\"/>\n",
       "<polyline clip-path=\"url(#clip602)\" style=\"stroke:#000000; stroke-linecap:round; stroke-linejoin:round; stroke-width:4; stroke-opacity:1; fill:none\" points=\"9449.86,1423.18 9449.86,1423.18 9518.84,1423.18 9449.86,1423.18 \"/>\n",
       "<path clip-path=\"url(#clip602)\" d=\"M9518.84 1423.18 L9518.84 1423.18 L9587.82 1423.18 L9587.82 1423.18 L9518.84 1423.18 L9518.84 1423.18  Z\" fill=\"#009af9\" fill-rule=\"evenodd\" fill-opacity=\"1\"/>\n",
       "<polyline clip-path=\"url(#clip602)\" style=\"stroke:#000000; stroke-linecap:round; stroke-linejoin:round; stroke-width:4; stroke-opacity:1; fill:none\" points=\"9518.84,1423.18 9518.84,1423.18 9587.82,1423.18 9518.84,1423.18 \"/>\n",
       "<path clip-path=\"url(#clip602)\" d=\"M9587.82 1372.22 L9587.82 1423.18 L9656.8 1423.18 L9656.8 1372.22 L9587.82 1372.22 L9587.82 1372.22  Z\" fill=\"#009af9\" fill-rule=\"evenodd\" fill-opacity=\"1\"/>\n",
       "<polyline clip-path=\"url(#clip602)\" style=\"stroke:#000000; stroke-linecap:round; stroke-linejoin:round; stroke-width:4; stroke-opacity:1; fill:none\" points=\"9587.82,1372.22 9587.82,1423.18 9656.8,1423.18 9656.8,1372.22 9587.82,1372.22 \"/>\n",
       "<path clip-path=\"url(#clip602)\" d=\"M9656.8 1423.18 L9656.8 1423.18 L9725.78 1423.18 L9725.78 1423.18 L9656.8 1423.18 L9656.8 1423.18  Z\" fill=\"#009af9\" fill-rule=\"evenodd\" fill-opacity=\"1\"/>\n",
       "<polyline clip-path=\"url(#clip602)\" style=\"stroke:#000000; stroke-linecap:round; stroke-linejoin:round; stroke-width:4; stroke-opacity:1; fill:none\" points=\"9656.8,1423.18 9656.8,1423.18 9725.78,1423.18 9656.8,1423.18 \"/>\n",
       "<path clip-path=\"url(#clip602)\" d=\"M9725.78 1372.22 L9725.78 1423.18 L9794.76 1423.18 L9794.76 1372.22 L9725.78 1372.22 L9725.78 1372.22  Z\" fill=\"#009af9\" fill-rule=\"evenodd\" fill-opacity=\"1\"/>\n",
       "<polyline clip-path=\"url(#clip602)\" style=\"stroke:#000000; stroke-linecap:round; stroke-linejoin:round; stroke-width:4; stroke-opacity:1; fill:none\" points=\"9725.78,1372.22 9725.78,1423.18 9794.76,1423.18 9794.76,1372.22 9725.78,1372.22 \"/>\n",
       "<path clip-path=\"url(#clip602)\" d=\"M9794.76 1423.18 L9794.76 1423.18 L9863.74 1423.18 L9863.74 1423.18 L9794.76 1423.18 L9794.76 1423.18  Z\" fill=\"#009af9\" fill-rule=\"evenodd\" fill-opacity=\"1\"/>\n",
       "<polyline clip-path=\"url(#clip602)\" style=\"stroke:#000000; stroke-linecap:round; stroke-linejoin:round; stroke-width:4; stroke-opacity:1; fill:none\" points=\"9794.76,1423.18 9794.76,1423.18 9863.74,1423.18 9794.76,1423.18 \"/>\n",
       "<path clip-path=\"url(#clip602)\" d=\"M9863.74 1423.18 L9863.74 1423.18 L9932.73 1423.18 L9932.73 1423.18 L9863.74 1423.18 L9863.74 1423.18  Z\" fill=\"#009af9\" fill-rule=\"evenodd\" fill-opacity=\"1\"/>\n",
       "<polyline clip-path=\"url(#clip602)\" style=\"stroke:#000000; stroke-linecap:round; stroke-linejoin:round; stroke-width:4; stroke-opacity:1; fill:none\" points=\"9863.74,1423.18 9863.74,1423.18 9932.73,1423.18 9863.74,1423.18 \"/>\n",
       "<path clip-path=\"url(#clip602)\" d=\"M9932.73 1423.18 L9932.73 1423.18 L10001.7 1423.18 L10001.7 1423.18 L9932.73 1423.18 L9932.73 1423.18  Z\" fill=\"#009af9\" fill-rule=\"evenodd\" fill-opacity=\"1\"/>\n",
       "<polyline clip-path=\"url(#clip602)\" style=\"stroke:#000000; stroke-linecap:round; stroke-linejoin:round; stroke-width:4; stroke-opacity:1; fill:none\" points=\"9932.73,1423.18 9932.73,1423.18 10001.7,1423.18 9932.73,1423.18 \"/>\n",
       "<path clip-path=\"url(#clip602)\" d=\"M10001.7 1423.18 L10001.7 1423.18 L10070.7 1423.18 L10070.7 1423.18 L10001.7 1423.18 L10001.7 1423.18  Z\" fill=\"#009af9\" fill-rule=\"evenodd\" fill-opacity=\"1\"/>\n",
       "<polyline clip-path=\"url(#clip602)\" style=\"stroke:#000000; stroke-linecap:round; stroke-linejoin:round; stroke-width:4; stroke-opacity:1; fill:none\" points=\"10001.7,1423.18 10001.7,1423.18 10070.7,1423.18 10001.7,1423.18 \"/>\n",
       "<path clip-path=\"url(#clip602)\" d=\"M10070.7 1423.18 L10070.7 1423.18 L10139.7 1423.18 L10139.7 1423.18 L10070.7 1423.18 L10070.7 1423.18  Z\" fill=\"#009af9\" fill-rule=\"evenodd\" fill-opacity=\"1\"/>\n",
       "<polyline clip-path=\"url(#clip602)\" style=\"stroke:#000000; stroke-linecap:round; stroke-linejoin:round; stroke-width:4; stroke-opacity:1; fill:none\" points=\"10070.7,1423.18 10070.7,1423.18 10139.7,1423.18 10070.7,1423.18 \"/>\n",
       "<path clip-path=\"url(#clip602)\" d=\"M10139.7 1372.22 L10139.7 1423.18 L10208.6 1423.18 L10208.6 1372.22 L10139.7 1372.22 L10139.7 1372.22  Z\" fill=\"#009af9\" fill-rule=\"evenodd\" fill-opacity=\"1\"/>\n",
       "<polyline clip-path=\"url(#clip602)\" style=\"stroke:#000000; stroke-linecap:round; stroke-linejoin:round; stroke-width:4; stroke-opacity:1; fill:none\" points=\"10139.7,1372.22 10139.7,1423.18 10208.6,1423.18 10208.6,1372.22 10139.7,1372.22 \"/>\n",
       "<path clip-path=\"url(#clip602)\" d=\"M10208.6 1423.18 L10208.6 1423.18 L10277.6 1423.18 L10277.6 1423.18 L10208.6 1423.18 L10208.6 1423.18  Z\" fill=\"#009af9\" fill-rule=\"evenodd\" fill-opacity=\"1\"/>\n",
       "<polyline clip-path=\"url(#clip602)\" style=\"stroke:#000000; stroke-linecap:round; stroke-linejoin:round; stroke-width:4; stroke-opacity:1; fill:none\" points=\"10208.6,1423.18 10208.6,1423.18 10277.6,1423.18 10208.6,1423.18 \"/>\n",
       "<path clip-path=\"url(#clip602)\" d=\"M10277.6 1423.18 L10277.6 1423.18 L10346.6 1423.18 L10346.6 1423.18 L10277.6 1423.18 L10277.6 1423.18  Z\" fill=\"#009af9\" fill-rule=\"evenodd\" fill-opacity=\"1\"/>\n",
       "<polyline clip-path=\"url(#clip602)\" style=\"stroke:#000000; stroke-linecap:round; stroke-linejoin:round; stroke-width:4; stroke-opacity:1; fill:none\" points=\"10277.6,1423.18 10277.6,1423.18 10346.6,1423.18 10277.6,1423.18 \"/>\n",
       "<path clip-path=\"url(#clip602)\" d=\"M10346.6 1423.18 L10346.6 1423.18 L10415.6 1423.18 L10415.6 1423.18 L10346.6 1423.18 L10346.6 1423.18  Z\" fill=\"#009af9\" fill-rule=\"evenodd\" fill-opacity=\"1\"/>\n",
       "<polyline clip-path=\"url(#clip602)\" style=\"stroke:#000000; stroke-linecap:round; stroke-linejoin:round; stroke-width:4; stroke-opacity:1; fill:none\" points=\"10346.6,1423.18 10346.6,1423.18 10415.6,1423.18 10346.6,1423.18 \"/>\n",
       "<path clip-path=\"url(#clip602)\" d=\"M10415.6 1423.18 L10415.6 1423.18 L10484.6 1423.18 L10484.6 1423.18 L10415.6 1423.18 L10415.6 1423.18  Z\" fill=\"#009af9\" fill-rule=\"evenodd\" fill-opacity=\"1\"/>\n",
       "<polyline clip-path=\"url(#clip602)\" style=\"stroke:#000000; stroke-linecap:round; stroke-linejoin:round; stroke-width:4; stroke-opacity:1; fill:none\" points=\"10415.6,1423.18 10415.6,1423.18 10484.6,1423.18 10415.6,1423.18 \"/>\n",
       "<path clip-path=\"url(#clip602)\" d=\"M10484.6 1423.18 L10484.6 1423.18 L10553.6 1423.18 L10553.6 1423.18 L10484.6 1423.18 L10484.6 1423.18  Z\" fill=\"#009af9\" fill-rule=\"evenodd\" fill-opacity=\"1\"/>\n",
       "<polyline clip-path=\"url(#clip602)\" style=\"stroke:#000000; stroke-linecap:round; stroke-linejoin:round; stroke-width:4; stroke-opacity:1; fill:none\" points=\"10484.6,1423.18 10484.6,1423.18 10553.6,1423.18 10484.6,1423.18 \"/>\n",
       "<path clip-path=\"url(#clip602)\" d=\"M10553.6 1423.18 L10553.6 1423.18 L10622.5 1423.18 L10622.5 1423.18 L10553.6 1423.18 L10553.6 1423.18  Z\" fill=\"#009af9\" fill-rule=\"evenodd\" fill-opacity=\"1\"/>\n",
       "<polyline clip-path=\"url(#clip602)\" style=\"stroke:#000000; stroke-linecap:round; stroke-linejoin:round; stroke-width:4; stroke-opacity:1; fill:none\" points=\"10553.6,1423.18 10553.6,1423.18 10622.5,1423.18 10553.6,1423.18 \"/>\n",
       "<path clip-path=\"url(#clip602)\" d=\"M10622.5 1423.18 L10622.5 1423.18 L10691.5 1423.18 L10691.5 1423.18 L10622.5 1423.18 L10622.5 1423.18  Z\" fill=\"#009af9\" fill-rule=\"evenodd\" fill-opacity=\"1\"/>\n",
       "<polyline clip-path=\"url(#clip602)\" style=\"stroke:#000000; stroke-linecap:round; stroke-linejoin:round; stroke-width:4; stroke-opacity:1; fill:none\" points=\"10622.5,1423.18 10622.5,1423.18 10691.5,1423.18 10622.5,1423.18 \"/>\n",
       "<path clip-path=\"url(#clip602)\" d=\"M10691.5 1372.22 L10691.5 1423.18 L10760.5 1423.18 L10760.5 1372.22 L10691.5 1372.22 L10691.5 1372.22  Z\" fill=\"#009af9\" fill-rule=\"evenodd\" fill-opacity=\"1\"/>\n",
       "<polyline clip-path=\"url(#clip602)\" style=\"stroke:#000000; stroke-linecap:round; stroke-linejoin:round; stroke-width:4; stroke-opacity:1; fill:none\" points=\"10691.5,1372.22 10691.5,1423.18 10760.5,1423.18 10760.5,1372.22 10691.5,1372.22 \"/>\n",
       "<path clip-path=\"url(#clip602)\" d=\"M10760.5 1372.22 L10760.5 1423.18 L10829.5 1423.18 L10829.5 1372.22 L10760.5 1372.22 L10760.5 1372.22  Z\" fill=\"#009af9\" fill-rule=\"evenodd\" fill-opacity=\"1\"/>\n",
       "<polyline clip-path=\"url(#clip602)\" style=\"stroke:#000000; stroke-linecap:round; stroke-linejoin:round; stroke-width:4; stroke-opacity:1; fill:none\" points=\"10760.5,1372.22 10760.5,1423.18 10829.5,1423.18 10829.5,1372.22 10760.5,1372.22 \"/>\n",
       "<path clip-path=\"url(#clip602)\" d=\"M10829.5 1423.18 L10829.5 1423.18 L10898.5 1423.18 L10898.5 1423.18 L10829.5 1423.18 L10829.5 1423.18  Z\" fill=\"#009af9\" fill-rule=\"evenodd\" fill-opacity=\"1\"/>\n",
       "<polyline clip-path=\"url(#clip602)\" style=\"stroke:#000000; stroke-linecap:round; stroke-linejoin:round; stroke-width:4; stroke-opacity:1; fill:none\" points=\"10829.5,1423.18 10829.5,1423.18 10898.5,1423.18 10829.5,1423.18 \"/>\n",
       "<path clip-path=\"url(#clip602)\" d=\"M10898.5 1423.18 L10898.5 1423.18 L10967.4 1423.18 L10967.4 1423.18 L10898.5 1423.18 L10898.5 1423.18  Z\" fill=\"#009af9\" fill-rule=\"evenodd\" fill-opacity=\"1\"/>\n",
       "<polyline clip-path=\"url(#clip602)\" style=\"stroke:#000000; stroke-linecap:round; stroke-linejoin:round; stroke-width:4; stroke-opacity:1; fill:none\" points=\"10898.5,1423.18 10898.5,1423.18 10967.4,1423.18 10898.5,1423.18 \"/>\n",
       "<path clip-path=\"url(#clip602)\" d=\"M10967.4 1423.18 L10967.4 1423.18 L11036.4 1423.18 L11036.4 1423.18 L10967.4 1423.18 L10967.4 1423.18  Z\" fill=\"#009af9\" fill-rule=\"evenodd\" fill-opacity=\"1\"/>\n",
       "<polyline clip-path=\"url(#clip602)\" style=\"stroke:#000000; stroke-linecap:round; stroke-linejoin:round; stroke-width:4; stroke-opacity:1; fill:none\" points=\"10967.4,1423.18 10967.4,1423.18 11036.4,1423.18 10967.4,1423.18 \"/>\n",
       "<path clip-path=\"url(#clip602)\" d=\"M11036.4 1423.18 L11036.4 1423.18 L11105.4 1423.18 L11105.4 1423.18 L11036.4 1423.18 L11036.4 1423.18  Z\" fill=\"#009af9\" fill-rule=\"evenodd\" fill-opacity=\"1\"/>\n",
       "<polyline clip-path=\"url(#clip602)\" style=\"stroke:#000000; stroke-linecap:round; stroke-linejoin:round; stroke-width:4; stroke-opacity:1; fill:none\" points=\"11036.4,1423.18 11036.4,1423.18 11105.4,1423.18 11036.4,1423.18 \"/>\n",
       "<path clip-path=\"url(#clip602)\" d=\"M11105.4 1423.18 L11105.4 1423.18 L11174.4 1423.18 L11174.4 1423.18 L11105.4 1423.18 L11105.4 1423.18  Z\" fill=\"#009af9\" fill-rule=\"evenodd\" fill-opacity=\"1\"/>\n",
       "<polyline clip-path=\"url(#clip602)\" style=\"stroke:#000000; stroke-linecap:round; stroke-linejoin:round; stroke-width:4; stroke-opacity:1; fill:none\" points=\"11105.4,1423.18 11105.4,1423.18 11174.4,1423.18 11105.4,1423.18 \"/>\n",
       "<path clip-path=\"url(#clip602)\" d=\"M11174.4 1423.18 L11174.4 1423.18 L11243.4 1423.18 L11243.4 1423.18 L11174.4 1423.18 L11174.4 1423.18  Z\" fill=\"#009af9\" fill-rule=\"evenodd\" fill-opacity=\"1\"/>\n",
       "<polyline clip-path=\"url(#clip602)\" style=\"stroke:#000000; stroke-linecap:round; stroke-linejoin:round; stroke-width:4; stroke-opacity:1; fill:none\" points=\"11174.4,1423.18 11174.4,1423.18 11243.4,1423.18 11174.4,1423.18 \"/>\n",
       "<path clip-path=\"url(#clip602)\" d=\"M11243.4 1423.18 L11243.4 1423.18 L11312.3 1423.18 L11312.3 1423.18 L11243.4 1423.18 L11243.4 1423.18  Z\" fill=\"#009af9\" fill-rule=\"evenodd\" fill-opacity=\"1\"/>\n",
       "<polyline clip-path=\"url(#clip602)\" style=\"stroke:#000000; stroke-linecap:round; stroke-linejoin:round; stroke-width:4; stroke-opacity:1; fill:none\" points=\"11243.4,1423.18 11243.4,1423.18 11312.3,1423.18 11243.4,1423.18 \"/>\n",
       "<path clip-path=\"url(#clip602)\" d=\"M11312.3 1423.18 L11312.3 1423.18 L11381.3 1423.18 L11381.3 1423.18 L11312.3 1423.18 L11312.3 1423.18  Z\" fill=\"#009af9\" fill-rule=\"evenodd\" fill-opacity=\"1\"/>\n",
       "<polyline clip-path=\"url(#clip602)\" style=\"stroke:#000000; stroke-linecap:round; stroke-linejoin:round; stroke-width:4; stroke-opacity:1; fill:none\" points=\"11312.3,1423.18 11312.3,1423.18 11381.3,1423.18 11312.3,1423.18 \"/>\n",
       "<path clip-path=\"url(#clip602)\" d=\"M11381.3 1423.18 L11381.3 1423.18 L11450.3 1423.18 L11450.3 1423.18 L11381.3 1423.18 L11381.3 1423.18  Z\" fill=\"#009af9\" fill-rule=\"evenodd\" fill-opacity=\"1\"/>\n",
       "<polyline clip-path=\"url(#clip602)\" style=\"stroke:#000000; stroke-linecap:round; stroke-linejoin:round; stroke-width:4; stroke-opacity:1; fill:none\" points=\"11381.3,1423.18 11381.3,1423.18 11450.3,1423.18 11381.3,1423.18 \"/>\n",
       "<path clip-path=\"url(#clip602)\" d=\"M11450.3 1423.18 L11450.3 1423.18 L11519.3 1423.18 L11519.3 1423.18 L11450.3 1423.18 L11450.3 1423.18  Z\" fill=\"#009af9\" fill-rule=\"evenodd\" fill-opacity=\"1\"/>\n",
       "<polyline clip-path=\"url(#clip602)\" style=\"stroke:#000000; stroke-linecap:round; stroke-linejoin:round; stroke-width:4; stroke-opacity:1; fill:none\" points=\"11450.3,1423.18 11450.3,1423.18 11519.3,1423.18 11450.3,1423.18 \"/>\n",
       "<path clip-path=\"url(#clip602)\" d=\"M11519.3 1423.18 L11519.3 1423.18 L11588.3 1423.18 L11588.3 1423.18 L11519.3 1423.18 L11519.3 1423.18  Z\" fill=\"#009af9\" fill-rule=\"evenodd\" fill-opacity=\"1\"/>\n",
       "<polyline clip-path=\"url(#clip602)\" style=\"stroke:#000000; stroke-linecap:round; stroke-linejoin:round; stroke-width:4; stroke-opacity:1; fill:none\" points=\"11519.3,1423.18 11519.3,1423.18 11588.3,1423.18 11519.3,1423.18 \"/>\n",
       "<path clip-path=\"url(#clip602)\" d=\"M11588.3 1423.18 L11588.3 1423.18 L11657.3 1423.18 L11657.3 1423.18 L11588.3 1423.18 L11588.3 1423.18  Z\" fill=\"#009af9\" fill-rule=\"evenodd\" fill-opacity=\"1\"/>\n",
       "<polyline clip-path=\"url(#clip602)\" style=\"stroke:#000000; stroke-linecap:round; stroke-linejoin:round; stroke-width:4; stroke-opacity:1; fill:none\" points=\"11588.3,1423.18 11588.3,1423.18 11657.3,1423.18 11588.3,1423.18 \"/>\n",
       "<path clip-path=\"url(#clip602)\" d=\"M11657.3 1423.18 L11657.3 1423.18 L11726.2 1423.18 L11726.2 1423.18 L11657.3 1423.18 L11657.3 1423.18  Z\" fill=\"#009af9\" fill-rule=\"evenodd\" fill-opacity=\"1\"/>\n",
       "<polyline clip-path=\"url(#clip602)\" style=\"stroke:#000000; stroke-linecap:round; stroke-linejoin:round; stroke-width:4; stroke-opacity:1; fill:none\" points=\"11657.3,1423.18 11657.3,1423.18 11726.2,1423.18 11657.3,1423.18 \"/>\n",
       "<path clip-path=\"url(#clip602)\" d=\"M11726.2 1423.18 L11726.2 1423.18 L11795.2 1423.18 L11795.2 1423.18 L11726.2 1423.18 L11726.2 1423.18  Z\" fill=\"#009af9\" fill-rule=\"evenodd\" fill-opacity=\"1\"/>\n",
       "<polyline clip-path=\"url(#clip602)\" style=\"stroke:#000000; stroke-linecap:round; stroke-linejoin:round; stroke-width:4; stroke-opacity:1; fill:none\" points=\"11726.2,1423.18 11726.2,1423.18 11795.2,1423.18 11726.2,1423.18 \"/>\n",
       "<path clip-path=\"url(#clip602)\" d=\"M11795.2 1423.18 L11795.2 1423.18 L11864.2 1423.18 L11864.2 1423.18 L11795.2 1423.18 L11795.2 1423.18  Z\" fill=\"#009af9\" fill-rule=\"evenodd\" fill-opacity=\"1\"/>\n",
       "<polyline clip-path=\"url(#clip602)\" style=\"stroke:#000000; stroke-linecap:round; stroke-linejoin:round; stroke-width:4; stroke-opacity:1; fill:none\" points=\"11795.2,1423.18 11795.2,1423.18 11864.2,1423.18 11795.2,1423.18 \"/>\n",
       "<path clip-path=\"url(#clip602)\" d=\"M11864.2 1423.18 L11864.2 1423.18 L11933.2 1423.18 L11933.2 1423.18 L11864.2 1423.18 L11864.2 1423.18  Z\" fill=\"#009af9\" fill-rule=\"evenodd\" fill-opacity=\"1\"/>\n",
       "<polyline clip-path=\"url(#clip602)\" style=\"stroke:#000000; stroke-linecap:round; stroke-linejoin:round; stroke-width:4; stroke-opacity:1; fill:none\" points=\"11864.2,1423.18 11864.2,1423.18 11933.2,1423.18 11864.2,1423.18 \"/>\n",
       "<path clip-path=\"url(#clip602)\" d=\"M11933.2 1423.18 L11933.2 1423.18 L12002.2 1423.18 L12002.2 1423.18 L11933.2 1423.18 L11933.2 1423.18  Z\" fill=\"#009af9\" fill-rule=\"evenodd\" fill-opacity=\"1\"/>\n",
       "<polyline clip-path=\"url(#clip602)\" style=\"stroke:#000000; stroke-linecap:round; stroke-linejoin:round; stroke-width:4; stroke-opacity:1; fill:none\" points=\"11933.2,1423.18 11933.2,1423.18 12002.2,1423.18 11933.2,1423.18 \"/>\n",
       "<path clip-path=\"url(#clip602)\" d=\"M12002.2 1423.18 L12002.2 1423.18 L12071.1 1423.18 L12071.1 1423.18 L12002.2 1423.18 L12002.2 1423.18  Z\" fill=\"#009af9\" fill-rule=\"evenodd\" fill-opacity=\"1\"/>\n",
       "<polyline clip-path=\"url(#clip602)\" style=\"stroke:#000000; stroke-linecap:round; stroke-linejoin:round; stroke-width:4; stroke-opacity:1; fill:none\" points=\"12002.2,1423.18 12002.2,1423.18 12071.1,1423.18 12002.2,1423.18 \"/>\n",
       "<path clip-path=\"url(#clip602)\" d=\"M12071.1 1423.18 L12071.1 1423.18 L12140.1 1423.18 L12140.1 1423.18 L12071.1 1423.18 L12071.1 1423.18  Z\" fill=\"#009af9\" fill-rule=\"evenodd\" fill-opacity=\"1\"/>\n",
       "<polyline clip-path=\"url(#clip602)\" style=\"stroke:#000000; stroke-linecap:round; stroke-linejoin:round; stroke-width:4; stroke-opacity:1; fill:none\" points=\"12071.1,1423.18 12071.1,1423.18 12140.1,1423.18 12071.1,1423.18 \"/>\n",
       "<path clip-path=\"url(#clip602)\" d=\"M12140.1 1423.18 L12140.1 1423.18 L12209.1 1423.18 L12209.1 1423.18 L12140.1 1423.18 L12140.1 1423.18  Z\" fill=\"#009af9\" fill-rule=\"evenodd\" fill-opacity=\"1\"/>\n",
       "<polyline clip-path=\"url(#clip602)\" style=\"stroke:#000000; stroke-linecap:round; stroke-linejoin:round; stroke-width:4; stroke-opacity:1; fill:none\" points=\"12140.1,1423.18 12140.1,1423.18 12209.1,1423.18 12140.1,1423.18 \"/>\n",
       "<path clip-path=\"url(#clip602)\" d=\"M12209.1 1423.18 L12209.1 1423.18 L12278.1 1423.18 L12278.1 1423.18 L12209.1 1423.18 L12209.1 1423.18  Z\" fill=\"#009af9\" fill-rule=\"evenodd\" fill-opacity=\"1\"/>\n",
       "<polyline clip-path=\"url(#clip602)\" style=\"stroke:#000000; stroke-linecap:round; stroke-linejoin:round; stroke-width:4; stroke-opacity:1; fill:none\" points=\"12209.1,1423.18 12209.1,1423.18 12278.1,1423.18 12209.1,1423.18 \"/>\n",
       "<path clip-path=\"url(#clip602)\" d=\"M12278.1 1423.18 L12278.1 1423.18 L12347.1 1423.18 L12347.1 1423.18 L12278.1 1423.18 L12278.1 1423.18  Z\" fill=\"#009af9\" fill-rule=\"evenodd\" fill-opacity=\"1\"/>\n",
       "<polyline clip-path=\"url(#clip602)\" style=\"stroke:#000000; stroke-linecap:round; stroke-linejoin:round; stroke-width:4; stroke-opacity:1; fill:none\" points=\"12278.1,1423.18 12278.1,1423.18 12347.1,1423.18 12278.1,1423.18 \"/>\n",
       "<path clip-path=\"url(#clip602)\" d=\"M12347.1 1423.18 L12347.1 1423.18 L12416 1423.18 L12416 1423.18 L12347.1 1423.18 L12347.1 1423.18  Z\" fill=\"#009af9\" fill-rule=\"evenodd\" fill-opacity=\"1\"/>\n",
       "<polyline clip-path=\"url(#clip602)\" style=\"stroke:#000000; stroke-linecap:round; stroke-linejoin:round; stroke-width:4; stroke-opacity:1; fill:none\" points=\"12347.1,1423.18 12347.1,1423.18 12416,1423.18 12347.1,1423.18 \"/>\n",
       "<path clip-path=\"url(#clip602)\" d=\"M12416 1423.18 L12416 1423.18 L12485 1423.18 L12485 1423.18 L12416 1423.18 L12416 1423.18  Z\" fill=\"#009af9\" fill-rule=\"evenodd\" fill-opacity=\"1\"/>\n",
       "<polyline clip-path=\"url(#clip602)\" style=\"stroke:#000000; stroke-linecap:round; stroke-linejoin:round; stroke-width:4; stroke-opacity:1; fill:none\" points=\"12416,1423.18 12416,1423.18 12485,1423.18 12416,1423.18 \"/>\n",
       "<path clip-path=\"url(#clip602)\" d=\"M12485 1423.18 L12485 1423.18 L12554 1423.18 L12554 1423.18 L12485 1423.18 L12485 1423.18  Z\" fill=\"#009af9\" fill-rule=\"evenodd\" fill-opacity=\"1\"/>\n",
       "<polyline clip-path=\"url(#clip602)\" style=\"stroke:#000000; stroke-linecap:round; stroke-linejoin:round; stroke-width:4; stroke-opacity:1; fill:none\" points=\"12485,1423.18 12485,1423.18 12554,1423.18 12485,1423.18 \"/>\n",
       "<path clip-path=\"url(#clip602)\" d=\"M12554 1423.18 L12554 1423.18 L12623 1423.18 L12623 1423.18 L12554 1423.18 L12554 1423.18  Z\" fill=\"#009af9\" fill-rule=\"evenodd\" fill-opacity=\"1\"/>\n",
       "<polyline clip-path=\"url(#clip602)\" style=\"stroke:#000000; stroke-linecap:round; stroke-linejoin:round; stroke-width:4; stroke-opacity:1; fill:none\" points=\"12554,1423.18 12554,1423.18 12623,1423.18 12554,1423.18 \"/>\n",
       "<path clip-path=\"url(#clip602)\" d=\"M12623 1423.18 L12623 1423.18 L12692 1423.18 L12692 1423.18 L12623 1423.18 L12623 1423.18  Z\" fill=\"#009af9\" fill-rule=\"evenodd\" fill-opacity=\"1\"/>\n",
       "<polyline clip-path=\"url(#clip602)\" style=\"stroke:#000000; stroke-linecap:round; stroke-linejoin:round; stroke-width:4; stroke-opacity:1; fill:none\" points=\"12623,1423.18 12623,1423.18 12692,1423.18 12623,1423.18 \"/>\n",
       "<path clip-path=\"url(#clip602)\" d=\"M12692 1423.18 L12692 1423.18 L12760.9 1423.18 L12760.9 1423.18 L12692 1423.18 L12692 1423.18  Z\" fill=\"#009af9\" fill-rule=\"evenodd\" fill-opacity=\"1\"/>\n",
       "<polyline clip-path=\"url(#clip602)\" style=\"stroke:#000000; stroke-linecap:round; stroke-linejoin:round; stroke-width:4; stroke-opacity:1; fill:none\" points=\"12692,1423.18 12692,1423.18 12760.9,1423.18 12692,1423.18 \"/>\n",
       "<path clip-path=\"url(#clip602)\" d=\"M12760.9 1423.18 L12760.9 1423.18 L12829.9 1423.18 L12829.9 1423.18 L12760.9 1423.18 L12760.9 1423.18  Z\" fill=\"#009af9\" fill-rule=\"evenodd\" fill-opacity=\"1\"/>\n",
       "<polyline clip-path=\"url(#clip602)\" style=\"stroke:#000000; stroke-linecap:round; stroke-linejoin:round; stroke-width:4; stroke-opacity:1; fill:none\" points=\"12760.9,1423.18 12760.9,1423.18 12829.9,1423.18 12760.9,1423.18 \"/>\n",
       "<path clip-path=\"url(#clip602)\" d=\"M12829.9 1423.18 L12829.9 1423.18 L12898.9 1423.18 L12898.9 1423.18 L12829.9 1423.18 L12829.9 1423.18  Z\" fill=\"#009af9\" fill-rule=\"evenodd\" fill-opacity=\"1\"/>\n",
       "<polyline clip-path=\"url(#clip602)\" style=\"stroke:#000000; stroke-linecap:round; stroke-linejoin:round; stroke-width:4; stroke-opacity:1; fill:none\" points=\"12829.9,1423.18 12829.9,1423.18 12898.9,1423.18 12829.9,1423.18 \"/>\n",
       "<path clip-path=\"url(#clip602)\" d=\"M12898.9 1423.18 L12898.9 1423.18 L12967.9 1423.18 L12967.9 1423.18 L12898.9 1423.18 L12898.9 1423.18  Z\" fill=\"#009af9\" fill-rule=\"evenodd\" fill-opacity=\"1\"/>\n",
       "<polyline clip-path=\"url(#clip602)\" style=\"stroke:#000000; stroke-linecap:round; stroke-linejoin:round; stroke-width:4; stroke-opacity:1; fill:none\" points=\"12898.9,1423.18 12898.9,1423.18 12967.9,1423.18 12898.9,1423.18 \"/>\n",
       "<path clip-path=\"url(#clip602)\" d=\"M12967.9 1423.18 L12967.9 1423.18 L13036.9 1423.18 L13036.9 1423.18 L12967.9 1423.18 L12967.9 1423.18  Z\" fill=\"#009af9\" fill-rule=\"evenodd\" fill-opacity=\"1\"/>\n",
       "<polyline clip-path=\"url(#clip602)\" style=\"stroke:#000000; stroke-linecap:round; stroke-linejoin:round; stroke-width:4; stroke-opacity:1; fill:none\" points=\"12967.9,1423.18 12967.9,1423.18 13036.9,1423.18 12967.9,1423.18 \"/>\n",
       "<path clip-path=\"url(#clip602)\" d=\"M13036.9 1423.18 L13036.9 1423.18 L13105.9 1423.18 L13105.9 1423.18 L13036.9 1423.18 L13036.9 1423.18  Z\" fill=\"#009af9\" fill-rule=\"evenodd\" fill-opacity=\"1\"/>\n",
       "<polyline clip-path=\"url(#clip602)\" style=\"stroke:#000000; stroke-linecap:round; stroke-linejoin:round; stroke-width:4; stroke-opacity:1; fill:none\" points=\"13036.9,1423.18 13036.9,1423.18 13105.9,1423.18 13036.9,1423.18 \"/>\n",
       "<path clip-path=\"url(#clip602)\" d=\"M13105.9 1423.18 L13105.9 1423.18 L13174.8 1423.18 L13174.8 1423.18 L13105.9 1423.18 L13105.9 1423.18  Z\" fill=\"#009af9\" fill-rule=\"evenodd\" fill-opacity=\"1\"/>\n",
       "<polyline clip-path=\"url(#clip602)\" style=\"stroke:#000000; stroke-linecap:round; stroke-linejoin:round; stroke-width:4; stroke-opacity:1; fill:none\" points=\"13105.9,1423.18 13105.9,1423.18 13174.8,1423.18 13105.9,1423.18 \"/>\n",
       "<path clip-path=\"url(#clip602)\" d=\"M13174.8 1423.18 L13174.8 1423.18 L13243.8 1423.18 L13243.8 1423.18 L13174.8 1423.18 L13174.8 1423.18  Z\" fill=\"#009af9\" fill-rule=\"evenodd\" fill-opacity=\"1\"/>\n",
       "<polyline clip-path=\"url(#clip602)\" style=\"stroke:#000000; stroke-linecap:round; stroke-linejoin:round; stroke-width:4; stroke-opacity:1; fill:none\" points=\"13174.8,1423.18 13174.8,1423.18 13243.8,1423.18 13174.8,1423.18 \"/>\n",
       "<path clip-path=\"url(#clip602)\" d=\"M13243.8 1423.18 L13243.8 1423.18 L13312.8 1423.18 L13312.8 1423.18 L13243.8 1423.18 L13243.8 1423.18  Z\" fill=\"#009af9\" fill-rule=\"evenodd\" fill-opacity=\"1\"/>\n",
       "<polyline clip-path=\"url(#clip602)\" style=\"stroke:#000000; stroke-linecap:round; stroke-linejoin:round; stroke-width:4; stroke-opacity:1; fill:none\" points=\"13243.8,1423.18 13243.8,1423.18 13312.8,1423.18 13243.8,1423.18 \"/>\n",
       "<path clip-path=\"url(#clip602)\" d=\"M13312.8 1423.18 L13312.8 1423.18 L13381.8 1423.18 L13381.8 1423.18 L13312.8 1423.18 L13312.8 1423.18  Z\" fill=\"#009af9\" fill-rule=\"evenodd\" fill-opacity=\"1\"/>\n",
       "<polyline clip-path=\"url(#clip602)\" style=\"stroke:#000000; stroke-linecap:round; stroke-linejoin:round; stroke-width:4; stroke-opacity:1; fill:none\" points=\"13312.8,1423.18 13312.8,1423.18 13381.8,1423.18 13312.8,1423.18 \"/>\n",
       "<path clip-path=\"url(#clip602)\" d=\"M13381.8 1423.18 L13381.8 1423.18 L13450.8 1423.18 L13450.8 1423.18 L13381.8 1423.18 L13381.8 1423.18  Z\" fill=\"#009af9\" fill-rule=\"evenodd\" fill-opacity=\"1\"/>\n",
       "<polyline clip-path=\"url(#clip602)\" style=\"stroke:#000000; stroke-linecap:round; stroke-linejoin:round; stroke-width:4; stroke-opacity:1; fill:none\" points=\"13381.8,1423.18 13381.8,1423.18 13450.8,1423.18 13381.8,1423.18 \"/>\n",
       "<path clip-path=\"url(#clip602)\" d=\"M13450.8 1423.18 L13450.8 1423.18 L13519.7 1423.18 L13519.7 1423.18 L13450.8 1423.18 L13450.8 1423.18  Z\" fill=\"#009af9\" fill-rule=\"evenodd\" fill-opacity=\"1\"/>\n",
       "<polyline clip-path=\"url(#clip602)\" style=\"stroke:#000000; stroke-linecap:round; stroke-linejoin:round; stroke-width:4; stroke-opacity:1; fill:none\" points=\"13450.8,1423.18 13450.8,1423.18 13519.7,1423.18 13450.8,1423.18 \"/>\n",
       "<path clip-path=\"url(#clip602)\" d=\"M13519.7 1423.18 L13519.7 1423.18 L13588.7 1423.18 L13588.7 1423.18 L13519.7 1423.18 L13519.7 1423.18  Z\" fill=\"#009af9\" fill-rule=\"evenodd\" fill-opacity=\"1\"/>\n",
       "<polyline clip-path=\"url(#clip602)\" style=\"stroke:#000000; stroke-linecap:round; stroke-linejoin:round; stroke-width:4; stroke-opacity:1; fill:none\" points=\"13519.7,1423.18 13519.7,1423.18 13588.7,1423.18 13519.7,1423.18 \"/>\n",
       "<path clip-path=\"url(#clip602)\" d=\"M13588.7 1423.18 L13588.7 1423.18 L13657.7 1423.18 L13657.7 1423.18 L13588.7 1423.18 L13588.7 1423.18  Z\" fill=\"#009af9\" fill-rule=\"evenodd\" fill-opacity=\"1\"/>\n",
       "<polyline clip-path=\"url(#clip602)\" style=\"stroke:#000000; stroke-linecap:round; stroke-linejoin:round; stroke-width:4; stroke-opacity:1; fill:none\" points=\"13588.7,1423.18 13588.7,1423.18 13657.7,1423.18 13588.7,1423.18 \"/>\n",
       "<path clip-path=\"url(#clip602)\" d=\"M13657.7 1423.18 L13657.7 1423.18 L13726.7 1423.18 L13726.7 1423.18 L13657.7 1423.18 L13657.7 1423.18  Z\" fill=\"#009af9\" fill-rule=\"evenodd\" fill-opacity=\"1\"/>\n",
       "<polyline clip-path=\"url(#clip602)\" style=\"stroke:#000000; stroke-linecap:round; stroke-linejoin:round; stroke-width:4; stroke-opacity:1; fill:none\" points=\"13657.7,1423.18 13657.7,1423.18 13726.7,1423.18 13657.7,1423.18 \"/>\n",
       "<path clip-path=\"url(#clip602)\" d=\"M13726.7 1423.18 L13726.7 1423.18 L13795.7 1423.18 L13795.7 1423.18 L13726.7 1423.18 L13726.7 1423.18  Z\" fill=\"#009af9\" fill-rule=\"evenodd\" fill-opacity=\"1\"/>\n",
       "<polyline clip-path=\"url(#clip602)\" style=\"stroke:#000000; stroke-linecap:round; stroke-linejoin:round; stroke-width:4; stroke-opacity:1; fill:none\" points=\"13726.7,1423.18 13726.7,1423.18 13795.7,1423.18 13726.7,1423.18 \"/>\n",
       "<path clip-path=\"url(#clip602)\" d=\"M13795.7 1423.18 L13795.7 1423.18 L13864.6 1423.18 L13864.6 1423.18 L13795.7 1423.18 L13795.7 1423.18  Z\" fill=\"#009af9\" fill-rule=\"evenodd\" fill-opacity=\"1\"/>\n",
       "<polyline clip-path=\"url(#clip602)\" style=\"stroke:#000000; stroke-linecap:round; stroke-linejoin:round; stroke-width:4; stroke-opacity:1; fill:none\" points=\"13795.7,1423.18 13795.7,1423.18 13864.6,1423.18 13795.7,1423.18 \"/>\n",
       "<path clip-path=\"url(#clip602)\" d=\"M13864.6 1423.18 L13864.6 1423.18 L13933.6 1423.18 L13933.6 1423.18 L13864.6 1423.18 L13864.6 1423.18  Z\" fill=\"#009af9\" fill-rule=\"evenodd\" fill-opacity=\"1\"/>\n",
       "<polyline clip-path=\"url(#clip602)\" style=\"stroke:#000000; stroke-linecap:round; stroke-linejoin:round; stroke-width:4; stroke-opacity:1; fill:none\" points=\"13864.6,1423.18 13864.6,1423.18 13933.6,1423.18 13864.6,1423.18 \"/>\n",
       "<path clip-path=\"url(#clip602)\" d=\"M13933.6 1423.18 L13933.6 1423.18 L14002.6 1423.18 L14002.6 1423.18 L13933.6 1423.18 L13933.6 1423.18  Z\" fill=\"#009af9\" fill-rule=\"evenodd\" fill-opacity=\"1\"/>\n",
       "<polyline clip-path=\"url(#clip602)\" style=\"stroke:#000000; stroke-linecap:round; stroke-linejoin:round; stroke-width:4; stroke-opacity:1; fill:none\" points=\"13933.6,1423.18 13933.6,1423.18 14002.6,1423.18 13933.6,1423.18 \"/>\n",
       "<path clip-path=\"url(#clip602)\" d=\"M14002.6 1423.18 L14002.6 1423.18 L14071.6 1423.18 L14071.6 1423.18 L14002.6 1423.18 L14002.6 1423.18  Z\" fill=\"#009af9\" fill-rule=\"evenodd\" fill-opacity=\"1\"/>\n",
       "<polyline clip-path=\"url(#clip602)\" style=\"stroke:#000000; stroke-linecap:round; stroke-linejoin:round; stroke-width:4; stroke-opacity:1; fill:none\" points=\"14002.6,1423.18 14002.6,1423.18 14071.6,1423.18 14002.6,1423.18 \"/>\n",
       "<path clip-path=\"url(#clip602)\" d=\"M14071.6 1423.18 L14071.6 1423.18 L14140.6 1423.18 L14140.6 1423.18 L14071.6 1423.18 L14071.6 1423.18  Z\" fill=\"#009af9\" fill-rule=\"evenodd\" fill-opacity=\"1\"/>\n",
       "<polyline clip-path=\"url(#clip602)\" style=\"stroke:#000000; stroke-linecap:round; stroke-linejoin:round; stroke-width:4; stroke-opacity:1; fill:none\" points=\"14071.6,1423.18 14071.6,1423.18 14140.6,1423.18 14071.6,1423.18 \"/>\n",
       "<path clip-path=\"url(#clip602)\" d=\"M14140.6 1423.18 L14140.6 1423.18 L14209.6 1423.18 L14209.6 1423.18 L14140.6 1423.18 L14140.6 1423.18  Z\" fill=\"#009af9\" fill-rule=\"evenodd\" fill-opacity=\"1\"/>\n",
       "<polyline clip-path=\"url(#clip602)\" style=\"stroke:#000000; stroke-linecap:round; stroke-linejoin:round; stroke-width:4; stroke-opacity:1; fill:none\" points=\"14140.6,1423.18 14140.6,1423.18 14209.6,1423.18 14140.6,1423.18 \"/>\n",
       "<path clip-path=\"url(#clip602)\" d=\"M14209.6 1423.18 L14209.6 1423.18 L14278.5 1423.18 L14278.5 1423.18 L14209.6 1423.18 L14209.6 1423.18  Z\" fill=\"#009af9\" fill-rule=\"evenodd\" fill-opacity=\"1\"/>\n",
       "<polyline clip-path=\"url(#clip602)\" style=\"stroke:#000000; stroke-linecap:round; stroke-linejoin:round; stroke-width:4; stroke-opacity:1; fill:none\" points=\"14209.6,1423.18 14209.6,1423.18 14278.5,1423.18 14209.6,1423.18 \"/>\n",
       "<path clip-path=\"url(#clip602)\" d=\"M14278.5 1423.18 L14278.5 1423.18 L14347.5 1423.18 L14347.5 1423.18 L14278.5 1423.18 L14278.5 1423.18  Z\" fill=\"#009af9\" fill-rule=\"evenodd\" fill-opacity=\"1\"/>\n",
       "<polyline clip-path=\"url(#clip602)\" style=\"stroke:#000000; stroke-linecap:round; stroke-linejoin:round; stroke-width:4; stroke-opacity:1; fill:none\" points=\"14278.5,1423.18 14278.5,1423.18 14347.5,1423.18 14278.5,1423.18 \"/>\n",
       "<path clip-path=\"url(#clip602)\" d=\"M14347.5 1423.18 L14347.5 1423.18 L14416.5 1423.18 L14416.5 1423.18 L14347.5 1423.18 L14347.5 1423.18  Z\" fill=\"#009af9\" fill-rule=\"evenodd\" fill-opacity=\"1\"/>\n",
       "<polyline clip-path=\"url(#clip602)\" style=\"stroke:#000000; stroke-linecap:round; stroke-linejoin:round; stroke-width:4; stroke-opacity:1; fill:none\" points=\"14347.5,1423.18 14347.5,1423.18 14416.5,1423.18 14347.5,1423.18 \"/>\n",
       "<path clip-path=\"url(#clip602)\" d=\"M14416.5 1423.18 L14416.5 1423.18 L14485.5 1423.18 L14485.5 1423.18 L14416.5 1423.18 L14416.5 1423.18  Z\" fill=\"#009af9\" fill-rule=\"evenodd\" fill-opacity=\"1\"/>\n",
       "<polyline clip-path=\"url(#clip602)\" style=\"stroke:#000000; stroke-linecap:round; stroke-linejoin:round; stroke-width:4; stroke-opacity:1; fill:none\" points=\"14416.5,1423.18 14416.5,1423.18 14485.5,1423.18 14416.5,1423.18 \"/>\n",
       "<path clip-path=\"url(#clip602)\" d=\"M14485.5 1372.22 L14485.5 1423.18 L14554.5 1423.18 L14554.5 1372.22 L14485.5 1372.22 L14485.5 1372.22  Z\" fill=\"#009af9\" fill-rule=\"evenodd\" fill-opacity=\"1\"/>\n",
       "<polyline clip-path=\"url(#clip602)\" style=\"stroke:#000000; stroke-linecap:round; stroke-linejoin:round; stroke-width:4; stroke-opacity:1; fill:none\" points=\"14485.5,1372.22 14485.5,1423.18 14554.5,1423.18 14554.5,1372.22 14485.5,1372.22 \"/>\n",
       "<path clip-path=\"url(#clip602)\" d=\"M14554.5 1423.18 L14554.5 1423.18 L14623.4 1423.18 L14623.4 1423.18 L14554.5 1423.18 L14554.5 1423.18  Z\" fill=\"#009af9\" fill-rule=\"evenodd\" fill-opacity=\"1\"/>\n",
       "<polyline clip-path=\"url(#clip602)\" style=\"stroke:#000000; stroke-linecap:round; stroke-linejoin:round; stroke-width:4; stroke-opacity:1; fill:none\" points=\"14554.5,1423.18 14554.5,1423.18 14623.4,1423.18 14554.5,1423.18 \"/>\n",
       "<path clip-path=\"url(#clip602)\" d=\"M14623.4 1423.18 L14623.4 1423.18 L14692.4 1423.18 L14692.4 1423.18 L14623.4 1423.18 L14623.4 1423.18  Z\" fill=\"#009af9\" fill-rule=\"evenodd\" fill-opacity=\"1\"/>\n",
       "<polyline clip-path=\"url(#clip602)\" style=\"stroke:#000000; stroke-linecap:round; stroke-linejoin:round; stroke-width:4; stroke-opacity:1; fill:none\" points=\"14623.4,1423.18 14623.4,1423.18 14692.4,1423.18 14623.4,1423.18 \"/>\n",
       "<path clip-path=\"url(#clip602)\" d=\"M14692.4 1423.18 L14692.4 1423.18 L14761.4 1423.18 L14761.4 1423.18 L14692.4 1423.18 L14692.4 1423.18  Z\" fill=\"#009af9\" fill-rule=\"evenodd\" fill-opacity=\"1\"/>\n",
       "<polyline clip-path=\"url(#clip602)\" style=\"stroke:#000000; stroke-linecap:round; stroke-linejoin:round; stroke-width:4; stroke-opacity:1; fill:none\" points=\"14692.4,1423.18 14692.4,1423.18 14761.4,1423.18 14692.4,1423.18 \"/>\n",
       "<path clip-path=\"url(#clip602)\" d=\"M14761.4 1423.18 L14761.4 1423.18 L14830.4 1423.18 L14830.4 1423.18 L14761.4 1423.18 L14761.4 1423.18  Z\" fill=\"#009af9\" fill-rule=\"evenodd\" fill-opacity=\"1\"/>\n",
       "<polyline clip-path=\"url(#clip602)\" style=\"stroke:#000000; stroke-linecap:round; stroke-linejoin:round; stroke-width:4; stroke-opacity:1; fill:none\" points=\"14761.4,1423.18 14761.4,1423.18 14830.4,1423.18 14761.4,1423.18 \"/>\n",
       "<path clip-path=\"url(#clip602)\" d=\"M14830.4 1423.18 L14830.4 1423.18 L14899.4 1423.18 L14899.4 1423.18 L14830.4 1423.18 L14830.4 1423.18  Z\" fill=\"#009af9\" fill-rule=\"evenodd\" fill-opacity=\"1\"/>\n",
       "<polyline clip-path=\"url(#clip602)\" style=\"stroke:#000000; stroke-linecap:round; stroke-linejoin:round; stroke-width:4; stroke-opacity:1; fill:none\" points=\"14830.4,1423.18 14830.4,1423.18 14899.4,1423.18 14830.4,1423.18 \"/>\n",
       "<path clip-path=\"url(#clip602)\" d=\"M14899.4 1423.18 L14899.4 1423.18 L14968.3 1423.18 L14968.3 1423.18 L14899.4 1423.18 L14899.4 1423.18  Z\" fill=\"#009af9\" fill-rule=\"evenodd\" fill-opacity=\"1\"/>\n",
       "<polyline clip-path=\"url(#clip602)\" style=\"stroke:#000000; stroke-linecap:round; stroke-linejoin:round; stroke-width:4; stroke-opacity:1; fill:none\" points=\"14899.4,1423.18 14899.4,1423.18 14968.3,1423.18 14899.4,1423.18 \"/>\n",
       "<path clip-path=\"url(#clip602)\" d=\"M14968.3 1423.18 L14968.3 1423.18 L15037.3 1423.18 L15037.3 1423.18 L14968.3 1423.18 L14968.3 1423.18  Z\" fill=\"#009af9\" fill-rule=\"evenodd\" fill-opacity=\"1\"/>\n",
       "<polyline clip-path=\"url(#clip602)\" style=\"stroke:#000000; stroke-linecap:round; stroke-linejoin:round; stroke-width:4; stroke-opacity:1; fill:none\" points=\"14968.3,1423.18 14968.3,1423.18 15037.3,1423.18 14968.3,1423.18 \"/>\n",
       "<path clip-path=\"url(#clip602)\" d=\"M15037.3 1423.18 L15037.3 1423.18 L15106.3 1423.18 L15106.3 1423.18 L15037.3 1423.18 L15037.3 1423.18  Z\" fill=\"#009af9\" fill-rule=\"evenodd\" fill-opacity=\"1\"/>\n",
       "<polyline clip-path=\"url(#clip602)\" style=\"stroke:#000000; stroke-linecap:round; stroke-linejoin:round; stroke-width:4; stroke-opacity:1; fill:none\" points=\"15037.3,1423.18 15037.3,1423.18 15106.3,1423.18 15037.3,1423.18 \"/>\n",
       "<path clip-path=\"url(#clip602)\" d=\"M15106.3 1423.18 L15106.3 1423.18 L15175.3 1423.18 L15175.3 1423.18 L15106.3 1423.18 L15106.3 1423.18  Z\" fill=\"#009af9\" fill-rule=\"evenodd\" fill-opacity=\"1\"/>\n",
       "<polyline clip-path=\"url(#clip602)\" style=\"stroke:#000000; stroke-linecap:round; stroke-linejoin:round; stroke-width:4; stroke-opacity:1; fill:none\" points=\"15106.3,1423.18 15106.3,1423.18 15175.3,1423.18 15106.3,1423.18 \"/>\n",
       "<path clip-path=\"url(#clip602)\" d=\"M15175.3 1423.18 L15175.3 1423.18 L15244.3 1423.18 L15244.3 1423.18 L15175.3 1423.18 L15175.3 1423.18  Z\" fill=\"#009af9\" fill-rule=\"evenodd\" fill-opacity=\"1\"/>\n",
       "<polyline clip-path=\"url(#clip602)\" style=\"stroke:#000000; stroke-linecap:round; stroke-linejoin:round; stroke-width:4; stroke-opacity:1; fill:none\" points=\"15175.3,1423.18 15175.3,1423.18 15244.3,1423.18 15175.3,1423.18 \"/>\n",
       "<path clip-path=\"url(#clip602)\" d=\"M15244.3 1423.18 L15244.3 1423.18 L15313.2 1423.18 L15313.2 1423.18 L15244.3 1423.18 L15244.3 1423.18  Z\" fill=\"#009af9\" fill-rule=\"evenodd\" fill-opacity=\"1\"/>\n",
       "<polyline clip-path=\"url(#clip602)\" style=\"stroke:#000000; stroke-linecap:round; stroke-linejoin:round; stroke-width:4; stroke-opacity:1; fill:none\" points=\"15244.3,1423.18 15244.3,1423.18 15313.2,1423.18 15244.3,1423.18 \"/>\n",
       "<path clip-path=\"url(#clip602)\" d=\"M15313.2 1423.18 L15313.2 1423.18 L15382.2 1423.18 L15382.2 1423.18 L15313.2 1423.18 L15313.2 1423.18  Z\" fill=\"#009af9\" fill-rule=\"evenodd\" fill-opacity=\"1\"/>\n",
       "<polyline clip-path=\"url(#clip602)\" style=\"stroke:#000000; stroke-linecap:round; stroke-linejoin:round; stroke-width:4; stroke-opacity:1; fill:none\" points=\"15313.2,1423.18 15313.2,1423.18 15382.2,1423.18 15313.2,1423.18 \"/>\n",
       "<path clip-path=\"url(#clip602)\" d=\"M15382.2 1423.18 L15382.2 1423.18 L15451.2 1423.18 L15451.2 1423.18 L15382.2 1423.18 L15382.2 1423.18  Z\" fill=\"#009af9\" fill-rule=\"evenodd\" fill-opacity=\"1\"/>\n",
       "<polyline clip-path=\"url(#clip602)\" style=\"stroke:#000000; stroke-linecap:round; stroke-linejoin:round; stroke-width:4; stroke-opacity:1; fill:none\" points=\"15382.2,1423.18 15382.2,1423.18 15451.2,1423.18 15382.2,1423.18 \"/>\n",
       "<path clip-path=\"url(#clip602)\" d=\"M15451.2 1423.18 L15451.2 1423.18 L15520.2 1423.18 L15520.2 1423.18 L15451.2 1423.18 L15451.2 1423.18  Z\" fill=\"#009af9\" fill-rule=\"evenodd\" fill-opacity=\"1\"/>\n",
       "<polyline clip-path=\"url(#clip602)\" style=\"stroke:#000000; stroke-linecap:round; stroke-linejoin:round; stroke-width:4; stroke-opacity:1; fill:none\" points=\"15451.2,1423.18 15451.2,1423.18 15520.2,1423.18 15451.2,1423.18 \"/>\n",
       "<path clip-path=\"url(#clip602)\" d=\"M15520.2 1423.18 L15520.2 1423.18 L15589.2 1423.18 L15589.2 1423.18 L15520.2 1423.18 L15520.2 1423.18  Z\" fill=\"#009af9\" fill-rule=\"evenodd\" fill-opacity=\"1\"/>\n",
       "<polyline clip-path=\"url(#clip602)\" style=\"stroke:#000000; stroke-linecap:round; stroke-linejoin:round; stroke-width:4; stroke-opacity:1; fill:none\" points=\"15520.2,1423.18 15520.2,1423.18 15589.2,1423.18 15520.2,1423.18 \"/>\n",
       "<path clip-path=\"url(#clip602)\" d=\"M15589.2 1423.18 L15589.2 1423.18 L15658.2 1423.18 L15658.2 1423.18 L15589.2 1423.18 L15589.2 1423.18  Z\" fill=\"#009af9\" fill-rule=\"evenodd\" fill-opacity=\"1\"/>\n",
       "<polyline clip-path=\"url(#clip602)\" style=\"stroke:#000000; stroke-linecap:round; stroke-linejoin:round; stroke-width:4; stroke-opacity:1; fill:none\" points=\"15589.2,1423.18 15589.2,1423.18 15658.2,1423.18 15589.2,1423.18 \"/>\n",
       "<path clip-path=\"url(#clip602)\" d=\"M15658.2 1423.18 L15658.2 1423.18 L15727.1 1423.18 L15727.1 1423.18 L15658.2 1423.18 L15658.2 1423.18  Z\" fill=\"#009af9\" fill-rule=\"evenodd\" fill-opacity=\"1\"/>\n",
       "<polyline clip-path=\"url(#clip602)\" style=\"stroke:#000000; stroke-linecap:round; stroke-linejoin:round; stroke-width:4; stroke-opacity:1; fill:none\" points=\"15658.2,1423.18 15658.2,1423.18 15727.1,1423.18 15658.2,1423.18 \"/>\n",
       "<path clip-path=\"url(#clip602)\" d=\"M15727.1 1423.18 L15727.1 1423.18 L15796.1 1423.18 L15796.1 1423.18 L15727.1 1423.18 L15727.1 1423.18  Z\" fill=\"#009af9\" fill-rule=\"evenodd\" fill-opacity=\"1\"/>\n",
       "<polyline clip-path=\"url(#clip602)\" style=\"stroke:#000000; stroke-linecap:round; stroke-linejoin:round; stroke-width:4; stroke-opacity:1; fill:none\" points=\"15727.1,1423.18 15727.1,1423.18 15796.1,1423.18 15727.1,1423.18 \"/>\n",
       "<path clip-path=\"url(#clip602)\" d=\"M15796.1 1423.18 L15796.1 1423.18 L15865.1 1423.18 L15865.1 1423.18 L15796.1 1423.18 L15796.1 1423.18  Z\" fill=\"#009af9\" fill-rule=\"evenodd\" fill-opacity=\"1\"/>\n",
       "<polyline clip-path=\"url(#clip602)\" style=\"stroke:#000000; stroke-linecap:round; stroke-linejoin:round; stroke-width:4; stroke-opacity:1; fill:none\" points=\"15796.1,1423.18 15796.1,1423.18 15865.1,1423.18 15796.1,1423.18 \"/>\n",
       "<path clip-path=\"url(#clip602)\" d=\"M15865.1 1423.18 L15865.1 1423.18 L15934.1 1423.18 L15934.1 1423.18 L15865.1 1423.18 L15865.1 1423.18  Z\" fill=\"#009af9\" fill-rule=\"evenodd\" fill-opacity=\"1\"/>\n",
       "<polyline clip-path=\"url(#clip602)\" style=\"stroke:#000000; stroke-linecap:round; stroke-linejoin:round; stroke-width:4; stroke-opacity:1; fill:none\" points=\"15865.1,1423.18 15865.1,1423.18 15934.1,1423.18 15865.1,1423.18 \"/>\n",
       "<path clip-path=\"url(#clip602)\" d=\"M15934.1 1423.18 L15934.1 1423.18 L16003.1 1423.18 L16003.1 1423.18 L15934.1 1423.18 L15934.1 1423.18  Z\" fill=\"#009af9\" fill-rule=\"evenodd\" fill-opacity=\"1\"/>\n",
       "<polyline clip-path=\"url(#clip602)\" style=\"stroke:#000000; stroke-linecap:round; stroke-linejoin:round; stroke-width:4; stroke-opacity:1; fill:none\" points=\"15934.1,1423.18 15934.1,1423.18 16003.1,1423.18 15934.1,1423.18 \"/>\n",
       "<path clip-path=\"url(#clip602)\" d=\"M16003.1 1423.18 L16003.1 1423.18 L16072 1423.18 L16072 1423.18 L16003.1 1423.18 L16003.1 1423.18  Z\" fill=\"#009af9\" fill-rule=\"evenodd\" fill-opacity=\"1\"/>\n",
       "<polyline clip-path=\"url(#clip602)\" style=\"stroke:#000000; stroke-linecap:round; stroke-linejoin:round; stroke-width:4; stroke-opacity:1; fill:none\" points=\"16003.1,1423.18 16003.1,1423.18 16072,1423.18 16003.1,1423.18 \"/>\n",
       "<path clip-path=\"url(#clip602)\" d=\"M16072 1423.18 L16072 1423.18 L16141 1423.18 L16141 1423.18 L16072 1423.18 L16072 1423.18  Z\" fill=\"#009af9\" fill-rule=\"evenodd\" fill-opacity=\"1\"/>\n",
       "<polyline clip-path=\"url(#clip602)\" style=\"stroke:#000000; stroke-linecap:round; stroke-linejoin:round; stroke-width:4; stroke-opacity:1; fill:none\" points=\"16072,1423.18 16072,1423.18 16141,1423.18 16072,1423.18 \"/>\n",
       "<path clip-path=\"url(#clip602)\" d=\"M16141 1423.18 L16141 1423.18 L16210 1423.18 L16210 1423.18 L16141 1423.18 L16141 1423.18  Z\" fill=\"#009af9\" fill-rule=\"evenodd\" fill-opacity=\"1\"/>\n",
       "<polyline clip-path=\"url(#clip602)\" style=\"stroke:#000000; stroke-linecap:round; stroke-linejoin:round; stroke-width:4; stroke-opacity:1; fill:none\" points=\"16141,1423.18 16141,1423.18 16210,1423.18 16141,1423.18 \"/>\n",
       "<path clip-path=\"url(#clip602)\" d=\"M16210 1423.18 L16210 1423.18 L16279 1423.18 L16279 1423.18 L16210 1423.18 L16210 1423.18  Z\" fill=\"#009af9\" fill-rule=\"evenodd\" fill-opacity=\"1\"/>\n",
       "<polyline clip-path=\"url(#clip602)\" style=\"stroke:#000000; stroke-linecap:round; stroke-linejoin:round; stroke-width:4; stroke-opacity:1; fill:none\" points=\"16210,1423.18 16210,1423.18 16279,1423.18 16210,1423.18 \"/>\n",
       "<path clip-path=\"url(#clip602)\" d=\"M16279 1423.18 L16279 1423.18 L16348 1423.18 L16348 1423.18 L16279 1423.18 L16279 1423.18  Z\" fill=\"#009af9\" fill-rule=\"evenodd\" fill-opacity=\"1\"/>\n",
       "<polyline clip-path=\"url(#clip602)\" style=\"stroke:#000000; stroke-linecap:round; stroke-linejoin:round; stroke-width:4; stroke-opacity:1; fill:none\" points=\"16279,1423.18 16279,1423.18 16348,1423.18 16279,1423.18 \"/>\n",
       "<path clip-path=\"url(#clip602)\" d=\"M16348 1423.18 L16348 1423.18 L16416.9 1423.18 L16416.9 1423.18 L16348 1423.18 L16348 1423.18  Z\" fill=\"#009af9\" fill-rule=\"evenodd\" fill-opacity=\"1\"/>\n",
       "<polyline clip-path=\"url(#clip602)\" style=\"stroke:#000000; stroke-linecap:round; stroke-linejoin:round; stroke-width:4; stroke-opacity:1; fill:none\" points=\"16348,1423.18 16348,1423.18 16416.9,1423.18 16348,1423.18 \"/>\n",
       "<path clip-path=\"url(#clip602)\" d=\"M16416.9 1423.18 L16416.9 1423.18 L16485.9 1423.18 L16485.9 1423.18 L16416.9 1423.18 L16416.9 1423.18  Z\" fill=\"#009af9\" fill-rule=\"evenodd\" fill-opacity=\"1\"/>\n",
       "<polyline clip-path=\"url(#clip602)\" style=\"stroke:#000000; stroke-linecap:round; stroke-linejoin:round; stroke-width:4; stroke-opacity:1; fill:none\" points=\"16416.9,1423.18 16416.9,1423.18 16485.9,1423.18 16416.9,1423.18 \"/>\n",
       "<path clip-path=\"url(#clip602)\" d=\"M16485.9 1423.18 L16485.9 1423.18 L16554.9 1423.18 L16554.9 1423.18 L16485.9 1423.18 L16485.9 1423.18  Z\" fill=\"#009af9\" fill-rule=\"evenodd\" fill-opacity=\"1\"/>\n",
       "<polyline clip-path=\"url(#clip602)\" style=\"stroke:#000000; stroke-linecap:round; stroke-linejoin:round; stroke-width:4; stroke-opacity:1; fill:none\" points=\"16485.9,1423.18 16485.9,1423.18 16554.9,1423.18 16485.9,1423.18 \"/>\n",
       "<path clip-path=\"url(#clip602)\" d=\"M16554.9 1423.18 L16554.9 1423.18 L16623.9 1423.18 L16623.9 1423.18 L16554.9 1423.18 L16554.9 1423.18  Z\" fill=\"#009af9\" fill-rule=\"evenodd\" fill-opacity=\"1\"/>\n",
       "<polyline clip-path=\"url(#clip602)\" style=\"stroke:#000000; stroke-linecap:round; stroke-linejoin:round; stroke-width:4; stroke-opacity:1; fill:none\" points=\"16554.9,1423.18 16554.9,1423.18 16623.9,1423.18 16554.9,1423.18 \"/>\n",
       "<path clip-path=\"url(#clip602)\" d=\"M16623.9 1423.18 L16623.9 1423.18 L16692.9 1423.18 L16692.9 1423.18 L16623.9 1423.18 L16623.9 1423.18  Z\" fill=\"#009af9\" fill-rule=\"evenodd\" fill-opacity=\"1\"/>\n",
       "<polyline clip-path=\"url(#clip602)\" style=\"stroke:#000000; stroke-linecap:round; stroke-linejoin:round; stroke-width:4; stroke-opacity:1; fill:none\" points=\"16623.9,1423.18 16623.9,1423.18 16692.9,1423.18 16623.9,1423.18 \"/>\n",
       "<path clip-path=\"url(#clip602)\" d=\"M16692.9 1423.18 L16692.9 1423.18 L16761.9 1423.18 L16761.9 1423.18 L16692.9 1423.18 L16692.9 1423.18  Z\" fill=\"#009af9\" fill-rule=\"evenodd\" fill-opacity=\"1\"/>\n",
       "<polyline clip-path=\"url(#clip602)\" style=\"stroke:#000000; stroke-linecap:round; stroke-linejoin:round; stroke-width:4; stroke-opacity:1; fill:none\" points=\"16692.9,1423.18 16692.9,1423.18 16761.9,1423.18 16692.9,1423.18 \"/>\n",
       "<path clip-path=\"url(#clip602)\" d=\"M16761.9 1423.18 L16761.9 1423.18 L16830.8 1423.18 L16830.8 1423.18 L16761.9 1423.18 L16761.9 1423.18  Z\" fill=\"#009af9\" fill-rule=\"evenodd\" fill-opacity=\"1\"/>\n",
       "<polyline clip-path=\"url(#clip602)\" style=\"stroke:#000000; stroke-linecap:round; stroke-linejoin:round; stroke-width:4; stroke-opacity:1; fill:none\" points=\"16761.9,1423.18 16761.9,1423.18 16830.8,1423.18 16761.9,1423.18 \"/>\n",
       "<path clip-path=\"url(#clip602)\" d=\"M16830.8 1423.18 L16830.8 1423.18 L16899.8 1423.18 L16899.8 1423.18 L16830.8 1423.18 L16830.8 1423.18  Z\" fill=\"#009af9\" fill-rule=\"evenodd\" fill-opacity=\"1\"/>\n",
       "<polyline clip-path=\"url(#clip602)\" style=\"stroke:#000000; stroke-linecap:round; stroke-linejoin:round; stroke-width:4; stroke-opacity:1; fill:none\" points=\"16830.8,1423.18 16830.8,1423.18 16899.8,1423.18 16830.8,1423.18 \"/>\n",
       "<path clip-path=\"url(#clip602)\" d=\"M16899.8 1423.18 L16899.8 1423.18 L16968.8 1423.18 L16968.8 1423.18 L16899.8 1423.18 L16899.8 1423.18  Z\" fill=\"#009af9\" fill-rule=\"evenodd\" fill-opacity=\"1\"/>\n",
       "<polyline clip-path=\"url(#clip602)\" style=\"stroke:#000000; stroke-linecap:round; stroke-linejoin:round; stroke-width:4; stroke-opacity:1; fill:none\" points=\"16899.8,1423.18 16899.8,1423.18 16968.8,1423.18 16899.8,1423.18 \"/>\n",
       "<path clip-path=\"url(#clip602)\" d=\"M16968.8 1423.18 L16968.8 1423.18 L17037.8 1423.18 L17037.8 1423.18 L16968.8 1423.18 L16968.8 1423.18  Z\" fill=\"#009af9\" fill-rule=\"evenodd\" fill-opacity=\"1\"/>\n",
       "<polyline clip-path=\"url(#clip602)\" style=\"stroke:#000000; stroke-linecap:round; stroke-linejoin:round; stroke-width:4; stroke-opacity:1; fill:none\" points=\"16968.8,1423.18 16968.8,1423.18 17037.8,1423.18 16968.8,1423.18 \"/>\n",
       "<path clip-path=\"url(#clip602)\" d=\"M17037.8 1423.18 L17037.8 1423.18 L17106.8 1423.18 L17106.8 1423.18 L17037.8 1423.18 L17037.8 1423.18  Z\" fill=\"#009af9\" fill-rule=\"evenodd\" fill-opacity=\"1\"/>\n",
       "<polyline clip-path=\"url(#clip602)\" style=\"stroke:#000000; stroke-linecap:round; stroke-linejoin:round; stroke-width:4; stroke-opacity:1; fill:none\" points=\"17037.8,1423.18 17037.8,1423.18 17106.8,1423.18 17037.8,1423.18 \"/>\n",
       "<path clip-path=\"url(#clip602)\" d=\"M17106.8 1423.18 L17106.8 1423.18 L17175.7 1423.18 L17175.7 1423.18 L17106.8 1423.18 L17106.8 1423.18  Z\" fill=\"#009af9\" fill-rule=\"evenodd\" fill-opacity=\"1\"/>\n",
       "<polyline clip-path=\"url(#clip602)\" style=\"stroke:#000000; stroke-linecap:round; stroke-linejoin:round; stroke-width:4; stroke-opacity:1; fill:none\" points=\"17106.8,1423.18 17106.8,1423.18 17175.7,1423.18 17106.8,1423.18 \"/>\n",
       "<path clip-path=\"url(#clip602)\" d=\"M17175.7 1423.18 L17175.7 1423.18 L17244.7 1423.18 L17244.7 1423.18 L17175.7 1423.18 L17175.7 1423.18  Z\" fill=\"#009af9\" fill-rule=\"evenodd\" fill-opacity=\"1\"/>\n",
       "<polyline clip-path=\"url(#clip602)\" style=\"stroke:#000000; stroke-linecap:round; stroke-linejoin:round; stroke-width:4; stroke-opacity:1; fill:none\" points=\"17175.7,1423.18 17175.7,1423.18 17244.7,1423.18 17175.7,1423.18 \"/>\n",
       "<path clip-path=\"url(#clip602)\" d=\"M17244.7 1423.18 L17244.7 1423.18 L17313.7 1423.18 L17313.7 1423.18 L17244.7 1423.18 L17244.7 1423.18  Z\" fill=\"#009af9\" fill-rule=\"evenodd\" fill-opacity=\"1\"/>\n",
       "<polyline clip-path=\"url(#clip602)\" style=\"stroke:#000000; stroke-linecap:round; stroke-linejoin:round; stroke-width:4; stroke-opacity:1; fill:none\" points=\"17244.7,1423.18 17244.7,1423.18 17313.7,1423.18 17244.7,1423.18 \"/>\n",
       "<path clip-path=\"url(#clip602)\" d=\"M17313.7 1423.18 L17313.7 1423.18 L17382.7 1423.18 L17382.7 1423.18 L17313.7 1423.18 L17313.7 1423.18  Z\" fill=\"#009af9\" fill-rule=\"evenodd\" fill-opacity=\"1\"/>\n",
       "<polyline clip-path=\"url(#clip602)\" style=\"stroke:#000000; stroke-linecap:round; stroke-linejoin:round; stroke-width:4; stroke-opacity:1; fill:none\" points=\"17313.7,1423.18 17313.7,1423.18 17382.7,1423.18 17313.7,1423.18 \"/>\n",
       "<path clip-path=\"url(#clip602)\" d=\"M17382.7 1423.18 L17382.7 1423.18 L17451.7 1423.18 L17451.7 1423.18 L17382.7 1423.18 L17382.7 1423.18  Z\" fill=\"#009af9\" fill-rule=\"evenodd\" fill-opacity=\"1\"/>\n",
       "<polyline clip-path=\"url(#clip602)\" style=\"stroke:#000000; stroke-linecap:round; stroke-linejoin:round; stroke-width:4; stroke-opacity:1; fill:none\" points=\"17382.7,1423.18 17382.7,1423.18 17451.7,1423.18 17382.7,1423.18 \"/>\n",
       "<path clip-path=\"url(#clip602)\" d=\"M17451.7 1423.18 L17451.7 1423.18 L17520.6 1423.18 L17520.6 1423.18 L17451.7 1423.18 L17451.7 1423.18  Z\" fill=\"#009af9\" fill-rule=\"evenodd\" fill-opacity=\"1\"/>\n",
       "<polyline clip-path=\"url(#clip602)\" style=\"stroke:#000000; stroke-linecap:round; stroke-linejoin:round; stroke-width:4; stroke-opacity:1; fill:none\" points=\"17451.7,1423.18 17451.7,1423.18 17520.6,1423.18 17451.7,1423.18 \"/>\n",
       "<path clip-path=\"url(#clip602)\" d=\"M17520.6 1423.18 L17520.6 1423.18 L17589.6 1423.18 L17589.6 1423.18 L17520.6 1423.18 L17520.6 1423.18  Z\" fill=\"#009af9\" fill-rule=\"evenodd\" fill-opacity=\"1\"/>\n",
       "<polyline clip-path=\"url(#clip602)\" style=\"stroke:#000000; stroke-linecap:round; stroke-linejoin:round; stroke-width:4; stroke-opacity:1; fill:none\" points=\"17520.6,1423.18 17520.6,1423.18 17589.6,1423.18 17520.6,1423.18 \"/>\n",
       "<path clip-path=\"url(#clip602)\" d=\"M17589.6 1423.18 L17589.6 1423.18 L17658.6 1423.18 L17658.6 1423.18 L17589.6 1423.18 L17589.6 1423.18  Z\" fill=\"#009af9\" fill-rule=\"evenodd\" fill-opacity=\"1\"/>\n",
       "<polyline clip-path=\"url(#clip602)\" style=\"stroke:#000000; stroke-linecap:round; stroke-linejoin:round; stroke-width:4; stroke-opacity:1; fill:none\" points=\"17589.6,1423.18 17589.6,1423.18 17658.6,1423.18 17589.6,1423.18 \"/>\n",
       "<path clip-path=\"url(#clip602)\" d=\"M17658.6 1423.18 L17658.6 1423.18 L17727.6 1423.18 L17727.6 1423.18 L17658.6 1423.18 L17658.6 1423.18  Z\" fill=\"#009af9\" fill-rule=\"evenodd\" fill-opacity=\"1\"/>\n",
       "<polyline clip-path=\"url(#clip602)\" style=\"stroke:#000000; stroke-linecap:round; stroke-linejoin:round; stroke-width:4; stroke-opacity:1; fill:none\" points=\"17658.6,1423.18 17658.6,1423.18 17727.6,1423.18 17658.6,1423.18 \"/>\n",
       "<path clip-path=\"url(#clip602)\" d=\"M17727.6 1423.18 L17727.6 1423.18 L17796.6 1423.18 L17796.6 1423.18 L17727.6 1423.18 L17727.6 1423.18  Z\" fill=\"#009af9\" fill-rule=\"evenodd\" fill-opacity=\"1\"/>\n",
       "<polyline clip-path=\"url(#clip602)\" style=\"stroke:#000000; stroke-linecap:round; stroke-linejoin:round; stroke-width:4; stroke-opacity:1; fill:none\" points=\"17727.6,1423.18 17727.6,1423.18 17796.6,1423.18 17727.6,1423.18 \"/>\n",
       "<path clip-path=\"url(#clip602)\" d=\"M17796.6 1423.18 L17796.6 1423.18 L17865.5 1423.18 L17865.5 1423.18 L17796.6 1423.18 L17796.6 1423.18  Z\" fill=\"#009af9\" fill-rule=\"evenodd\" fill-opacity=\"1\"/>\n",
       "<polyline clip-path=\"url(#clip602)\" style=\"stroke:#000000; stroke-linecap:round; stroke-linejoin:round; stroke-width:4; stroke-opacity:1; fill:none\" points=\"17796.6,1423.18 17796.6,1423.18 17865.5,1423.18 17796.6,1423.18 \"/>\n",
       "<path clip-path=\"url(#clip602)\" d=\"M17865.5 1423.18 L17865.5 1423.18 L17934.5 1423.18 L17934.5 1423.18 L17865.5 1423.18 L17865.5 1423.18  Z\" fill=\"#009af9\" fill-rule=\"evenodd\" fill-opacity=\"1\"/>\n",
       "<polyline clip-path=\"url(#clip602)\" style=\"stroke:#000000; stroke-linecap:round; stroke-linejoin:round; stroke-width:4; stroke-opacity:1; fill:none\" points=\"17865.5,1423.18 17865.5,1423.18 17934.5,1423.18 17865.5,1423.18 \"/>\n",
       "<path clip-path=\"url(#clip602)\" d=\"M17934.5 1423.18 L17934.5 1423.18 L18003.5 1423.18 L18003.5 1423.18 L17934.5 1423.18 L17934.5 1423.18  Z\" fill=\"#009af9\" fill-rule=\"evenodd\" fill-opacity=\"1\"/>\n",
       "<polyline clip-path=\"url(#clip602)\" style=\"stroke:#000000; stroke-linecap:round; stroke-linejoin:round; stroke-width:4; stroke-opacity:1; fill:none\" points=\"17934.5,1423.18 17934.5,1423.18 18003.5,1423.18 17934.5,1423.18 \"/>\n",
       "<path clip-path=\"url(#clip602)\" d=\"M18003.5 1423.18 L18003.5 1423.18 L18072.5 1423.18 L18072.5 1423.18 L18003.5 1423.18 L18003.5 1423.18  Z\" fill=\"#009af9\" fill-rule=\"evenodd\" fill-opacity=\"1\"/>\n",
       "<polyline clip-path=\"url(#clip602)\" style=\"stroke:#000000; stroke-linecap:round; stroke-linejoin:round; stroke-width:4; stroke-opacity:1; fill:none\" points=\"18003.5,1423.18 18003.5,1423.18 18072.5,1423.18 18003.5,1423.18 \"/>\n",
       "<path clip-path=\"url(#clip602)\" d=\"M18072.5 1423.18 L18072.5 1423.18 L18141.5 1423.18 L18141.5 1423.18 L18072.5 1423.18 L18072.5 1423.18  Z\" fill=\"#009af9\" fill-rule=\"evenodd\" fill-opacity=\"1\"/>\n",
       "<polyline clip-path=\"url(#clip602)\" style=\"stroke:#000000; stroke-linecap:round; stroke-linejoin:round; stroke-width:4; stroke-opacity:1; fill:none\" points=\"18072.5,1423.18 18072.5,1423.18 18141.5,1423.18 18072.5,1423.18 \"/>\n",
       "<path clip-path=\"url(#clip602)\" d=\"M18141.5 1423.18 L18141.5 1423.18 L18210.5 1423.18 L18210.5 1423.18 L18141.5 1423.18 L18141.5 1423.18  Z\" fill=\"#009af9\" fill-rule=\"evenodd\" fill-opacity=\"1\"/>\n",
       "<polyline clip-path=\"url(#clip602)\" style=\"stroke:#000000; stroke-linecap:round; stroke-linejoin:round; stroke-width:4; stroke-opacity:1; fill:none\" points=\"18141.5,1423.18 18141.5,1423.18 18210.5,1423.18 18141.5,1423.18 \"/>\n",
       "<path clip-path=\"url(#clip602)\" d=\"M18210.5 1423.18 L18210.5 1423.18 L18279.4 1423.18 L18279.4 1423.18 L18210.5 1423.18 L18210.5 1423.18  Z\" fill=\"#009af9\" fill-rule=\"evenodd\" fill-opacity=\"1\"/>\n",
       "<polyline clip-path=\"url(#clip602)\" style=\"stroke:#000000; stroke-linecap:round; stroke-linejoin:round; stroke-width:4; stroke-opacity:1; fill:none\" points=\"18210.5,1423.18 18210.5,1423.18 18279.4,1423.18 18210.5,1423.18 \"/>\n",
       "<path clip-path=\"url(#clip602)\" d=\"M18279.4 1423.18 L18279.4 1423.18 L18348.4 1423.18 L18348.4 1423.18 L18279.4 1423.18 L18279.4 1423.18  Z\" fill=\"#009af9\" fill-rule=\"evenodd\" fill-opacity=\"1\"/>\n",
       "<polyline clip-path=\"url(#clip602)\" style=\"stroke:#000000; stroke-linecap:round; stroke-linejoin:round; stroke-width:4; stroke-opacity:1; fill:none\" points=\"18279.4,1423.18 18279.4,1423.18 18348.4,1423.18 18279.4,1423.18 \"/>\n",
       "<path clip-path=\"url(#clip602)\" d=\"M18348.4 1423.18 L18348.4 1423.18 L18417.4 1423.18 L18417.4 1423.18 L18348.4 1423.18 L18348.4 1423.18  Z\" fill=\"#009af9\" fill-rule=\"evenodd\" fill-opacity=\"1\"/>\n",
       "<polyline clip-path=\"url(#clip602)\" style=\"stroke:#000000; stroke-linecap:round; stroke-linejoin:round; stroke-width:4; stroke-opacity:1; fill:none\" points=\"18348.4,1423.18 18348.4,1423.18 18417.4,1423.18 18348.4,1423.18 \"/>\n",
       "<path clip-path=\"url(#clip602)\" d=\"M18417.4 1423.18 L18417.4 1423.18 L18486.4 1423.18 L18486.4 1423.18 L18417.4 1423.18 L18417.4 1423.18  Z\" fill=\"#009af9\" fill-rule=\"evenodd\" fill-opacity=\"1\"/>\n",
       "<polyline clip-path=\"url(#clip602)\" style=\"stroke:#000000; stroke-linecap:round; stroke-linejoin:round; stroke-width:4; stroke-opacity:1; fill:none\" points=\"18417.4,1423.18 18417.4,1423.18 18486.4,1423.18 18417.4,1423.18 \"/>\n",
       "<path clip-path=\"url(#clip602)\" d=\"M18486.4 1423.18 L18486.4 1423.18 L18555.4 1423.18 L18555.4 1423.18 L18486.4 1423.18 L18486.4 1423.18  Z\" fill=\"#009af9\" fill-rule=\"evenodd\" fill-opacity=\"1\"/>\n",
       "<polyline clip-path=\"url(#clip602)\" style=\"stroke:#000000; stroke-linecap:round; stroke-linejoin:round; stroke-width:4; stroke-opacity:1; fill:none\" points=\"18486.4,1423.18 18486.4,1423.18 18555.4,1423.18 18486.4,1423.18 \"/>\n",
       "<path clip-path=\"url(#clip602)\" d=\"M18555.4 1423.18 L18555.4 1423.18 L18624.3 1423.18 L18624.3 1423.18 L18555.4 1423.18 L18555.4 1423.18  Z\" fill=\"#009af9\" fill-rule=\"evenodd\" fill-opacity=\"1\"/>\n",
       "<polyline clip-path=\"url(#clip602)\" style=\"stroke:#000000; stroke-linecap:round; stroke-linejoin:round; stroke-width:4; stroke-opacity:1; fill:none\" points=\"18555.4,1423.18 18555.4,1423.18 18624.3,1423.18 18555.4,1423.18 \"/>\n",
       "<path clip-path=\"url(#clip602)\" d=\"M18624.3 1423.18 L18624.3 1423.18 L18693.3 1423.18 L18693.3 1423.18 L18624.3 1423.18 L18624.3 1423.18  Z\" fill=\"#009af9\" fill-rule=\"evenodd\" fill-opacity=\"1\"/>\n",
       "<polyline clip-path=\"url(#clip602)\" style=\"stroke:#000000; stroke-linecap:round; stroke-linejoin:round; stroke-width:4; stroke-opacity:1; fill:none\" points=\"18624.3,1423.18 18624.3,1423.18 18693.3,1423.18 18624.3,1423.18 \"/>\n",
       "<path clip-path=\"url(#clip602)\" d=\"M18693.3 1423.18 L18693.3 1423.18 L18762.3 1423.18 L18762.3 1423.18 L18693.3 1423.18 L18693.3 1423.18  Z\" fill=\"#009af9\" fill-rule=\"evenodd\" fill-opacity=\"1\"/>\n",
       "<polyline clip-path=\"url(#clip602)\" style=\"stroke:#000000; stroke-linecap:round; stroke-linejoin:round; stroke-width:4; stroke-opacity:1; fill:none\" points=\"18693.3,1423.18 18693.3,1423.18 18762.3,1423.18 18693.3,1423.18 \"/>\n",
       "<path clip-path=\"url(#clip602)\" d=\"M18762.3 1423.18 L18762.3 1423.18 L18831.3 1423.18 L18831.3 1423.18 L18762.3 1423.18 L18762.3 1423.18  Z\" fill=\"#009af9\" fill-rule=\"evenodd\" fill-opacity=\"1\"/>\n",
       "<polyline clip-path=\"url(#clip602)\" style=\"stroke:#000000; stroke-linecap:round; stroke-linejoin:round; stroke-width:4; stroke-opacity:1; fill:none\" points=\"18762.3,1423.18 18762.3,1423.18 18831.3,1423.18 18762.3,1423.18 \"/>\n",
       "<path clip-path=\"url(#clip602)\" d=\"M18831.3 1423.18 L18831.3 1423.18 L18900.3 1423.18 L18900.3 1423.18 L18831.3 1423.18 L18831.3 1423.18  Z\" fill=\"#009af9\" fill-rule=\"evenodd\" fill-opacity=\"1\"/>\n",
       "<polyline clip-path=\"url(#clip602)\" style=\"stroke:#000000; stroke-linecap:round; stroke-linejoin:round; stroke-width:4; stroke-opacity:1; fill:none\" points=\"18831.3,1423.18 18831.3,1423.18 18900.3,1423.18 18831.3,1423.18 \"/>\n",
       "<path clip-path=\"url(#clip602)\" d=\"M18900.3 1423.18 L18900.3 1423.18 L18969.2 1423.18 L18969.2 1423.18 L18900.3 1423.18 L18900.3 1423.18  Z\" fill=\"#009af9\" fill-rule=\"evenodd\" fill-opacity=\"1\"/>\n",
       "<polyline clip-path=\"url(#clip602)\" style=\"stroke:#000000; stroke-linecap:round; stroke-linejoin:round; stroke-width:4; stroke-opacity:1; fill:none\" points=\"18900.3,1423.18 18900.3,1423.18 18969.2,1423.18 18900.3,1423.18 \"/>\n",
       "<path clip-path=\"url(#clip602)\" d=\"M18969.2 1423.18 L18969.2 1423.18 L19038.2 1423.18 L19038.2 1423.18 L18969.2 1423.18 L18969.2 1423.18  Z\" fill=\"#009af9\" fill-rule=\"evenodd\" fill-opacity=\"1\"/>\n",
       "<polyline clip-path=\"url(#clip602)\" style=\"stroke:#000000; stroke-linecap:round; stroke-linejoin:round; stroke-width:4; stroke-opacity:1; fill:none\" points=\"18969.2,1423.18 18969.2,1423.18 19038.2,1423.18 18969.2,1423.18 \"/>\n",
       "<path clip-path=\"url(#clip602)\" d=\"M19038.2 1423.18 L19038.2 1423.18 L19107.2 1423.18 L19107.2 1423.18 L19038.2 1423.18 L19038.2 1423.18  Z\" fill=\"#009af9\" fill-rule=\"evenodd\" fill-opacity=\"1\"/>\n",
       "<polyline clip-path=\"url(#clip602)\" style=\"stroke:#000000; stroke-linecap:round; stroke-linejoin:round; stroke-width:4; stroke-opacity:1; fill:none\" points=\"19038.2,1423.18 19038.2,1423.18 19107.2,1423.18 19038.2,1423.18 \"/>\n",
       "<path clip-path=\"url(#clip602)\" d=\"M19107.2 1423.18 L19107.2 1423.18 L19176.2 1423.18 L19176.2 1423.18 L19107.2 1423.18 L19107.2 1423.18  Z\" fill=\"#009af9\" fill-rule=\"evenodd\" fill-opacity=\"1\"/>\n",
       "<polyline clip-path=\"url(#clip602)\" style=\"stroke:#000000; stroke-linecap:round; stroke-linejoin:round; stroke-width:4; stroke-opacity:1; fill:none\" points=\"19107.2,1423.18 19107.2,1423.18 19176.2,1423.18 19107.2,1423.18 \"/>\n",
       "<path clip-path=\"url(#clip602)\" d=\"M19176.2 1423.18 L19176.2 1423.18 L19245.2 1423.18 L19245.2 1423.18 L19176.2 1423.18 L19176.2 1423.18  Z\" fill=\"#009af9\" fill-rule=\"evenodd\" fill-opacity=\"1\"/>\n",
       "<polyline clip-path=\"url(#clip602)\" style=\"stroke:#000000; stroke-linecap:round; stroke-linejoin:round; stroke-width:4; stroke-opacity:1; fill:none\" points=\"19176.2,1423.18 19176.2,1423.18 19245.2,1423.18 19176.2,1423.18 \"/>\n",
       "<path clip-path=\"url(#clip602)\" d=\"M19245.2 1423.18 L19245.2 1423.18 L19314.2 1423.18 L19314.2 1423.18 L19245.2 1423.18 L19245.2 1423.18  Z\" fill=\"#009af9\" fill-rule=\"evenodd\" fill-opacity=\"1\"/>\n",
       "<polyline clip-path=\"url(#clip602)\" style=\"stroke:#000000; stroke-linecap:round; stroke-linejoin:round; stroke-width:4; stroke-opacity:1; fill:none\" points=\"19245.2,1423.18 19245.2,1423.18 19314.2,1423.18 19245.2,1423.18 \"/>\n",
       "<path clip-path=\"url(#clip602)\" d=\"M19314.2 1423.18 L19314.2 1423.18 L19383.1 1423.18 L19383.1 1423.18 L19314.2 1423.18 L19314.2 1423.18  Z\" fill=\"#009af9\" fill-rule=\"evenodd\" fill-opacity=\"1\"/>\n",
       "<polyline clip-path=\"url(#clip602)\" style=\"stroke:#000000; stroke-linecap:round; stroke-linejoin:round; stroke-width:4; stroke-opacity:1; fill:none\" points=\"19314.2,1423.18 19314.2,1423.18 19383.1,1423.18 19314.2,1423.18 \"/>\n",
       "<path clip-path=\"url(#clip602)\" d=\"M19383.1 1423.18 L19383.1 1423.18 L19452.1 1423.18 L19452.1 1423.18 L19383.1 1423.18 L19383.1 1423.18  Z\" fill=\"#009af9\" fill-rule=\"evenodd\" fill-opacity=\"1\"/>\n",
       "<polyline clip-path=\"url(#clip602)\" style=\"stroke:#000000; stroke-linecap:round; stroke-linejoin:round; stroke-width:4; stroke-opacity:1; fill:none\" points=\"19383.1,1423.18 19383.1,1423.18 19452.1,1423.18 19383.1,1423.18 \"/>\n",
       "<path clip-path=\"url(#clip602)\" d=\"M19452.1 1423.18 L19452.1 1423.18 L19521.1 1423.18 L19521.1 1423.18 L19452.1 1423.18 L19452.1 1423.18  Z\" fill=\"#009af9\" fill-rule=\"evenodd\" fill-opacity=\"1\"/>\n",
       "<polyline clip-path=\"url(#clip602)\" style=\"stroke:#000000; stroke-linecap:round; stroke-linejoin:round; stroke-width:4; stroke-opacity:1; fill:none\" points=\"19452.1,1423.18 19452.1,1423.18 19521.1,1423.18 19452.1,1423.18 \"/>\n",
       "<path clip-path=\"url(#clip602)\" d=\"M19521.1 1423.18 L19521.1 1423.18 L19590.1 1423.18 L19590.1 1423.18 L19521.1 1423.18 L19521.1 1423.18  Z\" fill=\"#009af9\" fill-rule=\"evenodd\" fill-opacity=\"1\"/>\n",
       "<polyline clip-path=\"url(#clip602)\" style=\"stroke:#000000; stroke-linecap:round; stroke-linejoin:round; stroke-width:4; stroke-opacity:1; fill:none\" points=\"19521.1,1423.18 19521.1,1423.18 19590.1,1423.18 19521.1,1423.18 \"/>\n",
       "<path clip-path=\"url(#clip602)\" d=\"M19590.1 1423.18 L19590.1 1423.18 L19659.1 1423.18 L19659.1 1423.18 L19590.1 1423.18 L19590.1 1423.18  Z\" fill=\"#009af9\" fill-rule=\"evenodd\" fill-opacity=\"1\"/>\n",
       "<polyline clip-path=\"url(#clip602)\" style=\"stroke:#000000; stroke-linecap:round; stroke-linejoin:round; stroke-width:4; stroke-opacity:1; fill:none\" points=\"19590.1,1423.18 19590.1,1423.18 19659.1,1423.18 19590.1,1423.18 \"/>\n",
       "<path clip-path=\"url(#clip602)\" d=\"M19659.1 1423.18 L19659.1 1423.18 L19728 1423.18 L19728 1423.18 L19659.1 1423.18 L19659.1 1423.18  Z\" fill=\"#009af9\" fill-rule=\"evenodd\" fill-opacity=\"1\"/>\n",
       "<polyline clip-path=\"url(#clip602)\" style=\"stroke:#000000; stroke-linecap:round; stroke-linejoin:round; stroke-width:4; stroke-opacity:1; fill:none\" points=\"19659.1,1423.18 19659.1,1423.18 19728,1423.18 19659.1,1423.18 \"/>\n",
       "<path clip-path=\"url(#clip602)\" d=\"M19728 1423.18 L19728 1423.18 L19797 1423.18 L19797 1423.18 L19728 1423.18 L19728 1423.18  Z\" fill=\"#009af9\" fill-rule=\"evenodd\" fill-opacity=\"1\"/>\n",
       "<polyline clip-path=\"url(#clip602)\" style=\"stroke:#000000; stroke-linecap:round; stroke-linejoin:round; stroke-width:4; stroke-opacity:1; fill:none\" points=\"19728,1423.18 19728,1423.18 19797,1423.18 19728,1423.18 \"/>\n",
       "<path clip-path=\"url(#clip602)\" d=\"M19797 1423.18 L19797 1423.18 L19866 1423.18 L19866 1423.18 L19797 1423.18 L19797 1423.18  Z\" fill=\"#009af9\" fill-rule=\"evenodd\" fill-opacity=\"1\"/>\n",
       "<polyline clip-path=\"url(#clip602)\" style=\"stroke:#000000; stroke-linecap:round; stroke-linejoin:round; stroke-width:4; stroke-opacity:1; fill:none\" points=\"19797,1423.18 19797,1423.18 19866,1423.18 19797,1423.18 \"/>\n",
       "<path clip-path=\"url(#clip602)\" d=\"M19866 1423.18 L19866 1423.18 L19935 1423.18 L19935 1423.18 L19866 1423.18 L19866 1423.18  Z\" fill=\"#009af9\" fill-rule=\"evenodd\" fill-opacity=\"1\"/>\n",
       "<polyline clip-path=\"url(#clip602)\" style=\"stroke:#000000; stroke-linecap:round; stroke-linejoin:round; stroke-width:4; stroke-opacity:1; fill:none\" points=\"19866,1423.18 19866,1423.18 19935,1423.18 19866,1423.18 \"/>\n",
       "<path clip-path=\"url(#clip602)\" d=\"M19935 1423.18 L19935 1423.18 L20004 1423.18 L20004 1423.18 L19935 1423.18 L19935 1423.18  Z\" fill=\"#009af9\" fill-rule=\"evenodd\" fill-opacity=\"1\"/>\n",
       "<polyline clip-path=\"url(#clip602)\" style=\"stroke:#000000; stroke-linecap:round; stroke-linejoin:round; stroke-width:4; stroke-opacity:1; fill:none\" points=\"19935,1423.18 19935,1423.18 20004,1423.18 19935,1423.18 \"/>\n",
       "<path clip-path=\"url(#clip602)\" d=\"M20004 1423.18 L20004 1423.18 L20072.9 1423.18 L20072.9 1423.18 L20004 1423.18 L20004 1423.18  Z\" fill=\"#009af9\" fill-rule=\"evenodd\" fill-opacity=\"1\"/>\n",
       "<polyline clip-path=\"url(#clip602)\" style=\"stroke:#000000; stroke-linecap:round; stroke-linejoin:round; stroke-width:4; stroke-opacity:1; fill:none\" points=\"20004,1423.18 20004,1423.18 20072.9,1423.18 20004,1423.18 \"/>\n",
       "<path clip-path=\"url(#clip602)\" d=\"M20072.9 1423.18 L20072.9 1423.18 L20141.9 1423.18 L20141.9 1423.18 L20072.9 1423.18 L20072.9 1423.18  Z\" fill=\"#009af9\" fill-rule=\"evenodd\" fill-opacity=\"1\"/>\n",
       "<polyline clip-path=\"url(#clip602)\" style=\"stroke:#000000; stroke-linecap:round; stroke-linejoin:round; stroke-width:4; stroke-opacity:1; fill:none\" points=\"20072.9,1423.18 20072.9,1423.18 20141.9,1423.18 20072.9,1423.18 \"/>\n",
       "<path clip-path=\"url(#clip602)\" d=\"M20141.9 1423.18 L20141.9 1423.18 L20210.9 1423.18 L20210.9 1423.18 L20141.9 1423.18 L20141.9 1423.18  Z\" fill=\"#009af9\" fill-rule=\"evenodd\" fill-opacity=\"1\"/>\n",
       "<polyline clip-path=\"url(#clip602)\" style=\"stroke:#000000; stroke-linecap:round; stroke-linejoin:round; stroke-width:4; stroke-opacity:1; fill:none\" points=\"20141.9,1423.18 20141.9,1423.18 20210.9,1423.18 20141.9,1423.18 \"/>\n",
       "<path clip-path=\"url(#clip602)\" d=\"M20210.9 1423.18 L20210.9 1423.18 L20279.9 1423.18 L20279.9 1423.18 L20210.9 1423.18 L20210.9 1423.18  Z\" fill=\"#009af9\" fill-rule=\"evenodd\" fill-opacity=\"1\"/>\n",
       "<polyline clip-path=\"url(#clip602)\" style=\"stroke:#000000; stroke-linecap:round; stroke-linejoin:round; stroke-width:4; stroke-opacity:1; fill:none\" points=\"20210.9,1423.18 20210.9,1423.18 20279.9,1423.18 20210.9,1423.18 \"/>\n",
       "<path clip-path=\"url(#clip602)\" d=\"M20279.9 1423.18 L20279.9 1423.18 L20348.9 1423.18 L20348.9 1423.18 L20279.9 1423.18 L20279.9 1423.18  Z\" fill=\"#009af9\" fill-rule=\"evenodd\" fill-opacity=\"1\"/>\n",
       "<polyline clip-path=\"url(#clip602)\" style=\"stroke:#000000; stroke-linecap:round; stroke-linejoin:round; stroke-width:4; stroke-opacity:1; fill:none\" points=\"20279.9,1423.18 20279.9,1423.18 20348.9,1423.18 20279.9,1423.18 \"/>\n",
       "<path clip-path=\"url(#clip602)\" d=\"M20348.9 1423.18 L20348.9 1423.18 L20417.8 1423.18 L20417.8 1423.18 L20348.9 1423.18 L20348.9 1423.18  Z\" fill=\"#009af9\" fill-rule=\"evenodd\" fill-opacity=\"1\"/>\n",
       "<polyline clip-path=\"url(#clip602)\" style=\"stroke:#000000; stroke-linecap:round; stroke-linejoin:round; stroke-width:4; stroke-opacity:1; fill:none\" points=\"20348.9,1423.18 20348.9,1423.18 20417.8,1423.18 20348.9,1423.18 \"/>\n",
       "<path clip-path=\"url(#clip602)\" d=\"M20417.8 1423.18 L20417.8 1423.18 L20486.8 1423.18 L20486.8 1423.18 L20417.8 1423.18 L20417.8 1423.18  Z\" fill=\"#009af9\" fill-rule=\"evenodd\" fill-opacity=\"1\"/>\n",
       "<polyline clip-path=\"url(#clip602)\" style=\"stroke:#000000; stroke-linecap:round; stroke-linejoin:round; stroke-width:4; stroke-opacity:1; fill:none\" points=\"20417.8,1423.18 20417.8,1423.18 20486.8,1423.18 20417.8,1423.18 \"/>\n",
       "<path clip-path=\"url(#clip602)\" d=\"M20486.8 1423.18 L20486.8 1423.18 L20555.8 1423.18 L20555.8 1423.18 L20486.8 1423.18 L20486.8 1423.18  Z\" fill=\"#009af9\" fill-rule=\"evenodd\" fill-opacity=\"1\"/>\n",
       "<polyline clip-path=\"url(#clip602)\" style=\"stroke:#000000; stroke-linecap:round; stroke-linejoin:round; stroke-width:4; stroke-opacity:1; fill:none\" points=\"20486.8,1423.18 20486.8,1423.18 20555.8,1423.18 20486.8,1423.18 \"/>\n",
       "<path clip-path=\"url(#clip602)\" d=\"M20555.8 1423.18 L20555.8 1423.18 L20624.8 1423.18 L20624.8 1423.18 L20555.8 1423.18 L20555.8 1423.18  Z\" fill=\"#009af9\" fill-rule=\"evenodd\" fill-opacity=\"1\"/>\n",
       "<polyline clip-path=\"url(#clip602)\" style=\"stroke:#000000; stroke-linecap:round; stroke-linejoin:round; stroke-width:4; stroke-opacity:1; fill:none\" points=\"20555.8,1423.18 20555.8,1423.18 20624.8,1423.18 20555.8,1423.18 \"/>\n",
       "<path clip-path=\"url(#clip602)\" d=\"M20624.8 1423.18 L20624.8 1423.18 L20693.8 1423.18 L20693.8 1423.18 L20624.8 1423.18 L20624.8 1423.18  Z\" fill=\"#009af9\" fill-rule=\"evenodd\" fill-opacity=\"1\"/>\n",
       "<polyline clip-path=\"url(#clip602)\" style=\"stroke:#000000; stroke-linecap:round; stroke-linejoin:round; stroke-width:4; stroke-opacity:1; fill:none\" points=\"20624.8,1423.18 20624.8,1423.18 20693.8,1423.18 20624.8,1423.18 \"/>\n",
       "<path clip-path=\"url(#clip602)\" d=\"M20693.8 1423.18 L20693.8 1423.18 L20762.8 1423.18 L20762.8 1423.18 L20693.8 1423.18 L20693.8 1423.18  Z\" fill=\"#009af9\" fill-rule=\"evenodd\" fill-opacity=\"1\"/>\n",
       "<polyline clip-path=\"url(#clip602)\" style=\"stroke:#000000; stroke-linecap:round; stroke-linejoin:round; stroke-width:4; stroke-opacity:1; fill:none\" points=\"20693.8,1423.18 20693.8,1423.18 20762.8,1423.18 20693.8,1423.18 \"/>\n",
       "<path clip-path=\"url(#clip602)\" d=\"M20762.8 1423.18 L20762.8 1423.18 L20831.7 1423.18 L20831.7 1423.18 L20762.8 1423.18 L20762.8 1423.18  Z\" fill=\"#009af9\" fill-rule=\"evenodd\" fill-opacity=\"1\"/>\n",
       "<polyline clip-path=\"url(#clip602)\" style=\"stroke:#000000; stroke-linecap:round; stroke-linejoin:round; stroke-width:4; stroke-opacity:1; fill:none\" points=\"20762.8,1423.18 20762.8,1423.18 20831.7,1423.18 20762.8,1423.18 \"/>\n",
       "<path clip-path=\"url(#clip602)\" d=\"M20831.7 1423.18 L20831.7 1423.18 L20900.7 1423.18 L20900.7 1423.18 L20831.7 1423.18 L20831.7 1423.18  Z\" fill=\"#009af9\" fill-rule=\"evenodd\" fill-opacity=\"1\"/>\n",
       "<polyline clip-path=\"url(#clip602)\" style=\"stroke:#000000; stroke-linecap:round; stroke-linejoin:round; stroke-width:4; stroke-opacity:1; fill:none\" points=\"20831.7,1423.18 20831.7,1423.18 20900.7,1423.18 20831.7,1423.18 \"/>\n",
       "<path clip-path=\"url(#clip602)\" d=\"M20900.7 1423.18 L20900.7 1423.18 L20969.7 1423.18 L20969.7 1423.18 L20900.7 1423.18 L20900.7 1423.18  Z\" fill=\"#009af9\" fill-rule=\"evenodd\" fill-opacity=\"1\"/>\n",
       "<polyline clip-path=\"url(#clip602)\" style=\"stroke:#000000; stroke-linecap:round; stroke-linejoin:round; stroke-width:4; stroke-opacity:1; fill:none\" points=\"20900.7,1423.18 20900.7,1423.18 20969.7,1423.18 20900.7,1423.18 \"/>\n",
       "<path clip-path=\"url(#clip602)\" d=\"M20969.7 1423.18 L20969.7 1423.18 L21038.7 1423.18 L21038.7 1423.18 L20969.7 1423.18 L20969.7 1423.18  Z\" fill=\"#009af9\" fill-rule=\"evenodd\" fill-opacity=\"1\"/>\n",
       "<polyline clip-path=\"url(#clip602)\" style=\"stroke:#000000; stroke-linecap:round; stroke-linejoin:round; stroke-width:4; stroke-opacity:1; fill:none\" points=\"20969.7,1423.18 20969.7,1423.18 21038.7,1423.18 20969.7,1423.18 \"/>\n",
       "<path clip-path=\"url(#clip602)\" d=\"M21038.7 1423.18 L21038.7 1423.18 L21107.7 1423.18 L21107.7 1423.18 L21038.7 1423.18 L21038.7 1423.18  Z\" fill=\"#009af9\" fill-rule=\"evenodd\" fill-opacity=\"1\"/>\n",
       "<polyline clip-path=\"url(#clip602)\" style=\"stroke:#000000; stroke-linecap:round; stroke-linejoin:round; stroke-width:4; stroke-opacity:1; fill:none\" points=\"21038.7,1423.18 21038.7,1423.18 21107.7,1423.18 21038.7,1423.18 \"/>\n",
       "<path clip-path=\"url(#clip602)\" d=\"M21107.7 1423.18 L21107.7 1423.18 L21176.6 1423.18 L21176.6 1423.18 L21107.7 1423.18 L21107.7 1423.18  Z\" fill=\"#009af9\" fill-rule=\"evenodd\" fill-opacity=\"1\"/>\n",
       "<polyline clip-path=\"url(#clip602)\" style=\"stroke:#000000; stroke-linecap:round; stroke-linejoin:round; stroke-width:4; stroke-opacity:1; fill:none\" points=\"21107.7,1423.18 21107.7,1423.18 21176.6,1423.18 21107.7,1423.18 \"/>\n",
       "<path clip-path=\"url(#clip602)\" d=\"M21176.6 1423.18 L21176.6 1423.18 L21245.6 1423.18 L21245.6 1423.18 L21176.6 1423.18 L21176.6 1423.18  Z\" fill=\"#009af9\" fill-rule=\"evenodd\" fill-opacity=\"1\"/>\n",
       "<polyline clip-path=\"url(#clip602)\" style=\"stroke:#000000; stroke-linecap:round; stroke-linejoin:round; stroke-width:4; stroke-opacity:1; fill:none\" points=\"21176.6,1423.18 21176.6,1423.18 21245.6,1423.18 21176.6,1423.18 \"/>\n",
       "<path clip-path=\"url(#clip602)\" d=\"M21245.6 1423.18 L21245.6 1423.18 L21314.6 1423.18 L21314.6 1423.18 L21245.6 1423.18 L21245.6 1423.18  Z\" fill=\"#009af9\" fill-rule=\"evenodd\" fill-opacity=\"1\"/>\n",
       "<polyline clip-path=\"url(#clip602)\" style=\"stroke:#000000; stroke-linecap:round; stroke-linejoin:round; stroke-width:4; stroke-opacity:1; fill:none\" points=\"21245.6,1423.18 21245.6,1423.18 21314.6,1423.18 21245.6,1423.18 \"/>\n",
       "<path clip-path=\"url(#clip602)\" d=\"M21314.6 1423.18 L21314.6 1423.18 L21383.6 1423.18 L21383.6 1423.18 L21314.6 1423.18 L21314.6 1423.18  Z\" fill=\"#009af9\" fill-rule=\"evenodd\" fill-opacity=\"1\"/>\n",
       "<polyline clip-path=\"url(#clip602)\" style=\"stroke:#000000; stroke-linecap:round; stroke-linejoin:round; stroke-width:4; stroke-opacity:1; fill:none\" points=\"21314.6,1423.18 21314.6,1423.18 21383.6,1423.18 21314.6,1423.18 \"/>\n",
       "<path clip-path=\"url(#clip602)\" d=\"M21383.6 1423.18 L21383.6 1423.18 L21452.6 1423.18 L21452.6 1423.18 L21383.6 1423.18 L21383.6 1423.18  Z\" fill=\"#009af9\" fill-rule=\"evenodd\" fill-opacity=\"1\"/>\n",
       "<polyline clip-path=\"url(#clip602)\" style=\"stroke:#000000; stroke-linecap:round; stroke-linejoin:round; stroke-width:4; stroke-opacity:1; fill:none\" points=\"21383.6,1423.18 21383.6,1423.18 21452.6,1423.18 21383.6,1423.18 \"/>\n",
       "<path clip-path=\"url(#clip602)\" d=\"M21452.6 1423.18 L21452.6 1423.18 L21521.5 1423.18 L21521.5 1423.18 L21452.6 1423.18 L21452.6 1423.18  Z\" fill=\"#009af9\" fill-rule=\"evenodd\" fill-opacity=\"1\"/>\n",
       "<polyline clip-path=\"url(#clip602)\" style=\"stroke:#000000; stroke-linecap:round; stroke-linejoin:round; stroke-width:4; stroke-opacity:1; fill:none\" points=\"21452.6,1423.18 21452.6,1423.18 21521.5,1423.18 21452.6,1423.18 \"/>\n",
       "<path clip-path=\"url(#clip602)\" d=\"M21521.5 1423.18 L21521.5 1423.18 L21590.5 1423.18 L21590.5 1423.18 L21521.5 1423.18 L21521.5 1423.18  Z\" fill=\"#009af9\" fill-rule=\"evenodd\" fill-opacity=\"1\"/>\n",
       "<polyline clip-path=\"url(#clip602)\" style=\"stroke:#000000; stroke-linecap:round; stroke-linejoin:round; stroke-width:4; stroke-opacity:1; fill:none\" points=\"21521.5,1423.18 21521.5,1423.18 21590.5,1423.18 21521.5,1423.18 \"/>\n",
       "<path clip-path=\"url(#clip602)\" d=\"M21590.5 1423.18 L21590.5 1423.18 L21659.5 1423.18 L21659.5 1423.18 L21590.5 1423.18 L21590.5 1423.18  Z\" fill=\"#009af9\" fill-rule=\"evenodd\" fill-opacity=\"1\"/>\n",
       "<polyline clip-path=\"url(#clip602)\" style=\"stroke:#000000; stroke-linecap:round; stroke-linejoin:round; stroke-width:4; stroke-opacity:1; fill:none\" points=\"21590.5,1423.18 21590.5,1423.18 21659.5,1423.18 21590.5,1423.18 \"/>\n",
       "<path clip-path=\"url(#clip602)\" d=\"M21659.5 1423.18 L21659.5 1423.18 L21728.5 1423.18 L21728.5 1423.18 L21659.5 1423.18 L21659.5 1423.18  Z\" fill=\"#009af9\" fill-rule=\"evenodd\" fill-opacity=\"1\"/>\n",
       "<polyline clip-path=\"url(#clip602)\" style=\"stroke:#000000; stroke-linecap:round; stroke-linejoin:round; stroke-width:4; stroke-opacity:1; fill:none\" points=\"21659.5,1423.18 21659.5,1423.18 21728.5,1423.18 21659.5,1423.18 \"/>\n",
       "<path clip-path=\"url(#clip602)\" d=\"M21728.5 1423.18 L21728.5 1423.18 L21797.5 1423.18 L21797.5 1423.18 L21728.5 1423.18 L21728.5 1423.18  Z\" fill=\"#009af9\" fill-rule=\"evenodd\" fill-opacity=\"1\"/>\n",
       "<polyline clip-path=\"url(#clip602)\" style=\"stroke:#000000; stroke-linecap:round; stroke-linejoin:round; stroke-width:4; stroke-opacity:1; fill:none\" points=\"21728.5,1423.18 21728.5,1423.18 21797.5,1423.18 21728.5,1423.18 \"/>\n",
       "<path clip-path=\"url(#clip602)\" d=\"M21797.5 1423.18 L21797.5 1423.18 L21866.5 1423.18 L21866.5 1423.18 L21797.5 1423.18 L21797.5 1423.18  Z\" fill=\"#009af9\" fill-rule=\"evenodd\" fill-opacity=\"1\"/>\n",
       "<polyline clip-path=\"url(#clip602)\" style=\"stroke:#000000; stroke-linecap:round; stroke-linejoin:round; stroke-width:4; stroke-opacity:1; fill:none\" points=\"21797.5,1423.18 21797.5,1423.18 21866.5,1423.18 21797.5,1423.18 \"/>\n",
       "<path clip-path=\"url(#clip602)\" d=\"M21866.5 1423.18 L21866.5 1423.18 L21935.4 1423.18 L21935.4 1423.18 L21866.5 1423.18 L21866.5 1423.18  Z\" fill=\"#009af9\" fill-rule=\"evenodd\" fill-opacity=\"1\"/>\n",
       "<polyline clip-path=\"url(#clip602)\" style=\"stroke:#000000; stroke-linecap:round; stroke-linejoin:round; stroke-width:4; stroke-opacity:1; fill:none\" points=\"21866.5,1423.18 21866.5,1423.18 21935.4,1423.18 21866.5,1423.18 \"/>\n",
       "<path clip-path=\"url(#clip602)\" d=\"M21935.4 1423.18 L21935.4 1423.18 L22004.4 1423.18 L22004.4 1423.18 L21935.4 1423.18 L21935.4 1423.18  Z\" fill=\"#009af9\" fill-rule=\"evenodd\" fill-opacity=\"1\"/>\n",
       "<polyline clip-path=\"url(#clip602)\" style=\"stroke:#000000; stroke-linecap:round; stroke-linejoin:round; stroke-width:4; stroke-opacity:1; fill:none\" points=\"21935.4,1423.18 21935.4,1423.18 22004.4,1423.18 21935.4,1423.18 \"/>\n",
       "<path clip-path=\"url(#clip602)\" d=\"M22004.4 1423.18 L22004.4 1423.18 L22073.4 1423.18 L22073.4 1423.18 L22004.4 1423.18 L22004.4 1423.18  Z\" fill=\"#009af9\" fill-rule=\"evenodd\" fill-opacity=\"1\"/>\n",
       "<polyline clip-path=\"url(#clip602)\" style=\"stroke:#000000; stroke-linecap:round; stroke-linejoin:round; stroke-width:4; stroke-opacity:1; fill:none\" points=\"22004.4,1423.18 22004.4,1423.18 22073.4,1423.18 22004.4,1423.18 \"/>\n",
       "<path clip-path=\"url(#clip602)\" d=\"M22073.4 1423.18 L22073.4 1423.18 L22142.4 1423.18 L22142.4 1423.18 L22073.4 1423.18 L22073.4 1423.18  Z\" fill=\"#009af9\" fill-rule=\"evenodd\" fill-opacity=\"1\"/>\n",
       "<polyline clip-path=\"url(#clip602)\" style=\"stroke:#000000; stroke-linecap:round; stroke-linejoin:round; stroke-width:4; stroke-opacity:1; fill:none\" points=\"22073.4,1423.18 22073.4,1423.18 22142.4,1423.18 22073.4,1423.18 \"/>\n",
       "<path clip-path=\"url(#clip602)\" d=\"M22142.4 1423.18 L22142.4 1423.18 L22211.4 1423.18 L22211.4 1423.18 L22142.4 1423.18 L22142.4 1423.18  Z\" fill=\"#009af9\" fill-rule=\"evenodd\" fill-opacity=\"1\"/>\n",
       "<polyline clip-path=\"url(#clip602)\" style=\"stroke:#000000; stroke-linecap:round; stroke-linejoin:round; stroke-width:4; stroke-opacity:1; fill:none\" points=\"22142.4,1423.18 22142.4,1423.18 22211.4,1423.18 22142.4,1423.18 \"/>\n",
       "<path clip-path=\"url(#clip602)\" d=\"M22211.4 1423.18 L22211.4 1423.18 L22280.3 1423.18 L22280.3 1423.18 L22211.4 1423.18 L22211.4 1423.18  Z\" fill=\"#009af9\" fill-rule=\"evenodd\" fill-opacity=\"1\"/>\n",
       "<polyline clip-path=\"url(#clip602)\" style=\"stroke:#000000; stroke-linecap:round; stroke-linejoin:round; stroke-width:4; stroke-opacity:1; fill:none\" points=\"22211.4,1423.18 22211.4,1423.18 22280.3,1423.18 22211.4,1423.18 \"/>\n",
       "<path clip-path=\"url(#clip602)\" d=\"M22280.3 1423.18 L22280.3 1423.18 L22349.3 1423.18 L22349.3 1423.18 L22280.3 1423.18 L22280.3 1423.18  Z\" fill=\"#009af9\" fill-rule=\"evenodd\" fill-opacity=\"1\"/>\n",
       "<polyline clip-path=\"url(#clip602)\" style=\"stroke:#000000; stroke-linecap:round; stroke-linejoin:round; stroke-width:4; stroke-opacity:1; fill:none\" points=\"22280.3,1423.18 22280.3,1423.18 22349.3,1423.18 22280.3,1423.18 \"/>\n",
       "<path clip-path=\"url(#clip602)\" d=\"M22349.3 1423.18 L22349.3 1423.18 L22418.3 1423.18 L22418.3 1423.18 L22349.3 1423.18 L22349.3 1423.18  Z\" fill=\"#009af9\" fill-rule=\"evenodd\" fill-opacity=\"1\"/>\n",
       "<polyline clip-path=\"url(#clip602)\" style=\"stroke:#000000; stroke-linecap:round; stroke-linejoin:round; stroke-width:4; stroke-opacity:1; fill:none\" points=\"22349.3,1423.18 22349.3,1423.18 22418.3,1423.18 22349.3,1423.18 \"/>\n",
       "<path clip-path=\"url(#clip602)\" d=\"M22418.3 1423.18 L22418.3 1423.18 L22487.3 1423.18 L22487.3 1423.18 L22418.3 1423.18 L22418.3 1423.18  Z\" fill=\"#009af9\" fill-rule=\"evenodd\" fill-opacity=\"1\"/>\n",
       "<polyline clip-path=\"url(#clip602)\" style=\"stroke:#000000; stroke-linecap:round; stroke-linejoin:round; stroke-width:4; stroke-opacity:1; fill:none\" points=\"22418.3,1423.18 22418.3,1423.18 22487.3,1423.18 22418.3,1423.18 \"/>\n",
       "<path clip-path=\"url(#clip602)\" d=\"M22487.3 1423.18 L22487.3 1423.18 L22556.3 1423.18 L22556.3 1423.18 L22487.3 1423.18 L22487.3 1423.18  Z\" fill=\"#009af9\" fill-rule=\"evenodd\" fill-opacity=\"1\"/>\n",
       "<polyline clip-path=\"url(#clip602)\" style=\"stroke:#000000; stroke-linecap:round; stroke-linejoin:round; stroke-width:4; stroke-opacity:1; fill:none\" points=\"22487.3,1423.18 22487.3,1423.18 22556.3,1423.18 22487.3,1423.18 \"/>\n",
       "<path clip-path=\"url(#clip602)\" d=\"M22556.3 1423.18 L22556.3 1423.18 L22625.2 1423.18 L22625.2 1423.18 L22556.3 1423.18 L22556.3 1423.18  Z\" fill=\"#009af9\" fill-rule=\"evenodd\" fill-opacity=\"1\"/>\n",
       "<polyline clip-path=\"url(#clip602)\" style=\"stroke:#000000; stroke-linecap:round; stroke-linejoin:round; stroke-width:4; stroke-opacity:1; fill:none\" points=\"22556.3,1423.18 22556.3,1423.18 22625.2,1423.18 22556.3,1423.18 \"/>\n",
       "<path clip-path=\"url(#clip602)\" d=\"M22625.2 1423.18 L22625.2 1423.18 L22694.2 1423.18 L22694.2 1423.18 L22625.2 1423.18 L22625.2 1423.18  Z\" fill=\"#009af9\" fill-rule=\"evenodd\" fill-opacity=\"1\"/>\n",
       "<polyline clip-path=\"url(#clip602)\" style=\"stroke:#000000; stroke-linecap:round; stroke-linejoin:round; stroke-width:4; stroke-opacity:1; fill:none\" points=\"22625.2,1423.18 22625.2,1423.18 22694.2,1423.18 22625.2,1423.18 \"/>\n",
       "<path clip-path=\"url(#clip602)\" d=\"M22694.2 1423.18 L22694.2 1423.18 L22763.2 1423.18 L22763.2 1423.18 L22694.2 1423.18 L22694.2 1423.18  Z\" fill=\"#009af9\" fill-rule=\"evenodd\" fill-opacity=\"1\"/>\n",
       "<polyline clip-path=\"url(#clip602)\" style=\"stroke:#000000; stroke-linecap:round; stroke-linejoin:round; stroke-width:4; stroke-opacity:1; fill:none\" points=\"22694.2,1423.18 22694.2,1423.18 22763.2,1423.18 22694.2,1423.18 \"/>\n",
       "<path clip-path=\"url(#clip602)\" d=\"M22763.2 1423.18 L22763.2 1423.18 L22832.2 1423.18 L22832.2 1423.18 L22763.2 1423.18 L22763.2 1423.18  Z\" fill=\"#009af9\" fill-rule=\"evenodd\" fill-opacity=\"1\"/>\n",
       "<polyline clip-path=\"url(#clip602)\" style=\"stroke:#000000; stroke-linecap:round; stroke-linejoin:round; stroke-width:4; stroke-opacity:1; fill:none\" points=\"22763.2,1423.18 22763.2,1423.18 22832.2,1423.18 22763.2,1423.18 \"/>\n",
       "<path clip-path=\"url(#clip602)\" d=\"M22832.2 1423.18 L22832.2 1423.18 L22901.2 1423.18 L22901.2 1423.18 L22832.2 1423.18 L22832.2 1423.18  Z\" fill=\"#009af9\" fill-rule=\"evenodd\" fill-opacity=\"1\"/>\n",
       "<polyline clip-path=\"url(#clip602)\" style=\"stroke:#000000; stroke-linecap:round; stroke-linejoin:round; stroke-width:4; stroke-opacity:1; fill:none\" points=\"22832.2,1423.18 22832.2,1423.18 22901.2,1423.18 22832.2,1423.18 \"/>\n",
       "<path clip-path=\"url(#clip602)\" d=\"M22901.2 1423.18 L22901.2 1423.18 L22970.1 1423.18 L22970.1 1423.18 L22901.2 1423.18 L22901.2 1423.18  Z\" fill=\"#009af9\" fill-rule=\"evenodd\" fill-opacity=\"1\"/>\n",
       "<polyline clip-path=\"url(#clip602)\" style=\"stroke:#000000; stroke-linecap:round; stroke-linejoin:round; stroke-width:4; stroke-opacity:1; fill:none\" points=\"22901.2,1423.18 22901.2,1423.18 22970.1,1423.18 22901.2,1423.18 \"/>\n",
       "<path clip-path=\"url(#clip602)\" d=\"M22970.1 1423.18 L22970.1 1423.18 L23039.1 1423.18 L23039.1 1423.18 L22970.1 1423.18 L22970.1 1423.18  Z\" fill=\"#009af9\" fill-rule=\"evenodd\" fill-opacity=\"1\"/>\n",
       "<polyline clip-path=\"url(#clip602)\" style=\"stroke:#000000; stroke-linecap:round; stroke-linejoin:round; stroke-width:4; stroke-opacity:1; fill:none\" points=\"22970.1,1423.18 22970.1,1423.18 23039.1,1423.18 22970.1,1423.18 \"/>\n",
       "<path clip-path=\"url(#clip602)\" d=\"M23039.1 1423.18 L23039.1 1423.18 L23108.1 1423.18 L23108.1 1423.18 L23039.1 1423.18 L23039.1 1423.18  Z\" fill=\"#009af9\" fill-rule=\"evenodd\" fill-opacity=\"1\"/>\n",
       "<polyline clip-path=\"url(#clip602)\" style=\"stroke:#000000; stroke-linecap:round; stroke-linejoin:round; stroke-width:4; stroke-opacity:1; fill:none\" points=\"23039.1,1423.18 23039.1,1423.18 23108.1,1423.18 23039.1,1423.18 \"/>\n",
       "<path clip-path=\"url(#clip602)\" d=\"M23108.1 1423.18 L23108.1 1423.18 L23177.1 1423.18 L23177.1 1423.18 L23108.1 1423.18 L23108.1 1423.18  Z\" fill=\"#009af9\" fill-rule=\"evenodd\" fill-opacity=\"1\"/>\n",
       "<polyline clip-path=\"url(#clip602)\" style=\"stroke:#000000; stroke-linecap:round; stroke-linejoin:round; stroke-width:4; stroke-opacity:1; fill:none\" points=\"23108.1,1423.18 23108.1,1423.18 23177.1,1423.18 23108.1,1423.18 \"/>\n",
       "<path clip-path=\"url(#clip602)\" d=\"M23177.1 1423.18 L23177.1 1423.18 L23246.1 1423.18 L23246.1 1423.18 L23177.1 1423.18 L23177.1 1423.18  Z\" fill=\"#009af9\" fill-rule=\"evenodd\" fill-opacity=\"1\"/>\n",
       "<polyline clip-path=\"url(#clip602)\" style=\"stroke:#000000; stroke-linecap:round; stroke-linejoin:round; stroke-width:4; stroke-opacity:1; fill:none\" points=\"23177.1,1423.18 23177.1,1423.18 23246.1,1423.18 23177.1,1423.18 \"/>\n",
       "<path clip-path=\"url(#clip602)\" d=\"M23246.1 1423.18 L23246.1 1423.18 L23315.1 1423.18 L23315.1 1423.18 L23246.1 1423.18 L23246.1 1423.18  Z\" fill=\"#009af9\" fill-rule=\"evenodd\" fill-opacity=\"1\"/>\n",
       "<polyline clip-path=\"url(#clip602)\" style=\"stroke:#000000; stroke-linecap:round; stroke-linejoin:round; stroke-width:4; stroke-opacity:1; fill:none\" points=\"23246.1,1423.18 23246.1,1423.18 23315.1,1423.18 23246.1,1423.18 \"/>\n",
       "<path clip-path=\"url(#clip602)\" d=\"M23315.1 1423.18 L23315.1 1423.18 L23384 1423.18 L23384 1423.18 L23315.1 1423.18 L23315.1 1423.18  Z\" fill=\"#009af9\" fill-rule=\"evenodd\" fill-opacity=\"1\"/>\n",
       "<polyline clip-path=\"url(#clip602)\" style=\"stroke:#000000; stroke-linecap:round; stroke-linejoin:round; stroke-width:4; stroke-opacity:1; fill:none\" points=\"23315.1,1423.18 23315.1,1423.18 23384,1423.18 23315.1,1423.18 \"/>\n",
       "<path clip-path=\"url(#clip602)\" d=\"M23384 1423.18 L23384 1423.18 L23453 1423.18 L23453 1423.18 L23384 1423.18 L23384 1423.18  Z\" fill=\"#009af9\" fill-rule=\"evenodd\" fill-opacity=\"1\"/>\n",
       "<polyline clip-path=\"url(#clip602)\" style=\"stroke:#000000; stroke-linecap:round; stroke-linejoin:round; stroke-width:4; stroke-opacity:1; fill:none\" points=\"23384,1423.18 23384,1423.18 23453,1423.18 23384,1423.18 \"/>\n",
       "<path clip-path=\"url(#clip602)\" d=\"M23453 1423.18 L23453 1423.18 L23522 1423.18 L23522 1423.18 L23453 1423.18 L23453 1423.18  Z\" fill=\"#009af9\" fill-rule=\"evenodd\" fill-opacity=\"1\"/>\n",
       "<polyline clip-path=\"url(#clip602)\" style=\"stroke:#000000; stroke-linecap:round; stroke-linejoin:round; stroke-width:4; stroke-opacity:1; fill:none\" points=\"23453,1423.18 23453,1423.18 23522,1423.18 23453,1423.18 \"/>\n",
       "<path clip-path=\"url(#clip602)\" d=\"M23522 1423.18 L23522 1423.18 L23591 1423.18 L23591 1423.18 L23522 1423.18 L23522 1423.18  Z\" fill=\"#009af9\" fill-rule=\"evenodd\" fill-opacity=\"1\"/>\n",
       "<polyline clip-path=\"url(#clip602)\" style=\"stroke:#000000; stroke-linecap:round; stroke-linejoin:round; stroke-width:4; stroke-opacity:1; fill:none\" points=\"23522,1423.18 23522,1423.18 23591,1423.18 23522,1423.18 \"/>\n",
       "<path clip-path=\"url(#clip602)\" d=\"M23591 1423.18 L23591 1423.18 L23660 1423.18 L23660 1423.18 L23591 1423.18 L23591 1423.18  Z\" fill=\"#009af9\" fill-rule=\"evenodd\" fill-opacity=\"1\"/>\n",
       "<polyline clip-path=\"url(#clip602)\" style=\"stroke:#000000; stroke-linecap:round; stroke-linejoin:round; stroke-width:4; stroke-opacity:1; fill:none\" points=\"23591,1423.18 23591,1423.18 23660,1423.18 23591,1423.18 \"/>\n",
       "<path clip-path=\"url(#clip602)\" d=\"M23660 1423.18 L23660 1423.18 L23728.9 1423.18 L23728.9 1423.18 L23660 1423.18 L23660 1423.18  Z\" fill=\"#009af9\" fill-rule=\"evenodd\" fill-opacity=\"1\"/>\n",
       "<polyline clip-path=\"url(#clip602)\" style=\"stroke:#000000; stroke-linecap:round; stroke-linejoin:round; stroke-width:4; stroke-opacity:1; fill:none\" points=\"23660,1423.18 23660,1423.18 23728.9,1423.18 23660,1423.18 \"/>\n",
       "<path clip-path=\"url(#clip602)\" d=\"M23728.9 1423.18 L23728.9 1423.18 L23797.9 1423.18 L23797.9 1423.18 L23728.9 1423.18 L23728.9 1423.18  Z\" fill=\"#009af9\" fill-rule=\"evenodd\" fill-opacity=\"1\"/>\n",
       "<polyline clip-path=\"url(#clip602)\" style=\"stroke:#000000; stroke-linecap:round; stroke-linejoin:round; stroke-width:4; stroke-opacity:1; fill:none\" points=\"23728.9,1423.18 23728.9,1423.18 23797.9,1423.18 23728.9,1423.18 \"/>\n",
       "<path clip-path=\"url(#clip602)\" d=\"M23797.9 1372.22 L23797.9 1423.18 L23866.9 1423.18 L23866.9 1372.22 L23797.9 1372.22 L23797.9 1372.22  Z\" fill=\"#009af9\" fill-rule=\"evenodd\" fill-opacity=\"1\"/>\n",
       "<polyline clip-path=\"url(#clip602)\" style=\"stroke:#000000; stroke-linecap:round; stroke-linejoin:round; stroke-width:4; stroke-opacity:1; fill:none\" points=\"23797.9,1372.22 23797.9,1423.18 23866.9,1423.18 23866.9,1372.22 23797.9,1372.22 \"/>\n",
       "<circle clip-path=\"url(#clip602)\" style=\"fill:#009af9; stroke:none; fill-opacity:0\" cx=\"240.886\" cy=\"1168.38\" r=\"2\"/>\n",
       "<circle clip-path=\"url(#clip602)\" style=\"fill:#009af9; stroke:none; fill-opacity:0\" cx=\"309.867\" cy=\"1117.42\" r=\"2\"/>\n",
       "<circle clip-path=\"url(#clip602)\" style=\"fill:#009af9; stroke:none; fill-opacity:0\" cx=\"378.848\" cy=\"913.574\" r=\"2\"/>\n",
       "<circle clip-path=\"url(#clip602)\" style=\"fill:#009af9; stroke:none; fill-opacity:0\" cx=\"447.829\" cy=\"658.771\" r=\"2\"/>\n",
       "<circle clip-path=\"url(#clip602)\" style=\"fill:#009af9; stroke:none; fill-opacity:0\" cx=\"516.81\" cy=\"251.086\" r=\"2\"/>\n",
       "<circle clip-path=\"url(#clip602)\" style=\"fill:#009af9; stroke:none; fill-opacity:0\" cx=\"585.791\" cy=\"302.047\" r=\"2\"/>\n",
       "<circle clip-path=\"url(#clip602)\" style=\"fill:#009af9; stroke:none; fill-opacity:0\" cx=\"654.772\" cy=\"454.929\" r=\"2\"/>\n",
       "<circle clip-path=\"url(#clip602)\" style=\"fill:#009af9; stroke:none; fill-opacity:0\" cx=\"723.753\" cy=\"302.047\" r=\"2\"/>\n",
       "<circle clip-path=\"url(#clip602)\" style=\"fill:#009af9; stroke:none; fill-opacity:0\" cx=\"792.734\" cy=\"505.889\" r=\"2\"/>\n",
       "<circle clip-path=\"url(#clip602)\" style=\"fill:#009af9; stroke:none; fill-opacity:0\" cx=\"861.715\" cy=\"47.2441\" r=\"2\"/>\n",
       "<circle clip-path=\"url(#clip602)\" style=\"fill:#009af9; stroke:none; fill-opacity:0\" cx=\"930.696\" cy=\"454.929\" r=\"2\"/>\n",
       "<circle clip-path=\"url(#clip602)\" style=\"fill:#009af9; stroke:none; fill-opacity:0\" cx=\"999.677\" cy=\"760.692\" r=\"2\"/>\n",
       "<circle clip-path=\"url(#clip602)\" style=\"fill:#009af9; stroke:none; fill-opacity:0\" cx=\"1068.66\" cy=\"556.85\" r=\"2\"/>\n",
       "<circle clip-path=\"url(#clip602)\" style=\"fill:#009af9; stroke:none; fill-opacity:0\" cx=\"1137.64\" cy=\"913.574\" r=\"2\"/>\n",
       "<circle clip-path=\"url(#clip602)\" style=\"fill:#009af9; stroke:none; fill-opacity:0\" cx=\"1206.62\" cy=\"760.692\" r=\"2\"/>\n",
       "<circle clip-path=\"url(#clip602)\" style=\"fill:#009af9; stroke:none; fill-opacity:0\" cx=\"1275.6\" cy=\"556.85\" r=\"2\"/>\n",
       "<circle clip-path=\"url(#clip602)\" style=\"fill:#009af9; stroke:none; fill-opacity:0\" cx=\"1344.58\" cy=\"811.653\" r=\"2\"/>\n",
       "<circle clip-path=\"url(#clip602)\" style=\"fill:#009af9; stroke:none; fill-opacity:0\" cx=\"1413.56\" cy=\"1066.46\" r=\"2\"/>\n",
       "<circle clip-path=\"url(#clip602)\" style=\"fill:#009af9; stroke:none; fill-opacity:0\" cx=\"1482.54\" cy=\"1066.46\" r=\"2\"/>\n",
       "<circle clip-path=\"url(#clip602)\" style=\"fill:#009af9; stroke:none; fill-opacity:0\" cx=\"1551.53\" cy=\"658.771\" r=\"2\"/>\n",
       "<circle clip-path=\"url(#clip602)\" style=\"fill:#009af9; stroke:none; fill-opacity:0\" cx=\"1620.51\" cy=\"964.535\" r=\"2\"/>\n",
       "<circle clip-path=\"url(#clip602)\" style=\"fill:#009af9; stroke:none; fill-opacity:0\" cx=\"1689.49\" cy=\"811.653\" r=\"2\"/>\n",
       "<circle clip-path=\"url(#clip602)\" style=\"fill:#009af9; stroke:none; fill-opacity:0\" cx=\"1758.47\" cy=\"1219.34\" r=\"2\"/>\n",
       "<circle clip-path=\"url(#clip602)\" style=\"fill:#009af9; stroke:none; fill-opacity:0\" cx=\"1827.45\" cy=\"1321.26\" r=\"2\"/>\n",
       "<circle clip-path=\"url(#clip602)\" style=\"fill:#009af9; stroke:none; fill-opacity:0\" cx=\"1896.43\" cy=\"1168.38\" r=\"2\"/>\n",
       "<circle clip-path=\"url(#clip602)\" style=\"fill:#009af9; stroke:none; fill-opacity:0\" cx=\"1965.41\" cy=\"1219.34\" r=\"2\"/>\n",
       "<circle clip-path=\"url(#clip602)\" style=\"fill:#009af9; stroke:none; fill-opacity:0\" cx=\"2034.39\" cy=\"1219.34\" r=\"2\"/>\n",
       "<circle clip-path=\"url(#clip602)\" style=\"fill:#009af9; stroke:none; fill-opacity:0\" cx=\"2103.37\" cy=\"1321.26\" r=\"2\"/>\n",
       "<circle clip-path=\"url(#clip602)\" style=\"fill:#009af9; stroke:none; fill-opacity:0\" cx=\"2172.36\" cy=\"1117.42\" r=\"2\"/>\n",
       "<circle clip-path=\"url(#clip602)\" style=\"fill:#009af9; stroke:none; fill-opacity:0\" cx=\"2241.34\" cy=\"1066.46\" r=\"2\"/>\n",
       "<circle clip-path=\"url(#clip602)\" style=\"fill:#009af9; stroke:none; fill-opacity:0\" cx=\"2310.32\" cy=\"1270.3\" r=\"2\"/>\n",
       "</svg>\n"
      ],
      "text/html": [
       "<?xml version=\"1.0\" encoding=\"utf-8\"?>\n",
       "<svg xmlns=\"http://www.w3.org/2000/svg\" xmlns:xlink=\"http://www.w3.org/1999/xlink\" width=\"600\" height=\"400\" viewBox=\"0 0 2400 1600\">\n",
       "<defs>\n",
       "  <clipPath id=\"clip650\">\n",
       "    <rect x=\"0\" y=\"0\" width=\"2400\" height=\"1600\"/>\n",
       "  </clipPath>\n",
       "</defs>\n",
       "<path clip-path=\"url(#clip650)\" d=\"M0 1600 L2400 1600 L2400 0 L0 0  Z\" fill=\"#ffffff\" fill-rule=\"evenodd\" fill-opacity=\"1\"/>\n",
       "<defs>\n",
       "  <clipPath id=\"clip651\">\n",
       "    <rect x=\"480\" y=\"0\" width=\"1681\" height=\"1600\"/>\n",
       "  </clipPath>\n",
       "</defs>\n",
       "<path clip-path=\"url(#clip650)\" d=\"M203.964 1423.18 L2352.76 1423.18 L2352.76 47.2441 L203.964 47.2441  Z\" fill=\"#ffffff\" fill-rule=\"evenodd\" fill-opacity=\"1\"/>\n",
       "<defs>\n",
       "  <clipPath id=\"clip652\">\n",
       "    <rect x=\"203\" y=\"47\" width=\"2150\" height=\"1377\"/>\n",
       "  </clipPath>\n",
       "</defs>\n",
       "<polyline clip-path=\"url(#clip652)\" style=\"stroke:#000000; stroke-linecap:round; stroke-linejoin:round; stroke-width:2; stroke-opacity:0.1; fill:none\" points=\"275.376,1423.18 275.376,47.2441 \"/>\n",
       "<polyline clip-path=\"url(#clip652)\" style=\"stroke:#000000; stroke-linecap:round; stroke-linejoin:round; stroke-width:2; stroke-opacity:0.1; fill:none\" points=\"620.282,1423.18 620.282,47.2441 \"/>\n",
       "<polyline clip-path=\"url(#clip652)\" style=\"stroke:#000000; stroke-linecap:round; stroke-linejoin:round; stroke-width:2; stroke-opacity:0.1; fill:none\" points=\"965.187,1423.18 965.187,47.2441 \"/>\n",
       "<polyline clip-path=\"url(#clip652)\" style=\"stroke:#000000; stroke-linecap:round; stroke-linejoin:round; stroke-width:2; stroke-opacity:0.1; fill:none\" points=\"1310.09,1423.18 1310.09,47.2441 \"/>\n",
       "<polyline clip-path=\"url(#clip652)\" style=\"stroke:#000000; stroke-linecap:round; stroke-linejoin:round; stroke-width:2; stroke-opacity:0.1; fill:none\" points=\"1655,1423.18 1655,47.2441 \"/>\n",
       "<polyline clip-path=\"url(#clip652)\" style=\"stroke:#000000; stroke-linecap:round; stroke-linejoin:round; stroke-width:2; stroke-opacity:0.1; fill:none\" points=\"1999.9,1423.18 1999.9,47.2441 \"/>\n",
       "<polyline clip-path=\"url(#clip652)\" style=\"stroke:#000000; stroke-linecap:round; stroke-linejoin:round; stroke-width:2; stroke-opacity:0.1; fill:none\" points=\"2344.81,1423.18 2344.81,47.2441 \"/>\n",
       "<polyline clip-path=\"url(#clip650)\" style=\"stroke:#000000; stroke-linecap:round; stroke-linejoin:round; stroke-width:4; stroke-opacity:1; fill:none\" points=\"203.964,1423.18 2352.76,1423.18 \"/>\n",
       "<polyline clip-path=\"url(#clip650)\" style=\"stroke:#000000; stroke-linecap:round; stroke-linejoin:round; stroke-width:4; stroke-opacity:1; fill:none\" points=\"275.376,1423.18 275.376,1404.28 \"/>\n",
       "<polyline clip-path=\"url(#clip650)\" style=\"stroke:#000000; stroke-linecap:round; stroke-linejoin:round; stroke-width:4; stroke-opacity:1; fill:none\" points=\"620.282,1423.18 620.282,1404.28 \"/>\n",
       "<polyline clip-path=\"url(#clip650)\" style=\"stroke:#000000; stroke-linecap:round; stroke-linejoin:round; stroke-width:4; stroke-opacity:1; fill:none\" points=\"965.187,1423.18 965.187,1404.28 \"/>\n",
       "<polyline clip-path=\"url(#clip650)\" style=\"stroke:#000000; stroke-linecap:round; stroke-linejoin:round; stroke-width:4; stroke-opacity:1; fill:none\" points=\"1310.09,1423.18 1310.09,1404.28 \"/>\n",
       "<polyline clip-path=\"url(#clip650)\" style=\"stroke:#000000; stroke-linecap:round; stroke-linejoin:round; stroke-width:4; stroke-opacity:1; fill:none\" points=\"1655,1423.18 1655,1404.28 \"/>\n",
       "<polyline clip-path=\"url(#clip650)\" style=\"stroke:#000000; stroke-linecap:round; stroke-linejoin:round; stroke-width:4; stroke-opacity:1; fill:none\" points=\"1999.9,1423.18 1999.9,1404.28 \"/>\n",
       "<polyline clip-path=\"url(#clip650)\" style=\"stroke:#000000; stroke-linecap:round; stroke-linejoin:round; stroke-width:4; stroke-opacity:1; fill:none\" points=\"2344.81,1423.18 2344.81,1404.28 \"/>\n",
       "<path clip-path=\"url(#clip650)\" d=\"M243.062 1484.86 L243.062 1480.6 Q244.821 1481.44 246.626 1481.88 Q248.432 1482.32 250.168 1482.32 Q254.798 1482.32 257.228 1479.21 Q259.682 1476.09 260.029 1469.75 Q258.686 1471.74 256.626 1472.8 Q254.566 1473.87 252.066 1473.87 Q246.881 1473.87 243.849 1470.74 Q240.839 1467.59 240.839 1462.15 Q240.839 1456.83 243.988 1453.61 Q247.136 1450.39 252.367 1450.39 Q258.362 1450.39 261.511 1455 Q264.682 1459.58 264.682 1468.33 Q264.682 1476.51 260.793 1481.39 Q256.927 1486.25 250.376 1486.25 Q248.617 1486.25 246.812 1485.9 Q245.006 1485.56 243.062 1484.86 M252.367 1470.21 Q255.515 1470.21 257.344 1468.06 Q259.196 1465.9 259.196 1462.15 Q259.196 1458.43 257.344 1456.27 Q255.515 1454.1 252.367 1454.1 Q249.219 1454.1 247.367 1456.27 Q245.538 1458.43 245.538 1462.15 Q245.538 1465.9 247.367 1468.06 Q249.219 1470.21 252.367 1470.21 Z\" fill=\"#000000\" fill-rule=\"nonzero\" fill-opacity=\"1\" /><path clip-path=\"url(#clip650)\" d=\"M273.085 1479.7 L277.969 1479.7 L277.969 1485.58 L273.085 1485.58 L273.085 1479.7 Z\" fill=\"#000000\" fill-rule=\"nonzero\" fill-opacity=\"1\" /><path clip-path=\"url(#clip650)\" d=\"M288.293 1484.86 L288.293 1480.6 Q290.052 1481.44 291.858 1481.88 Q293.663 1482.32 295.399 1482.32 Q300.029 1482.32 302.459 1479.21 Q304.913 1476.09 305.26 1469.75 Q303.918 1471.74 301.858 1472.8 Q299.797 1473.87 297.297 1473.87 Q292.112 1473.87 289.08 1470.74 Q286.071 1467.59 286.071 1462.15 Q286.071 1456.83 289.219 1453.61 Q292.367 1450.39 297.598 1450.39 Q303.594 1450.39 306.742 1455 Q309.913 1459.58 309.913 1468.33 Q309.913 1476.51 306.024 1481.39 Q302.158 1486.25 295.608 1486.25 Q293.848 1486.25 292.043 1485.9 Q290.237 1485.56 288.293 1484.86 M297.598 1470.21 Q300.746 1470.21 302.575 1468.06 Q304.427 1465.9 304.427 1462.15 Q304.427 1458.43 302.575 1456.27 Q300.746 1454.1 297.598 1454.1 Q294.45 1454.1 292.598 1456.27 Q290.77 1458.43 290.77 1462.15 Q290.77 1465.9 292.598 1468.06 Q294.45 1470.21 297.598 1470.21 Z\" fill=\"#000000\" fill-rule=\"nonzero\" fill-opacity=\"1\" /><path clip-path=\"url(#clip650)\" d=\"M572.354 1481.64 L579.992 1481.64 L579.992 1455.28 L571.682 1456.95 L571.682 1452.69 L579.946 1451.02 L584.622 1451.02 L584.622 1481.64 L592.261 1481.64 L592.261 1485.58 L572.354 1485.58 L572.354 1481.64 Z\" fill=\"#000000\" fill-rule=\"nonzero\" fill-opacity=\"1\" /><path clip-path=\"url(#clip650)\" d=\"M611.705 1454.1 Q608.094 1454.1 606.265 1457.66 Q604.46 1461.2 604.46 1468.33 Q604.46 1475.44 606.265 1479.01 Q608.094 1482.55 611.705 1482.55 Q615.339 1482.55 617.145 1479.01 Q618.974 1475.44 618.974 1468.33 Q618.974 1461.2 617.145 1457.66 Q615.339 1454.1 611.705 1454.1 M611.705 1450.39 Q617.515 1450.39 620.571 1455 Q623.65 1459.58 623.65 1468.33 Q623.65 1477.06 620.571 1481.67 Q617.515 1486.25 611.705 1486.25 Q605.895 1486.25 602.816 1481.67 Q599.761 1477.06 599.761 1468.33 Q599.761 1459.58 602.816 1455 Q605.895 1450.39 611.705 1450.39 Z\" fill=\"#000000\" fill-rule=\"nonzero\" fill-opacity=\"1\" /><path clip-path=\"url(#clip650)\" d=\"M631.867 1479.7 L636.751 1479.7 L636.751 1485.58 L631.867 1485.58 L631.867 1479.7 Z\" fill=\"#000000\" fill-rule=\"nonzero\" fill-opacity=\"1\" /><path clip-path=\"url(#clip650)\" d=\"M656.936 1454.1 Q653.325 1454.1 651.497 1457.66 Q649.691 1461.2 649.691 1468.33 Q649.691 1475.44 651.497 1479.01 Q653.325 1482.55 656.936 1482.55 Q660.571 1482.55 662.376 1479.01 Q664.205 1475.44 664.205 1468.33 Q664.205 1461.2 662.376 1457.66 Q660.571 1454.1 656.936 1454.1 M656.936 1450.39 Q662.747 1450.39 665.802 1455 Q668.881 1459.58 668.881 1468.33 Q668.881 1477.06 665.802 1481.67 Q662.747 1486.25 656.936 1486.25 Q651.126 1486.25 648.048 1481.67 Q644.992 1477.06 644.992 1468.33 Q644.992 1459.58 648.048 1455 Q651.126 1450.39 656.936 1450.39 Z\" fill=\"#000000\" fill-rule=\"nonzero\" fill-opacity=\"1\" /><path clip-path=\"url(#clip650)\" d=\"M917.872 1481.64 L925.511 1481.64 L925.511 1455.28 L917.201 1456.95 L917.201 1452.69 L925.465 1451.02 L930.141 1451.02 L930.141 1481.64 L937.78 1481.64 L937.78 1485.58 L917.872 1485.58 L917.872 1481.64 Z\" fill=\"#000000\" fill-rule=\"nonzero\" fill-opacity=\"1\" /><path clip-path=\"url(#clip650)\" d=\"M957.224 1454.1 Q953.613 1454.1 951.784 1457.66 Q949.979 1461.2 949.979 1468.33 Q949.979 1475.44 951.784 1479.01 Q953.613 1482.55 957.224 1482.55 Q960.858 1482.55 962.664 1479.01 Q964.492 1475.44 964.492 1468.33 Q964.492 1461.2 962.664 1457.66 Q960.858 1454.1 957.224 1454.1 M957.224 1450.39 Q963.034 1450.39 966.09 1455 Q969.168 1459.58 969.168 1468.33 Q969.168 1477.06 966.09 1481.67 Q963.034 1486.25 957.224 1486.25 Q951.414 1486.25 948.335 1481.67 Q945.28 1477.06 945.28 1468.33 Q945.28 1459.58 948.335 1455 Q951.414 1450.39 957.224 1450.39 Z\" fill=\"#000000\" fill-rule=\"nonzero\" fill-opacity=\"1\" /><path clip-path=\"url(#clip650)\" d=\"M977.386 1479.7 L982.27 1479.7 L982.27 1485.58 L977.386 1485.58 L977.386 1479.7 Z\" fill=\"#000000\" fill-rule=\"nonzero\" fill-opacity=\"1\" /><path clip-path=\"url(#clip650)\" d=\"M993.265 1481.64 L1000.9 1481.64 L1000.9 1455.28 L992.594 1456.95 L992.594 1452.69 L1000.86 1451.02 L1005.53 1451.02 L1005.53 1481.64 L1013.17 1481.64 L1013.17 1485.58 L993.265 1485.58 L993.265 1481.64 Z\" fill=\"#000000\" fill-rule=\"nonzero\" fill-opacity=\"1\" /><path clip-path=\"url(#clip650)\" d=\"M1262.96 1481.64 L1270.6 1481.64 L1270.6 1455.28 L1262.29 1456.95 L1262.29 1452.69 L1270.56 1451.02 L1275.23 1451.02 L1275.23 1481.64 L1282.87 1481.64 L1282.87 1485.58 L1262.96 1485.58 L1262.96 1481.64 Z\" fill=\"#000000\" fill-rule=\"nonzero\" fill-opacity=\"1\" /><path clip-path=\"url(#clip650)\" d=\"M1302.31 1454.1 Q1298.7 1454.1 1296.87 1457.66 Q1295.07 1461.2 1295.07 1468.33 Q1295.07 1475.44 1296.87 1479.01 Q1298.7 1482.55 1302.31 1482.55 Q1305.95 1482.55 1307.75 1479.01 Q1309.58 1475.44 1309.58 1468.33 Q1309.58 1461.2 1307.75 1457.66 Q1305.95 1454.1 1302.31 1454.1 M1302.31 1450.39 Q1308.12 1450.39 1311.18 1455 Q1314.26 1459.58 1314.26 1468.33 Q1314.26 1477.06 1311.18 1481.67 Q1308.12 1486.25 1302.31 1486.25 Q1296.5 1486.25 1293.43 1481.67 Q1290.37 1477.06 1290.37 1468.33 Q1290.37 1459.58 1293.43 1455 Q1296.5 1450.39 1302.31 1450.39 Z\" fill=\"#000000\" fill-rule=\"nonzero\" fill-opacity=\"1\" /><path clip-path=\"url(#clip650)\" d=\"M1322.48 1479.7 L1327.36 1479.7 L1327.36 1485.58 L1322.48 1485.58 L1322.48 1479.7 Z\" fill=\"#000000\" fill-rule=\"nonzero\" fill-opacity=\"1\" /><path clip-path=\"url(#clip650)\" d=\"M1341.57 1481.64 L1357.89 1481.64 L1357.89 1485.58 L1335.95 1485.58 L1335.95 1481.64 Q1338.61 1478.89 1343.19 1474.26 Q1347.8 1469.61 1348.98 1468.27 Q1351.23 1465.74 1352.11 1464.01 Q1353.01 1462.25 1353.01 1460.56 Q1353.01 1457.8 1351.06 1456.07 Q1349.14 1454.33 1346.04 1454.33 Q1343.84 1454.33 1341.39 1455.09 Q1338.96 1455.86 1336.18 1457.41 L1336.18 1452.69 Q1339 1451.55 1341.46 1450.97 Q1343.91 1450.39 1345.95 1450.39 Q1351.32 1450.39 1354.51 1453.08 Q1357.71 1455.77 1357.71 1460.26 Q1357.71 1462.39 1356.9 1464.31 Q1356.11 1466.2 1354 1468.8 Q1353.43 1469.47 1350.32 1472.69 Q1347.22 1475.88 1341.57 1481.64 Z\" fill=\"#000000\" fill-rule=\"nonzero\" fill-opacity=\"1\" /><path clip-path=\"url(#clip650)\" d=\"M1607.39 1481.64 L1615.03 1481.64 L1615.03 1455.28 L1606.72 1456.95 L1606.72 1452.69 L1614.99 1451.02 L1619.66 1451.02 L1619.66 1481.64 L1627.3 1481.64 L1627.3 1485.58 L1607.39 1485.58 L1607.39 1481.64 Z\" fill=\"#000000\" fill-rule=\"nonzero\" fill-opacity=\"1\" /><path clip-path=\"url(#clip650)\" d=\"M1646.75 1454.1 Q1643.13 1454.1 1641.31 1457.66 Q1639.5 1461.2 1639.5 1468.33 Q1639.5 1475.44 1641.31 1479.01 Q1643.13 1482.55 1646.75 1482.55 Q1650.38 1482.55 1652.19 1479.01 Q1654.01 1475.44 1654.01 1468.33 Q1654.01 1461.2 1652.19 1457.66 Q1650.38 1454.1 1646.75 1454.1 M1646.75 1450.39 Q1652.56 1450.39 1655.61 1455 Q1658.69 1459.58 1658.69 1468.33 Q1658.69 1477.06 1655.61 1481.67 Q1652.56 1486.25 1646.75 1486.25 Q1640.94 1486.25 1637.86 1481.67 Q1634.8 1477.06 1634.8 1468.33 Q1634.8 1459.58 1637.86 1455 Q1640.94 1450.39 1646.75 1450.39 Z\" fill=\"#000000\" fill-rule=\"nonzero\" fill-opacity=\"1\" /><path clip-path=\"url(#clip650)\" d=\"M1666.91 1479.7 L1671.79 1479.7 L1671.79 1485.58 L1666.91 1485.58 L1666.91 1479.7 Z\" fill=\"#000000\" fill-rule=\"nonzero\" fill-opacity=\"1\" /><path clip-path=\"url(#clip650)\" d=\"M1696.14 1466.95 Q1699.5 1467.66 1701.37 1469.93 Q1703.27 1472.2 1703.27 1475.53 Q1703.27 1480.65 1699.75 1483.45 Q1696.24 1486.25 1689.75 1486.25 Q1687.58 1486.25 1685.26 1485.81 Q1682.97 1485.39 1680.52 1484.54 L1680.52 1480.02 Q1682.46 1481.16 1684.78 1481.74 Q1687.09 1482.32 1689.62 1482.32 Q1694.01 1482.32 1696.31 1480.58 Q1698.62 1478.84 1698.62 1475.53 Q1698.62 1472.48 1696.47 1470.77 Q1694.34 1469.03 1690.52 1469.03 L1686.49 1469.03 L1686.49 1465.19 L1690.7 1465.19 Q1694.15 1465.19 1695.98 1463.82 Q1697.81 1462.43 1697.81 1459.84 Q1697.81 1457.18 1695.91 1455.77 Q1694.04 1454.33 1690.52 1454.33 Q1688.6 1454.33 1686.4 1454.75 Q1684.2 1455.16 1681.56 1456.04 L1681.56 1451.88 Q1684.22 1451.14 1686.54 1450.77 Q1688.87 1450.39 1690.93 1450.39 Q1696.26 1450.39 1699.36 1452.83 Q1702.46 1455.23 1702.46 1459.35 Q1702.46 1462.22 1700.82 1464.21 Q1699.18 1466.18 1696.14 1466.95 Z\" fill=\"#000000\" fill-rule=\"nonzero\" fill-opacity=\"1\" /><path clip-path=\"url(#clip650)\" d=\"M1951.73 1481.64 L1959.37 1481.64 L1959.37 1455.28 L1951.06 1456.95 L1951.06 1452.69 L1959.32 1451.02 L1964 1451.02 L1964 1481.64 L1971.64 1481.64 L1971.64 1485.58 L1951.73 1485.58 L1951.73 1481.64 Z\" fill=\"#000000\" fill-rule=\"nonzero\" fill-opacity=\"1\" /><path clip-path=\"url(#clip650)\" d=\"M1991.08 1454.1 Q1987.47 1454.1 1985.64 1457.66 Q1983.84 1461.2 1983.84 1468.33 Q1983.84 1475.44 1985.64 1479.01 Q1987.47 1482.55 1991.08 1482.55 Q1994.72 1482.55 1996.52 1479.01 Q1998.35 1475.44 1998.35 1468.33 Q1998.35 1461.2 1996.52 1457.66 Q1994.72 1454.1 1991.08 1454.1 M1991.08 1450.39 Q1996.89 1450.39 1999.95 1455 Q2003.03 1459.58 2003.03 1468.33 Q2003.03 1477.06 1999.95 1481.67 Q1996.89 1486.25 1991.08 1486.25 Q1985.27 1486.25 1982.19 1481.67 Q1979.14 1477.06 1979.14 1468.33 Q1979.14 1459.58 1982.19 1455 Q1985.27 1450.39 1991.08 1450.39 Z\" fill=\"#000000\" fill-rule=\"nonzero\" fill-opacity=\"1\" /><path clip-path=\"url(#clip650)\" d=\"M2011.25 1479.7 L2016.13 1479.7 L2016.13 1485.58 L2011.25 1485.58 L2011.25 1479.7 Z\" fill=\"#000000\" fill-rule=\"nonzero\" fill-opacity=\"1\" /><path clip-path=\"url(#clip650)\" d=\"M2039.16 1455.09 L2027.36 1473.54 L2039.16 1473.54 L2039.16 1455.09 M2037.94 1451.02 L2043.81 1451.02 L2043.81 1473.54 L2048.75 1473.54 L2048.75 1477.43 L2043.81 1477.43 L2043.81 1485.58 L2039.16 1485.58 L2039.16 1477.43 L2023.56 1477.43 L2023.56 1472.92 L2037.94 1451.02 Z\" fill=\"#000000\" fill-rule=\"nonzero\" fill-opacity=\"1\" /><path clip-path=\"url(#clip650)\" d=\"M2297.38 1481.64 L2305.02 1481.64 L2305.02 1455.28 L2296.71 1456.95 L2296.71 1452.69 L2304.97 1451.02 L2309.65 1451.02 L2309.65 1481.64 L2317.29 1481.64 L2317.29 1485.58 L2297.38 1485.58 L2297.38 1481.64 Z\" fill=\"#000000\" fill-rule=\"nonzero\" fill-opacity=\"1\" /><path clip-path=\"url(#clip650)\" d=\"M2336.73 1454.1 Q2333.12 1454.1 2331.29 1457.66 Q2329.48 1461.2 2329.48 1468.33 Q2329.48 1475.44 2331.29 1479.01 Q2333.12 1482.55 2336.73 1482.55 Q2340.36 1482.55 2342.17 1479.01 Q2344 1475.44 2344 1468.33 Q2344 1461.2 2342.17 1457.66 Q2340.36 1454.1 2336.73 1454.1 M2336.73 1450.39 Q2342.54 1450.39 2345.6 1455 Q2348.67 1459.58 2348.67 1468.33 Q2348.67 1477.06 2345.6 1481.67 Q2342.54 1486.25 2336.73 1486.25 Q2330.92 1486.25 2327.84 1481.67 Q2324.79 1477.06 2324.79 1468.33 Q2324.79 1459.58 2327.84 1455 Q2330.92 1450.39 2336.73 1450.39 Z\" fill=\"#000000\" fill-rule=\"nonzero\" fill-opacity=\"1\" /><path clip-path=\"url(#clip650)\" d=\"M2356.89 1479.7 L2361.78 1479.7 L2361.78 1485.58 L2356.89 1485.58 L2356.89 1479.7 Z\" fill=\"#000000\" fill-rule=\"nonzero\" fill-opacity=\"1\" /><path clip-path=\"url(#clip650)\" d=\"M2372.01 1451.02 L2390.36 1451.02 L2390.36 1454.96 L2376.29 1454.96 L2376.29 1463.43 Q2377.31 1463.08 2378.33 1462.92 Q2379.35 1462.73 2380.36 1462.73 Q2386.15 1462.73 2389.53 1465.9 Q2392.91 1469.08 2392.91 1474.49 Q2392.91 1480.07 2389.44 1483.17 Q2385.97 1486.25 2379.65 1486.25 Q2377.47 1486.25 2375.2 1485.88 Q2372.96 1485.51 2370.55 1484.77 L2370.55 1480.07 Q2372.63 1481.2 2374.85 1481.76 Q2377.08 1482.32 2379.55 1482.32 Q2383.56 1482.32 2385.9 1480.21 Q2388.23 1478.1 2388.23 1474.49 Q2388.23 1470.88 2385.9 1468.77 Q2383.56 1466.67 2379.55 1466.67 Q2377.68 1466.67 2375.8 1467.08 Q2373.95 1467.5 2372.01 1468.38 L2372.01 1451.02 Z\" fill=\"#000000\" fill-rule=\"nonzero\" fill-opacity=\"1\" /><path clip-path=\"url(#clip650)\" d=\"M1109.7 1539.24 Q1111.9 1535.29 1114.95 1533.41 Q1118.01 1531.54 1122.15 1531.54 Q1127.72 1531.54 1130.74 1535.45 Q1133.76 1539.33 1133.76 1546.53 L1133.76 1568.04 L1127.87 1568.04 L1127.87 1546.72 Q1127.87 1541.59 1126.06 1539.11 Q1124.25 1536.63 1120.52 1536.63 Q1115.97 1536.63 1113.33 1539.65 Q1110.69 1542.68 1110.69 1547.9 L1110.69 1568.04 L1104.8 1568.04 L1104.8 1546.72 Q1104.8 1541.56 1102.98 1539.11 Q1101.17 1536.63 1097.38 1536.63 Q1092.89 1536.63 1090.25 1539.68 Q1087.61 1542.71 1087.61 1547.9 L1087.61 1568.04 L1081.72 1568.04 L1081.72 1532.4 L1087.61 1532.4 L1087.61 1537.93 Q1089.62 1534.66 1092.42 1533.1 Q1095.22 1531.54 1099.07 1531.54 Q1102.95 1531.54 1105.66 1533.51 Q1108.4 1535.48 1109.7 1539.24 Z\" fill=\"#000000\" fill-rule=\"nonzero\" fill-opacity=\"1\" /><path clip-path=\"url(#clip650)\" d=\"M1145.44 1532.4 L1151.3 1532.4 L1151.3 1568.04 L1145.44 1568.04 L1145.44 1532.4 M1145.44 1518.52 L1151.3 1518.52 L1151.3 1525.93 L1145.44 1525.93 L1145.44 1518.52 Z\" fill=\"#000000\" fill-rule=\"nonzero\" fill-opacity=\"1\" /><path clip-path=\"url(#clip650)\" d=\"M1163.55 1518.52 L1169.41 1518.52 L1169.41 1568.04 L1163.55 1568.04 L1163.55 1518.52 Z\" fill=\"#000000\" fill-rule=\"nonzero\" fill-opacity=\"1\" /><path clip-path=\"url(#clip650)\" d=\"M1181.66 1518.52 L1187.52 1518.52 L1187.52 1568.04 L1181.66 1568.04 L1181.66 1518.52 Z\" fill=\"#000000\" fill-rule=\"nonzero\" fill-opacity=\"1\" /><path clip-path=\"url(#clip650)\" d=\"M1199.78 1532.4 L1205.63 1532.4 L1205.63 1568.04 L1199.78 1568.04 L1199.78 1532.4 M1199.78 1518.52 L1205.63 1518.52 L1205.63 1525.93 L1199.78 1525.93 L1199.78 1518.52 Z\" fill=\"#000000\" fill-rule=\"nonzero\" fill-opacity=\"1\" /><path clip-path=\"url(#clip650)\" d=\"M1240.61 1533.45 L1240.61 1538.98 Q1238.13 1537.71 1235.45 1537.07 Q1232.78 1536.44 1229.92 1536.44 Q1225.56 1536.44 1223.36 1537.77 Q1221.2 1539.11 1221.2 1541.79 Q1221.2 1543.82 1222.76 1545 Q1224.31 1546.15 1229.03 1547.2 L1231.03 1547.64 Q1237.27 1548.98 1239.88 1551.43 Q1242.52 1553.85 1242.52 1558.21 Q1242.52 1563.17 1238.57 1566.07 Q1234.66 1568.97 1227.78 1568.97 Q1224.92 1568.97 1221.8 1568.39 Q1218.71 1567.85 1215.28 1566.74 L1215.28 1560.69 Q1218.52 1562.38 1221.67 1563.24 Q1224.82 1564.07 1227.91 1564.07 Q1232.05 1564.07 1234.28 1562.66 Q1236.51 1561.23 1236.51 1558.65 Q1236.51 1556.27 1234.88 1554.99 Q1233.29 1553.72 1227.85 1552.54 L1225.81 1552.07 Q1220.37 1550.92 1217.95 1548.56 Q1215.53 1546.18 1215.53 1542.04 Q1215.53 1537.01 1219.1 1534.27 Q1222.66 1531.54 1229.22 1531.54 Q1232.46 1531.54 1235.33 1532.01 Q1238.19 1532.49 1240.61 1533.45 Z\" fill=\"#000000\" fill-rule=\"nonzero\" fill-opacity=\"1\" /><path clip-path=\"url(#clip650)\" d=\"M1282.34 1548.76 L1282.34 1551.62 L1255.41 1551.62 Q1255.79 1557.67 1259.04 1560.85 Q1262.32 1564 1268.14 1564 Q1271.52 1564 1274.67 1563.17 Q1277.85 1562.35 1280.97 1560.69 L1280.97 1566.23 Q1277.82 1567.57 1274.51 1568.27 Q1271.2 1568.97 1267.79 1568.97 Q1259.26 1568.97 1254.27 1564 Q1249.3 1559.04 1249.3 1550.57 Q1249.3 1541.82 1254.01 1536.69 Q1258.75 1531.54 1266.77 1531.54 Q1273.97 1531.54 1278.14 1536.18 Q1282.34 1540.8 1282.34 1548.76 M1276.48 1547.04 Q1276.42 1542.23 1273.78 1539.37 Q1271.17 1536.5 1266.84 1536.5 Q1261.94 1536.5 1258.98 1539.27 Q1256.05 1542.04 1255.6 1547.07 L1276.48 1547.04 Z\" fill=\"#000000\" fill-rule=\"nonzero\" fill-opacity=\"1\" /><path clip-path=\"url(#clip650)\" d=\"M1317.6 1533.76 L1317.6 1539.24 Q1315.12 1537.87 1312.61 1537.2 Q1310.12 1536.5 1307.58 1536.5 Q1301.88 1536.5 1298.73 1540.13 Q1295.58 1543.73 1295.58 1550.25 Q1295.58 1556.78 1298.73 1560.4 Q1301.88 1564 1307.58 1564 Q1310.12 1564 1312.61 1563.33 Q1315.12 1562.63 1317.6 1561.26 L1317.6 1566.68 Q1315.15 1567.82 1312.51 1568.39 Q1309.9 1568.97 1306.94 1568.97 Q1298.89 1568.97 1294.15 1563.91 Q1289.4 1558.85 1289.4 1550.25 Q1289.4 1541.53 1294.18 1536.53 Q1298.98 1531.54 1307.32 1531.54 Q1310.03 1531.54 1312.61 1532.11 Q1315.19 1532.65 1317.6 1533.76 Z\" fill=\"#000000\" fill-rule=\"nonzero\" fill-opacity=\"1\" /><path clip-path=\"url(#clip650)\" d=\"M1341.6 1536.5 Q1336.89 1536.5 1334.16 1540.19 Q1331.42 1543.85 1331.42 1550.25 Q1331.42 1556.65 1334.12 1560.34 Q1336.86 1564 1341.6 1564 Q1346.28 1564 1349.02 1560.31 Q1351.76 1556.62 1351.76 1550.25 Q1351.76 1543.92 1349.02 1540.23 Q1346.28 1536.5 1341.6 1536.5 M1341.6 1531.54 Q1349.24 1531.54 1353.6 1536.5 Q1357.96 1541.47 1357.96 1550.25 Q1357.96 1559 1353.6 1564 Q1349.24 1568.97 1341.6 1568.97 Q1333.93 1568.97 1329.57 1564 Q1325.24 1559 1325.24 1550.25 Q1325.24 1541.47 1329.57 1536.5 Q1333.93 1531.54 1341.6 1531.54 Z\" fill=\"#000000\" fill-rule=\"nonzero\" fill-opacity=\"1\" /><path clip-path=\"url(#clip650)\" d=\"M1397.3 1546.53 L1397.3 1568.04 L1391.45 1568.04 L1391.45 1546.72 Q1391.45 1541.66 1389.47 1539.14 Q1387.5 1536.63 1383.55 1536.63 Q1378.81 1536.63 1376.07 1539.65 Q1373.34 1542.68 1373.34 1547.9 L1373.34 1568.04 L1367.45 1568.04 L1367.45 1532.4 L1373.34 1532.4 L1373.34 1537.93 Q1375.44 1534.72 1378.27 1533.13 Q1381.13 1531.54 1384.86 1531.54 Q1391 1531.54 1394.15 1535.36 Q1397.3 1539.14 1397.3 1546.53 Z\" fill=\"#000000\" fill-rule=\"nonzero\" fill-opacity=\"1\" /><path clip-path=\"url(#clip650)\" d=\"M1432.44 1537.81 L1432.44 1518.52 L1438.3 1518.52 L1438.3 1568.04 L1432.44 1568.04 L1432.44 1562.7 Q1430.6 1565.88 1427.76 1567.44 Q1424.96 1568.97 1421.02 1568.97 Q1414.55 1568.97 1410.48 1563.81 Q1406.44 1558.65 1406.44 1550.25 Q1406.44 1541.85 1410.48 1536.69 Q1414.55 1531.54 1421.02 1531.54 Q1424.96 1531.54 1427.76 1533.1 Q1430.6 1534.62 1432.44 1537.81 M1412.49 1550.25 Q1412.49 1556.71 1415.13 1560.4 Q1417.8 1564.07 1422.45 1564.07 Q1427.09 1564.07 1429.77 1560.4 Q1432.44 1556.71 1432.44 1550.25 Q1432.44 1543.79 1429.77 1540.13 Q1427.09 1536.44 1422.45 1536.44 Q1417.8 1536.44 1415.13 1540.13 Q1412.49 1543.79 1412.49 1550.25 Z\" fill=\"#000000\" fill-rule=\"nonzero\" fill-opacity=\"1\" /><path clip-path=\"url(#clip650)\" d=\"M1473.09 1533.45 L1473.09 1538.98 Q1470.6 1537.71 1467.93 1537.07 Q1465.26 1536.44 1462.39 1536.44 Q1458.03 1536.44 1455.84 1537.77 Q1453.67 1539.11 1453.67 1541.79 Q1453.67 1543.82 1455.23 1545 Q1456.79 1546.15 1461.5 1547.2 L1463.51 1547.64 Q1469.74 1548.98 1472.35 1551.43 Q1475 1553.85 1475 1558.21 Q1475 1563.17 1471.05 1566.07 Q1467.13 1568.97 1460.26 1568.97 Q1457.4 1568.97 1454.28 1568.39 Q1451.19 1567.85 1447.75 1566.74 L1447.75 1560.69 Q1451 1562.38 1454.15 1563.24 Q1457.3 1564.07 1460.39 1564.07 Q1464.52 1564.07 1466.75 1562.66 Q1468.98 1561.23 1468.98 1558.65 Q1468.98 1556.27 1467.36 1554.99 Q1465.77 1553.72 1460.32 1552.54 L1458.29 1552.07 Q1452.84 1550.92 1450.42 1548.56 Q1448.01 1546.18 1448.01 1542.04 Q1448.01 1537.01 1451.57 1534.27 Q1455.14 1531.54 1461.69 1531.54 Q1464.94 1531.54 1467.8 1532.01 Q1470.67 1532.49 1473.09 1533.45 Z\" fill=\"#000000\" fill-rule=\"nonzero\" fill-opacity=\"1\" /><polyline clip-path=\"url(#clip652)\" style=\"stroke:#000000; stroke-linecap:round; stroke-linejoin:round; stroke-width:2; stroke-opacity:0.1; fill:none\" points=\"203.964,1423.18 2352.76,1423.18 \"/>\n",
       "<polyline clip-path=\"url(#clip652)\" style=\"stroke:#000000; stroke-linecap:round; stroke-linejoin:round; stroke-width:2; stroke-opacity:0.1; fill:none\" points=\"203.964,1168.38 2352.76,1168.38 \"/>\n",
       "<polyline clip-path=\"url(#clip652)\" style=\"stroke:#000000; stroke-linecap:round; stroke-linejoin:round; stroke-width:2; stroke-opacity:0.1; fill:none\" points=\"203.964,913.574 2352.76,913.574 \"/>\n",
       "<polyline clip-path=\"url(#clip652)\" style=\"stroke:#000000; stroke-linecap:round; stroke-linejoin:round; stroke-width:2; stroke-opacity:0.1; fill:none\" points=\"203.964,658.771 2352.76,658.771 \"/>\n",
       "<polyline clip-path=\"url(#clip652)\" style=\"stroke:#000000; stroke-linecap:round; stroke-linejoin:round; stroke-width:2; stroke-opacity:0.1; fill:none\" points=\"203.964,403.968 2352.76,403.968 \"/>\n",
       "<polyline clip-path=\"url(#clip652)\" style=\"stroke:#000000; stroke-linecap:round; stroke-linejoin:round; stroke-width:2; stroke-opacity:0.1; fill:none\" points=\"203.964,149.165 2352.76,149.165 \"/>\n",
       "<polyline clip-path=\"url(#clip650)\" style=\"stroke:#000000; stroke-linecap:round; stroke-linejoin:round; stroke-width:4; stroke-opacity:1; fill:none\" points=\"203.964,1423.18 203.964,47.2441 \"/>\n",
       "<polyline clip-path=\"url(#clip650)\" style=\"stroke:#000000; stroke-linecap:round; stroke-linejoin:round; stroke-width:4; stroke-opacity:1; fill:none\" points=\"203.964,1423.18 222.861,1423.18 \"/>\n",
       "<polyline clip-path=\"url(#clip650)\" style=\"stroke:#000000; stroke-linecap:round; stroke-linejoin:round; stroke-width:4; stroke-opacity:1; fill:none\" points=\"203.964,1168.38 222.861,1168.38 \"/>\n",
       "<polyline clip-path=\"url(#clip650)\" style=\"stroke:#000000; stroke-linecap:round; stroke-linejoin:round; stroke-width:4; stroke-opacity:1; fill:none\" points=\"203.964,913.574 222.861,913.574 \"/>\n",
       "<polyline clip-path=\"url(#clip650)\" style=\"stroke:#000000; stroke-linecap:round; stroke-linejoin:round; stroke-width:4; stroke-opacity:1; fill:none\" points=\"203.964,658.771 222.861,658.771 \"/>\n",
       "<polyline clip-path=\"url(#clip650)\" style=\"stroke:#000000; stroke-linecap:round; stroke-linejoin:round; stroke-width:4; stroke-opacity:1; fill:none\" points=\"203.964,403.968 222.861,403.968 \"/>\n",
       "<polyline clip-path=\"url(#clip650)\" style=\"stroke:#000000; stroke-linecap:round; stroke-linejoin:round; stroke-width:4; stroke-opacity:1; fill:none\" points=\"203.964,149.165 222.861,149.165 \"/>\n",
       "<path clip-path=\"url(#clip650)\" d=\"M156.019 1408.98 Q152.408 1408.98 150.579 1412.54 Q148.774 1416.08 148.774 1423.21 Q148.774 1430.32 150.579 1433.89 Q152.408 1437.43 156.019 1437.43 Q159.653 1437.43 161.459 1433.89 Q163.288 1430.32 163.288 1423.21 Q163.288 1416.08 161.459 1412.54 Q159.653 1408.98 156.019 1408.98 M156.019 1405.27 Q161.829 1405.27 164.885 1409.88 Q167.964 1414.46 167.964 1423.21 Q167.964 1431.94 164.885 1436.55 Q161.829 1441.13 156.019 1441.13 Q150.209 1441.13 147.13 1436.55 Q144.075 1431.94 144.075 1423.21 Q144.075 1414.46 147.13 1409.88 Q150.209 1405.27 156.019 1405.27 Z\" fill=\"#000000\" fill-rule=\"nonzero\" fill-opacity=\"1\" /><path clip-path=\"url(#clip650)\" d=\"M147.061 1151.1 L165.417 1151.1 L165.417 1155.03 L151.343 1155.03 L151.343 1163.5 Q152.362 1163.16 153.38 1163 Q154.399 1162.81 155.417 1162.81 Q161.204 1162.81 164.584 1165.98 Q167.964 1169.15 167.964 1174.57 Q167.964 1180.15 164.491 1183.25 Q161.019 1186.33 154.7 1186.33 Q152.524 1186.33 150.255 1185.96 Q148.01 1185.59 145.603 1184.85 L145.603 1180.15 Q147.686 1181.28 149.908 1181.84 Q152.13 1182.39 154.607 1182.39 Q158.612 1182.39 160.95 1180.29 Q163.288 1178.18 163.288 1174.57 Q163.288 1170.96 160.95 1168.85 Q158.612 1166.74 154.607 1166.74 Q152.732 1166.74 150.857 1167.16 Q149.005 1167.58 147.061 1168.46 L147.061 1151.1 Z\" fill=\"#000000\" fill-rule=\"nonzero\" fill-opacity=\"1\" /><path clip-path=\"url(#clip650)\" d=\"M116.668 926.919 L124.306 926.919 L124.306 900.553 L115.996 902.22 L115.996 897.961 L124.26 896.294 L128.936 896.294 L128.936 926.919 L136.575 926.919 L136.575 930.854 L116.668 930.854 L116.668 926.919 Z\" fill=\"#000000\" fill-rule=\"nonzero\" fill-opacity=\"1\" /><path clip-path=\"url(#clip650)\" d=\"M156.019 899.373 Q152.408 899.373 150.579 902.937 Q148.774 906.479 148.774 913.609 Q148.774 920.715 150.579 924.28 Q152.408 927.822 156.019 927.822 Q159.653 927.822 161.459 924.28 Q163.288 920.715 163.288 913.609 Q163.288 906.479 161.459 902.937 Q159.653 899.373 156.019 899.373 M156.019 895.669 Q161.829 895.669 164.885 900.275 Q167.964 904.859 167.964 913.609 Q167.964 922.336 164.885 926.942 Q161.829 931.525 156.019 931.525 Q150.209 931.525 147.13 926.942 Q144.075 922.336 144.075 913.609 Q144.075 904.859 147.13 900.275 Q150.209 895.669 156.019 895.669 Z\" fill=\"#000000\" fill-rule=\"nonzero\" fill-opacity=\"1\" /><path clip-path=\"url(#clip650)\" d=\"M117.663 672.116 L125.302 672.116 L125.302 645.75 L116.992 647.417 L116.992 643.158 L125.255 641.491 L129.931 641.491 L129.931 672.116 L137.57 672.116 L137.57 676.051 L117.663 676.051 L117.663 672.116 Z\" fill=\"#000000\" fill-rule=\"nonzero\" fill-opacity=\"1\" /><path clip-path=\"url(#clip650)\" d=\"M147.061 641.491 L165.417 641.491 L165.417 645.426 L151.343 645.426 L151.343 653.898 Q152.362 653.551 153.38 653.389 Q154.399 653.204 155.417 653.204 Q161.204 653.204 164.584 656.375 Q167.964 659.547 167.964 664.963 Q167.964 670.542 164.491 673.644 Q161.019 676.722 154.7 676.722 Q152.524 676.722 150.255 676.352 Q148.01 675.982 145.603 675.241 L145.603 670.542 Q147.686 671.676 149.908 672.232 Q152.13 672.787 154.607 672.787 Q158.612 672.787 160.95 670.681 Q163.288 668.574 163.288 664.963 Q163.288 661.352 160.95 659.246 Q158.612 657.139 154.607 657.139 Q152.732 657.139 150.857 657.556 Q149.005 657.972 147.061 658.852 L147.061 641.491 Z\" fill=\"#000000\" fill-rule=\"nonzero\" fill-opacity=\"1\" /><path clip-path=\"url(#clip650)\" d=\"M119.885 417.313 L136.204 417.313 L136.204 421.248 L114.26 421.248 L114.26 417.313 Q116.922 414.558 121.505 409.929 Q126.112 405.276 127.292 403.933 Q129.538 401.41 130.417 399.674 Q131.32 397.915 131.32 396.225 Q131.32 393.471 129.376 391.734 Q127.455 389.998 124.353 389.998 Q122.154 389.998 119.7 390.762 Q117.269 391.526 114.492 393.077 L114.492 388.355 Q117.316 387.221 119.769 386.642 Q122.223 386.063 124.26 386.063 Q129.63 386.063 132.825 388.748 Q136.019 391.434 136.019 395.924 Q136.019 398.054 135.209 399.975 Q134.422 401.873 132.316 404.466 Q131.737 405.137 128.635 408.355 Q125.533 411.549 119.885 417.313 Z\" fill=\"#000000\" fill-rule=\"nonzero\" fill-opacity=\"1\" /><path clip-path=\"url(#clip650)\" d=\"M156.019 389.767 Q152.408 389.767 150.579 393.332 Q148.774 396.873 148.774 404.003 Q148.774 411.109 150.579 414.674 Q152.408 418.216 156.019 418.216 Q159.653 418.216 161.459 414.674 Q163.288 411.109 163.288 404.003 Q163.288 396.873 161.459 393.332 Q159.653 389.767 156.019 389.767 M156.019 386.063 Q161.829 386.063 164.885 390.67 Q167.964 395.253 167.964 404.003 Q167.964 412.73 164.885 417.336 Q161.829 421.919 156.019 421.919 Q150.209 421.919 147.13 417.336 Q144.075 412.73 144.075 404.003 Q144.075 395.253 147.13 390.67 Q150.209 386.063 156.019 386.063 Z\" fill=\"#000000\" fill-rule=\"nonzero\" fill-opacity=\"1\" /><path clip-path=\"url(#clip650)\" d=\"M120.88 162.51 L137.2 162.51 L137.2 166.445 L115.256 166.445 L115.256 162.51 Q117.918 159.755 122.501 155.126 Q127.107 150.473 128.288 149.131 Q130.533 146.607 131.413 144.871 Q132.316 143.112 132.316 141.422 Q132.316 138.668 130.371 136.932 Q128.45 135.195 125.348 135.195 Q123.149 135.195 120.695 135.959 Q118.265 136.723 115.487 138.274 L115.487 133.552 Q118.311 132.418 120.765 131.839 Q123.218 131.26 125.255 131.26 Q130.626 131.26 133.82 133.945 Q137.015 136.631 137.015 141.121 Q137.015 143.251 136.204 145.172 Q135.417 147.07 133.311 149.663 Q132.732 150.334 129.63 153.552 Q126.529 156.746 120.88 162.51 Z\" fill=\"#000000\" fill-rule=\"nonzero\" fill-opacity=\"1\" /><path clip-path=\"url(#clip650)\" d=\"M147.061 131.885 L165.417 131.885 L165.417 135.82 L151.343 135.82 L151.343 144.293 Q152.362 143.945 153.38 143.783 Q154.399 143.598 155.417 143.598 Q161.204 143.598 164.584 146.769 Q167.964 149.941 167.964 155.357 Q167.964 160.936 164.491 164.038 Q161.019 167.117 154.7 167.117 Q152.524 167.117 150.255 166.746 Q148.01 166.376 145.603 165.635 L145.603 160.936 Q147.686 162.07 149.908 162.626 Q152.13 163.181 154.607 163.181 Q158.612 163.181 160.95 161.075 Q163.288 158.968 163.288 155.357 Q163.288 151.746 160.95 149.64 Q158.612 147.533 154.607 147.533 Q152.732 147.533 150.857 147.95 Q149.005 148.367 147.061 149.246 L147.061 131.885 Z\" fill=\"#000000\" fill-rule=\"nonzero\" fill-opacity=\"1\" /><path clip-path=\"url(#clip650)\" d=\"M29.7248 796.386 L35.1993 796.386 Q33.8307 798.869 33.1623 801.383 Q32.4621 803.866 32.4621 806.412 Q32.4621 812.11 36.0905 815.261 Q39.6872 818.412 46.212 818.412 Q52.7369 818.412 56.3653 815.261 Q59.9619 812.11 59.9619 806.412 Q59.9619 803.866 59.2935 801.383 Q58.5933 798.869 57.2247 796.386 L62.6355 796.386 Q63.7814 798.837 64.3543 801.479 Q64.9272 804.089 64.9272 807.049 Q64.9272 815.102 59.8664 819.844 Q54.8057 824.586 46.212 824.586 Q37.491 824.586 32.4939 819.812 Q27.4968 815.006 27.4968 806.667 Q27.4968 803.962 28.0697 801.383 Q28.6108 798.805 29.7248 796.386 Z\" fill=\"#000000\" fill-rule=\"nonzero\" fill-opacity=\"1\" /><path clip-path=\"url(#clip650)\" d=\"M32.4621 772.388 Q32.4621 777.098 36.1542 779.836 Q39.8145 782.573 46.212 782.573 Q52.6095 782.573 56.3017 779.867 Q59.9619 777.13 59.9619 772.388 Q59.9619 767.709 56.2698 764.972 Q52.5777 762.234 46.212 762.234 Q39.8781 762.234 36.186 764.972 Q32.4621 767.709 32.4621 772.388 M27.4968 772.388 Q27.4968 764.749 32.4621 760.388 Q37.4273 756.028 46.212 756.028 Q54.9649 756.028 59.9619 760.388 Q64.9272 764.749 64.9272 772.388 Q64.9272 780.058 59.9619 784.419 Q54.9649 788.748 46.212 788.748 Q37.4273 788.748 32.4621 784.419 Q27.4968 780.058 27.4968 772.388 Z\" fill=\"#000000\" fill-rule=\"nonzero\" fill-opacity=\"1\" /><path clip-path=\"url(#clip650)\" d=\"M49.9359 746.925 L28.3562 746.925 L28.3562 741.068 L49.7131 741.068 Q54.7739 741.068 57.3202 739.095 Q59.8346 737.122 59.8346 733.175 Q59.8346 728.432 56.8109 725.695 Q53.7872 722.926 48.5673 722.926 L28.3562 722.926 L28.3562 717.07 L64.0042 717.07 L64.0042 722.926 L58.5296 722.926 Q61.7762 725.059 63.3676 727.891 Q64.9272 730.692 64.9272 734.416 Q64.9272 740.559 61.1078 743.742 Q57.2883 746.925 49.9359 746.925 M27.4968 732.188 L27.4968 732.188 Z\" fill=\"#000000\" fill-rule=\"nonzero\" fill-opacity=\"1\" /><path clip-path=\"url(#clip650)\" d=\"M42.4881 675.374 L64.0042 675.374 L64.0042 681.231 L42.679 681.231 Q37.6183 681.231 35.1038 683.204 Q32.5894 685.178 32.5894 689.124 Q32.5894 693.867 35.6131 696.604 Q38.6368 699.341 43.8567 699.341 L64.0042 699.341 L64.0042 705.229 L28.3562 705.229 L28.3562 699.341 L33.8944 699.341 Q30.6797 697.241 29.0883 694.408 Q27.4968 691.543 27.4968 687.819 Q27.4968 681.676 31.3163 678.525 Q35.1038 675.374 42.4881 675.374 Z\" fill=\"#000000\" fill-rule=\"nonzero\" fill-opacity=\"1\" /><path clip-path=\"url(#clip650)\" d=\"M18.2347 657.9 L28.3562 657.9 L28.3562 645.837 L32.9077 645.837 L32.9077 657.9 L52.2594 657.9 Q56.6199 657.9 57.8613 656.723 Q59.1026 655.513 59.1026 651.853 L59.1026 645.837 L64.0042 645.837 L64.0042 651.853 Q64.0042 658.633 61.4897 661.211 Q58.9434 663.789 52.2594 663.789 L32.9077 663.789 L32.9077 668.086 L28.3562 668.086 L28.3562 663.789 L18.2347 663.789 L18.2347 657.9 Z\" fill=\"#000000\" fill-rule=\"nonzero\" fill-opacity=\"1\" /><path clip-path=\"url(#clip652)\" d=\"M206.395 1168.38 L206.395 1423.18 L275.376 1423.18 L275.376 1168.38 L206.395 1168.38 L206.395 1168.38  Z\" fill=\"#009af9\" fill-rule=\"evenodd\" fill-opacity=\"1\"/>\n",
       "<polyline clip-path=\"url(#clip652)\" style=\"stroke:#000000; stroke-linecap:round; stroke-linejoin:round; stroke-width:4; stroke-opacity:1; fill:none\" points=\"206.395,1168.38 206.395,1423.18 275.376,1423.18 275.376,1168.38 206.395,1168.38 \"/>\n",
       "<path clip-path=\"url(#clip652)\" d=\"M275.376 1117.42 L275.376 1423.18 L344.357 1423.18 L344.357 1117.42 L275.376 1117.42 L275.376 1117.42  Z\" fill=\"#009af9\" fill-rule=\"evenodd\" fill-opacity=\"1\"/>\n",
       "<polyline clip-path=\"url(#clip652)\" style=\"stroke:#000000; stroke-linecap:round; stroke-linejoin:round; stroke-width:4; stroke-opacity:1; fill:none\" points=\"275.376,1117.42 275.376,1423.18 344.357,1423.18 344.357,1117.42 275.376,1117.42 \"/>\n",
       "<path clip-path=\"url(#clip652)\" d=\"M344.357 913.574 L344.357 1423.18 L413.338 1423.18 L413.338 913.574 L344.357 913.574 L344.357 913.574  Z\" fill=\"#009af9\" fill-rule=\"evenodd\" fill-opacity=\"1\"/>\n",
       "<polyline clip-path=\"url(#clip652)\" style=\"stroke:#000000; stroke-linecap:round; stroke-linejoin:round; stroke-width:4; stroke-opacity:1; fill:none\" points=\"344.357,913.574 344.357,1423.18 413.338,1423.18 413.338,913.574 344.357,913.574 \"/>\n",
       "<path clip-path=\"url(#clip652)\" d=\"M413.338 658.771 L413.338 1423.18 L482.319 1423.18 L482.319 658.771 L413.338 658.771 L413.338 658.771  Z\" fill=\"#009af9\" fill-rule=\"evenodd\" fill-opacity=\"1\"/>\n",
       "<polyline clip-path=\"url(#clip652)\" style=\"stroke:#000000; stroke-linecap:round; stroke-linejoin:round; stroke-width:4; stroke-opacity:1; fill:none\" points=\"413.338,658.771 413.338,1423.18 482.319,1423.18 482.319,658.771 413.338,658.771 \"/>\n",
       "<path clip-path=\"url(#clip652)\" d=\"M482.319 251.086 L482.319 1423.18 L551.3 1423.18 L551.3 251.086 L482.319 251.086 L482.319 251.086  Z\" fill=\"#009af9\" fill-rule=\"evenodd\" fill-opacity=\"1\"/>\n",
       "<polyline clip-path=\"url(#clip652)\" style=\"stroke:#000000; stroke-linecap:round; stroke-linejoin:round; stroke-width:4; stroke-opacity:1; fill:none\" points=\"482.319,251.086 482.319,1423.18 551.3,1423.18 551.3,251.086 482.319,251.086 \"/>\n",
       "<path clip-path=\"url(#clip652)\" d=\"M551.3 302.047 L551.3 1423.18 L620.282 1423.18 L620.282 302.047 L551.3 302.047 L551.3 302.047  Z\" fill=\"#009af9\" fill-rule=\"evenodd\" fill-opacity=\"1\"/>\n",
       "<polyline clip-path=\"url(#clip652)\" style=\"stroke:#000000; stroke-linecap:round; stroke-linejoin:round; stroke-width:4; stroke-opacity:1; fill:none\" points=\"551.3,302.047 551.3,1423.18 620.282,1423.18 620.282,302.047 551.3,302.047 \"/>\n",
       "<path clip-path=\"url(#clip652)\" d=\"M620.282 454.929 L620.282 1423.18 L689.263 1423.18 L689.263 454.929 L620.282 454.929 L620.282 454.929  Z\" fill=\"#009af9\" fill-rule=\"evenodd\" fill-opacity=\"1\"/>\n",
       "<polyline clip-path=\"url(#clip652)\" style=\"stroke:#000000; stroke-linecap:round; stroke-linejoin:round; stroke-width:4; stroke-opacity:1; fill:none\" points=\"620.282,454.929 620.282,1423.18 689.263,1423.18 689.263,454.929 620.282,454.929 \"/>\n",
       "<path clip-path=\"url(#clip652)\" d=\"M689.263 302.047 L689.263 1423.18 L758.244 1423.18 L758.244 302.047 L689.263 302.047 L689.263 302.047  Z\" fill=\"#009af9\" fill-rule=\"evenodd\" fill-opacity=\"1\"/>\n",
       "<polyline clip-path=\"url(#clip652)\" style=\"stroke:#000000; stroke-linecap:round; stroke-linejoin:round; stroke-width:4; stroke-opacity:1; fill:none\" points=\"689.263,302.047 689.263,1423.18 758.244,1423.18 758.244,302.047 689.263,302.047 \"/>\n",
       "<path clip-path=\"url(#clip652)\" d=\"M758.244 505.889 L758.244 1423.18 L827.225 1423.18 L827.225 505.889 L758.244 505.889 L758.244 505.889  Z\" fill=\"#009af9\" fill-rule=\"evenodd\" fill-opacity=\"1\"/>\n",
       "<polyline clip-path=\"url(#clip652)\" style=\"stroke:#000000; stroke-linecap:round; stroke-linejoin:round; stroke-width:4; stroke-opacity:1; fill:none\" points=\"758.244,505.889 758.244,1423.18 827.225,1423.18 827.225,505.889 758.244,505.889 \"/>\n",
       "<path clip-path=\"url(#clip652)\" d=\"M827.225 47.2441 L827.225 1423.18 L896.206 1423.18 L896.206 47.2441 L827.225 47.2441 L827.225 47.2441  Z\" fill=\"#009af9\" fill-rule=\"evenodd\" fill-opacity=\"1\"/>\n",
       "<polyline clip-path=\"url(#clip652)\" style=\"stroke:#000000; stroke-linecap:round; stroke-linejoin:round; stroke-width:4; stroke-opacity:1; fill:none\" points=\"827.225,47.2441 827.225,1423.18 896.206,1423.18 896.206,47.2441 827.225,47.2441 \"/>\n",
       "<path clip-path=\"url(#clip652)\" d=\"M896.206 454.929 L896.206 1423.18 L965.187 1423.18 L965.187 454.929 L896.206 454.929 L896.206 454.929  Z\" fill=\"#009af9\" fill-rule=\"evenodd\" fill-opacity=\"1\"/>\n",
       "<polyline clip-path=\"url(#clip652)\" style=\"stroke:#000000; stroke-linecap:round; stroke-linejoin:round; stroke-width:4; stroke-opacity:1; fill:none\" points=\"896.206,454.929 896.206,1423.18 965.187,1423.18 965.187,454.929 896.206,454.929 \"/>\n",
       "<path clip-path=\"url(#clip652)\" d=\"M965.187 760.692 L965.187 1423.18 L1034.17 1423.18 L1034.17 760.692 L965.187 760.692 L965.187 760.692  Z\" fill=\"#009af9\" fill-rule=\"evenodd\" fill-opacity=\"1\"/>\n",
       "<polyline clip-path=\"url(#clip652)\" style=\"stroke:#000000; stroke-linecap:round; stroke-linejoin:round; stroke-width:4; stroke-opacity:1; fill:none\" points=\"965.187,760.692 965.187,1423.18 1034.17,1423.18 1034.17,760.692 965.187,760.692 \"/>\n",
       "<path clip-path=\"url(#clip652)\" d=\"M1034.17 556.85 L1034.17 1423.18 L1103.15 1423.18 L1103.15 556.85 L1034.17 556.85 L1034.17 556.85  Z\" fill=\"#009af9\" fill-rule=\"evenodd\" fill-opacity=\"1\"/>\n",
       "<polyline clip-path=\"url(#clip652)\" style=\"stroke:#000000; stroke-linecap:round; stroke-linejoin:round; stroke-width:4; stroke-opacity:1; fill:none\" points=\"1034.17,556.85 1034.17,1423.18 1103.15,1423.18 1103.15,556.85 1034.17,556.85 \"/>\n",
       "<path clip-path=\"url(#clip652)\" d=\"M1103.15 913.574 L1103.15 1423.18 L1172.13 1423.18 L1172.13 913.574 L1103.15 913.574 L1103.15 913.574  Z\" fill=\"#009af9\" fill-rule=\"evenodd\" fill-opacity=\"1\"/>\n",
       "<polyline clip-path=\"url(#clip652)\" style=\"stroke:#000000; stroke-linecap:round; stroke-linejoin:round; stroke-width:4; stroke-opacity:1; fill:none\" points=\"1103.15,913.574 1103.15,1423.18 1172.13,1423.18 1172.13,913.574 1103.15,913.574 \"/>\n",
       "<path clip-path=\"url(#clip652)\" d=\"M1172.13 760.692 L1172.13 1423.18 L1241.11 1423.18 L1241.11 760.692 L1172.13 760.692 L1172.13 760.692  Z\" fill=\"#009af9\" fill-rule=\"evenodd\" fill-opacity=\"1\"/>\n",
       "<polyline clip-path=\"url(#clip652)\" style=\"stroke:#000000; stroke-linecap:round; stroke-linejoin:round; stroke-width:4; stroke-opacity:1; fill:none\" points=\"1172.13,760.692 1172.13,1423.18 1241.11,1423.18 1241.11,760.692 1172.13,760.692 \"/>\n",
       "<path clip-path=\"url(#clip652)\" d=\"M1241.11 556.85 L1241.11 1423.18 L1310.09 1423.18 L1310.09 556.85 L1241.11 556.85 L1241.11 556.85  Z\" fill=\"#009af9\" fill-rule=\"evenodd\" fill-opacity=\"1\"/>\n",
       "<polyline clip-path=\"url(#clip652)\" style=\"stroke:#000000; stroke-linecap:round; stroke-linejoin:round; stroke-width:4; stroke-opacity:1; fill:none\" points=\"1241.11,556.85 1241.11,1423.18 1310.09,1423.18 1310.09,556.85 1241.11,556.85 \"/>\n",
       "<path clip-path=\"url(#clip652)\" d=\"M1310.09 811.653 L1310.09 1423.18 L1379.07 1423.18 L1379.07 811.653 L1310.09 811.653 L1310.09 811.653  Z\" fill=\"#009af9\" fill-rule=\"evenodd\" fill-opacity=\"1\"/>\n",
       "<polyline clip-path=\"url(#clip652)\" style=\"stroke:#000000; stroke-linecap:round; stroke-linejoin:round; stroke-width:4; stroke-opacity:1; fill:none\" points=\"1310.09,811.653 1310.09,1423.18 1379.07,1423.18 1379.07,811.653 1310.09,811.653 \"/>\n",
       "<path clip-path=\"url(#clip652)\" d=\"M1379.07 1066.46 L1379.07 1423.18 L1448.05 1423.18 L1448.05 1066.46 L1379.07 1066.46 L1379.07 1066.46  Z\" fill=\"#009af9\" fill-rule=\"evenodd\" fill-opacity=\"1\"/>\n",
       "<polyline clip-path=\"url(#clip652)\" style=\"stroke:#000000; stroke-linecap:round; stroke-linejoin:round; stroke-width:4; stroke-opacity:1; fill:none\" points=\"1379.07,1066.46 1379.07,1423.18 1448.05,1423.18 1448.05,1066.46 1379.07,1066.46 \"/>\n",
       "<path clip-path=\"url(#clip652)\" d=\"M1448.05 1066.46 L1448.05 1423.18 L1517.04 1423.18 L1517.04 1066.46 L1448.05 1066.46 L1448.05 1066.46  Z\" fill=\"#009af9\" fill-rule=\"evenodd\" fill-opacity=\"1\"/>\n",
       "<polyline clip-path=\"url(#clip652)\" style=\"stroke:#000000; stroke-linecap:round; stroke-linejoin:round; stroke-width:4; stroke-opacity:1; fill:none\" points=\"1448.05,1066.46 1448.05,1423.18 1517.04,1423.18 1517.04,1066.46 1448.05,1066.46 \"/>\n",
       "<path clip-path=\"url(#clip652)\" d=\"M1517.04 658.771 L1517.04 1423.18 L1586.02 1423.18 L1586.02 658.771 L1517.04 658.771 L1517.04 658.771  Z\" fill=\"#009af9\" fill-rule=\"evenodd\" fill-opacity=\"1\"/>\n",
       "<polyline clip-path=\"url(#clip652)\" style=\"stroke:#000000; stroke-linecap:round; stroke-linejoin:round; stroke-width:4; stroke-opacity:1; fill:none\" points=\"1517.04,658.771 1517.04,1423.18 1586.02,1423.18 1586.02,658.771 1517.04,658.771 \"/>\n",
       "<path clip-path=\"url(#clip652)\" d=\"M1586.02 964.535 L1586.02 1423.18 L1655 1423.18 L1655 964.535 L1586.02 964.535 L1586.02 964.535  Z\" fill=\"#009af9\" fill-rule=\"evenodd\" fill-opacity=\"1\"/>\n",
       "<polyline clip-path=\"url(#clip652)\" style=\"stroke:#000000; stroke-linecap:round; stroke-linejoin:round; stroke-width:4; stroke-opacity:1; fill:none\" points=\"1586.02,964.535 1586.02,1423.18 1655,1423.18 1655,964.535 1586.02,964.535 \"/>\n",
       "<path clip-path=\"url(#clip652)\" d=\"M1655 811.653 L1655 1423.18 L1723.98 1423.18 L1723.98 811.653 L1655 811.653 L1655 811.653  Z\" fill=\"#009af9\" fill-rule=\"evenodd\" fill-opacity=\"1\"/>\n",
       "<polyline clip-path=\"url(#clip652)\" style=\"stroke:#000000; stroke-linecap:round; stroke-linejoin:round; stroke-width:4; stroke-opacity:1; fill:none\" points=\"1655,811.653 1655,1423.18 1723.98,1423.18 1723.98,811.653 1655,811.653 \"/>\n",
       "<path clip-path=\"url(#clip652)\" d=\"M1723.98 1219.34 L1723.98 1423.18 L1792.96 1423.18 L1792.96 1219.34 L1723.98 1219.34 L1723.98 1219.34  Z\" fill=\"#009af9\" fill-rule=\"evenodd\" fill-opacity=\"1\"/>\n",
       "<polyline clip-path=\"url(#clip652)\" style=\"stroke:#000000; stroke-linecap:round; stroke-linejoin:round; stroke-width:4; stroke-opacity:1; fill:none\" points=\"1723.98,1219.34 1723.98,1423.18 1792.96,1423.18 1792.96,1219.34 1723.98,1219.34 \"/>\n",
       "<path clip-path=\"url(#clip652)\" d=\"M1792.96 1321.26 L1792.96 1423.18 L1861.94 1423.18 L1861.94 1321.26 L1792.96 1321.26 L1792.96 1321.26  Z\" fill=\"#009af9\" fill-rule=\"evenodd\" fill-opacity=\"1\"/>\n",
       "<polyline clip-path=\"url(#clip652)\" style=\"stroke:#000000; stroke-linecap:round; stroke-linejoin:round; stroke-width:4; stroke-opacity:1; fill:none\" points=\"1792.96,1321.26 1792.96,1423.18 1861.94,1423.18 1861.94,1321.26 1792.96,1321.26 \"/>\n",
       "<path clip-path=\"url(#clip652)\" d=\"M1861.94 1168.38 L1861.94 1423.18 L1930.92 1423.18 L1930.92 1168.38 L1861.94 1168.38 L1861.94 1168.38  Z\" fill=\"#009af9\" fill-rule=\"evenodd\" fill-opacity=\"1\"/>\n",
       "<polyline clip-path=\"url(#clip652)\" style=\"stroke:#000000; stroke-linecap:round; stroke-linejoin:round; stroke-width:4; stroke-opacity:1; fill:none\" points=\"1861.94,1168.38 1861.94,1423.18 1930.92,1423.18 1930.92,1168.38 1861.94,1168.38 \"/>\n",
       "<path clip-path=\"url(#clip652)\" d=\"M1930.92 1219.34 L1930.92 1423.18 L1999.9 1423.18 L1999.9 1219.34 L1930.92 1219.34 L1930.92 1219.34  Z\" fill=\"#009af9\" fill-rule=\"evenodd\" fill-opacity=\"1\"/>\n",
       "<polyline clip-path=\"url(#clip652)\" style=\"stroke:#000000; stroke-linecap:round; stroke-linejoin:round; stroke-width:4; stroke-opacity:1; fill:none\" points=\"1930.92,1219.34 1930.92,1423.18 1999.9,1423.18 1999.9,1219.34 1930.92,1219.34 \"/>\n",
       "<path clip-path=\"url(#clip652)\" d=\"M1999.9 1219.34 L1999.9 1423.18 L2068.88 1423.18 L2068.88 1219.34 L1999.9 1219.34 L1999.9 1219.34  Z\" fill=\"#009af9\" fill-rule=\"evenodd\" fill-opacity=\"1\"/>\n",
       "<polyline clip-path=\"url(#clip652)\" style=\"stroke:#000000; stroke-linecap:round; stroke-linejoin:round; stroke-width:4; stroke-opacity:1; fill:none\" points=\"1999.9,1219.34 1999.9,1423.18 2068.88,1423.18 2068.88,1219.34 1999.9,1219.34 \"/>\n",
       "<path clip-path=\"url(#clip652)\" d=\"M2068.88 1321.26 L2068.88 1423.18 L2137.87 1423.18 L2137.87 1321.26 L2068.88 1321.26 L2068.88 1321.26  Z\" fill=\"#009af9\" fill-rule=\"evenodd\" fill-opacity=\"1\"/>\n",
       "<polyline clip-path=\"url(#clip652)\" style=\"stroke:#000000; stroke-linecap:round; stroke-linejoin:round; stroke-width:4; stroke-opacity:1; fill:none\" points=\"2068.88,1321.26 2068.88,1423.18 2137.87,1423.18 2137.87,1321.26 2068.88,1321.26 \"/>\n",
       "<path clip-path=\"url(#clip652)\" d=\"M2137.87 1117.42 L2137.87 1423.18 L2206.85 1423.18 L2206.85 1117.42 L2137.87 1117.42 L2137.87 1117.42  Z\" fill=\"#009af9\" fill-rule=\"evenodd\" fill-opacity=\"1\"/>\n",
       "<polyline clip-path=\"url(#clip652)\" style=\"stroke:#000000; stroke-linecap:round; stroke-linejoin:round; stroke-width:4; stroke-opacity:1; fill:none\" points=\"2137.87,1117.42 2137.87,1423.18 2206.85,1423.18 2206.85,1117.42 2137.87,1117.42 \"/>\n",
       "<path clip-path=\"url(#clip652)\" d=\"M2206.85 1066.46 L2206.85 1423.18 L2275.83 1423.18 L2275.83 1066.46 L2206.85 1066.46 L2206.85 1066.46  Z\" fill=\"#009af9\" fill-rule=\"evenodd\" fill-opacity=\"1\"/>\n",
       "<polyline clip-path=\"url(#clip652)\" style=\"stroke:#000000; stroke-linecap:round; stroke-linejoin:round; stroke-width:4; stroke-opacity:1; fill:none\" points=\"2206.85,1066.46 2206.85,1423.18 2275.83,1423.18 2275.83,1066.46 2206.85,1066.46 \"/>\n",
       "<path clip-path=\"url(#clip652)\" d=\"M2275.83 1270.3 L2275.83 1423.18 L2344.81 1423.18 L2344.81 1270.3 L2275.83 1270.3 L2275.83 1270.3  Z\" fill=\"#009af9\" fill-rule=\"evenodd\" fill-opacity=\"1\"/>\n",
       "<polyline clip-path=\"url(#clip652)\" style=\"stroke:#000000; stroke-linecap:round; stroke-linejoin:round; stroke-width:4; stroke-opacity:1; fill:none\" points=\"2275.83,1270.3 2275.83,1423.18 2344.81,1423.18 2344.81,1270.3 2275.83,1270.3 \"/>\n",
       "<path clip-path=\"url(#clip652)\" d=\"M2344.81 1117.42 L2344.81 1423.18 L2413.79 1423.18 L2413.79 1117.42 L2344.81 1117.42 L2344.81 1117.42  Z\" fill=\"#009af9\" fill-rule=\"evenodd\" fill-opacity=\"1\"/>\n",
       "<polyline clip-path=\"url(#clip652)\" style=\"stroke:#000000; stroke-linecap:round; stroke-linejoin:round; stroke-width:4; stroke-opacity:1; fill:none\" points=\"2344.81,1117.42 2344.81,1423.18 2413.79,1423.18 2413.79,1117.42 2344.81,1117.42 \"/>\n",
       "<path clip-path=\"url(#clip652)\" d=\"M2413.79 1321.26 L2413.79 1423.18 L2482.77 1423.18 L2482.77 1321.26 L2413.79 1321.26 L2413.79 1321.26  Z\" fill=\"#009af9\" fill-rule=\"evenodd\" fill-opacity=\"1\"/>\n",
       "<polyline clip-path=\"url(#clip652)\" style=\"stroke:#000000; stroke-linecap:round; stroke-linejoin:round; stroke-width:4; stroke-opacity:1; fill:none\" points=\"2413.79,1321.26 2413.79,1423.18 2482.77,1423.18 2482.77,1321.26 2413.79,1321.26 \"/>\n",
       "<path clip-path=\"url(#clip652)\" d=\"M2482.77 1372.22 L2482.77 1423.18 L2551.75 1423.18 L2551.75 1372.22 L2482.77 1372.22 L2482.77 1372.22  Z\" fill=\"#009af9\" fill-rule=\"evenodd\" fill-opacity=\"1\"/>\n",
       "<polyline clip-path=\"url(#clip652)\" style=\"stroke:#000000; stroke-linecap:round; stroke-linejoin:round; stroke-width:4; stroke-opacity:1; fill:none\" points=\"2482.77,1372.22 2482.77,1423.18 2551.75,1423.18 2551.75,1372.22 2482.77,1372.22 \"/>\n",
       "<path clip-path=\"url(#clip652)\" d=\"M2551.75 1117.42 L2551.75 1423.18 L2620.73 1423.18 L2620.73 1117.42 L2551.75 1117.42 L2551.75 1117.42  Z\" fill=\"#009af9\" fill-rule=\"evenodd\" fill-opacity=\"1\"/>\n",
       "<polyline clip-path=\"url(#clip652)\" style=\"stroke:#000000; stroke-linecap:round; stroke-linejoin:round; stroke-width:4; stroke-opacity:1; fill:none\" points=\"2551.75,1117.42 2551.75,1423.18 2620.73,1423.18 2620.73,1117.42 2551.75,1117.42 \"/>\n",
       "<path clip-path=\"url(#clip652)\" d=\"M2620.73 1321.26 L2620.73 1423.18 L2689.71 1423.18 L2689.71 1321.26 L2620.73 1321.26 L2620.73 1321.26  Z\" fill=\"#009af9\" fill-rule=\"evenodd\" fill-opacity=\"1\"/>\n",
       "<polyline clip-path=\"url(#clip652)\" style=\"stroke:#000000; stroke-linecap:round; stroke-linejoin:round; stroke-width:4; stroke-opacity:1; fill:none\" points=\"2620.73,1321.26 2620.73,1423.18 2689.71,1423.18 2689.71,1321.26 2620.73,1321.26 \"/>\n",
       "<path clip-path=\"url(#clip652)\" d=\"M2689.71 1117.42 L2689.71 1423.18 L2758.69 1423.18 L2758.69 1117.42 L2689.71 1117.42 L2689.71 1117.42  Z\" fill=\"#009af9\" fill-rule=\"evenodd\" fill-opacity=\"1\"/>\n",
       "<polyline clip-path=\"url(#clip652)\" style=\"stroke:#000000; stroke-linecap:round; stroke-linejoin:round; stroke-width:4; stroke-opacity:1; fill:none\" points=\"2689.71,1117.42 2689.71,1423.18 2758.69,1423.18 2758.69,1117.42 2689.71,1117.42 \"/>\n",
       "<path clip-path=\"url(#clip652)\" d=\"M2758.69 1219.34 L2758.69 1423.18 L2827.68 1423.18 L2827.68 1219.34 L2758.69 1219.34 L2758.69 1219.34  Z\" fill=\"#009af9\" fill-rule=\"evenodd\" fill-opacity=\"1\"/>\n",
       "<polyline clip-path=\"url(#clip652)\" style=\"stroke:#000000; stroke-linecap:round; stroke-linejoin:round; stroke-width:4; stroke-opacity:1; fill:none\" points=\"2758.69,1219.34 2758.69,1423.18 2827.68,1423.18 2827.68,1219.34 2758.69,1219.34 \"/>\n",
       "<path clip-path=\"url(#clip652)\" d=\"M2827.68 1219.34 L2827.68 1423.18 L2896.66 1423.18 L2896.66 1219.34 L2827.68 1219.34 L2827.68 1219.34  Z\" fill=\"#009af9\" fill-rule=\"evenodd\" fill-opacity=\"1\"/>\n",
       "<polyline clip-path=\"url(#clip652)\" style=\"stroke:#000000; stroke-linecap:round; stroke-linejoin:round; stroke-width:4; stroke-opacity:1; fill:none\" points=\"2827.68,1219.34 2827.68,1423.18 2896.66,1423.18 2896.66,1219.34 2827.68,1219.34 \"/>\n",
       "<path clip-path=\"url(#clip652)\" d=\"M2896.66 1270.3 L2896.66 1423.18 L2965.64 1423.18 L2965.64 1270.3 L2896.66 1270.3 L2896.66 1270.3  Z\" fill=\"#009af9\" fill-rule=\"evenodd\" fill-opacity=\"1\"/>\n",
       "<polyline clip-path=\"url(#clip652)\" style=\"stroke:#000000; stroke-linecap:round; stroke-linejoin:round; stroke-width:4; stroke-opacity:1; fill:none\" points=\"2896.66,1270.3 2896.66,1423.18 2965.64,1423.18 2965.64,1270.3 2896.66,1270.3 \"/>\n",
       "<path clip-path=\"url(#clip652)\" d=\"M2965.64 1270.3 L2965.64 1423.18 L3034.62 1423.18 L3034.62 1270.3 L2965.64 1270.3 L2965.64 1270.3  Z\" fill=\"#009af9\" fill-rule=\"evenodd\" fill-opacity=\"1\"/>\n",
       "<polyline clip-path=\"url(#clip652)\" style=\"stroke:#000000; stroke-linecap:round; stroke-linejoin:round; stroke-width:4; stroke-opacity:1; fill:none\" points=\"2965.64,1270.3 2965.64,1423.18 3034.62,1423.18 3034.62,1270.3 2965.64,1270.3 \"/>\n",
       "<path clip-path=\"url(#clip652)\" d=\"M3034.62 1372.22 L3034.62 1423.18 L3103.6 1423.18 L3103.6 1372.22 L3034.62 1372.22 L3034.62 1372.22  Z\" fill=\"#009af9\" fill-rule=\"evenodd\" fill-opacity=\"1\"/>\n",
       "<polyline clip-path=\"url(#clip652)\" style=\"stroke:#000000; stroke-linecap:round; stroke-linejoin:round; stroke-width:4; stroke-opacity:1; fill:none\" points=\"3034.62,1372.22 3034.62,1423.18 3103.6,1423.18 3103.6,1372.22 3034.62,1372.22 \"/>\n",
       "<path clip-path=\"url(#clip652)\" d=\"M3103.6 1168.38 L3103.6 1423.18 L3172.58 1423.18 L3172.58 1168.38 L3103.6 1168.38 L3103.6 1168.38  Z\" fill=\"#009af9\" fill-rule=\"evenodd\" fill-opacity=\"1\"/>\n",
       "<polyline clip-path=\"url(#clip652)\" style=\"stroke:#000000; stroke-linecap:round; stroke-linejoin:round; stroke-width:4; stroke-opacity:1; fill:none\" points=\"3103.6,1168.38 3103.6,1423.18 3172.58,1423.18 3172.58,1168.38 3103.6,1168.38 \"/>\n",
       "<path clip-path=\"url(#clip652)\" d=\"M3172.58 1321.26 L3172.58 1423.18 L3241.56 1423.18 L3241.56 1321.26 L3172.58 1321.26 L3172.58 1321.26  Z\" fill=\"#009af9\" fill-rule=\"evenodd\" fill-opacity=\"1\"/>\n",
       "<polyline clip-path=\"url(#clip652)\" style=\"stroke:#000000; stroke-linecap:round; stroke-linejoin:round; stroke-width:4; stroke-opacity:1; fill:none\" points=\"3172.58,1321.26 3172.58,1423.18 3241.56,1423.18 3241.56,1321.26 3172.58,1321.26 \"/>\n",
       "<path clip-path=\"url(#clip652)\" d=\"M3241.56 1117.42 L3241.56 1423.18 L3310.54 1423.18 L3310.54 1117.42 L3241.56 1117.42 L3241.56 1117.42  Z\" fill=\"#009af9\" fill-rule=\"evenodd\" fill-opacity=\"1\"/>\n",
       "<polyline clip-path=\"url(#clip652)\" style=\"stroke:#000000; stroke-linecap:round; stroke-linejoin:round; stroke-width:4; stroke-opacity:1; fill:none\" points=\"3241.56,1117.42 3241.56,1423.18 3310.54,1423.18 3310.54,1117.42 3241.56,1117.42 \"/>\n",
       "<path clip-path=\"url(#clip652)\" d=\"M3310.54 1270.3 L3310.54 1423.18 L3379.52 1423.18 L3379.52 1270.3 L3310.54 1270.3 L3310.54 1270.3  Z\" fill=\"#009af9\" fill-rule=\"evenodd\" fill-opacity=\"1\"/>\n",
       "<polyline clip-path=\"url(#clip652)\" style=\"stroke:#000000; stroke-linecap:round; stroke-linejoin:round; stroke-width:4; stroke-opacity:1; fill:none\" points=\"3310.54,1270.3 3310.54,1423.18 3379.52,1423.18 3379.52,1270.3 3310.54,1270.3 \"/>\n",
       "<path clip-path=\"url(#clip652)\" d=\"M3379.52 1321.26 L3379.52 1423.18 L3448.51 1423.18 L3448.51 1321.26 L3379.52 1321.26 L3379.52 1321.26  Z\" fill=\"#009af9\" fill-rule=\"evenodd\" fill-opacity=\"1\"/>\n",
       "<polyline clip-path=\"url(#clip652)\" style=\"stroke:#000000; stroke-linecap:round; stroke-linejoin:round; stroke-width:4; stroke-opacity:1; fill:none\" points=\"3379.52,1321.26 3379.52,1423.18 3448.51,1423.18 3448.51,1321.26 3379.52,1321.26 \"/>\n",
       "<path clip-path=\"url(#clip652)\" d=\"M3448.51 1321.26 L3448.51 1423.18 L3517.49 1423.18 L3517.49 1321.26 L3448.51 1321.26 L3448.51 1321.26  Z\" fill=\"#009af9\" fill-rule=\"evenodd\" fill-opacity=\"1\"/>\n",
       "<polyline clip-path=\"url(#clip652)\" style=\"stroke:#000000; stroke-linecap:round; stroke-linejoin:round; stroke-width:4; stroke-opacity:1; fill:none\" points=\"3448.51,1321.26 3448.51,1423.18 3517.49,1423.18 3517.49,1321.26 3448.51,1321.26 \"/>\n",
       "<path clip-path=\"url(#clip652)\" d=\"M3517.49 1270.3 L3517.49 1423.18 L3586.47 1423.18 L3586.47 1270.3 L3517.49 1270.3 L3517.49 1270.3  Z\" fill=\"#009af9\" fill-rule=\"evenodd\" fill-opacity=\"1\"/>\n",
       "<polyline clip-path=\"url(#clip652)\" style=\"stroke:#000000; stroke-linecap:round; stroke-linejoin:round; stroke-width:4; stroke-opacity:1; fill:none\" points=\"3517.49,1270.3 3517.49,1423.18 3586.47,1423.18 3586.47,1270.3 3517.49,1270.3 \"/>\n",
       "<path clip-path=\"url(#clip652)\" d=\"M3586.47 1423.18 L3586.47 1423.18 L3655.45 1423.18 L3655.45 1423.18 L3586.47 1423.18 L3586.47 1423.18  Z\" fill=\"#009af9\" fill-rule=\"evenodd\" fill-opacity=\"1\"/>\n",
       "<polyline clip-path=\"url(#clip652)\" style=\"stroke:#000000; stroke-linecap:round; stroke-linejoin:round; stroke-width:4; stroke-opacity:1; fill:none\" points=\"3586.47,1423.18 3586.47,1423.18 3655.45,1423.18 3586.47,1423.18 \"/>\n",
       "<path clip-path=\"url(#clip652)\" d=\"M3655.45 1372.22 L3655.45 1423.18 L3724.43 1423.18 L3724.43 1372.22 L3655.45 1372.22 L3655.45 1372.22  Z\" fill=\"#009af9\" fill-rule=\"evenodd\" fill-opacity=\"1\"/>\n",
       "<polyline clip-path=\"url(#clip652)\" style=\"stroke:#000000; stroke-linecap:round; stroke-linejoin:round; stroke-width:4; stroke-opacity:1; fill:none\" points=\"3655.45,1372.22 3655.45,1423.18 3724.43,1423.18 3724.43,1372.22 3655.45,1372.22 \"/>\n",
       "<path clip-path=\"url(#clip652)\" d=\"M3724.43 1372.22 L3724.43 1423.18 L3793.41 1423.18 L3793.41 1372.22 L3724.43 1372.22 L3724.43 1372.22  Z\" fill=\"#009af9\" fill-rule=\"evenodd\" fill-opacity=\"1\"/>\n",
       "<polyline clip-path=\"url(#clip652)\" style=\"stroke:#000000; stroke-linecap:round; stroke-linejoin:round; stroke-width:4; stroke-opacity:1; fill:none\" points=\"3724.43,1372.22 3724.43,1423.18 3793.41,1423.18 3793.41,1372.22 3724.43,1372.22 \"/>\n",
       "<path clip-path=\"url(#clip652)\" d=\"M3793.41 1372.22 L3793.41 1423.18 L3862.39 1423.18 L3862.39 1372.22 L3793.41 1372.22 L3793.41 1372.22  Z\" fill=\"#009af9\" fill-rule=\"evenodd\" fill-opacity=\"1\"/>\n",
       "<polyline clip-path=\"url(#clip652)\" style=\"stroke:#000000; stroke-linecap:round; stroke-linejoin:round; stroke-width:4; stroke-opacity:1; fill:none\" points=\"3793.41,1372.22 3793.41,1423.18 3862.39,1423.18 3862.39,1372.22 3793.41,1372.22 \"/>\n",
       "<path clip-path=\"url(#clip652)\" d=\"M3862.39 1321.26 L3862.39 1423.18 L3931.37 1423.18 L3931.37 1321.26 L3862.39 1321.26 L3862.39 1321.26  Z\" fill=\"#009af9\" fill-rule=\"evenodd\" fill-opacity=\"1\"/>\n",
       "<polyline clip-path=\"url(#clip652)\" style=\"stroke:#000000; stroke-linecap:round; stroke-linejoin:round; stroke-width:4; stroke-opacity:1; fill:none\" points=\"3862.39,1321.26 3862.39,1423.18 3931.37,1423.18 3931.37,1321.26 3862.39,1321.26 \"/>\n",
       "<path clip-path=\"url(#clip652)\" d=\"M3931.37 1219.34 L3931.37 1423.18 L4000.35 1423.18 L4000.35 1219.34 L3931.37 1219.34 L3931.37 1219.34  Z\" fill=\"#009af9\" fill-rule=\"evenodd\" fill-opacity=\"1\"/>\n",
       "<polyline clip-path=\"url(#clip652)\" style=\"stroke:#000000; stroke-linecap:round; stroke-linejoin:round; stroke-width:4; stroke-opacity:1; fill:none\" points=\"3931.37,1219.34 3931.37,1423.18 4000.35,1423.18 4000.35,1219.34 3931.37,1219.34 \"/>\n",
       "<path clip-path=\"url(#clip652)\" d=\"M4000.35 1270.3 L4000.35 1423.18 L4069.33 1423.18 L4069.33 1270.3 L4000.35 1270.3 L4000.35 1270.3  Z\" fill=\"#009af9\" fill-rule=\"evenodd\" fill-opacity=\"1\"/>\n",
       "<polyline clip-path=\"url(#clip652)\" style=\"stroke:#000000; stroke-linecap:round; stroke-linejoin:round; stroke-width:4; stroke-opacity:1; fill:none\" points=\"4000.35,1270.3 4000.35,1423.18 4069.33,1423.18 4069.33,1270.3 4000.35,1270.3 \"/>\n",
       "<path clip-path=\"url(#clip652)\" d=\"M4069.33 1321.26 L4069.33 1423.18 L4138.32 1423.18 L4138.32 1321.26 L4069.33 1321.26 L4069.33 1321.26  Z\" fill=\"#009af9\" fill-rule=\"evenodd\" fill-opacity=\"1\"/>\n",
       "<polyline clip-path=\"url(#clip652)\" style=\"stroke:#000000; stroke-linecap:round; stroke-linejoin:round; stroke-width:4; stroke-opacity:1; fill:none\" points=\"4069.33,1321.26 4069.33,1423.18 4138.32,1423.18 4138.32,1321.26 4069.33,1321.26 \"/>\n",
       "<path clip-path=\"url(#clip652)\" d=\"M4138.32 1372.22 L4138.32 1423.18 L4207.3 1423.18 L4207.3 1372.22 L4138.32 1372.22 L4138.32 1372.22  Z\" fill=\"#009af9\" fill-rule=\"evenodd\" fill-opacity=\"1\"/>\n",
       "<polyline clip-path=\"url(#clip652)\" style=\"stroke:#000000; stroke-linecap:round; stroke-linejoin:round; stroke-width:4; stroke-opacity:1; fill:none\" points=\"4138.32,1372.22 4138.32,1423.18 4207.3,1423.18 4207.3,1372.22 4138.32,1372.22 \"/>\n",
       "<path clip-path=\"url(#clip652)\" d=\"M4207.3 1321.26 L4207.3 1423.18 L4276.28 1423.18 L4276.28 1321.26 L4207.3 1321.26 L4207.3 1321.26  Z\" fill=\"#009af9\" fill-rule=\"evenodd\" fill-opacity=\"1\"/>\n",
       "<polyline clip-path=\"url(#clip652)\" style=\"stroke:#000000; stroke-linecap:round; stroke-linejoin:round; stroke-width:4; stroke-opacity:1; fill:none\" points=\"4207.3,1321.26 4207.3,1423.18 4276.28,1423.18 4276.28,1321.26 4207.3,1321.26 \"/>\n",
       "<path clip-path=\"url(#clip652)\" d=\"M4276.28 1423.18 L4276.28 1423.18 L4345.26 1423.18 L4345.26 1423.18 L4276.28 1423.18 L4276.28 1423.18  Z\" fill=\"#009af9\" fill-rule=\"evenodd\" fill-opacity=\"1\"/>\n",
       "<polyline clip-path=\"url(#clip652)\" style=\"stroke:#000000; stroke-linecap:round; stroke-linejoin:round; stroke-width:4; stroke-opacity:1; fill:none\" points=\"4276.28,1423.18 4276.28,1423.18 4345.26,1423.18 4276.28,1423.18 \"/>\n",
       "<path clip-path=\"url(#clip652)\" d=\"M4345.26 1372.22 L4345.26 1423.18 L4414.24 1423.18 L4414.24 1372.22 L4345.26 1372.22 L4345.26 1372.22  Z\" fill=\"#009af9\" fill-rule=\"evenodd\" fill-opacity=\"1\"/>\n",
       "<polyline clip-path=\"url(#clip652)\" style=\"stroke:#000000; stroke-linecap:round; stroke-linejoin:round; stroke-width:4; stroke-opacity:1; fill:none\" points=\"4345.26,1372.22 4345.26,1423.18 4414.24,1423.18 4414.24,1372.22 4345.26,1372.22 \"/>\n",
       "<path clip-path=\"url(#clip652)\" d=\"M4414.24 1372.22 L4414.24 1423.18 L4483.22 1423.18 L4483.22 1372.22 L4414.24 1372.22 L4414.24 1372.22  Z\" fill=\"#009af9\" fill-rule=\"evenodd\" fill-opacity=\"1\"/>\n",
       "<polyline clip-path=\"url(#clip652)\" style=\"stroke:#000000; stroke-linecap:round; stroke-linejoin:round; stroke-width:4; stroke-opacity:1; fill:none\" points=\"4414.24,1372.22 4414.24,1423.18 4483.22,1423.18 4483.22,1372.22 4414.24,1372.22 \"/>\n",
       "<path clip-path=\"url(#clip652)\" d=\"M4483.22 1321.26 L4483.22 1423.18 L4552.2 1423.18 L4552.2 1321.26 L4483.22 1321.26 L4483.22 1321.26  Z\" fill=\"#009af9\" fill-rule=\"evenodd\" fill-opacity=\"1\"/>\n",
       "<polyline clip-path=\"url(#clip652)\" style=\"stroke:#000000; stroke-linecap:round; stroke-linejoin:round; stroke-width:4; stroke-opacity:1; fill:none\" points=\"4483.22,1321.26 4483.22,1423.18 4552.2,1423.18 4552.2,1321.26 4483.22,1321.26 \"/>\n",
       "<path clip-path=\"url(#clip652)\" d=\"M4552.2 1423.18 L4552.2 1423.18 L4621.18 1423.18 L4621.18 1423.18 L4552.2 1423.18 L4552.2 1423.18  Z\" fill=\"#009af9\" fill-rule=\"evenodd\" fill-opacity=\"1\"/>\n",
       "<polyline clip-path=\"url(#clip652)\" style=\"stroke:#000000; stroke-linecap:round; stroke-linejoin:round; stroke-width:4; stroke-opacity:1; fill:none\" points=\"4552.2,1423.18 4552.2,1423.18 4621.18,1423.18 4552.2,1423.18 \"/>\n",
       "<path clip-path=\"url(#clip652)\" d=\"M4621.18 1372.22 L4621.18 1423.18 L4690.16 1423.18 L4690.16 1372.22 L4621.18 1372.22 L4621.18 1372.22  Z\" fill=\"#009af9\" fill-rule=\"evenodd\" fill-opacity=\"1\"/>\n",
       "<polyline clip-path=\"url(#clip652)\" style=\"stroke:#000000; stroke-linecap:round; stroke-linejoin:round; stroke-width:4; stroke-opacity:1; fill:none\" points=\"4621.18,1372.22 4621.18,1423.18 4690.16,1423.18 4690.16,1372.22 4621.18,1372.22 \"/>\n",
       "<path clip-path=\"url(#clip652)\" d=\"M4690.16 1423.18 L4690.16 1423.18 L4759.15 1423.18 L4759.15 1423.18 L4690.16 1423.18 L4690.16 1423.18  Z\" fill=\"#009af9\" fill-rule=\"evenodd\" fill-opacity=\"1\"/>\n",
       "<polyline clip-path=\"url(#clip652)\" style=\"stroke:#000000; stroke-linecap:round; stroke-linejoin:round; stroke-width:4; stroke-opacity:1; fill:none\" points=\"4690.16,1423.18 4690.16,1423.18 4759.15,1423.18 4690.16,1423.18 \"/>\n",
       "<path clip-path=\"url(#clip652)\" d=\"M4759.15 1219.34 L4759.15 1423.18 L4828.13 1423.18 L4828.13 1219.34 L4759.15 1219.34 L4759.15 1219.34  Z\" fill=\"#009af9\" fill-rule=\"evenodd\" fill-opacity=\"1\"/>\n",
       "<polyline clip-path=\"url(#clip652)\" style=\"stroke:#000000; stroke-linecap:round; stroke-linejoin:round; stroke-width:4; stroke-opacity:1; fill:none\" points=\"4759.15,1219.34 4759.15,1423.18 4828.13,1423.18 4828.13,1219.34 4759.15,1219.34 \"/>\n",
       "<path clip-path=\"url(#clip652)\" d=\"M4828.13 1372.22 L4828.13 1423.18 L4897.11 1423.18 L4897.11 1372.22 L4828.13 1372.22 L4828.13 1372.22  Z\" fill=\"#009af9\" fill-rule=\"evenodd\" fill-opacity=\"1\"/>\n",
       "<polyline clip-path=\"url(#clip652)\" style=\"stroke:#000000; stroke-linecap:round; stroke-linejoin:round; stroke-width:4; stroke-opacity:1; fill:none\" points=\"4828.13,1372.22 4828.13,1423.18 4897.11,1423.18 4897.11,1372.22 4828.13,1372.22 \"/>\n",
       "<path clip-path=\"url(#clip652)\" d=\"M4897.11 1372.22 L4897.11 1423.18 L4966.09 1423.18 L4966.09 1372.22 L4897.11 1372.22 L4897.11 1372.22  Z\" fill=\"#009af9\" fill-rule=\"evenodd\" fill-opacity=\"1\"/>\n",
       "<polyline clip-path=\"url(#clip652)\" style=\"stroke:#000000; stroke-linecap:round; stroke-linejoin:round; stroke-width:4; stroke-opacity:1; fill:none\" points=\"4897.11,1372.22 4897.11,1423.18 4966.09,1423.18 4966.09,1372.22 4897.11,1372.22 \"/>\n",
       "<path clip-path=\"url(#clip652)\" d=\"M4966.09 1423.18 L4966.09 1423.18 L5035.07 1423.18 L5035.07 1423.18 L4966.09 1423.18 L4966.09 1423.18  Z\" fill=\"#009af9\" fill-rule=\"evenodd\" fill-opacity=\"1\"/>\n",
       "<polyline clip-path=\"url(#clip652)\" style=\"stroke:#000000; stroke-linecap:round; stroke-linejoin:round; stroke-width:4; stroke-opacity:1; fill:none\" points=\"4966.09,1423.18 4966.09,1423.18 5035.07,1423.18 4966.09,1423.18 \"/>\n",
       "<path clip-path=\"url(#clip652)\" d=\"M5035.07 1372.22 L5035.07 1423.18 L5104.05 1423.18 L5104.05 1372.22 L5035.07 1372.22 L5035.07 1372.22  Z\" fill=\"#009af9\" fill-rule=\"evenodd\" fill-opacity=\"1\"/>\n",
       "<polyline clip-path=\"url(#clip652)\" style=\"stroke:#000000; stroke-linecap:round; stroke-linejoin:round; stroke-width:4; stroke-opacity:1; fill:none\" points=\"5035.07,1372.22 5035.07,1423.18 5104.05,1423.18 5104.05,1372.22 5035.07,1372.22 \"/>\n",
       "<path clip-path=\"url(#clip652)\" d=\"M5104.05 1270.3 L5104.05 1423.18 L5173.03 1423.18 L5173.03 1270.3 L5104.05 1270.3 L5104.05 1270.3  Z\" fill=\"#009af9\" fill-rule=\"evenodd\" fill-opacity=\"1\"/>\n",
       "<polyline clip-path=\"url(#clip652)\" style=\"stroke:#000000; stroke-linecap:round; stroke-linejoin:round; stroke-width:4; stroke-opacity:1; fill:none\" points=\"5104.05,1270.3 5104.05,1423.18 5173.03,1423.18 5173.03,1270.3 5104.05,1270.3 \"/>\n",
       "<path clip-path=\"url(#clip652)\" d=\"M5173.03 1423.18 L5173.03 1423.18 L5242.01 1423.18 L5242.01 1423.18 L5173.03 1423.18 L5173.03 1423.18  Z\" fill=\"#009af9\" fill-rule=\"evenodd\" fill-opacity=\"1\"/>\n",
       "<polyline clip-path=\"url(#clip652)\" style=\"stroke:#000000; stroke-linecap:round; stroke-linejoin:round; stroke-width:4; stroke-opacity:1; fill:none\" points=\"5173.03,1423.18 5173.03,1423.18 5242.01,1423.18 5173.03,1423.18 \"/>\n",
       "<path clip-path=\"url(#clip652)\" d=\"M5242.01 1423.18 L5242.01 1423.18 L5310.99 1423.18 L5310.99 1423.18 L5242.01 1423.18 L5242.01 1423.18  Z\" fill=\"#009af9\" fill-rule=\"evenodd\" fill-opacity=\"1\"/>\n",
       "<polyline clip-path=\"url(#clip652)\" style=\"stroke:#000000; stroke-linecap:round; stroke-linejoin:round; stroke-width:4; stroke-opacity:1; fill:none\" points=\"5242.01,1423.18 5242.01,1423.18 5310.99,1423.18 5242.01,1423.18 \"/>\n",
       "<path clip-path=\"url(#clip652)\" d=\"M5310.99 1321.26 L5310.99 1423.18 L5379.98 1423.18 L5379.98 1321.26 L5310.99 1321.26 L5310.99 1321.26  Z\" fill=\"#009af9\" fill-rule=\"evenodd\" fill-opacity=\"1\"/>\n",
       "<polyline clip-path=\"url(#clip652)\" style=\"stroke:#000000; stroke-linecap:round; stroke-linejoin:round; stroke-width:4; stroke-opacity:1; fill:none\" points=\"5310.99,1321.26 5310.99,1423.18 5379.98,1423.18 5379.98,1321.26 5310.99,1321.26 \"/>\n",
       "<path clip-path=\"url(#clip652)\" d=\"M5379.98 1423.18 L5379.98 1423.18 L5448.96 1423.18 L5448.96 1423.18 L5379.98 1423.18 L5379.98 1423.18  Z\" fill=\"#009af9\" fill-rule=\"evenodd\" fill-opacity=\"1\"/>\n",
       "<polyline clip-path=\"url(#clip652)\" style=\"stroke:#000000; stroke-linecap:round; stroke-linejoin:round; stroke-width:4; stroke-opacity:1; fill:none\" points=\"5379.98,1423.18 5379.98,1423.18 5448.96,1423.18 5379.98,1423.18 \"/>\n",
       "<path clip-path=\"url(#clip652)\" d=\"M5448.96 1321.26 L5448.96 1423.18 L5517.94 1423.18 L5517.94 1321.26 L5448.96 1321.26 L5448.96 1321.26  Z\" fill=\"#009af9\" fill-rule=\"evenodd\" fill-opacity=\"1\"/>\n",
       "<polyline clip-path=\"url(#clip652)\" style=\"stroke:#000000; stroke-linecap:round; stroke-linejoin:round; stroke-width:4; stroke-opacity:1; fill:none\" points=\"5448.96,1321.26 5448.96,1423.18 5517.94,1423.18 5517.94,1321.26 5448.96,1321.26 \"/>\n",
       "<path clip-path=\"url(#clip652)\" d=\"M5517.94 1423.18 L5517.94 1423.18 L5586.92 1423.18 L5586.92 1423.18 L5517.94 1423.18 L5517.94 1423.18  Z\" fill=\"#009af9\" fill-rule=\"evenodd\" fill-opacity=\"1\"/>\n",
       "<polyline clip-path=\"url(#clip652)\" style=\"stroke:#000000; stroke-linecap:round; stroke-linejoin:round; stroke-width:4; stroke-opacity:1; fill:none\" points=\"5517.94,1423.18 5517.94,1423.18 5586.92,1423.18 5517.94,1423.18 \"/>\n",
       "<path clip-path=\"url(#clip652)\" d=\"M5586.92 1321.26 L5586.92 1423.18 L5655.9 1423.18 L5655.9 1321.26 L5586.92 1321.26 L5586.92 1321.26  Z\" fill=\"#009af9\" fill-rule=\"evenodd\" fill-opacity=\"1\"/>\n",
       "<polyline clip-path=\"url(#clip652)\" style=\"stroke:#000000; stroke-linecap:round; stroke-linejoin:round; stroke-width:4; stroke-opacity:1; fill:none\" points=\"5586.92,1321.26 5586.92,1423.18 5655.9,1423.18 5655.9,1321.26 5586.92,1321.26 \"/>\n",
       "<path clip-path=\"url(#clip652)\" d=\"M5655.9 1372.22 L5655.9 1423.18 L5724.88 1423.18 L5724.88 1372.22 L5655.9 1372.22 L5655.9 1372.22  Z\" fill=\"#009af9\" fill-rule=\"evenodd\" fill-opacity=\"1\"/>\n",
       "<polyline clip-path=\"url(#clip652)\" style=\"stroke:#000000; stroke-linecap:round; stroke-linejoin:round; stroke-width:4; stroke-opacity:1; fill:none\" points=\"5655.9,1372.22 5655.9,1423.18 5724.88,1423.18 5724.88,1372.22 5655.9,1372.22 \"/>\n",
       "<path clip-path=\"url(#clip652)\" d=\"M5724.88 1372.22 L5724.88 1423.18 L5793.86 1423.18 L5793.86 1372.22 L5724.88 1372.22 L5724.88 1372.22  Z\" fill=\"#009af9\" fill-rule=\"evenodd\" fill-opacity=\"1\"/>\n",
       "<polyline clip-path=\"url(#clip652)\" style=\"stroke:#000000; stroke-linecap:round; stroke-linejoin:round; stroke-width:4; stroke-opacity:1; fill:none\" points=\"5724.88,1372.22 5724.88,1423.18 5793.86,1423.18 5793.86,1372.22 5724.88,1372.22 \"/>\n",
       "<path clip-path=\"url(#clip652)\" d=\"M5793.86 1372.22 L5793.86 1423.18 L5862.84 1423.18 L5862.84 1372.22 L5793.86 1372.22 L5793.86 1372.22  Z\" fill=\"#009af9\" fill-rule=\"evenodd\" fill-opacity=\"1\"/>\n",
       "<polyline clip-path=\"url(#clip652)\" style=\"stroke:#000000; stroke-linecap:round; stroke-linejoin:round; stroke-width:4; stroke-opacity:1; fill:none\" points=\"5793.86,1372.22 5793.86,1423.18 5862.84,1423.18 5862.84,1372.22 5793.86,1372.22 \"/>\n",
       "<path clip-path=\"url(#clip652)\" d=\"M5862.84 1423.18 L5862.84 1423.18 L5931.82 1423.18 L5931.82 1423.18 L5862.84 1423.18 L5862.84 1423.18  Z\" fill=\"#009af9\" fill-rule=\"evenodd\" fill-opacity=\"1\"/>\n",
       "<polyline clip-path=\"url(#clip652)\" style=\"stroke:#000000; stroke-linecap:round; stroke-linejoin:round; stroke-width:4; stroke-opacity:1; fill:none\" points=\"5862.84,1423.18 5862.84,1423.18 5931.82,1423.18 5862.84,1423.18 \"/>\n",
       "<path clip-path=\"url(#clip652)\" d=\"M5931.82 1423.18 L5931.82 1423.18 L6000.8 1423.18 L6000.8 1423.18 L5931.82 1423.18 L5931.82 1423.18  Z\" fill=\"#009af9\" fill-rule=\"evenodd\" fill-opacity=\"1\"/>\n",
       "<polyline clip-path=\"url(#clip652)\" style=\"stroke:#000000; stroke-linecap:round; stroke-linejoin:round; stroke-width:4; stroke-opacity:1; fill:none\" points=\"5931.82,1423.18 5931.82,1423.18 6000.8,1423.18 5931.82,1423.18 \"/>\n",
       "<path clip-path=\"url(#clip652)\" d=\"M6000.8 1372.22 L6000.8 1423.18 L6069.79 1423.18 L6069.79 1372.22 L6000.8 1372.22 L6000.8 1372.22  Z\" fill=\"#009af9\" fill-rule=\"evenodd\" fill-opacity=\"1\"/>\n",
       "<polyline clip-path=\"url(#clip652)\" style=\"stroke:#000000; stroke-linecap:round; stroke-linejoin:round; stroke-width:4; stroke-opacity:1; fill:none\" points=\"6000.8,1372.22 6000.8,1423.18 6069.79,1423.18 6069.79,1372.22 6000.8,1372.22 \"/>\n",
       "<path clip-path=\"url(#clip652)\" d=\"M6069.79 1372.22 L6069.79 1423.18 L6138.77 1423.18 L6138.77 1372.22 L6069.79 1372.22 L6069.79 1372.22  Z\" fill=\"#009af9\" fill-rule=\"evenodd\" fill-opacity=\"1\"/>\n",
       "<polyline clip-path=\"url(#clip652)\" style=\"stroke:#000000; stroke-linecap:round; stroke-linejoin:round; stroke-width:4; stroke-opacity:1; fill:none\" points=\"6069.79,1372.22 6069.79,1423.18 6138.77,1423.18 6138.77,1372.22 6069.79,1372.22 \"/>\n",
       "<path clip-path=\"url(#clip652)\" d=\"M6138.77 1423.18 L6138.77 1423.18 L6207.75 1423.18 L6207.75 1423.18 L6138.77 1423.18 L6138.77 1423.18  Z\" fill=\"#009af9\" fill-rule=\"evenodd\" fill-opacity=\"1\"/>\n",
       "<polyline clip-path=\"url(#clip652)\" style=\"stroke:#000000; stroke-linecap:round; stroke-linejoin:round; stroke-width:4; stroke-opacity:1; fill:none\" points=\"6138.77,1423.18 6138.77,1423.18 6207.75,1423.18 6138.77,1423.18 \"/>\n",
       "<path clip-path=\"url(#clip652)\" d=\"M6207.75 1372.22 L6207.75 1423.18 L6276.73 1423.18 L6276.73 1372.22 L6207.75 1372.22 L6207.75 1372.22  Z\" fill=\"#009af9\" fill-rule=\"evenodd\" fill-opacity=\"1\"/>\n",
       "<polyline clip-path=\"url(#clip652)\" style=\"stroke:#000000; stroke-linecap:round; stroke-linejoin:round; stroke-width:4; stroke-opacity:1; fill:none\" points=\"6207.75,1372.22 6207.75,1423.18 6276.73,1423.18 6276.73,1372.22 6207.75,1372.22 \"/>\n",
       "<path clip-path=\"url(#clip652)\" d=\"M6276.73 1372.22 L6276.73 1423.18 L6345.71 1423.18 L6345.71 1372.22 L6276.73 1372.22 L6276.73 1372.22  Z\" fill=\"#009af9\" fill-rule=\"evenodd\" fill-opacity=\"1\"/>\n",
       "<polyline clip-path=\"url(#clip652)\" style=\"stroke:#000000; stroke-linecap:round; stroke-linejoin:round; stroke-width:4; stroke-opacity:1; fill:none\" points=\"6276.73,1372.22 6276.73,1423.18 6345.71,1423.18 6345.71,1372.22 6276.73,1372.22 \"/>\n",
       "<path clip-path=\"url(#clip652)\" d=\"M6345.71 1321.26 L6345.71 1423.18 L6414.69 1423.18 L6414.69 1321.26 L6345.71 1321.26 L6345.71 1321.26  Z\" fill=\"#009af9\" fill-rule=\"evenodd\" fill-opacity=\"1\"/>\n",
       "<polyline clip-path=\"url(#clip652)\" style=\"stroke:#000000; stroke-linecap:round; stroke-linejoin:round; stroke-width:4; stroke-opacity:1; fill:none\" points=\"6345.71,1321.26 6345.71,1423.18 6414.69,1423.18 6414.69,1321.26 6345.71,1321.26 \"/>\n",
       "<path clip-path=\"url(#clip652)\" d=\"M6414.69 1372.22 L6414.69 1423.18 L6483.67 1423.18 L6483.67 1372.22 L6414.69 1372.22 L6414.69 1372.22  Z\" fill=\"#009af9\" fill-rule=\"evenodd\" fill-opacity=\"1\"/>\n",
       "<polyline clip-path=\"url(#clip652)\" style=\"stroke:#000000; stroke-linecap:round; stroke-linejoin:round; stroke-width:4; stroke-opacity:1; fill:none\" points=\"6414.69,1372.22 6414.69,1423.18 6483.67,1423.18 6483.67,1372.22 6414.69,1372.22 \"/>\n",
       "<path clip-path=\"url(#clip652)\" d=\"M6483.67 1423.18 L6483.67 1423.18 L6552.65 1423.18 L6552.65 1423.18 L6483.67 1423.18 L6483.67 1423.18  Z\" fill=\"#009af9\" fill-rule=\"evenodd\" fill-opacity=\"1\"/>\n",
       "<polyline clip-path=\"url(#clip652)\" style=\"stroke:#000000; stroke-linecap:round; stroke-linejoin:round; stroke-width:4; stroke-opacity:1; fill:none\" points=\"6483.67,1423.18 6483.67,1423.18 6552.65,1423.18 6483.67,1423.18 \"/>\n",
       "<path clip-path=\"url(#clip652)\" d=\"M6552.65 1423.18 L6552.65 1423.18 L6621.63 1423.18 L6621.63 1423.18 L6552.65 1423.18 L6552.65 1423.18  Z\" fill=\"#009af9\" fill-rule=\"evenodd\" fill-opacity=\"1\"/>\n",
       "<polyline clip-path=\"url(#clip652)\" style=\"stroke:#000000; stroke-linecap:round; stroke-linejoin:round; stroke-width:4; stroke-opacity:1; fill:none\" points=\"6552.65,1423.18 6552.65,1423.18 6621.63,1423.18 6552.65,1423.18 \"/>\n",
       "<path clip-path=\"url(#clip652)\" d=\"M6621.63 1321.26 L6621.63 1423.18 L6690.62 1423.18 L6690.62 1321.26 L6621.63 1321.26 L6621.63 1321.26  Z\" fill=\"#009af9\" fill-rule=\"evenodd\" fill-opacity=\"1\"/>\n",
       "<polyline clip-path=\"url(#clip652)\" style=\"stroke:#000000; stroke-linecap:round; stroke-linejoin:round; stroke-width:4; stroke-opacity:1; fill:none\" points=\"6621.63,1321.26 6621.63,1423.18 6690.62,1423.18 6690.62,1321.26 6621.63,1321.26 \"/>\n",
       "<path clip-path=\"url(#clip652)\" d=\"M6690.62 1372.22 L6690.62 1423.18 L6759.6 1423.18 L6759.6 1372.22 L6690.62 1372.22 L6690.62 1372.22  Z\" fill=\"#009af9\" fill-rule=\"evenodd\" fill-opacity=\"1\"/>\n",
       "<polyline clip-path=\"url(#clip652)\" style=\"stroke:#000000; stroke-linecap:round; stroke-linejoin:round; stroke-width:4; stroke-opacity:1; fill:none\" points=\"6690.62,1372.22 6690.62,1423.18 6759.6,1423.18 6759.6,1372.22 6690.62,1372.22 \"/>\n",
       "<path clip-path=\"url(#clip652)\" d=\"M6759.6 1372.22 L6759.6 1423.18 L6828.58 1423.18 L6828.58 1372.22 L6759.6 1372.22 L6759.6 1372.22  Z\" fill=\"#009af9\" fill-rule=\"evenodd\" fill-opacity=\"1\"/>\n",
       "<polyline clip-path=\"url(#clip652)\" style=\"stroke:#000000; stroke-linecap:round; stroke-linejoin:round; stroke-width:4; stroke-opacity:1; fill:none\" points=\"6759.6,1372.22 6759.6,1423.18 6828.58,1423.18 6828.58,1372.22 6759.6,1372.22 \"/>\n",
       "<path clip-path=\"url(#clip652)\" d=\"M6828.58 1423.18 L6828.58 1423.18 L6897.56 1423.18 L6897.56 1423.18 L6828.58 1423.18 L6828.58 1423.18  Z\" fill=\"#009af9\" fill-rule=\"evenodd\" fill-opacity=\"1\"/>\n",
       "<polyline clip-path=\"url(#clip652)\" style=\"stroke:#000000; stroke-linecap:round; stroke-linejoin:round; stroke-width:4; stroke-opacity:1; fill:none\" points=\"6828.58,1423.18 6828.58,1423.18 6897.56,1423.18 6828.58,1423.18 \"/>\n",
       "<path clip-path=\"url(#clip652)\" d=\"M6897.56 1423.18 L6897.56 1423.18 L6966.54 1423.18 L6966.54 1423.18 L6897.56 1423.18 L6897.56 1423.18  Z\" fill=\"#009af9\" fill-rule=\"evenodd\" fill-opacity=\"1\"/>\n",
       "<polyline clip-path=\"url(#clip652)\" style=\"stroke:#000000; stroke-linecap:round; stroke-linejoin:round; stroke-width:4; stroke-opacity:1; fill:none\" points=\"6897.56,1423.18 6897.56,1423.18 6966.54,1423.18 6897.56,1423.18 \"/>\n",
       "<path clip-path=\"url(#clip652)\" d=\"M6966.54 1423.18 L6966.54 1423.18 L7035.52 1423.18 L7035.52 1423.18 L6966.54 1423.18 L6966.54 1423.18  Z\" fill=\"#009af9\" fill-rule=\"evenodd\" fill-opacity=\"1\"/>\n",
       "<polyline clip-path=\"url(#clip652)\" style=\"stroke:#000000; stroke-linecap:round; stroke-linejoin:round; stroke-width:4; stroke-opacity:1; fill:none\" points=\"6966.54,1423.18 6966.54,1423.18 7035.52,1423.18 6966.54,1423.18 \"/>\n",
       "<path clip-path=\"url(#clip652)\" d=\"M7035.52 1423.18 L7035.52 1423.18 L7104.5 1423.18 L7104.5 1423.18 L7035.52 1423.18 L7035.52 1423.18  Z\" fill=\"#009af9\" fill-rule=\"evenodd\" fill-opacity=\"1\"/>\n",
       "<polyline clip-path=\"url(#clip652)\" style=\"stroke:#000000; stroke-linecap:round; stroke-linejoin:round; stroke-width:4; stroke-opacity:1; fill:none\" points=\"7035.52,1423.18 7035.52,1423.18 7104.5,1423.18 7035.52,1423.18 \"/>\n",
       "<path clip-path=\"url(#clip652)\" d=\"M7104.5 1423.18 L7104.5 1423.18 L7173.48 1423.18 L7173.48 1423.18 L7104.5 1423.18 L7104.5 1423.18  Z\" fill=\"#009af9\" fill-rule=\"evenodd\" fill-opacity=\"1\"/>\n",
       "<polyline clip-path=\"url(#clip652)\" style=\"stroke:#000000; stroke-linecap:round; stroke-linejoin:round; stroke-width:4; stroke-opacity:1; fill:none\" points=\"7104.5,1423.18 7104.5,1423.18 7173.48,1423.18 7104.5,1423.18 \"/>\n",
       "<path clip-path=\"url(#clip652)\" d=\"M7173.48 1423.18 L7173.48 1423.18 L7242.46 1423.18 L7242.46 1423.18 L7173.48 1423.18 L7173.48 1423.18  Z\" fill=\"#009af9\" fill-rule=\"evenodd\" fill-opacity=\"1\"/>\n",
       "<polyline clip-path=\"url(#clip652)\" style=\"stroke:#000000; stroke-linecap:round; stroke-linejoin:round; stroke-width:4; stroke-opacity:1; fill:none\" points=\"7173.48,1423.18 7173.48,1423.18 7242.46,1423.18 7173.48,1423.18 \"/>\n",
       "<path clip-path=\"url(#clip652)\" d=\"M7242.46 1423.18 L7242.46 1423.18 L7311.45 1423.18 L7311.45 1423.18 L7242.46 1423.18 L7242.46 1423.18  Z\" fill=\"#009af9\" fill-rule=\"evenodd\" fill-opacity=\"1\"/>\n",
       "<polyline clip-path=\"url(#clip652)\" style=\"stroke:#000000; stroke-linecap:round; stroke-linejoin:round; stroke-width:4; stroke-opacity:1; fill:none\" points=\"7242.46,1423.18 7242.46,1423.18 7311.45,1423.18 7242.46,1423.18 \"/>\n",
       "<path clip-path=\"url(#clip652)\" d=\"M7311.45 1423.18 L7311.45 1423.18 L7380.43 1423.18 L7380.43 1423.18 L7311.45 1423.18 L7311.45 1423.18  Z\" fill=\"#009af9\" fill-rule=\"evenodd\" fill-opacity=\"1\"/>\n",
       "<polyline clip-path=\"url(#clip652)\" style=\"stroke:#000000; stroke-linecap:round; stroke-linejoin:round; stroke-width:4; stroke-opacity:1; fill:none\" points=\"7311.45,1423.18 7311.45,1423.18 7380.43,1423.18 7311.45,1423.18 \"/>\n",
       "<path clip-path=\"url(#clip652)\" d=\"M7380.43 1423.18 L7380.43 1423.18 L7449.41 1423.18 L7449.41 1423.18 L7380.43 1423.18 L7380.43 1423.18  Z\" fill=\"#009af9\" fill-rule=\"evenodd\" fill-opacity=\"1\"/>\n",
       "<polyline clip-path=\"url(#clip652)\" style=\"stroke:#000000; stroke-linecap:round; stroke-linejoin:round; stroke-width:4; stroke-opacity:1; fill:none\" points=\"7380.43,1423.18 7380.43,1423.18 7449.41,1423.18 7380.43,1423.18 \"/>\n",
       "<path clip-path=\"url(#clip652)\" d=\"M7449.41 1423.18 L7449.41 1423.18 L7518.39 1423.18 L7518.39 1423.18 L7449.41 1423.18 L7449.41 1423.18  Z\" fill=\"#009af9\" fill-rule=\"evenodd\" fill-opacity=\"1\"/>\n",
       "<polyline clip-path=\"url(#clip652)\" style=\"stroke:#000000; stroke-linecap:round; stroke-linejoin:round; stroke-width:4; stroke-opacity:1; fill:none\" points=\"7449.41,1423.18 7449.41,1423.18 7518.39,1423.18 7449.41,1423.18 \"/>\n",
       "<path clip-path=\"url(#clip652)\" d=\"M7518.39 1372.22 L7518.39 1423.18 L7587.37 1423.18 L7587.37 1372.22 L7518.39 1372.22 L7518.39 1372.22  Z\" fill=\"#009af9\" fill-rule=\"evenodd\" fill-opacity=\"1\"/>\n",
       "<polyline clip-path=\"url(#clip652)\" style=\"stroke:#000000; stroke-linecap:round; stroke-linejoin:round; stroke-width:4; stroke-opacity:1; fill:none\" points=\"7518.39,1372.22 7518.39,1423.18 7587.37,1423.18 7587.37,1372.22 7518.39,1372.22 \"/>\n",
       "<path clip-path=\"url(#clip652)\" d=\"M7587.37 1423.18 L7587.37 1423.18 L7656.35 1423.18 L7656.35 1423.18 L7587.37 1423.18 L7587.37 1423.18  Z\" fill=\"#009af9\" fill-rule=\"evenodd\" fill-opacity=\"1\"/>\n",
       "<polyline clip-path=\"url(#clip652)\" style=\"stroke:#000000; stroke-linecap:round; stroke-linejoin:round; stroke-width:4; stroke-opacity:1; fill:none\" points=\"7587.37,1423.18 7587.37,1423.18 7656.35,1423.18 7587.37,1423.18 \"/>\n",
       "<path clip-path=\"url(#clip652)\" d=\"M7656.35 1423.18 L7656.35 1423.18 L7725.33 1423.18 L7725.33 1423.18 L7656.35 1423.18 L7656.35 1423.18  Z\" fill=\"#009af9\" fill-rule=\"evenodd\" fill-opacity=\"1\"/>\n",
       "<polyline clip-path=\"url(#clip652)\" style=\"stroke:#000000; stroke-linecap:round; stroke-linejoin:round; stroke-width:4; stroke-opacity:1; fill:none\" points=\"7656.35,1423.18 7656.35,1423.18 7725.33,1423.18 7656.35,1423.18 \"/>\n",
       "<path clip-path=\"url(#clip652)\" d=\"M7725.33 1423.18 L7725.33 1423.18 L7794.31 1423.18 L7794.31 1423.18 L7725.33 1423.18 L7725.33 1423.18  Z\" fill=\"#009af9\" fill-rule=\"evenodd\" fill-opacity=\"1\"/>\n",
       "<polyline clip-path=\"url(#clip652)\" style=\"stroke:#000000; stroke-linecap:round; stroke-linejoin:round; stroke-width:4; stroke-opacity:1; fill:none\" points=\"7725.33,1423.18 7725.33,1423.18 7794.31,1423.18 7725.33,1423.18 \"/>\n",
       "<path clip-path=\"url(#clip652)\" d=\"M7794.31 1372.22 L7794.31 1423.18 L7863.29 1423.18 L7863.29 1372.22 L7794.31 1372.22 L7794.31 1372.22  Z\" fill=\"#009af9\" fill-rule=\"evenodd\" fill-opacity=\"1\"/>\n",
       "<polyline clip-path=\"url(#clip652)\" style=\"stroke:#000000; stroke-linecap:round; stroke-linejoin:round; stroke-width:4; stroke-opacity:1; fill:none\" points=\"7794.31,1372.22 7794.31,1423.18 7863.29,1423.18 7863.29,1372.22 7794.31,1372.22 \"/>\n",
       "<path clip-path=\"url(#clip652)\" d=\"M7863.29 1372.22 L7863.29 1423.18 L7932.27 1423.18 L7932.27 1372.22 L7863.29 1372.22 L7863.29 1372.22  Z\" fill=\"#009af9\" fill-rule=\"evenodd\" fill-opacity=\"1\"/>\n",
       "<polyline clip-path=\"url(#clip652)\" style=\"stroke:#000000; stroke-linecap:round; stroke-linejoin:round; stroke-width:4; stroke-opacity:1; fill:none\" points=\"7863.29,1372.22 7863.29,1423.18 7932.27,1423.18 7932.27,1372.22 7863.29,1372.22 \"/>\n",
       "<path clip-path=\"url(#clip652)\" d=\"M7932.27 1423.18 L7932.27 1423.18 L8001.26 1423.18 L8001.26 1423.18 L7932.27 1423.18 L7932.27 1423.18  Z\" fill=\"#009af9\" fill-rule=\"evenodd\" fill-opacity=\"1\"/>\n",
       "<polyline clip-path=\"url(#clip652)\" style=\"stroke:#000000; stroke-linecap:round; stroke-linejoin:round; stroke-width:4; stroke-opacity:1; fill:none\" points=\"7932.27,1423.18 7932.27,1423.18 8001.26,1423.18 7932.27,1423.18 \"/>\n",
       "<path clip-path=\"url(#clip652)\" d=\"M8001.26 1423.18 L8001.26 1423.18 L8070.24 1423.18 L8070.24 1423.18 L8001.26 1423.18 L8001.26 1423.18  Z\" fill=\"#009af9\" fill-rule=\"evenodd\" fill-opacity=\"1\"/>\n",
       "<polyline clip-path=\"url(#clip652)\" style=\"stroke:#000000; stroke-linecap:round; stroke-linejoin:round; stroke-width:4; stroke-opacity:1; fill:none\" points=\"8001.26,1423.18 8001.26,1423.18 8070.24,1423.18 8001.26,1423.18 \"/>\n",
       "<path clip-path=\"url(#clip652)\" d=\"M8070.24 1423.18 L8070.24 1423.18 L8139.22 1423.18 L8139.22 1423.18 L8070.24 1423.18 L8070.24 1423.18  Z\" fill=\"#009af9\" fill-rule=\"evenodd\" fill-opacity=\"1\"/>\n",
       "<polyline clip-path=\"url(#clip652)\" style=\"stroke:#000000; stroke-linecap:round; stroke-linejoin:round; stroke-width:4; stroke-opacity:1; fill:none\" points=\"8070.24,1423.18 8070.24,1423.18 8139.22,1423.18 8070.24,1423.18 \"/>\n",
       "<path clip-path=\"url(#clip652)\" d=\"M8139.22 1423.18 L8139.22 1423.18 L8208.2 1423.18 L8208.2 1423.18 L8139.22 1423.18 L8139.22 1423.18  Z\" fill=\"#009af9\" fill-rule=\"evenodd\" fill-opacity=\"1\"/>\n",
       "<polyline clip-path=\"url(#clip652)\" style=\"stroke:#000000; stroke-linecap:round; stroke-linejoin:round; stroke-width:4; stroke-opacity:1; fill:none\" points=\"8139.22,1423.18 8139.22,1423.18 8208.2,1423.18 8139.22,1423.18 \"/>\n",
       "<path clip-path=\"url(#clip652)\" d=\"M8208.2 1423.18 L8208.2 1423.18 L8277.18 1423.18 L8277.18 1423.18 L8208.2 1423.18 L8208.2 1423.18  Z\" fill=\"#009af9\" fill-rule=\"evenodd\" fill-opacity=\"1\"/>\n",
       "<polyline clip-path=\"url(#clip652)\" style=\"stroke:#000000; stroke-linecap:round; stroke-linejoin:round; stroke-width:4; stroke-opacity:1; fill:none\" points=\"8208.2,1423.18 8208.2,1423.18 8277.18,1423.18 8208.2,1423.18 \"/>\n",
       "<path clip-path=\"url(#clip652)\" d=\"M8277.18 1372.22 L8277.18 1423.18 L8346.16 1423.18 L8346.16 1372.22 L8277.18 1372.22 L8277.18 1372.22  Z\" fill=\"#009af9\" fill-rule=\"evenodd\" fill-opacity=\"1\"/>\n",
       "<polyline clip-path=\"url(#clip652)\" style=\"stroke:#000000; stroke-linecap:round; stroke-linejoin:round; stroke-width:4; stroke-opacity:1; fill:none\" points=\"8277.18,1372.22 8277.18,1423.18 8346.16,1423.18 8346.16,1372.22 8277.18,1372.22 \"/>\n",
       "<path clip-path=\"url(#clip652)\" d=\"M8346.16 1372.22 L8346.16 1423.18 L8415.14 1423.18 L8415.14 1372.22 L8346.16 1372.22 L8346.16 1372.22  Z\" fill=\"#009af9\" fill-rule=\"evenodd\" fill-opacity=\"1\"/>\n",
       "<polyline clip-path=\"url(#clip652)\" style=\"stroke:#000000; stroke-linecap:round; stroke-linejoin:round; stroke-width:4; stroke-opacity:1; fill:none\" points=\"8346.16,1372.22 8346.16,1423.18 8415.14,1423.18 8415.14,1372.22 8346.16,1372.22 \"/>\n",
       "<path clip-path=\"url(#clip652)\" d=\"M8415.14 1423.18 L8415.14 1423.18 L8484.12 1423.18 L8484.12 1423.18 L8415.14 1423.18 L8415.14 1423.18  Z\" fill=\"#009af9\" fill-rule=\"evenodd\" fill-opacity=\"1\"/>\n",
       "<polyline clip-path=\"url(#clip652)\" style=\"stroke:#000000; stroke-linecap:round; stroke-linejoin:round; stroke-width:4; stroke-opacity:1; fill:none\" points=\"8415.14,1423.18 8415.14,1423.18 8484.12,1423.18 8415.14,1423.18 \"/>\n",
       "<path clip-path=\"url(#clip652)\" d=\"M8484.12 1423.18 L8484.12 1423.18 L8553.1 1423.18 L8553.1 1423.18 L8484.12 1423.18 L8484.12 1423.18  Z\" fill=\"#009af9\" fill-rule=\"evenodd\" fill-opacity=\"1\"/>\n",
       "<polyline clip-path=\"url(#clip652)\" style=\"stroke:#000000; stroke-linecap:round; stroke-linejoin:round; stroke-width:4; stroke-opacity:1; fill:none\" points=\"8484.12,1423.18 8484.12,1423.18 8553.1,1423.18 8484.12,1423.18 \"/>\n",
       "<path clip-path=\"url(#clip652)\" d=\"M8553.1 1423.18 L8553.1 1423.18 L8622.09 1423.18 L8622.09 1423.18 L8553.1 1423.18 L8553.1 1423.18  Z\" fill=\"#009af9\" fill-rule=\"evenodd\" fill-opacity=\"1\"/>\n",
       "<polyline clip-path=\"url(#clip652)\" style=\"stroke:#000000; stroke-linecap:round; stroke-linejoin:round; stroke-width:4; stroke-opacity:1; fill:none\" points=\"8553.1,1423.18 8553.1,1423.18 8622.09,1423.18 8553.1,1423.18 \"/>\n",
       "<path clip-path=\"url(#clip652)\" d=\"M8622.09 1423.18 L8622.09 1423.18 L8691.07 1423.18 L8691.07 1423.18 L8622.09 1423.18 L8622.09 1423.18  Z\" fill=\"#009af9\" fill-rule=\"evenodd\" fill-opacity=\"1\"/>\n",
       "<polyline clip-path=\"url(#clip652)\" style=\"stroke:#000000; stroke-linecap:round; stroke-linejoin:round; stroke-width:4; stroke-opacity:1; fill:none\" points=\"8622.09,1423.18 8622.09,1423.18 8691.07,1423.18 8622.09,1423.18 \"/>\n",
       "<path clip-path=\"url(#clip652)\" d=\"M8691.07 1423.18 L8691.07 1423.18 L8760.05 1423.18 L8760.05 1423.18 L8691.07 1423.18 L8691.07 1423.18  Z\" fill=\"#009af9\" fill-rule=\"evenodd\" fill-opacity=\"1\"/>\n",
       "<polyline clip-path=\"url(#clip652)\" style=\"stroke:#000000; stroke-linecap:round; stroke-linejoin:round; stroke-width:4; stroke-opacity:1; fill:none\" points=\"8691.07,1423.18 8691.07,1423.18 8760.05,1423.18 8691.07,1423.18 \"/>\n",
       "<path clip-path=\"url(#clip652)\" d=\"M8760.05 1423.18 L8760.05 1423.18 L8829.03 1423.18 L8829.03 1423.18 L8760.05 1423.18 L8760.05 1423.18  Z\" fill=\"#009af9\" fill-rule=\"evenodd\" fill-opacity=\"1\"/>\n",
       "<polyline clip-path=\"url(#clip652)\" style=\"stroke:#000000; stroke-linecap:round; stroke-linejoin:round; stroke-width:4; stroke-opacity:1; fill:none\" points=\"8760.05,1423.18 8760.05,1423.18 8829.03,1423.18 8760.05,1423.18 \"/>\n",
       "<path clip-path=\"url(#clip652)\" d=\"M8829.03 1423.18 L8829.03 1423.18 L8898.01 1423.18 L8898.01 1423.18 L8829.03 1423.18 L8829.03 1423.18  Z\" fill=\"#009af9\" fill-rule=\"evenodd\" fill-opacity=\"1\"/>\n",
       "<polyline clip-path=\"url(#clip652)\" style=\"stroke:#000000; stroke-linecap:round; stroke-linejoin:round; stroke-width:4; stroke-opacity:1; fill:none\" points=\"8829.03,1423.18 8829.03,1423.18 8898.01,1423.18 8829.03,1423.18 \"/>\n",
       "<path clip-path=\"url(#clip652)\" d=\"M8898.01 1423.18 L8898.01 1423.18 L8966.99 1423.18 L8966.99 1423.18 L8898.01 1423.18 L8898.01 1423.18  Z\" fill=\"#009af9\" fill-rule=\"evenodd\" fill-opacity=\"1\"/>\n",
       "<polyline clip-path=\"url(#clip652)\" style=\"stroke:#000000; stroke-linecap:round; stroke-linejoin:round; stroke-width:4; stroke-opacity:1; fill:none\" points=\"8898.01,1423.18 8898.01,1423.18 8966.99,1423.18 8898.01,1423.18 \"/>\n",
       "<path clip-path=\"url(#clip652)\" d=\"M8966.99 1423.18 L8966.99 1423.18 L9035.97 1423.18 L9035.97 1423.18 L8966.99 1423.18 L8966.99 1423.18  Z\" fill=\"#009af9\" fill-rule=\"evenodd\" fill-opacity=\"1\"/>\n",
       "<polyline clip-path=\"url(#clip652)\" style=\"stroke:#000000; stroke-linecap:round; stroke-linejoin:round; stroke-width:4; stroke-opacity:1; fill:none\" points=\"8966.99,1423.18 8966.99,1423.18 9035.97,1423.18 8966.99,1423.18 \"/>\n",
       "<path clip-path=\"url(#clip652)\" d=\"M9035.97 1423.18 L9035.97 1423.18 L9104.95 1423.18 L9104.95 1423.18 L9035.97 1423.18 L9035.97 1423.18  Z\" fill=\"#009af9\" fill-rule=\"evenodd\" fill-opacity=\"1\"/>\n",
       "<polyline clip-path=\"url(#clip652)\" style=\"stroke:#000000; stroke-linecap:round; stroke-linejoin:round; stroke-width:4; stroke-opacity:1; fill:none\" points=\"9035.97,1423.18 9035.97,1423.18 9104.95,1423.18 9035.97,1423.18 \"/>\n",
       "<path clip-path=\"url(#clip652)\" d=\"M9104.95 1423.18 L9104.95 1423.18 L9173.93 1423.18 L9173.93 1423.18 L9104.95 1423.18 L9104.95 1423.18  Z\" fill=\"#009af9\" fill-rule=\"evenodd\" fill-opacity=\"1\"/>\n",
       "<polyline clip-path=\"url(#clip652)\" style=\"stroke:#000000; stroke-linecap:round; stroke-linejoin:round; stroke-width:4; stroke-opacity:1; fill:none\" points=\"9104.95,1423.18 9104.95,1423.18 9173.93,1423.18 9104.95,1423.18 \"/>\n",
       "<path clip-path=\"url(#clip652)\" d=\"M9173.93 1423.18 L9173.93 1423.18 L9242.91 1423.18 L9242.91 1423.18 L9173.93 1423.18 L9173.93 1423.18  Z\" fill=\"#009af9\" fill-rule=\"evenodd\" fill-opacity=\"1\"/>\n",
       "<polyline clip-path=\"url(#clip652)\" style=\"stroke:#000000; stroke-linecap:round; stroke-linejoin:round; stroke-width:4; stroke-opacity:1; fill:none\" points=\"9173.93,1423.18 9173.93,1423.18 9242.91,1423.18 9173.93,1423.18 \"/>\n",
       "<path clip-path=\"url(#clip652)\" d=\"M9242.91 1423.18 L9242.91 1423.18 L9311.9 1423.18 L9311.9 1423.18 L9242.91 1423.18 L9242.91 1423.18  Z\" fill=\"#009af9\" fill-rule=\"evenodd\" fill-opacity=\"1\"/>\n",
       "<polyline clip-path=\"url(#clip652)\" style=\"stroke:#000000; stroke-linecap:round; stroke-linejoin:round; stroke-width:4; stroke-opacity:1; fill:none\" points=\"9242.91,1423.18 9242.91,1423.18 9311.9,1423.18 9242.91,1423.18 \"/>\n",
       "<path clip-path=\"url(#clip652)\" d=\"M9311.9 1423.18 L9311.9 1423.18 L9380.88 1423.18 L9380.88 1423.18 L9311.9 1423.18 L9311.9 1423.18  Z\" fill=\"#009af9\" fill-rule=\"evenodd\" fill-opacity=\"1\"/>\n",
       "<polyline clip-path=\"url(#clip652)\" style=\"stroke:#000000; stroke-linecap:round; stroke-linejoin:round; stroke-width:4; stroke-opacity:1; fill:none\" points=\"9311.9,1423.18 9311.9,1423.18 9380.88,1423.18 9311.9,1423.18 \"/>\n",
       "<path clip-path=\"url(#clip652)\" d=\"M9380.88 1423.18 L9380.88 1423.18 L9449.86 1423.18 L9449.86 1423.18 L9380.88 1423.18 L9380.88 1423.18  Z\" fill=\"#009af9\" fill-rule=\"evenodd\" fill-opacity=\"1\"/>\n",
       "<polyline clip-path=\"url(#clip652)\" style=\"stroke:#000000; stroke-linecap:round; stroke-linejoin:round; stroke-width:4; stroke-opacity:1; fill:none\" points=\"9380.88,1423.18 9380.88,1423.18 9449.86,1423.18 9380.88,1423.18 \"/>\n",
       "<path clip-path=\"url(#clip652)\" d=\"M9449.86 1423.18 L9449.86 1423.18 L9518.84 1423.18 L9518.84 1423.18 L9449.86 1423.18 L9449.86 1423.18  Z\" fill=\"#009af9\" fill-rule=\"evenodd\" fill-opacity=\"1\"/>\n",
       "<polyline clip-path=\"url(#clip652)\" style=\"stroke:#000000; stroke-linecap:round; stroke-linejoin:round; stroke-width:4; stroke-opacity:1; fill:none\" points=\"9449.86,1423.18 9449.86,1423.18 9518.84,1423.18 9449.86,1423.18 \"/>\n",
       "<path clip-path=\"url(#clip652)\" d=\"M9518.84 1423.18 L9518.84 1423.18 L9587.82 1423.18 L9587.82 1423.18 L9518.84 1423.18 L9518.84 1423.18  Z\" fill=\"#009af9\" fill-rule=\"evenodd\" fill-opacity=\"1\"/>\n",
       "<polyline clip-path=\"url(#clip652)\" style=\"stroke:#000000; stroke-linecap:round; stroke-linejoin:round; stroke-width:4; stroke-opacity:1; fill:none\" points=\"9518.84,1423.18 9518.84,1423.18 9587.82,1423.18 9518.84,1423.18 \"/>\n",
       "<path clip-path=\"url(#clip652)\" d=\"M9587.82 1372.22 L9587.82 1423.18 L9656.8 1423.18 L9656.8 1372.22 L9587.82 1372.22 L9587.82 1372.22  Z\" fill=\"#009af9\" fill-rule=\"evenodd\" fill-opacity=\"1\"/>\n",
       "<polyline clip-path=\"url(#clip652)\" style=\"stroke:#000000; stroke-linecap:round; stroke-linejoin:round; stroke-width:4; stroke-opacity:1; fill:none\" points=\"9587.82,1372.22 9587.82,1423.18 9656.8,1423.18 9656.8,1372.22 9587.82,1372.22 \"/>\n",
       "<path clip-path=\"url(#clip652)\" d=\"M9656.8 1423.18 L9656.8 1423.18 L9725.78 1423.18 L9725.78 1423.18 L9656.8 1423.18 L9656.8 1423.18  Z\" fill=\"#009af9\" fill-rule=\"evenodd\" fill-opacity=\"1\"/>\n",
       "<polyline clip-path=\"url(#clip652)\" style=\"stroke:#000000; stroke-linecap:round; stroke-linejoin:round; stroke-width:4; stroke-opacity:1; fill:none\" points=\"9656.8,1423.18 9656.8,1423.18 9725.78,1423.18 9656.8,1423.18 \"/>\n",
       "<path clip-path=\"url(#clip652)\" d=\"M9725.78 1372.22 L9725.78 1423.18 L9794.76 1423.18 L9794.76 1372.22 L9725.78 1372.22 L9725.78 1372.22  Z\" fill=\"#009af9\" fill-rule=\"evenodd\" fill-opacity=\"1\"/>\n",
       "<polyline clip-path=\"url(#clip652)\" style=\"stroke:#000000; stroke-linecap:round; stroke-linejoin:round; stroke-width:4; stroke-opacity:1; fill:none\" points=\"9725.78,1372.22 9725.78,1423.18 9794.76,1423.18 9794.76,1372.22 9725.78,1372.22 \"/>\n",
       "<path clip-path=\"url(#clip652)\" d=\"M9794.76 1423.18 L9794.76 1423.18 L9863.74 1423.18 L9863.74 1423.18 L9794.76 1423.18 L9794.76 1423.18  Z\" fill=\"#009af9\" fill-rule=\"evenodd\" fill-opacity=\"1\"/>\n",
       "<polyline clip-path=\"url(#clip652)\" style=\"stroke:#000000; stroke-linecap:round; stroke-linejoin:round; stroke-width:4; stroke-opacity:1; fill:none\" points=\"9794.76,1423.18 9794.76,1423.18 9863.74,1423.18 9794.76,1423.18 \"/>\n",
       "<path clip-path=\"url(#clip652)\" d=\"M9863.74 1423.18 L9863.74 1423.18 L9932.73 1423.18 L9932.73 1423.18 L9863.74 1423.18 L9863.74 1423.18  Z\" fill=\"#009af9\" fill-rule=\"evenodd\" fill-opacity=\"1\"/>\n",
       "<polyline clip-path=\"url(#clip652)\" style=\"stroke:#000000; stroke-linecap:round; stroke-linejoin:round; stroke-width:4; stroke-opacity:1; fill:none\" points=\"9863.74,1423.18 9863.74,1423.18 9932.73,1423.18 9863.74,1423.18 \"/>\n",
       "<path clip-path=\"url(#clip652)\" d=\"M9932.73 1423.18 L9932.73 1423.18 L10001.7 1423.18 L10001.7 1423.18 L9932.73 1423.18 L9932.73 1423.18  Z\" fill=\"#009af9\" fill-rule=\"evenodd\" fill-opacity=\"1\"/>\n",
       "<polyline clip-path=\"url(#clip652)\" style=\"stroke:#000000; stroke-linecap:round; stroke-linejoin:round; stroke-width:4; stroke-opacity:1; fill:none\" points=\"9932.73,1423.18 9932.73,1423.18 10001.7,1423.18 9932.73,1423.18 \"/>\n",
       "<path clip-path=\"url(#clip652)\" d=\"M10001.7 1423.18 L10001.7 1423.18 L10070.7 1423.18 L10070.7 1423.18 L10001.7 1423.18 L10001.7 1423.18  Z\" fill=\"#009af9\" fill-rule=\"evenodd\" fill-opacity=\"1\"/>\n",
       "<polyline clip-path=\"url(#clip652)\" style=\"stroke:#000000; stroke-linecap:round; stroke-linejoin:round; stroke-width:4; stroke-opacity:1; fill:none\" points=\"10001.7,1423.18 10001.7,1423.18 10070.7,1423.18 10001.7,1423.18 \"/>\n",
       "<path clip-path=\"url(#clip652)\" d=\"M10070.7 1423.18 L10070.7 1423.18 L10139.7 1423.18 L10139.7 1423.18 L10070.7 1423.18 L10070.7 1423.18  Z\" fill=\"#009af9\" fill-rule=\"evenodd\" fill-opacity=\"1\"/>\n",
       "<polyline clip-path=\"url(#clip652)\" style=\"stroke:#000000; stroke-linecap:round; stroke-linejoin:round; stroke-width:4; stroke-opacity:1; fill:none\" points=\"10070.7,1423.18 10070.7,1423.18 10139.7,1423.18 10070.7,1423.18 \"/>\n",
       "<path clip-path=\"url(#clip652)\" d=\"M10139.7 1372.22 L10139.7 1423.18 L10208.6 1423.18 L10208.6 1372.22 L10139.7 1372.22 L10139.7 1372.22  Z\" fill=\"#009af9\" fill-rule=\"evenodd\" fill-opacity=\"1\"/>\n",
       "<polyline clip-path=\"url(#clip652)\" style=\"stroke:#000000; stroke-linecap:round; stroke-linejoin:round; stroke-width:4; stroke-opacity:1; fill:none\" points=\"10139.7,1372.22 10139.7,1423.18 10208.6,1423.18 10208.6,1372.22 10139.7,1372.22 \"/>\n",
       "<path clip-path=\"url(#clip652)\" d=\"M10208.6 1423.18 L10208.6 1423.18 L10277.6 1423.18 L10277.6 1423.18 L10208.6 1423.18 L10208.6 1423.18  Z\" fill=\"#009af9\" fill-rule=\"evenodd\" fill-opacity=\"1\"/>\n",
       "<polyline clip-path=\"url(#clip652)\" style=\"stroke:#000000; stroke-linecap:round; stroke-linejoin:round; stroke-width:4; stroke-opacity:1; fill:none\" points=\"10208.6,1423.18 10208.6,1423.18 10277.6,1423.18 10208.6,1423.18 \"/>\n",
       "<path clip-path=\"url(#clip652)\" d=\"M10277.6 1423.18 L10277.6 1423.18 L10346.6 1423.18 L10346.6 1423.18 L10277.6 1423.18 L10277.6 1423.18  Z\" fill=\"#009af9\" fill-rule=\"evenodd\" fill-opacity=\"1\"/>\n",
       "<polyline clip-path=\"url(#clip652)\" style=\"stroke:#000000; stroke-linecap:round; stroke-linejoin:round; stroke-width:4; stroke-opacity:1; fill:none\" points=\"10277.6,1423.18 10277.6,1423.18 10346.6,1423.18 10277.6,1423.18 \"/>\n",
       "<path clip-path=\"url(#clip652)\" d=\"M10346.6 1423.18 L10346.6 1423.18 L10415.6 1423.18 L10415.6 1423.18 L10346.6 1423.18 L10346.6 1423.18  Z\" fill=\"#009af9\" fill-rule=\"evenodd\" fill-opacity=\"1\"/>\n",
       "<polyline clip-path=\"url(#clip652)\" style=\"stroke:#000000; stroke-linecap:round; stroke-linejoin:round; stroke-width:4; stroke-opacity:1; fill:none\" points=\"10346.6,1423.18 10346.6,1423.18 10415.6,1423.18 10346.6,1423.18 \"/>\n",
       "<path clip-path=\"url(#clip652)\" d=\"M10415.6 1423.18 L10415.6 1423.18 L10484.6 1423.18 L10484.6 1423.18 L10415.6 1423.18 L10415.6 1423.18  Z\" fill=\"#009af9\" fill-rule=\"evenodd\" fill-opacity=\"1\"/>\n",
       "<polyline clip-path=\"url(#clip652)\" style=\"stroke:#000000; stroke-linecap:round; stroke-linejoin:round; stroke-width:4; stroke-opacity:1; fill:none\" points=\"10415.6,1423.18 10415.6,1423.18 10484.6,1423.18 10415.6,1423.18 \"/>\n",
       "<path clip-path=\"url(#clip652)\" d=\"M10484.6 1423.18 L10484.6 1423.18 L10553.6 1423.18 L10553.6 1423.18 L10484.6 1423.18 L10484.6 1423.18  Z\" fill=\"#009af9\" fill-rule=\"evenodd\" fill-opacity=\"1\"/>\n",
       "<polyline clip-path=\"url(#clip652)\" style=\"stroke:#000000; stroke-linecap:round; stroke-linejoin:round; stroke-width:4; stroke-opacity:1; fill:none\" points=\"10484.6,1423.18 10484.6,1423.18 10553.6,1423.18 10484.6,1423.18 \"/>\n",
       "<path clip-path=\"url(#clip652)\" d=\"M10553.6 1423.18 L10553.6 1423.18 L10622.5 1423.18 L10622.5 1423.18 L10553.6 1423.18 L10553.6 1423.18  Z\" fill=\"#009af9\" fill-rule=\"evenodd\" fill-opacity=\"1\"/>\n",
       "<polyline clip-path=\"url(#clip652)\" style=\"stroke:#000000; stroke-linecap:round; stroke-linejoin:round; stroke-width:4; stroke-opacity:1; fill:none\" points=\"10553.6,1423.18 10553.6,1423.18 10622.5,1423.18 10553.6,1423.18 \"/>\n",
       "<path clip-path=\"url(#clip652)\" d=\"M10622.5 1423.18 L10622.5 1423.18 L10691.5 1423.18 L10691.5 1423.18 L10622.5 1423.18 L10622.5 1423.18  Z\" fill=\"#009af9\" fill-rule=\"evenodd\" fill-opacity=\"1\"/>\n",
       "<polyline clip-path=\"url(#clip652)\" style=\"stroke:#000000; stroke-linecap:round; stroke-linejoin:round; stroke-width:4; stroke-opacity:1; fill:none\" points=\"10622.5,1423.18 10622.5,1423.18 10691.5,1423.18 10622.5,1423.18 \"/>\n",
       "<path clip-path=\"url(#clip652)\" d=\"M10691.5 1372.22 L10691.5 1423.18 L10760.5 1423.18 L10760.5 1372.22 L10691.5 1372.22 L10691.5 1372.22  Z\" fill=\"#009af9\" fill-rule=\"evenodd\" fill-opacity=\"1\"/>\n",
       "<polyline clip-path=\"url(#clip652)\" style=\"stroke:#000000; stroke-linecap:round; stroke-linejoin:round; stroke-width:4; stroke-opacity:1; fill:none\" points=\"10691.5,1372.22 10691.5,1423.18 10760.5,1423.18 10760.5,1372.22 10691.5,1372.22 \"/>\n",
       "<path clip-path=\"url(#clip652)\" d=\"M10760.5 1372.22 L10760.5 1423.18 L10829.5 1423.18 L10829.5 1372.22 L10760.5 1372.22 L10760.5 1372.22  Z\" fill=\"#009af9\" fill-rule=\"evenodd\" fill-opacity=\"1\"/>\n",
       "<polyline clip-path=\"url(#clip652)\" style=\"stroke:#000000; stroke-linecap:round; stroke-linejoin:round; stroke-width:4; stroke-opacity:1; fill:none\" points=\"10760.5,1372.22 10760.5,1423.18 10829.5,1423.18 10829.5,1372.22 10760.5,1372.22 \"/>\n",
       "<path clip-path=\"url(#clip652)\" d=\"M10829.5 1423.18 L10829.5 1423.18 L10898.5 1423.18 L10898.5 1423.18 L10829.5 1423.18 L10829.5 1423.18  Z\" fill=\"#009af9\" fill-rule=\"evenodd\" fill-opacity=\"1\"/>\n",
       "<polyline clip-path=\"url(#clip652)\" style=\"stroke:#000000; stroke-linecap:round; stroke-linejoin:round; stroke-width:4; stroke-opacity:1; fill:none\" points=\"10829.5,1423.18 10829.5,1423.18 10898.5,1423.18 10829.5,1423.18 \"/>\n",
       "<path clip-path=\"url(#clip652)\" d=\"M10898.5 1423.18 L10898.5 1423.18 L10967.4 1423.18 L10967.4 1423.18 L10898.5 1423.18 L10898.5 1423.18  Z\" fill=\"#009af9\" fill-rule=\"evenodd\" fill-opacity=\"1\"/>\n",
       "<polyline clip-path=\"url(#clip652)\" style=\"stroke:#000000; stroke-linecap:round; stroke-linejoin:round; stroke-width:4; stroke-opacity:1; fill:none\" points=\"10898.5,1423.18 10898.5,1423.18 10967.4,1423.18 10898.5,1423.18 \"/>\n",
       "<path clip-path=\"url(#clip652)\" d=\"M10967.4 1423.18 L10967.4 1423.18 L11036.4 1423.18 L11036.4 1423.18 L10967.4 1423.18 L10967.4 1423.18  Z\" fill=\"#009af9\" fill-rule=\"evenodd\" fill-opacity=\"1\"/>\n",
       "<polyline clip-path=\"url(#clip652)\" style=\"stroke:#000000; stroke-linecap:round; stroke-linejoin:round; stroke-width:4; stroke-opacity:1; fill:none\" points=\"10967.4,1423.18 10967.4,1423.18 11036.4,1423.18 10967.4,1423.18 \"/>\n",
       "<path clip-path=\"url(#clip652)\" d=\"M11036.4 1423.18 L11036.4 1423.18 L11105.4 1423.18 L11105.4 1423.18 L11036.4 1423.18 L11036.4 1423.18  Z\" fill=\"#009af9\" fill-rule=\"evenodd\" fill-opacity=\"1\"/>\n",
       "<polyline clip-path=\"url(#clip652)\" style=\"stroke:#000000; stroke-linecap:round; stroke-linejoin:round; stroke-width:4; stroke-opacity:1; fill:none\" points=\"11036.4,1423.18 11036.4,1423.18 11105.4,1423.18 11036.4,1423.18 \"/>\n",
       "<path clip-path=\"url(#clip652)\" d=\"M11105.4 1423.18 L11105.4 1423.18 L11174.4 1423.18 L11174.4 1423.18 L11105.4 1423.18 L11105.4 1423.18  Z\" fill=\"#009af9\" fill-rule=\"evenodd\" fill-opacity=\"1\"/>\n",
       "<polyline clip-path=\"url(#clip652)\" style=\"stroke:#000000; stroke-linecap:round; stroke-linejoin:round; stroke-width:4; stroke-opacity:1; fill:none\" points=\"11105.4,1423.18 11105.4,1423.18 11174.4,1423.18 11105.4,1423.18 \"/>\n",
       "<path clip-path=\"url(#clip652)\" d=\"M11174.4 1423.18 L11174.4 1423.18 L11243.4 1423.18 L11243.4 1423.18 L11174.4 1423.18 L11174.4 1423.18  Z\" fill=\"#009af9\" fill-rule=\"evenodd\" fill-opacity=\"1\"/>\n",
       "<polyline clip-path=\"url(#clip652)\" style=\"stroke:#000000; stroke-linecap:round; stroke-linejoin:round; stroke-width:4; stroke-opacity:1; fill:none\" points=\"11174.4,1423.18 11174.4,1423.18 11243.4,1423.18 11174.4,1423.18 \"/>\n",
       "<path clip-path=\"url(#clip652)\" d=\"M11243.4 1423.18 L11243.4 1423.18 L11312.3 1423.18 L11312.3 1423.18 L11243.4 1423.18 L11243.4 1423.18  Z\" fill=\"#009af9\" fill-rule=\"evenodd\" fill-opacity=\"1\"/>\n",
       "<polyline clip-path=\"url(#clip652)\" style=\"stroke:#000000; stroke-linecap:round; stroke-linejoin:round; stroke-width:4; stroke-opacity:1; fill:none\" points=\"11243.4,1423.18 11243.4,1423.18 11312.3,1423.18 11243.4,1423.18 \"/>\n",
       "<path clip-path=\"url(#clip652)\" d=\"M11312.3 1423.18 L11312.3 1423.18 L11381.3 1423.18 L11381.3 1423.18 L11312.3 1423.18 L11312.3 1423.18  Z\" fill=\"#009af9\" fill-rule=\"evenodd\" fill-opacity=\"1\"/>\n",
       "<polyline clip-path=\"url(#clip652)\" style=\"stroke:#000000; stroke-linecap:round; stroke-linejoin:round; stroke-width:4; stroke-opacity:1; fill:none\" points=\"11312.3,1423.18 11312.3,1423.18 11381.3,1423.18 11312.3,1423.18 \"/>\n",
       "<path clip-path=\"url(#clip652)\" d=\"M11381.3 1423.18 L11381.3 1423.18 L11450.3 1423.18 L11450.3 1423.18 L11381.3 1423.18 L11381.3 1423.18  Z\" fill=\"#009af9\" fill-rule=\"evenodd\" fill-opacity=\"1\"/>\n",
       "<polyline clip-path=\"url(#clip652)\" style=\"stroke:#000000; stroke-linecap:round; stroke-linejoin:round; stroke-width:4; stroke-opacity:1; fill:none\" points=\"11381.3,1423.18 11381.3,1423.18 11450.3,1423.18 11381.3,1423.18 \"/>\n",
       "<path clip-path=\"url(#clip652)\" d=\"M11450.3 1423.18 L11450.3 1423.18 L11519.3 1423.18 L11519.3 1423.18 L11450.3 1423.18 L11450.3 1423.18  Z\" fill=\"#009af9\" fill-rule=\"evenodd\" fill-opacity=\"1\"/>\n",
       "<polyline clip-path=\"url(#clip652)\" style=\"stroke:#000000; stroke-linecap:round; stroke-linejoin:round; stroke-width:4; stroke-opacity:1; fill:none\" points=\"11450.3,1423.18 11450.3,1423.18 11519.3,1423.18 11450.3,1423.18 \"/>\n",
       "<path clip-path=\"url(#clip652)\" d=\"M11519.3 1423.18 L11519.3 1423.18 L11588.3 1423.18 L11588.3 1423.18 L11519.3 1423.18 L11519.3 1423.18  Z\" fill=\"#009af9\" fill-rule=\"evenodd\" fill-opacity=\"1\"/>\n",
       "<polyline clip-path=\"url(#clip652)\" style=\"stroke:#000000; stroke-linecap:round; stroke-linejoin:round; stroke-width:4; stroke-opacity:1; fill:none\" points=\"11519.3,1423.18 11519.3,1423.18 11588.3,1423.18 11519.3,1423.18 \"/>\n",
       "<path clip-path=\"url(#clip652)\" d=\"M11588.3 1423.18 L11588.3 1423.18 L11657.3 1423.18 L11657.3 1423.18 L11588.3 1423.18 L11588.3 1423.18  Z\" fill=\"#009af9\" fill-rule=\"evenodd\" fill-opacity=\"1\"/>\n",
       "<polyline clip-path=\"url(#clip652)\" style=\"stroke:#000000; stroke-linecap:round; stroke-linejoin:round; stroke-width:4; stroke-opacity:1; fill:none\" points=\"11588.3,1423.18 11588.3,1423.18 11657.3,1423.18 11588.3,1423.18 \"/>\n",
       "<path clip-path=\"url(#clip652)\" d=\"M11657.3 1423.18 L11657.3 1423.18 L11726.2 1423.18 L11726.2 1423.18 L11657.3 1423.18 L11657.3 1423.18  Z\" fill=\"#009af9\" fill-rule=\"evenodd\" fill-opacity=\"1\"/>\n",
       "<polyline clip-path=\"url(#clip652)\" style=\"stroke:#000000; stroke-linecap:round; stroke-linejoin:round; stroke-width:4; stroke-opacity:1; fill:none\" points=\"11657.3,1423.18 11657.3,1423.18 11726.2,1423.18 11657.3,1423.18 \"/>\n",
       "<path clip-path=\"url(#clip652)\" d=\"M11726.2 1423.18 L11726.2 1423.18 L11795.2 1423.18 L11795.2 1423.18 L11726.2 1423.18 L11726.2 1423.18  Z\" fill=\"#009af9\" fill-rule=\"evenodd\" fill-opacity=\"1\"/>\n",
       "<polyline clip-path=\"url(#clip652)\" style=\"stroke:#000000; stroke-linecap:round; stroke-linejoin:round; stroke-width:4; stroke-opacity:1; fill:none\" points=\"11726.2,1423.18 11726.2,1423.18 11795.2,1423.18 11726.2,1423.18 \"/>\n",
       "<path clip-path=\"url(#clip652)\" d=\"M11795.2 1423.18 L11795.2 1423.18 L11864.2 1423.18 L11864.2 1423.18 L11795.2 1423.18 L11795.2 1423.18  Z\" fill=\"#009af9\" fill-rule=\"evenodd\" fill-opacity=\"1\"/>\n",
       "<polyline clip-path=\"url(#clip652)\" style=\"stroke:#000000; stroke-linecap:round; stroke-linejoin:round; stroke-width:4; stroke-opacity:1; fill:none\" points=\"11795.2,1423.18 11795.2,1423.18 11864.2,1423.18 11795.2,1423.18 \"/>\n",
       "<path clip-path=\"url(#clip652)\" d=\"M11864.2 1423.18 L11864.2 1423.18 L11933.2 1423.18 L11933.2 1423.18 L11864.2 1423.18 L11864.2 1423.18  Z\" fill=\"#009af9\" fill-rule=\"evenodd\" fill-opacity=\"1\"/>\n",
       "<polyline clip-path=\"url(#clip652)\" style=\"stroke:#000000; stroke-linecap:round; stroke-linejoin:round; stroke-width:4; stroke-opacity:1; fill:none\" points=\"11864.2,1423.18 11864.2,1423.18 11933.2,1423.18 11864.2,1423.18 \"/>\n",
       "<path clip-path=\"url(#clip652)\" d=\"M11933.2 1423.18 L11933.2 1423.18 L12002.2 1423.18 L12002.2 1423.18 L11933.2 1423.18 L11933.2 1423.18  Z\" fill=\"#009af9\" fill-rule=\"evenodd\" fill-opacity=\"1\"/>\n",
       "<polyline clip-path=\"url(#clip652)\" style=\"stroke:#000000; stroke-linecap:round; stroke-linejoin:round; stroke-width:4; stroke-opacity:1; fill:none\" points=\"11933.2,1423.18 11933.2,1423.18 12002.2,1423.18 11933.2,1423.18 \"/>\n",
       "<path clip-path=\"url(#clip652)\" d=\"M12002.2 1423.18 L12002.2 1423.18 L12071.1 1423.18 L12071.1 1423.18 L12002.2 1423.18 L12002.2 1423.18  Z\" fill=\"#009af9\" fill-rule=\"evenodd\" fill-opacity=\"1\"/>\n",
       "<polyline clip-path=\"url(#clip652)\" style=\"stroke:#000000; stroke-linecap:round; stroke-linejoin:round; stroke-width:4; stroke-opacity:1; fill:none\" points=\"12002.2,1423.18 12002.2,1423.18 12071.1,1423.18 12002.2,1423.18 \"/>\n",
       "<path clip-path=\"url(#clip652)\" d=\"M12071.1 1423.18 L12071.1 1423.18 L12140.1 1423.18 L12140.1 1423.18 L12071.1 1423.18 L12071.1 1423.18  Z\" fill=\"#009af9\" fill-rule=\"evenodd\" fill-opacity=\"1\"/>\n",
       "<polyline clip-path=\"url(#clip652)\" style=\"stroke:#000000; stroke-linecap:round; stroke-linejoin:round; stroke-width:4; stroke-opacity:1; fill:none\" points=\"12071.1,1423.18 12071.1,1423.18 12140.1,1423.18 12071.1,1423.18 \"/>\n",
       "<path clip-path=\"url(#clip652)\" d=\"M12140.1 1423.18 L12140.1 1423.18 L12209.1 1423.18 L12209.1 1423.18 L12140.1 1423.18 L12140.1 1423.18  Z\" fill=\"#009af9\" fill-rule=\"evenodd\" fill-opacity=\"1\"/>\n",
       "<polyline clip-path=\"url(#clip652)\" style=\"stroke:#000000; stroke-linecap:round; stroke-linejoin:round; stroke-width:4; stroke-opacity:1; fill:none\" points=\"12140.1,1423.18 12140.1,1423.18 12209.1,1423.18 12140.1,1423.18 \"/>\n",
       "<path clip-path=\"url(#clip652)\" d=\"M12209.1 1423.18 L12209.1 1423.18 L12278.1 1423.18 L12278.1 1423.18 L12209.1 1423.18 L12209.1 1423.18  Z\" fill=\"#009af9\" fill-rule=\"evenodd\" fill-opacity=\"1\"/>\n",
       "<polyline clip-path=\"url(#clip652)\" style=\"stroke:#000000; stroke-linecap:round; stroke-linejoin:round; stroke-width:4; stroke-opacity:1; fill:none\" points=\"12209.1,1423.18 12209.1,1423.18 12278.1,1423.18 12209.1,1423.18 \"/>\n",
       "<path clip-path=\"url(#clip652)\" d=\"M12278.1 1423.18 L12278.1 1423.18 L12347.1 1423.18 L12347.1 1423.18 L12278.1 1423.18 L12278.1 1423.18  Z\" fill=\"#009af9\" fill-rule=\"evenodd\" fill-opacity=\"1\"/>\n",
       "<polyline clip-path=\"url(#clip652)\" style=\"stroke:#000000; stroke-linecap:round; stroke-linejoin:round; stroke-width:4; stroke-opacity:1; fill:none\" points=\"12278.1,1423.18 12278.1,1423.18 12347.1,1423.18 12278.1,1423.18 \"/>\n",
       "<path clip-path=\"url(#clip652)\" d=\"M12347.1 1423.18 L12347.1 1423.18 L12416 1423.18 L12416 1423.18 L12347.1 1423.18 L12347.1 1423.18  Z\" fill=\"#009af9\" fill-rule=\"evenodd\" fill-opacity=\"1\"/>\n",
       "<polyline clip-path=\"url(#clip652)\" style=\"stroke:#000000; stroke-linecap:round; stroke-linejoin:round; stroke-width:4; stroke-opacity:1; fill:none\" points=\"12347.1,1423.18 12347.1,1423.18 12416,1423.18 12347.1,1423.18 \"/>\n",
       "<path clip-path=\"url(#clip652)\" d=\"M12416 1423.18 L12416 1423.18 L12485 1423.18 L12485 1423.18 L12416 1423.18 L12416 1423.18  Z\" fill=\"#009af9\" fill-rule=\"evenodd\" fill-opacity=\"1\"/>\n",
       "<polyline clip-path=\"url(#clip652)\" style=\"stroke:#000000; stroke-linecap:round; stroke-linejoin:round; stroke-width:4; stroke-opacity:1; fill:none\" points=\"12416,1423.18 12416,1423.18 12485,1423.18 12416,1423.18 \"/>\n",
       "<path clip-path=\"url(#clip652)\" d=\"M12485 1423.18 L12485 1423.18 L12554 1423.18 L12554 1423.18 L12485 1423.18 L12485 1423.18  Z\" fill=\"#009af9\" fill-rule=\"evenodd\" fill-opacity=\"1\"/>\n",
       "<polyline clip-path=\"url(#clip652)\" style=\"stroke:#000000; stroke-linecap:round; stroke-linejoin:round; stroke-width:4; stroke-opacity:1; fill:none\" points=\"12485,1423.18 12485,1423.18 12554,1423.18 12485,1423.18 \"/>\n",
       "<path clip-path=\"url(#clip652)\" d=\"M12554 1423.18 L12554 1423.18 L12623 1423.18 L12623 1423.18 L12554 1423.18 L12554 1423.18  Z\" fill=\"#009af9\" fill-rule=\"evenodd\" fill-opacity=\"1\"/>\n",
       "<polyline clip-path=\"url(#clip652)\" style=\"stroke:#000000; stroke-linecap:round; stroke-linejoin:round; stroke-width:4; stroke-opacity:1; fill:none\" points=\"12554,1423.18 12554,1423.18 12623,1423.18 12554,1423.18 \"/>\n",
       "<path clip-path=\"url(#clip652)\" d=\"M12623 1423.18 L12623 1423.18 L12692 1423.18 L12692 1423.18 L12623 1423.18 L12623 1423.18  Z\" fill=\"#009af9\" fill-rule=\"evenodd\" fill-opacity=\"1\"/>\n",
       "<polyline clip-path=\"url(#clip652)\" style=\"stroke:#000000; stroke-linecap:round; stroke-linejoin:round; stroke-width:4; stroke-opacity:1; fill:none\" points=\"12623,1423.18 12623,1423.18 12692,1423.18 12623,1423.18 \"/>\n",
       "<path clip-path=\"url(#clip652)\" d=\"M12692 1423.18 L12692 1423.18 L12760.9 1423.18 L12760.9 1423.18 L12692 1423.18 L12692 1423.18  Z\" fill=\"#009af9\" fill-rule=\"evenodd\" fill-opacity=\"1\"/>\n",
       "<polyline clip-path=\"url(#clip652)\" style=\"stroke:#000000; stroke-linecap:round; stroke-linejoin:round; stroke-width:4; stroke-opacity:1; fill:none\" points=\"12692,1423.18 12692,1423.18 12760.9,1423.18 12692,1423.18 \"/>\n",
       "<path clip-path=\"url(#clip652)\" d=\"M12760.9 1423.18 L12760.9 1423.18 L12829.9 1423.18 L12829.9 1423.18 L12760.9 1423.18 L12760.9 1423.18  Z\" fill=\"#009af9\" fill-rule=\"evenodd\" fill-opacity=\"1\"/>\n",
       "<polyline clip-path=\"url(#clip652)\" style=\"stroke:#000000; stroke-linecap:round; stroke-linejoin:round; stroke-width:4; stroke-opacity:1; fill:none\" points=\"12760.9,1423.18 12760.9,1423.18 12829.9,1423.18 12760.9,1423.18 \"/>\n",
       "<path clip-path=\"url(#clip652)\" d=\"M12829.9 1423.18 L12829.9 1423.18 L12898.9 1423.18 L12898.9 1423.18 L12829.9 1423.18 L12829.9 1423.18  Z\" fill=\"#009af9\" fill-rule=\"evenodd\" fill-opacity=\"1\"/>\n",
       "<polyline clip-path=\"url(#clip652)\" style=\"stroke:#000000; stroke-linecap:round; stroke-linejoin:round; stroke-width:4; stroke-opacity:1; fill:none\" points=\"12829.9,1423.18 12829.9,1423.18 12898.9,1423.18 12829.9,1423.18 \"/>\n",
       "<path clip-path=\"url(#clip652)\" d=\"M12898.9 1423.18 L12898.9 1423.18 L12967.9 1423.18 L12967.9 1423.18 L12898.9 1423.18 L12898.9 1423.18  Z\" fill=\"#009af9\" fill-rule=\"evenodd\" fill-opacity=\"1\"/>\n",
       "<polyline clip-path=\"url(#clip652)\" style=\"stroke:#000000; stroke-linecap:round; stroke-linejoin:round; stroke-width:4; stroke-opacity:1; fill:none\" points=\"12898.9,1423.18 12898.9,1423.18 12967.9,1423.18 12898.9,1423.18 \"/>\n",
       "<path clip-path=\"url(#clip652)\" d=\"M12967.9 1423.18 L12967.9 1423.18 L13036.9 1423.18 L13036.9 1423.18 L12967.9 1423.18 L12967.9 1423.18  Z\" fill=\"#009af9\" fill-rule=\"evenodd\" fill-opacity=\"1\"/>\n",
       "<polyline clip-path=\"url(#clip652)\" style=\"stroke:#000000; stroke-linecap:round; stroke-linejoin:round; stroke-width:4; stroke-opacity:1; fill:none\" points=\"12967.9,1423.18 12967.9,1423.18 13036.9,1423.18 12967.9,1423.18 \"/>\n",
       "<path clip-path=\"url(#clip652)\" d=\"M13036.9 1423.18 L13036.9 1423.18 L13105.9 1423.18 L13105.9 1423.18 L13036.9 1423.18 L13036.9 1423.18  Z\" fill=\"#009af9\" fill-rule=\"evenodd\" fill-opacity=\"1\"/>\n",
       "<polyline clip-path=\"url(#clip652)\" style=\"stroke:#000000; stroke-linecap:round; stroke-linejoin:round; stroke-width:4; stroke-opacity:1; fill:none\" points=\"13036.9,1423.18 13036.9,1423.18 13105.9,1423.18 13036.9,1423.18 \"/>\n",
       "<path clip-path=\"url(#clip652)\" d=\"M13105.9 1423.18 L13105.9 1423.18 L13174.8 1423.18 L13174.8 1423.18 L13105.9 1423.18 L13105.9 1423.18  Z\" fill=\"#009af9\" fill-rule=\"evenodd\" fill-opacity=\"1\"/>\n",
       "<polyline clip-path=\"url(#clip652)\" style=\"stroke:#000000; stroke-linecap:round; stroke-linejoin:round; stroke-width:4; stroke-opacity:1; fill:none\" points=\"13105.9,1423.18 13105.9,1423.18 13174.8,1423.18 13105.9,1423.18 \"/>\n",
       "<path clip-path=\"url(#clip652)\" d=\"M13174.8 1423.18 L13174.8 1423.18 L13243.8 1423.18 L13243.8 1423.18 L13174.8 1423.18 L13174.8 1423.18  Z\" fill=\"#009af9\" fill-rule=\"evenodd\" fill-opacity=\"1\"/>\n",
       "<polyline clip-path=\"url(#clip652)\" style=\"stroke:#000000; stroke-linecap:round; stroke-linejoin:round; stroke-width:4; stroke-opacity:1; fill:none\" points=\"13174.8,1423.18 13174.8,1423.18 13243.8,1423.18 13174.8,1423.18 \"/>\n",
       "<path clip-path=\"url(#clip652)\" d=\"M13243.8 1423.18 L13243.8 1423.18 L13312.8 1423.18 L13312.8 1423.18 L13243.8 1423.18 L13243.8 1423.18  Z\" fill=\"#009af9\" fill-rule=\"evenodd\" fill-opacity=\"1\"/>\n",
       "<polyline clip-path=\"url(#clip652)\" style=\"stroke:#000000; stroke-linecap:round; stroke-linejoin:round; stroke-width:4; stroke-opacity:1; fill:none\" points=\"13243.8,1423.18 13243.8,1423.18 13312.8,1423.18 13243.8,1423.18 \"/>\n",
       "<path clip-path=\"url(#clip652)\" d=\"M13312.8 1423.18 L13312.8 1423.18 L13381.8 1423.18 L13381.8 1423.18 L13312.8 1423.18 L13312.8 1423.18  Z\" fill=\"#009af9\" fill-rule=\"evenodd\" fill-opacity=\"1\"/>\n",
       "<polyline clip-path=\"url(#clip652)\" style=\"stroke:#000000; stroke-linecap:round; stroke-linejoin:round; stroke-width:4; stroke-opacity:1; fill:none\" points=\"13312.8,1423.18 13312.8,1423.18 13381.8,1423.18 13312.8,1423.18 \"/>\n",
       "<path clip-path=\"url(#clip652)\" d=\"M13381.8 1423.18 L13381.8 1423.18 L13450.8 1423.18 L13450.8 1423.18 L13381.8 1423.18 L13381.8 1423.18  Z\" fill=\"#009af9\" fill-rule=\"evenodd\" fill-opacity=\"1\"/>\n",
       "<polyline clip-path=\"url(#clip652)\" style=\"stroke:#000000; stroke-linecap:round; stroke-linejoin:round; stroke-width:4; stroke-opacity:1; fill:none\" points=\"13381.8,1423.18 13381.8,1423.18 13450.8,1423.18 13381.8,1423.18 \"/>\n",
       "<path clip-path=\"url(#clip652)\" d=\"M13450.8 1423.18 L13450.8 1423.18 L13519.7 1423.18 L13519.7 1423.18 L13450.8 1423.18 L13450.8 1423.18  Z\" fill=\"#009af9\" fill-rule=\"evenodd\" fill-opacity=\"1\"/>\n",
       "<polyline clip-path=\"url(#clip652)\" style=\"stroke:#000000; stroke-linecap:round; stroke-linejoin:round; stroke-width:4; stroke-opacity:1; fill:none\" points=\"13450.8,1423.18 13450.8,1423.18 13519.7,1423.18 13450.8,1423.18 \"/>\n",
       "<path clip-path=\"url(#clip652)\" d=\"M13519.7 1423.18 L13519.7 1423.18 L13588.7 1423.18 L13588.7 1423.18 L13519.7 1423.18 L13519.7 1423.18  Z\" fill=\"#009af9\" fill-rule=\"evenodd\" fill-opacity=\"1\"/>\n",
       "<polyline clip-path=\"url(#clip652)\" style=\"stroke:#000000; stroke-linecap:round; stroke-linejoin:round; stroke-width:4; stroke-opacity:1; fill:none\" points=\"13519.7,1423.18 13519.7,1423.18 13588.7,1423.18 13519.7,1423.18 \"/>\n",
       "<path clip-path=\"url(#clip652)\" d=\"M13588.7 1423.18 L13588.7 1423.18 L13657.7 1423.18 L13657.7 1423.18 L13588.7 1423.18 L13588.7 1423.18  Z\" fill=\"#009af9\" fill-rule=\"evenodd\" fill-opacity=\"1\"/>\n",
       "<polyline clip-path=\"url(#clip652)\" style=\"stroke:#000000; stroke-linecap:round; stroke-linejoin:round; stroke-width:4; stroke-opacity:1; fill:none\" points=\"13588.7,1423.18 13588.7,1423.18 13657.7,1423.18 13588.7,1423.18 \"/>\n",
       "<path clip-path=\"url(#clip652)\" d=\"M13657.7 1423.18 L13657.7 1423.18 L13726.7 1423.18 L13726.7 1423.18 L13657.7 1423.18 L13657.7 1423.18  Z\" fill=\"#009af9\" fill-rule=\"evenodd\" fill-opacity=\"1\"/>\n",
       "<polyline clip-path=\"url(#clip652)\" style=\"stroke:#000000; stroke-linecap:round; stroke-linejoin:round; stroke-width:4; stroke-opacity:1; fill:none\" points=\"13657.7,1423.18 13657.7,1423.18 13726.7,1423.18 13657.7,1423.18 \"/>\n",
       "<path clip-path=\"url(#clip652)\" d=\"M13726.7 1423.18 L13726.7 1423.18 L13795.7 1423.18 L13795.7 1423.18 L13726.7 1423.18 L13726.7 1423.18  Z\" fill=\"#009af9\" fill-rule=\"evenodd\" fill-opacity=\"1\"/>\n",
       "<polyline clip-path=\"url(#clip652)\" style=\"stroke:#000000; stroke-linecap:round; stroke-linejoin:round; stroke-width:4; stroke-opacity:1; fill:none\" points=\"13726.7,1423.18 13726.7,1423.18 13795.7,1423.18 13726.7,1423.18 \"/>\n",
       "<path clip-path=\"url(#clip652)\" d=\"M13795.7 1423.18 L13795.7 1423.18 L13864.6 1423.18 L13864.6 1423.18 L13795.7 1423.18 L13795.7 1423.18  Z\" fill=\"#009af9\" fill-rule=\"evenodd\" fill-opacity=\"1\"/>\n",
       "<polyline clip-path=\"url(#clip652)\" style=\"stroke:#000000; stroke-linecap:round; stroke-linejoin:round; stroke-width:4; stroke-opacity:1; fill:none\" points=\"13795.7,1423.18 13795.7,1423.18 13864.6,1423.18 13795.7,1423.18 \"/>\n",
       "<path clip-path=\"url(#clip652)\" d=\"M13864.6 1423.18 L13864.6 1423.18 L13933.6 1423.18 L13933.6 1423.18 L13864.6 1423.18 L13864.6 1423.18  Z\" fill=\"#009af9\" fill-rule=\"evenodd\" fill-opacity=\"1\"/>\n",
       "<polyline clip-path=\"url(#clip652)\" style=\"stroke:#000000; stroke-linecap:round; stroke-linejoin:round; stroke-width:4; stroke-opacity:1; fill:none\" points=\"13864.6,1423.18 13864.6,1423.18 13933.6,1423.18 13864.6,1423.18 \"/>\n",
       "<path clip-path=\"url(#clip652)\" d=\"M13933.6 1423.18 L13933.6 1423.18 L14002.6 1423.18 L14002.6 1423.18 L13933.6 1423.18 L13933.6 1423.18  Z\" fill=\"#009af9\" fill-rule=\"evenodd\" fill-opacity=\"1\"/>\n",
       "<polyline clip-path=\"url(#clip652)\" style=\"stroke:#000000; stroke-linecap:round; stroke-linejoin:round; stroke-width:4; stroke-opacity:1; fill:none\" points=\"13933.6,1423.18 13933.6,1423.18 14002.6,1423.18 13933.6,1423.18 \"/>\n",
       "<path clip-path=\"url(#clip652)\" d=\"M14002.6 1423.18 L14002.6 1423.18 L14071.6 1423.18 L14071.6 1423.18 L14002.6 1423.18 L14002.6 1423.18  Z\" fill=\"#009af9\" fill-rule=\"evenodd\" fill-opacity=\"1\"/>\n",
       "<polyline clip-path=\"url(#clip652)\" style=\"stroke:#000000; stroke-linecap:round; stroke-linejoin:round; stroke-width:4; stroke-opacity:1; fill:none\" points=\"14002.6,1423.18 14002.6,1423.18 14071.6,1423.18 14002.6,1423.18 \"/>\n",
       "<path clip-path=\"url(#clip652)\" d=\"M14071.6 1423.18 L14071.6 1423.18 L14140.6 1423.18 L14140.6 1423.18 L14071.6 1423.18 L14071.6 1423.18  Z\" fill=\"#009af9\" fill-rule=\"evenodd\" fill-opacity=\"1\"/>\n",
       "<polyline clip-path=\"url(#clip652)\" style=\"stroke:#000000; stroke-linecap:round; stroke-linejoin:round; stroke-width:4; stroke-opacity:1; fill:none\" points=\"14071.6,1423.18 14071.6,1423.18 14140.6,1423.18 14071.6,1423.18 \"/>\n",
       "<path clip-path=\"url(#clip652)\" d=\"M14140.6 1423.18 L14140.6 1423.18 L14209.6 1423.18 L14209.6 1423.18 L14140.6 1423.18 L14140.6 1423.18  Z\" fill=\"#009af9\" fill-rule=\"evenodd\" fill-opacity=\"1\"/>\n",
       "<polyline clip-path=\"url(#clip652)\" style=\"stroke:#000000; stroke-linecap:round; stroke-linejoin:round; stroke-width:4; stroke-opacity:1; fill:none\" points=\"14140.6,1423.18 14140.6,1423.18 14209.6,1423.18 14140.6,1423.18 \"/>\n",
       "<path clip-path=\"url(#clip652)\" d=\"M14209.6 1423.18 L14209.6 1423.18 L14278.5 1423.18 L14278.5 1423.18 L14209.6 1423.18 L14209.6 1423.18  Z\" fill=\"#009af9\" fill-rule=\"evenodd\" fill-opacity=\"1\"/>\n",
       "<polyline clip-path=\"url(#clip652)\" style=\"stroke:#000000; stroke-linecap:round; stroke-linejoin:round; stroke-width:4; stroke-opacity:1; fill:none\" points=\"14209.6,1423.18 14209.6,1423.18 14278.5,1423.18 14209.6,1423.18 \"/>\n",
       "<path clip-path=\"url(#clip652)\" d=\"M14278.5 1423.18 L14278.5 1423.18 L14347.5 1423.18 L14347.5 1423.18 L14278.5 1423.18 L14278.5 1423.18  Z\" fill=\"#009af9\" fill-rule=\"evenodd\" fill-opacity=\"1\"/>\n",
       "<polyline clip-path=\"url(#clip652)\" style=\"stroke:#000000; stroke-linecap:round; stroke-linejoin:round; stroke-width:4; stroke-opacity:1; fill:none\" points=\"14278.5,1423.18 14278.5,1423.18 14347.5,1423.18 14278.5,1423.18 \"/>\n",
       "<path clip-path=\"url(#clip652)\" d=\"M14347.5 1423.18 L14347.5 1423.18 L14416.5 1423.18 L14416.5 1423.18 L14347.5 1423.18 L14347.5 1423.18  Z\" fill=\"#009af9\" fill-rule=\"evenodd\" fill-opacity=\"1\"/>\n",
       "<polyline clip-path=\"url(#clip652)\" style=\"stroke:#000000; stroke-linecap:round; stroke-linejoin:round; stroke-width:4; stroke-opacity:1; fill:none\" points=\"14347.5,1423.18 14347.5,1423.18 14416.5,1423.18 14347.5,1423.18 \"/>\n",
       "<path clip-path=\"url(#clip652)\" d=\"M14416.5 1423.18 L14416.5 1423.18 L14485.5 1423.18 L14485.5 1423.18 L14416.5 1423.18 L14416.5 1423.18  Z\" fill=\"#009af9\" fill-rule=\"evenodd\" fill-opacity=\"1\"/>\n",
       "<polyline clip-path=\"url(#clip652)\" style=\"stroke:#000000; stroke-linecap:round; stroke-linejoin:round; stroke-width:4; stroke-opacity:1; fill:none\" points=\"14416.5,1423.18 14416.5,1423.18 14485.5,1423.18 14416.5,1423.18 \"/>\n",
       "<path clip-path=\"url(#clip652)\" d=\"M14485.5 1372.22 L14485.5 1423.18 L14554.5 1423.18 L14554.5 1372.22 L14485.5 1372.22 L14485.5 1372.22  Z\" fill=\"#009af9\" fill-rule=\"evenodd\" fill-opacity=\"1\"/>\n",
       "<polyline clip-path=\"url(#clip652)\" style=\"stroke:#000000; stroke-linecap:round; stroke-linejoin:round; stroke-width:4; stroke-opacity:1; fill:none\" points=\"14485.5,1372.22 14485.5,1423.18 14554.5,1423.18 14554.5,1372.22 14485.5,1372.22 \"/>\n",
       "<path clip-path=\"url(#clip652)\" d=\"M14554.5 1423.18 L14554.5 1423.18 L14623.4 1423.18 L14623.4 1423.18 L14554.5 1423.18 L14554.5 1423.18  Z\" fill=\"#009af9\" fill-rule=\"evenodd\" fill-opacity=\"1\"/>\n",
       "<polyline clip-path=\"url(#clip652)\" style=\"stroke:#000000; stroke-linecap:round; stroke-linejoin:round; stroke-width:4; stroke-opacity:1; fill:none\" points=\"14554.5,1423.18 14554.5,1423.18 14623.4,1423.18 14554.5,1423.18 \"/>\n",
       "<path clip-path=\"url(#clip652)\" d=\"M14623.4 1423.18 L14623.4 1423.18 L14692.4 1423.18 L14692.4 1423.18 L14623.4 1423.18 L14623.4 1423.18  Z\" fill=\"#009af9\" fill-rule=\"evenodd\" fill-opacity=\"1\"/>\n",
       "<polyline clip-path=\"url(#clip652)\" style=\"stroke:#000000; stroke-linecap:round; stroke-linejoin:round; stroke-width:4; stroke-opacity:1; fill:none\" points=\"14623.4,1423.18 14623.4,1423.18 14692.4,1423.18 14623.4,1423.18 \"/>\n",
       "<path clip-path=\"url(#clip652)\" d=\"M14692.4 1423.18 L14692.4 1423.18 L14761.4 1423.18 L14761.4 1423.18 L14692.4 1423.18 L14692.4 1423.18  Z\" fill=\"#009af9\" fill-rule=\"evenodd\" fill-opacity=\"1\"/>\n",
       "<polyline clip-path=\"url(#clip652)\" style=\"stroke:#000000; stroke-linecap:round; stroke-linejoin:round; stroke-width:4; stroke-opacity:1; fill:none\" points=\"14692.4,1423.18 14692.4,1423.18 14761.4,1423.18 14692.4,1423.18 \"/>\n",
       "<path clip-path=\"url(#clip652)\" d=\"M14761.4 1423.18 L14761.4 1423.18 L14830.4 1423.18 L14830.4 1423.18 L14761.4 1423.18 L14761.4 1423.18  Z\" fill=\"#009af9\" fill-rule=\"evenodd\" fill-opacity=\"1\"/>\n",
       "<polyline clip-path=\"url(#clip652)\" style=\"stroke:#000000; stroke-linecap:round; stroke-linejoin:round; stroke-width:4; stroke-opacity:1; fill:none\" points=\"14761.4,1423.18 14761.4,1423.18 14830.4,1423.18 14761.4,1423.18 \"/>\n",
       "<path clip-path=\"url(#clip652)\" d=\"M14830.4 1423.18 L14830.4 1423.18 L14899.4 1423.18 L14899.4 1423.18 L14830.4 1423.18 L14830.4 1423.18  Z\" fill=\"#009af9\" fill-rule=\"evenodd\" fill-opacity=\"1\"/>\n",
       "<polyline clip-path=\"url(#clip652)\" style=\"stroke:#000000; stroke-linecap:round; stroke-linejoin:round; stroke-width:4; stroke-opacity:1; fill:none\" points=\"14830.4,1423.18 14830.4,1423.18 14899.4,1423.18 14830.4,1423.18 \"/>\n",
       "<path clip-path=\"url(#clip652)\" d=\"M14899.4 1423.18 L14899.4 1423.18 L14968.3 1423.18 L14968.3 1423.18 L14899.4 1423.18 L14899.4 1423.18  Z\" fill=\"#009af9\" fill-rule=\"evenodd\" fill-opacity=\"1\"/>\n",
       "<polyline clip-path=\"url(#clip652)\" style=\"stroke:#000000; stroke-linecap:round; stroke-linejoin:round; stroke-width:4; stroke-opacity:1; fill:none\" points=\"14899.4,1423.18 14899.4,1423.18 14968.3,1423.18 14899.4,1423.18 \"/>\n",
       "<path clip-path=\"url(#clip652)\" d=\"M14968.3 1423.18 L14968.3 1423.18 L15037.3 1423.18 L15037.3 1423.18 L14968.3 1423.18 L14968.3 1423.18  Z\" fill=\"#009af9\" fill-rule=\"evenodd\" fill-opacity=\"1\"/>\n",
       "<polyline clip-path=\"url(#clip652)\" style=\"stroke:#000000; stroke-linecap:round; stroke-linejoin:round; stroke-width:4; stroke-opacity:1; fill:none\" points=\"14968.3,1423.18 14968.3,1423.18 15037.3,1423.18 14968.3,1423.18 \"/>\n",
       "<path clip-path=\"url(#clip652)\" d=\"M15037.3 1423.18 L15037.3 1423.18 L15106.3 1423.18 L15106.3 1423.18 L15037.3 1423.18 L15037.3 1423.18  Z\" fill=\"#009af9\" fill-rule=\"evenodd\" fill-opacity=\"1\"/>\n",
       "<polyline clip-path=\"url(#clip652)\" style=\"stroke:#000000; stroke-linecap:round; stroke-linejoin:round; stroke-width:4; stroke-opacity:1; fill:none\" points=\"15037.3,1423.18 15037.3,1423.18 15106.3,1423.18 15037.3,1423.18 \"/>\n",
       "<path clip-path=\"url(#clip652)\" d=\"M15106.3 1423.18 L15106.3 1423.18 L15175.3 1423.18 L15175.3 1423.18 L15106.3 1423.18 L15106.3 1423.18  Z\" fill=\"#009af9\" fill-rule=\"evenodd\" fill-opacity=\"1\"/>\n",
       "<polyline clip-path=\"url(#clip652)\" style=\"stroke:#000000; stroke-linecap:round; stroke-linejoin:round; stroke-width:4; stroke-opacity:1; fill:none\" points=\"15106.3,1423.18 15106.3,1423.18 15175.3,1423.18 15106.3,1423.18 \"/>\n",
       "<path clip-path=\"url(#clip652)\" d=\"M15175.3 1423.18 L15175.3 1423.18 L15244.3 1423.18 L15244.3 1423.18 L15175.3 1423.18 L15175.3 1423.18  Z\" fill=\"#009af9\" fill-rule=\"evenodd\" fill-opacity=\"1\"/>\n",
       "<polyline clip-path=\"url(#clip652)\" style=\"stroke:#000000; stroke-linecap:round; stroke-linejoin:round; stroke-width:4; stroke-opacity:1; fill:none\" points=\"15175.3,1423.18 15175.3,1423.18 15244.3,1423.18 15175.3,1423.18 \"/>\n",
       "<path clip-path=\"url(#clip652)\" d=\"M15244.3 1423.18 L15244.3 1423.18 L15313.2 1423.18 L15313.2 1423.18 L15244.3 1423.18 L15244.3 1423.18  Z\" fill=\"#009af9\" fill-rule=\"evenodd\" fill-opacity=\"1\"/>\n",
       "<polyline clip-path=\"url(#clip652)\" style=\"stroke:#000000; stroke-linecap:round; stroke-linejoin:round; stroke-width:4; stroke-opacity:1; fill:none\" points=\"15244.3,1423.18 15244.3,1423.18 15313.2,1423.18 15244.3,1423.18 \"/>\n",
       "<path clip-path=\"url(#clip652)\" d=\"M15313.2 1423.18 L15313.2 1423.18 L15382.2 1423.18 L15382.2 1423.18 L15313.2 1423.18 L15313.2 1423.18  Z\" fill=\"#009af9\" fill-rule=\"evenodd\" fill-opacity=\"1\"/>\n",
       "<polyline clip-path=\"url(#clip652)\" style=\"stroke:#000000; stroke-linecap:round; stroke-linejoin:round; stroke-width:4; stroke-opacity:1; fill:none\" points=\"15313.2,1423.18 15313.2,1423.18 15382.2,1423.18 15313.2,1423.18 \"/>\n",
       "<path clip-path=\"url(#clip652)\" d=\"M15382.2 1423.18 L15382.2 1423.18 L15451.2 1423.18 L15451.2 1423.18 L15382.2 1423.18 L15382.2 1423.18  Z\" fill=\"#009af9\" fill-rule=\"evenodd\" fill-opacity=\"1\"/>\n",
       "<polyline clip-path=\"url(#clip652)\" style=\"stroke:#000000; stroke-linecap:round; stroke-linejoin:round; stroke-width:4; stroke-opacity:1; fill:none\" points=\"15382.2,1423.18 15382.2,1423.18 15451.2,1423.18 15382.2,1423.18 \"/>\n",
       "<path clip-path=\"url(#clip652)\" d=\"M15451.2 1423.18 L15451.2 1423.18 L15520.2 1423.18 L15520.2 1423.18 L15451.2 1423.18 L15451.2 1423.18  Z\" fill=\"#009af9\" fill-rule=\"evenodd\" fill-opacity=\"1\"/>\n",
       "<polyline clip-path=\"url(#clip652)\" style=\"stroke:#000000; stroke-linecap:round; stroke-linejoin:round; stroke-width:4; stroke-opacity:1; fill:none\" points=\"15451.2,1423.18 15451.2,1423.18 15520.2,1423.18 15451.2,1423.18 \"/>\n",
       "<path clip-path=\"url(#clip652)\" d=\"M15520.2 1423.18 L15520.2 1423.18 L15589.2 1423.18 L15589.2 1423.18 L15520.2 1423.18 L15520.2 1423.18  Z\" fill=\"#009af9\" fill-rule=\"evenodd\" fill-opacity=\"1\"/>\n",
       "<polyline clip-path=\"url(#clip652)\" style=\"stroke:#000000; stroke-linecap:round; stroke-linejoin:round; stroke-width:4; stroke-opacity:1; fill:none\" points=\"15520.2,1423.18 15520.2,1423.18 15589.2,1423.18 15520.2,1423.18 \"/>\n",
       "<path clip-path=\"url(#clip652)\" d=\"M15589.2 1423.18 L15589.2 1423.18 L15658.2 1423.18 L15658.2 1423.18 L15589.2 1423.18 L15589.2 1423.18  Z\" fill=\"#009af9\" fill-rule=\"evenodd\" fill-opacity=\"1\"/>\n",
       "<polyline clip-path=\"url(#clip652)\" style=\"stroke:#000000; stroke-linecap:round; stroke-linejoin:round; stroke-width:4; stroke-opacity:1; fill:none\" points=\"15589.2,1423.18 15589.2,1423.18 15658.2,1423.18 15589.2,1423.18 \"/>\n",
       "<path clip-path=\"url(#clip652)\" d=\"M15658.2 1423.18 L15658.2 1423.18 L15727.1 1423.18 L15727.1 1423.18 L15658.2 1423.18 L15658.2 1423.18  Z\" fill=\"#009af9\" fill-rule=\"evenodd\" fill-opacity=\"1\"/>\n",
       "<polyline clip-path=\"url(#clip652)\" style=\"stroke:#000000; stroke-linecap:round; stroke-linejoin:round; stroke-width:4; stroke-opacity:1; fill:none\" points=\"15658.2,1423.18 15658.2,1423.18 15727.1,1423.18 15658.2,1423.18 \"/>\n",
       "<path clip-path=\"url(#clip652)\" d=\"M15727.1 1423.18 L15727.1 1423.18 L15796.1 1423.18 L15796.1 1423.18 L15727.1 1423.18 L15727.1 1423.18  Z\" fill=\"#009af9\" fill-rule=\"evenodd\" fill-opacity=\"1\"/>\n",
       "<polyline clip-path=\"url(#clip652)\" style=\"stroke:#000000; stroke-linecap:round; stroke-linejoin:round; stroke-width:4; stroke-opacity:1; fill:none\" points=\"15727.1,1423.18 15727.1,1423.18 15796.1,1423.18 15727.1,1423.18 \"/>\n",
       "<path clip-path=\"url(#clip652)\" d=\"M15796.1 1423.18 L15796.1 1423.18 L15865.1 1423.18 L15865.1 1423.18 L15796.1 1423.18 L15796.1 1423.18  Z\" fill=\"#009af9\" fill-rule=\"evenodd\" fill-opacity=\"1\"/>\n",
       "<polyline clip-path=\"url(#clip652)\" style=\"stroke:#000000; stroke-linecap:round; stroke-linejoin:round; stroke-width:4; stroke-opacity:1; fill:none\" points=\"15796.1,1423.18 15796.1,1423.18 15865.1,1423.18 15796.1,1423.18 \"/>\n",
       "<path clip-path=\"url(#clip652)\" d=\"M15865.1 1423.18 L15865.1 1423.18 L15934.1 1423.18 L15934.1 1423.18 L15865.1 1423.18 L15865.1 1423.18  Z\" fill=\"#009af9\" fill-rule=\"evenodd\" fill-opacity=\"1\"/>\n",
       "<polyline clip-path=\"url(#clip652)\" style=\"stroke:#000000; stroke-linecap:round; stroke-linejoin:round; stroke-width:4; stroke-opacity:1; fill:none\" points=\"15865.1,1423.18 15865.1,1423.18 15934.1,1423.18 15865.1,1423.18 \"/>\n",
       "<path clip-path=\"url(#clip652)\" d=\"M15934.1 1423.18 L15934.1 1423.18 L16003.1 1423.18 L16003.1 1423.18 L15934.1 1423.18 L15934.1 1423.18  Z\" fill=\"#009af9\" fill-rule=\"evenodd\" fill-opacity=\"1\"/>\n",
       "<polyline clip-path=\"url(#clip652)\" style=\"stroke:#000000; stroke-linecap:round; stroke-linejoin:round; stroke-width:4; stroke-opacity:1; fill:none\" points=\"15934.1,1423.18 15934.1,1423.18 16003.1,1423.18 15934.1,1423.18 \"/>\n",
       "<path clip-path=\"url(#clip652)\" d=\"M16003.1 1423.18 L16003.1 1423.18 L16072 1423.18 L16072 1423.18 L16003.1 1423.18 L16003.1 1423.18  Z\" fill=\"#009af9\" fill-rule=\"evenodd\" fill-opacity=\"1\"/>\n",
       "<polyline clip-path=\"url(#clip652)\" style=\"stroke:#000000; stroke-linecap:round; stroke-linejoin:round; stroke-width:4; stroke-opacity:1; fill:none\" points=\"16003.1,1423.18 16003.1,1423.18 16072,1423.18 16003.1,1423.18 \"/>\n",
       "<path clip-path=\"url(#clip652)\" d=\"M16072 1423.18 L16072 1423.18 L16141 1423.18 L16141 1423.18 L16072 1423.18 L16072 1423.18  Z\" fill=\"#009af9\" fill-rule=\"evenodd\" fill-opacity=\"1\"/>\n",
       "<polyline clip-path=\"url(#clip652)\" style=\"stroke:#000000; stroke-linecap:round; stroke-linejoin:round; stroke-width:4; stroke-opacity:1; fill:none\" points=\"16072,1423.18 16072,1423.18 16141,1423.18 16072,1423.18 \"/>\n",
       "<path clip-path=\"url(#clip652)\" d=\"M16141 1423.18 L16141 1423.18 L16210 1423.18 L16210 1423.18 L16141 1423.18 L16141 1423.18  Z\" fill=\"#009af9\" fill-rule=\"evenodd\" fill-opacity=\"1\"/>\n",
       "<polyline clip-path=\"url(#clip652)\" style=\"stroke:#000000; stroke-linecap:round; stroke-linejoin:round; stroke-width:4; stroke-opacity:1; fill:none\" points=\"16141,1423.18 16141,1423.18 16210,1423.18 16141,1423.18 \"/>\n",
       "<path clip-path=\"url(#clip652)\" d=\"M16210 1423.18 L16210 1423.18 L16279 1423.18 L16279 1423.18 L16210 1423.18 L16210 1423.18  Z\" fill=\"#009af9\" fill-rule=\"evenodd\" fill-opacity=\"1\"/>\n",
       "<polyline clip-path=\"url(#clip652)\" style=\"stroke:#000000; stroke-linecap:round; stroke-linejoin:round; stroke-width:4; stroke-opacity:1; fill:none\" points=\"16210,1423.18 16210,1423.18 16279,1423.18 16210,1423.18 \"/>\n",
       "<path clip-path=\"url(#clip652)\" d=\"M16279 1423.18 L16279 1423.18 L16348 1423.18 L16348 1423.18 L16279 1423.18 L16279 1423.18  Z\" fill=\"#009af9\" fill-rule=\"evenodd\" fill-opacity=\"1\"/>\n",
       "<polyline clip-path=\"url(#clip652)\" style=\"stroke:#000000; stroke-linecap:round; stroke-linejoin:round; stroke-width:4; stroke-opacity:1; fill:none\" points=\"16279,1423.18 16279,1423.18 16348,1423.18 16279,1423.18 \"/>\n",
       "<path clip-path=\"url(#clip652)\" d=\"M16348 1423.18 L16348 1423.18 L16416.9 1423.18 L16416.9 1423.18 L16348 1423.18 L16348 1423.18  Z\" fill=\"#009af9\" fill-rule=\"evenodd\" fill-opacity=\"1\"/>\n",
       "<polyline clip-path=\"url(#clip652)\" style=\"stroke:#000000; stroke-linecap:round; stroke-linejoin:round; stroke-width:4; stroke-opacity:1; fill:none\" points=\"16348,1423.18 16348,1423.18 16416.9,1423.18 16348,1423.18 \"/>\n",
       "<path clip-path=\"url(#clip652)\" d=\"M16416.9 1423.18 L16416.9 1423.18 L16485.9 1423.18 L16485.9 1423.18 L16416.9 1423.18 L16416.9 1423.18  Z\" fill=\"#009af9\" fill-rule=\"evenodd\" fill-opacity=\"1\"/>\n",
       "<polyline clip-path=\"url(#clip652)\" style=\"stroke:#000000; stroke-linecap:round; stroke-linejoin:round; stroke-width:4; stroke-opacity:1; fill:none\" points=\"16416.9,1423.18 16416.9,1423.18 16485.9,1423.18 16416.9,1423.18 \"/>\n",
       "<path clip-path=\"url(#clip652)\" d=\"M16485.9 1423.18 L16485.9 1423.18 L16554.9 1423.18 L16554.9 1423.18 L16485.9 1423.18 L16485.9 1423.18  Z\" fill=\"#009af9\" fill-rule=\"evenodd\" fill-opacity=\"1\"/>\n",
       "<polyline clip-path=\"url(#clip652)\" style=\"stroke:#000000; stroke-linecap:round; stroke-linejoin:round; stroke-width:4; stroke-opacity:1; fill:none\" points=\"16485.9,1423.18 16485.9,1423.18 16554.9,1423.18 16485.9,1423.18 \"/>\n",
       "<path clip-path=\"url(#clip652)\" d=\"M16554.9 1423.18 L16554.9 1423.18 L16623.9 1423.18 L16623.9 1423.18 L16554.9 1423.18 L16554.9 1423.18  Z\" fill=\"#009af9\" fill-rule=\"evenodd\" fill-opacity=\"1\"/>\n",
       "<polyline clip-path=\"url(#clip652)\" style=\"stroke:#000000; stroke-linecap:round; stroke-linejoin:round; stroke-width:4; stroke-opacity:1; fill:none\" points=\"16554.9,1423.18 16554.9,1423.18 16623.9,1423.18 16554.9,1423.18 \"/>\n",
       "<path clip-path=\"url(#clip652)\" d=\"M16623.9 1423.18 L16623.9 1423.18 L16692.9 1423.18 L16692.9 1423.18 L16623.9 1423.18 L16623.9 1423.18  Z\" fill=\"#009af9\" fill-rule=\"evenodd\" fill-opacity=\"1\"/>\n",
       "<polyline clip-path=\"url(#clip652)\" style=\"stroke:#000000; stroke-linecap:round; stroke-linejoin:round; stroke-width:4; stroke-opacity:1; fill:none\" points=\"16623.9,1423.18 16623.9,1423.18 16692.9,1423.18 16623.9,1423.18 \"/>\n",
       "<path clip-path=\"url(#clip652)\" d=\"M16692.9 1423.18 L16692.9 1423.18 L16761.9 1423.18 L16761.9 1423.18 L16692.9 1423.18 L16692.9 1423.18  Z\" fill=\"#009af9\" fill-rule=\"evenodd\" fill-opacity=\"1\"/>\n",
       "<polyline clip-path=\"url(#clip652)\" style=\"stroke:#000000; stroke-linecap:round; stroke-linejoin:round; stroke-width:4; stroke-opacity:1; fill:none\" points=\"16692.9,1423.18 16692.9,1423.18 16761.9,1423.18 16692.9,1423.18 \"/>\n",
       "<path clip-path=\"url(#clip652)\" d=\"M16761.9 1423.18 L16761.9 1423.18 L16830.8 1423.18 L16830.8 1423.18 L16761.9 1423.18 L16761.9 1423.18  Z\" fill=\"#009af9\" fill-rule=\"evenodd\" fill-opacity=\"1\"/>\n",
       "<polyline clip-path=\"url(#clip652)\" style=\"stroke:#000000; stroke-linecap:round; stroke-linejoin:round; stroke-width:4; stroke-opacity:1; fill:none\" points=\"16761.9,1423.18 16761.9,1423.18 16830.8,1423.18 16761.9,1423.18 \"/>\n",
       "<path clip-path=\"url(#clip652)\" d=\"M16830.8 1423.18 L16830.8 1423.18 L16899.8 1423.18 L16899.8 1423.18 L16830.8 1423.18 L16830.8 1423.18  Z\" fill=\"#009af9\" fill-rule=\"evenodd\" fill-opacity=\"1\"/>\n",
       "<polyline clip-path=\"url(#clip652)\" style=\"stroke:#000000; stroke-linecap:round; stroke-linejoin:round; stroke-width:4; stroke-opacity:1; fill:none\" points=\"16830.8,1423.18 16830.8,1423.18 16899.8,1423.18 16830.8,1423.18 \"/>\n",
       "<path clip-path=\"url(#clip652)\" d=\"M16899.8 1423.18 L16899.8 1423.18 L16968.8 1423.18 L16968.8 1423.18 L16899.8 1423.18 L16899.8 1423.18  Z\" fill=\"#009af9\" fill-rule=\"evenodd\" fill-opacity=\"1\"/>\n",
       "<polyline clip-path=\"url(#clip652)\" style=\"stroke:#000000; stroke-linecap:round; stroke-linejoin:round; stroke-width:4; stroke-opacity:1; fill:none\" points=\"16899.8,1423.18 16899.8,1423.18 16968.8,1423.18 16899.8,1423.18 \"/>\n",
       "<path clip-path=\"url(#clip652)\" d=\"M16968.8 1423.18 L16968.8 1423.18 L17037.8 1423.18 L17037.8 1423.18 L16968.8 1423.18 L16968.8 1423.18  Z\" fill=\"#009af9\" fill-rule=\"evenodd\" fill-opacity=\"1\"/>\n",
       "<polyline clip-path=\"url(#clip652)\" style=\"stroke:#000000; stroke-linecap:round; stroke-linejoin:round; stroke-width:4; stroke-opacity:1; fill:none\" points=\"16968.8,1423.18 16968.8,1423.18 17037.8,1423.18 16968.8,1423.18 \"/>\n",
       "<path clip-path=\"url(#clip652)\" d=\"M17037.8 1423.18 L17037.8 1423.18 L17106.8 1423.18 L17106.8 1423.18 L17037.8 1423.18 L17037.8 1423.18  Z\" fill=\"#009af9\" fill-rule=\"evenodd\" fill-opacity=\"1\"/>\n",
       "<polyline clip-path=\"url(#clip652)\" style=\"stroke:#000000; stroke-linecap:round; stroke-linejoin:round; stroke-width:4; stroke-opacity:1; fill:none\" points=\"17037.8,1423.18 17037.8,1423.18 17106.8,1423.18 17037.8,1423.18 \"/>\n",
       "<path clip-path=\"url(#clip652)\" d=\"M17106.8 1423.18 L17106.8 1423.18 L17175.7 1423.18 L17175.7 1423.18 L17106.8 1423.18 L17106.8 1423.18  Z\" fill=\"#009af9\" fill-rule=\"evenodd\" fill-opacity=\"1\"/>\n",
       "<polyline clip-path=\"url(#clip652)\" style=\"stroke:#000000; stroke-linecap:round; stroke-linejoin:round; stroke-width:4; stroke-opacity:1; fill:none\" points=\"17106.8,1423.18 17106.8,1423.18 17175.7,1423.18 17106.8,1423.18 \"/>\n",
       "<path clip-path=\"url(#clip652)\" d=\"M17175.7 1423.18 L17175.7 1423.18 L17244.7 1423.18 L17244.7 1423.18 L17175.7 1423.18 L17175.7 1423.18  Z\" fill=\"#009af9\" fill-rule=\"evenodd\" fill-opacity=\"1\"/>\n",
       "<polyline clip-path=\"url(#clip652)\" style=\"stroke:#000000; stroke-linecap:round; stroke-linejoin:round; stroke-width:4; stroke-opacity:1; fill:none\" points=\"17175.7,1423.18 17175.7,1423.18 17244.7,1423.18 17175.7,1423.18 \"/>\n",
       "<path clip-path=\"url(#clip652)\" d=\"M17244.7 1423.18 L17244.7 1423.18 L17313.7 1423.18 L17313.7 1423.18 L17244.7 1423.18 L17244.7 1423.18  Z\" fill=\"#009af9\" fill-rule=\"evenodd\" fill-opacity=\"1\"/>\n",
       "<polyline clip-path=\"url(#clip652)\" style=\"stroke:#000000; stroke-linecap:round; stroke-linejoin:round; stroke-width:4; stroke-opacity:1; fill:none\" points=\"17244.7,1423.18 17244.7,1423.18 17313.7,1423.18 17244.7,1423.18 \"/>\n",
       "<path clip-path=\"url(#clip652)\" d=\"M17313.7 1423.18 L17313.7 1423.18 L17382.7 1423.18 L17382.7 1423.18 L17313.7 1423.18 L17313.7 1423.18  Z\" fill=\"#009af9\" fill-rule=\"evenodd\" fill-opacity=\"1\"/>\n",
       "<polyline clip-path=\"url(#clip652)\" style=\"stroke:#000000; stroke-linecap:round; stroke-linejoin:round; stroke-width:4; stroke-opacity:1; fill:none\" points=\"17313.7,1423.18 17313.7,1423.18 17382.7,1423.18 17313.7,1423.18 \"/>\n",
       "<path clip-path=\"url(#clip652)\" d=\"M17382.7 1423.18 L17382.7 1423.18 L17451.7 1423.18 L17451.7 1423.18 L17382.7 1423.18 L17382.7 1423.18  Z\" fill=\"#009af9\" fill-rule=\"evenodd\" fill-opacity=\"1\"/>\n",
       "<polyline clip-path=\"url(#clip652)\" style=\"stroke:#000000; stroke-linecap:round; stroke-linejoin:round; stroke-width:4; stroke-opacity:1; fill:none\" points=\"17382.7,1423.18 17382.7,1423.18 17451.7,1423.18 17382.7,1423.18 \"/>\n",
       "<path clip-path=\"url(#clip652)\" d=\"M17451.7 1423.18 L17451.7 1423.18 L17520.6 1423.18 L17520.6 1423.18 L17451.7 1423.18 L17451.7 1423.18  Z\" fill=\"#009af9\" fill-rule=\"evenodd\" fill-opacity=\"1\"/>\n",
       "<polyline clip-path=\"url(#clip652)\" style=\"stroke:#000000; stroke-linecap:round; stroke-linejoin:round; stroke-width:4; stroke-opacity:1; fill:none\" points=\"17451.7,1423.18 17451.7,1423.18 17520.6,1423.18 17451.7,1423.18 \"/>\n",
       "<path clip-path=\"url(#clip652)\" d=\"M17520.6 1423.18 L17520.6 1423.18 L17589.6 1423.18 L17589.6 1423.18 L17520.6 1423.18 L17520.6 1423.18  Z\" fill=\"#009af9\" fill-rule=\"evenodd\" fill-opacity=\"1\"/>\n",
       "<polyline clip-path=\"url(#clip652)\" style=\"stroke:#000000; stroke-linecap:round; stroke-linejoin:round; stroke-width:4; stroke-opacity:1; fill:none\" points=\"17520.6,1423.18 17520.6,1423.18 17589.6,1423.18 17520.6,1423.18 \"/>\n",
       "<path clip-path=\"url(#clip652)\" d=\"M17589.6 1423.18 L17589.6 1423.18 L17658.6 1423.18 L17658.6 1423.18 L17589.6 1423.18 L17589.6 1423.18  Z\" fill=\"#009af9\" fill-rule=\"evenodd\" fill-opacity=\"1\"/>\n",
       "<polyline clip-path=\"url(#clip652)\" style=\"stroke:#000000; stroke-linecap:round; stroke-linejoin:round; stroke-width:4; stroke-opacity:1; fill:none\" points=\"17589.6,1423.18 17589.6,1423.18 17658.6,1423.18 17589.6,1423.18 \"/>\n",
       "<path clip-path=\"url(#clip652)\" d=\"M17658.6 1423.18 L17658.6 1423.18 L17727.6 1423.18 L17727.6 1423.18 L17658.6 1423.18 L17658.6 1423.18  Z\" fill=\"#009af9\" fill-rule=\"evenodd\" fill-opacity=\"1\"/>\n",
       "<polyline clip-path=\"url(#clip652)\" style=\"stroke:#000000; stroke-linecap:round; stroke-linejoin:round; stroke-width:4; stroke-opacity:1; fill:none\" points=\"17658.6,1423.18 17658.6,1423.18 17727.6,1423.18 17658.6,1423.18 \"/>\n",
       "<path clip-path=\"url(#clip652)\" d=\"M17727.6 1423.18 L17727.6 1423.18 L17796.6 1423.18 L17796.6 1423.18 L17727.6 1423.18 L17727.6 1423.18  Z\" fill=\"#009af9\" fill-rule=\"evenodd\" fill-opacity=\"1\"/>\n",
       "<polyline clip-path=\"url(#clip652)\" style=\"stroke:#000000; stroke-linecap:round; stroke-linejoin:round; stroke-width:4; stroke-opacity:1; fill:none\" points=\"17727.6,1423.18 17727.6,1423.18 17796.6,1423.18 17727.6,1423.18 \"/>\n",
       "<path clip-path=\"url(#clip652)\" d=\"M17796.6 1423.18 L17796.6 1423.18 L17865.5 1423.18 L17865.5 1423.18 L17796.6 1423.18 L17796.6 1423.18  Z\" fill=\"#009af9\" fill-rule=\"evenodd\" fill-opacity=\"1\"/>\n",
       "<polyline clip-path=\"url(#clip652)\" style=\"stroke:#000000; stroke-linecap:round; stroke-linejoin:round; stroke-width:4; stroke-opacity:1; fill:none\" points=\"17796.6,1423.18 17796.6,1423.18 17865.5,1423.18 17796.6,1423.18 \"/>\n",
       "<path clip-path=\"url(#clip652)\" d=\"M17865.5 1423.18 L17865.5 1423.18 L17934.5 1423.18 L17934.5 1423.18 L17865.5 1423.18 L17865.5 1423.18  Z\" fill=\"#009af9\" fill-rule=\"evenodd\" fill-opacity=\"1\"/>\n",
       "<polyline clip-path=\"url(#clip652)\" style=\"stroke:#000000; stroke-linecap:round; stroke-linejoin:round; stroke-width:4; stroke-opacity:1; fill:none\" points=\"17865.5,1423.18 17865.5,1423.18 17934.5,1423.18 17865.5,1423.18 \"/>\n",
       "<path clip-path=\"url(#clip652)\" d=\"M17934.5 1423.18 L17934.5 1423.18 L18003.5 1423.18 L18003.5 1423.18 L17934.5 1423.18 L17934.5 1423.18  Z\" fill=\"#009af9\" fill-rule=\"evenodd\" fill-opacity=\"1\"/>\n",
       "<polyline clip-path=\"url(#clip652)\" style=\"stroke:#000000; stroke-linecap:round; stroke-linejoin:round; stroke-width:4; stroke-opacity:1; fill:none\" points=\"17934.5,1423.18 17934.5,1423.18 18003.5,1423.18 17934.5,1423.18 \"/>\n",
       "<path clip-path=\"url(#clip652)\" d=\"M18003.5 1423.18 L18003.5 1423.18 L18072.5 1423.18 L18072.5 1423.18 L18003.5 1423.18 L18003.5 1423.18  Z\" fill=\"#009af9\" fill-rule=\"evenodd\" fill-opacity=\"1\"/>\n",
       "<polyline clip-path=\"url(#clip652)\" style=\"stroke:#000000; stroke-linecap:round; stroke-linejoin:round; stroke-width:4; stroke-opacity:1; fill:none\" points=\"18003.5,1423.18 18003.5,1423.18 18072.5,1423.18 18003.5,1423.18 \"/>\n",
       "<path clip-path=\"url(#clip652)\" d=\"M18072.5 1423.18 L18072.5 1423.18 L18141.5 1423.18 L18141.5 1423.18 L18072.5 1423.18 L18072.5 1423.18  Z\" fill=\"#009af9\" fill-rule=\"evenodd\" fill-opacity=\"1\"/>\n",
       "<polyline clip-path=\"url(#clip652)\" style=\"stroke:#000000; stroke-linecap:round; stroke-linejoin:round; stroke-width:4; stroke-opacity:1; fill:none\" points=\"18072.5,1423.18 18072.5,1423.18 18141.5,1423.18 18072.5,1423.18 \"/>\n",
       "<path clip-path=\"url(#clip652)\" d=\"M18141.5 1423.18 L18141.5 1423.18 L18210.5 1423.18 L18210.5 1423.18 L18141.5 1423.18 L18141.5 1423.18  Z\" fill=\"#009af9\" fill-rule=\"evenodd\" fill-opacity=\"1\"/>\n",
       "<polyline clip-path=\"url(#clip652)\" style=\"stroke:#000000; stroke-linecap:round; stroke-linejoin:round; stroke-width:4; stroke-opacity:1; fill:none\" points=\"18141.5,1423.18 18141.5,1423.18 18210.5,1423.18 18141.5,1423.18 \"/>\n",
       "<path clip-path=\"url(#clip652)\" d=\"M18210.5 1423.18 L18210.5 1423.18 L18279.4 1423.18 L18279.4 1423.18 L18210.5 1423.18 L18210.5 1423.18  Z\" fill=\"#009af9\" fill-rule=\"evenodd\" fill-opacity=\"1\"/>\n",
       "<polyline clip-path=\"url(#clip652)\" style=\"stroke:#000000; stroke-linecap:round; stroke-linejoin:round; stroke-width:4; stroke-opacity:1; fill:none\" points=\"18210.5,1423.18 18210.5,1423.18 18279.4,1423.18 18210.5,1423.18 \"/>\n",
       "<path clip-path=\"url(#clip652)\" d=\"M18279.4 1423.18 L18279.4 1423.18 L18348.4 1423.18 L18348.4 1423.18 L18279.4 1423.18 L18279.4 1423.18  Z\" fill=\"#009af9\" fill-rule=\"evenodd\" fill-opacity=\"1\"/>\n",
       "<polyline clip-path=\"url(#clip652)\" style=\"stroke:#000000; stroke-linecap:round; stroke-linejoin:round; stroke-width:4; stroke-opacity:1; fill:none\" points=\"18279.4,1423.18 18279.4,1423.18 18348.4,1423.18 18279.4,1423.18 \"/>\n",
       "<path clip-path=\"url(#clip652)\" d=\"M18348.4 1423.18 L18348.4 1423.18 L18417.4 1423.18 L18417.4 1423.18 L18348.4 1423.18 L18348.4 1423.18  Z\" fill=\"#009af9\" fill-rule=\"evenodd\" fill-opacity=\"1\"/>\n",
       "<polyline clip-path=\"url(#clip652)\" style=\"stroke:#000000; stroke-linecap:round; stroke-linejoin:round; stroke-width:4; stroke-opacity:1; fill:none\" points=\"18348.4,1423.18 18348.4,1423.18 18417.4,1423.18 18348.4,1423.18 \"/>\n",
       "<path clip-path=\"url(#clip652)\" d=\"M18417.4 1423.18 L18417.4 1423.18 L18486.4 1423.18 L18486.4 1423.18 L18417.4 1423.18 L18417.4 1423.18  Z\" fill=\"#009af9\" fill-rule=\"evenodd\" fill-opacity=\"1\"/>\n",
       "<polyline clip-path=\"url(#clip652)\" style=\"stroke:#000000; stroke-linecap:round; stroke-linejoin:round; stroke-width:4; stroke-opacity:1; fill:none\" points=\"18417.4,1423.18 18417.4,1423.18 18486.4,1423.18 18417.4,1423.18 \"/>\n",
       "<path clip-path=\"url(#clip652)\" d=\"M18486.4 1423.18 L18486.4 1423.18 L18555.4 1423.18 L18555.4 1423.18 L18486.4 1423.18 L18486.4 1423.18  Z\" fill=\"#009af9\" fill-rule=\"evenodd\" fill-opacity=\"1\"/>\n",
       "<polyline clip-path=\"url(#clip652)\" style=\"stroke:#000000; stroke-linecap:round; stroke-linejoin:round; stroke-width:4; stroke-opacity:1; fill:none\" points=\"18486.4,1423.18 18486.4,1423.18 18555.4,1423.18 18486.4,1423.18 \"/>\n",
       "<path clip-path=\"url(#clip652)\" d=\"M18555.4 1423.18 L18555.4 1423.18 L18624.3 1423.18 L18624.3 1423.18 L18555.4 1423.18 L18555.4 1423.18  Z\" fill=\"#009af9\" fill-rule=\"evenodd\" fill-opacity=\"1\"/>\n",
       "<polyline clip-path=\"url(#clip652)\" style=\"stroke:#000000; stroke-linecap:round; stroke-linejoin:round; stroke-width:4; stroke-opacity:1; fill:none\" points=\"18555.4,1423.18 18555.4,1423.18 18624.3,1423.18 18555.4,1423.18 \"/>\n",
       "<path clip-path=\"url(#clip652)\" d=\"M18624.3 1423.18 L18624.3 1423.18 L18693.3 1423.18 L18693.3 1423.18 L18624.3 1423.18 L18624.3 1423.18  Z\" fill=\"#009af9\" fill-rule=\"evenodd\" fill-opacity=\"1\"/>\n",
       "<polyline clip-path=\"url(#clip652)\" style=\"stroke:#000000; stroke-linecap:round; stroke-linejoin:round; stroke-width:4; stroke-opacity:1; fill:none\" points=\"18624.3,1423.18 18624.3,1423.18 18693.3,1423.18 18624.3,1423.18 \"/>\n",
       "<path clip-path=\"url(#clip652)\" d=\"M18693.3 1423.18 L18693.3 1423.18 L18762.3 1423.18 L18762.3 1423.18 L18693.3 1423.18 L18693.3 1423.18  Z\" fill=\"#009af9\" fill-rule=\"evenodd\" fill-opacity=\"1\"/>\n",
       "<polyline clip-path=\"url(#clip652)\" style=\"stroke:#000000; stroke-linecap:round; stroke-linejoin:round; stroke-width:4; stroke-opacity:1; fill:none\" points=\"18693.3,1423.18 18693.3,1423.18 18762.3,1423.18 18693.3,1423.18 \"/>\n",
       "<path clip-path=\"url(#clip652)\" d=\"M18762.3 1423.18 L18762.3 1423.18 L18831.3 1423.18 L18831.3 1423.18 L18762.3 1423.18 L18762.3 1423.18  Z\" fill=\"#009af9\" fill-rule=\"evenodd\" fill-opacity=\"1\"/>\n",
       "<polyline clip-path=\"url(#clip652)\" style=\"stroke:#000000; stroke-linecap:round; stroke-linejoin:round; stroke-width:4; stroke-opacity:1; fill:none\" points=\"18762.3,1423.18 18762.3,1423.18 18831.3,1423.18 18762.3,1423.18 \"/>\n",
       "<path clip-path=\"url(#clip652)\" d=\"M18831.3 1423.18 L18831.3 1423.18 L18900.3 1423.18 L18900.3 1423.18 L18831.3 1423.18 L18831.3 1423.18  Z\" fill=\"#009af9\" fill-rule=\"evenodd\" fill-opacity=\"1\"/>\n",
       "<polyline clip-path=\"url(#clip652)\" style=\"stroke:#000000; stroke-linecap:round; stroke-linejoin:round; stroke-width:4; stroke-opacity:1; fill:none\" points=\"18831.3,1423.18 18831.3,1423.18 18900.3,1423.18 18831.3,1423.18 \"/>\n",
       "<path clip-path=\"url(#clip652)\" d=\"M18900.3 1423.18 L18900.3 1423.18 L18969.2 1423.18 L18969.2 1423.18 L18900.3 1423.18 L18900.3 1423.18  Z\" fill=\"#009af9\" fill-rule=\"evenodd\" fill-opacity=\"1\"/>\n",
       "<polyline clip-path=\"url(#clip652)\" style=\"stroke:#000000; stroke-linecap:round; stroke-linejoin:round; stroke-width:4; stroke-opacity:1; fill:none\" points=\"18900.3,1423.18 18900.3,1423.18 18969.2,1423.18 18900.3,1423.18 \"/>\n",
       "<path clip-path=\"url(#clip652)\" d=\"M18969.2 1423.18 L18969.2 1423.18 L19038.2 1423.18 L19038.2 1423.18 L18969.2 1423.18 L18969.2 1423.18  Z\" fill=\"#009af9\" fill-rule=\"evenodd\" fill-opacity=\"1\"/>\n",
       "<polyline clip-path=\"url(#clip652)\" style=\"stroke:#000000; stroke-linecap:round; stroke-linejoin:round; stroke-width:4; stroke-opacity:1; fill:none\" points=\"18969.2,1423.18 18969.2,1423.18 19038.2,1423.18 18969.2,1423.18 \"/>\n",
       "<path clip-path=\"url(#clip652)\" d=\"M19038.2 1423.18 L19038.2 1423.18 L19107.2 1423.18 L19107.2 1423.18 L19038.2 1423.18 L19038.2 1423.18  Z\" fill=\"#009af9\" fill-rule=\"evenodd\" fill-opacity=\"1\"/>\n",
       "<polyline clip-path=\"url(#clip652)\" style=\"stroke:#000000; stroke-linecap:round; stroke-linejoin:round; stroke-width:4; stroke-opacity:1; fill:none\" points=\"19038.2,1423.18 19038.2,1423.18 19107.2,1423.18 19038.2,1423.18 \"/>\n",
       "<path clip-path=\"url(#clip652)\" d=\"M19107.2 1423.18 L19107.2 1423.18 L19176.2 1423.18 L19176.2 1423.18 L19107.2 1423.18 L19107.2 1423.18  Z\" fill=\"#009af9\" fill-rule=\"evenodd\" fill-opacity=\"1\"/>\n",
       "<polyline clip-path=\"url(#clip652)\" style=\"stroke:#000000; stroke-linecap:round; stroke-linejoin:round; stroke-width:4; stroke-opacity:1; fill:none\" points=\"19107.2,1423.18 19107.2,1423.18 19176.2,1423.18 19107.2,1423.18 \"/>\n",
       "<path clip-path=\"url(#clip652)\" d=\"M19176.2 1423.18 L19176.2 1423.18 L19245.2 1423.18 L19245.2 1423.18 L19176.2 1423.18 L19176.2 1423.18  Z\" fill=\"#009af9\" fill-rule=\"evenodd\" fill-opacity=\"1\"/>\n",
       "<polyline clip-path=\"url(#clip652)\" style=\"stroke:#000000; stroke-linecap:round; stroke-linejoin:round; stroke-width:4; stroke-opacity:1; fill:none\" points=\"19176.2,1423.18 19176.2,1423.18 19245.2,1423.18 19176.2,1423.18 \"/>\n",
       "<path clip-path=\"url(#clip652)\" d=\"M19245.2 1423.18 L19245.2 1423.18 L19314.2 1423.18 L19314.2 1423.18 L19245.2 1423.18 L19245.2 1423.18  Z\" fill=\"#009af9\" fill-rule=\"evenodd\" fill-opacity=\"1\"/>\n",
       "<polyline clip-path=\"url(#clip652)\" style=\"stroke:#000000; stroke-linecap:round; stroke-linejoin:round; stroke-width:4; stroke-opacity:1; fill:none\" points=\"19245.2,1423.18 19245.2,1423.18 19314.2,1423.18 19245.2,1423.18 \"/>\n",
       "<path clip-path=\"url(#clip652)\" d=\"M19314.2 1423.18 L19314.2 1423.18 L19383.1 1423.18 L19383.1 1423.18 L19314.2 1423.18 L19314.2 1423.18  Z\" fill=\"#009af9\" fill-rule=\"evenodd\" fill-opacity=\"1\"/>\n",
       "<polyline clip-path=\"url(#clip652)\" style=\"stroke:#000000; stroke-linecap:round; stroke-linejoin:round; stroke-width:4; stroke-opacity:1; fill:none\" points=\"19314.2,1423.18 19314.2,1423.18 19383.1,1423.18 19314.2,1423.18 \"/>\n",
       "<path clip-path=\"url(#clip652)\" d=\"M19383.1 1423.18 L19383.1 1423.18 L19452.1 1423.18 L19452.1 1423.18 L19383.1 1423.18 L19383.1 1423.18  Z\" fill=\"#009af9\" fill-rule=\"evenodd\" fill-opacity=\"1\"/>\n",
       "<polyline clip-path=\"url(#clip652)\" style=\"stroke:#000000; stroke-linecap:round; stroke-linejoin:round; stroke-width:4; stroke-opacity:1; fill:none\" points=\"19383.1,1423.18 19383.1,1423.18 19452.1,1423.18 19383.1,1423.18 \"/>\n",
       "<path clip-path=\"url(#clip652)\" d=\"M19452.1 1423.18 L19452.1 1423.18 L19521.1 1423.18 L19521.1 1423.18 L19452.1 1423.18 L19452.1 1423.18  Z\" fill=\"#009af9\" fill-rule=\"evenodd\" fill-opacity=\"1\"/>\n",
       "<polyline clip-path=\"url(#clip652)\" style=\"stroke:#000000; stroke-linecap:round; stroke-linejoin:round; stroke-width:4; stroke-opacity:1; fill:none\" points=\"19452.1,1423.18 19452.1,1423.18 19521.1,1423.18 19452.1,1423.18 \"/>\n",
       "<path clip-path=\"url(#clip652)\" d=\"M19521.1 1423.18 L19521.1 1423.18 L19590.1 1423.18 L19590.1 1423.18 L19521.1 1423.18 L19521.1 1423.18  Z\" fill=\"#009af9\" fill-rule=\"evenodd\" fill-opacity=\"1\"/>\n",
       "<polyline clip-path=\"url(#clip652)\" style=\"stroke:#000000; stroke-linecap:round; stroke-linejoin:round; stroke-width:4; stroke-opacity:1; fill:none\" points=\"19521.1,1423.18 19521.1,1423.18 19590.1,1423.18 19521.1,1423.18 \"/>\n",
       "<path clip-path=\"url(#clip652)\" d=\"M19590.1 1423.18 L19590.1 1423.18 L19659.1 1423.18 L19659.1 1423.18 L19590.1 1423.18 L19590.1 1423.18  Z\" fill=\"#009af9\" fill-rule=\"evenodd\" fill-opacity=\"1\"/>\n",
       "<polyline clip-path=\"url(#clip652)\" style=\"stroke:#000000; stroke-linecap:round; stroke-linejoin:round; stroke-width:4; stroke-opacity:1; fill:none\" points=\"19590.1,1423.18 19590.1,1423.18 19659.1,1423.18 19590.1,1423.18 \"/>\n",
       "<path clip-path=\"url(#clip652)\" d=\"M19659.1 1423.18 L19659.1 1423.18 L19728 1423.18 L19728 1423.18 L19659.1 1423.18 L19659.1 1423.18  Z\" fill=\"#009af9\" fill-rule=\"evenodd\" fill-opacity=\"1\"/>\n",
       "<polyline clip-path=\"url(#clip652)\" style=\"stroke:#000000; stroke-linecap:round; stroke-linejoin:round; stroke-width:4; stroke-opacity:1; fill:none\" points=\"19659.1,1423.18 19659.1,1423.18 19728,1423.18 19659.1,1423.18 \"/>\n",
       "<path clip-path=\"url(#clip652)\" d=\"M19728 1423.18 L19728 1423.18 L19797 1423.18 L19797 1423.18 L19728 1423.18 L19728 1423.18  Z\" fill=\"#009af9\" fill-rule=\"evenodd\" fill-opacity=\"1\"/>\n",
       "<polyline clip-path=\"url(#clip652)\" style=\"stroke:#000000; stroke-linecap:round; stroke-linejoin:round; stroke-width:4; stroke-opacity:1; fill:none\" points=\"19728,1423.18 19728,1423.18 19797,1423.18 19728,1423.18 \"/>\n",
       "<path clip-path=\"url(#clip652)\" d=\"M19797 1423.18 L19797 1423.18 L19866 1423.18 L19866 1423.18 L19797 1423.18 L19797 1423.18  Z\" fill=\"#009af9\" fill-rule=\"evenodd\" fill-opacity=\"1\"/>\n",
       "<polyline clip-path=\"url(#clip652)\" style=\"stroke:#000000; stroke-linecap:round; stroke-linejoin:round; stroke-width:4; stroke-opacity:1; fill:none\" points=\"19797,1423.18 19797,1423.18 19866,1423.18 19797,1423.18 \"/>\n",
       "<path clip-path=\"url(#clip652)\" d=\"M19866 1423.18 L19866 1423.18 L19935 1423.18 L19935 1423.18 L19866 1423.18 L19866 1423.18  Z\" fill=\"#009af9\" fill-rule=\"evenodd\" fill-opacity=\"1\"/>\n",
       "<polyline clip-path=\"url(#clip652)\" style=\"stroke:#000000; stroke-linecap:round; stroke-linejoin:round; stroke-width:4; stroke-opacity:1; fill:none\" points=\"19866,1423.18 19866,1423.18 19935,1423.18 19866,1423.18 \"/>\n",
       "<path clip-path=\"url(#clip652)\" d=\"M19935 1423.18 L19935 1423.18 L20004 1423.18 L20004 1423.18 L19935 1423.18 L19935 1423.18  Z\" fill=\"#009af9\" fill-rule=\"evenodd\" fill-opacity=\"1\"/>\n",
       "<polyline clip-path=\"url(#clip652)\" style=\"stroke:#000000; stroke-linecap:round; stroke-linejoin:round; stroke-width:4; stroke-opacity:1; fill:none\" points=\"19935,1423.18 19935,1423.18 20004,1423.18 19935,1423.18 \"/>\n",
       "<path clip-path=\"url(#clip652)\" d=\"M20004 1423.18 L20004 1423.18 L20072.9 1423.18 L20072.9 1423.18 L20004 1423.18 L20004 1423.18  Z\" fill=\"#009af9\" fill-rule=\"evenodd\" fill-opacity=\"1\"/>\n",
       "<polyline clip-path=\"url(#clip652)\" style=\"stroke:#000000; stroke-linecap:round; stroke-linejoin:round; stroke-width:4; stroke-opacity:1; fill:none\" points=\"20004,1423.18 20004,1423.18 20072.9,1423.18 20004,1423.18 \"/>\n",
       "<path clip-path=\"url(#clip652)\" d=\"M20072.9 1423.18 L20072.9 1423.18 L20141.9 1423.18 L20141.9 1423.18 L20072.9 1423.18 L20072.9 1423.18  Z\" fill=\"#009af9\" fill-rule=\"evenodd\" fill-opacity=\"1\"/>\n",
       "<polyline clip-path=\"url(#clip652)\" style=\"stroke:#000000; stroke-linecap:round; stroke-linejoin:round; stroke-width:4; stroke-opacity:1; fill:none\" points=\"20072.9,1423.18 20072.9,1423.18 20141.9,1423.18 20072.9,1423.18 \"/>\n",
       "<path clip-path=\"url(#clip652)\" d=\"M20141.9 1423.18 L20141.9 1423.18 L20210.9 1423.18 L20210.9 1423.18 L20141.9 1423.18 L20141.9 1423.18  Z\" fill=\"#009af9\" fill-rule=\"evenodd\" fill-opacity=\"1\"/>\n",
       "<polyline clip-path=\"url(#clip652)\" style=\"stroke:#000000; stroke-linecap:round; stroke-linejoin:round; stroke-width:4; stroke-opacity:1; fill:none\" points=\"20141.9,1423.18 20141.9,1423.18 20210.9,1423.18 20141.9,1423.18 \"/>\n",
       "<path clip-path=\"url(#clip652)\" d=\"M20210.9 1423.18 L20210.9 1423.18 L20279.9 1423.18 L20279.9 1423.18 L20210.9 1423.18 L20210.9 1423.18  Z\" fill=\"#009af9\" fill-rule=\"evenodd\" fill-opacity=\"1\"/>\n",
       "<polyline clip-path=\"url(#clip652)\" style=\"stroke:#000000; stroke-linecap:round; stroke-linejoin:round; stroke-width:4; stroke-opacity:1; fill:none\" points=\"20210.9,1423.18 20210.9,1423.18 20279.9,1423.18 20210.9,1423.18 \"/>\n",
       "<path clip-path=\"url(#clip652)\" d=\"M20279.9 1423.18 L20279.9 1423.18 L20348.9 1423.18 L20348.9 1423.18 L20279.9 1423.18 L20279.9 1423.18  Z\" fill=\"#009af9\" fill-rule=\"evenodd\" fill-opacity=\"1\"/>\n",
       "<polyline clip-path=\"url(#clip652)\" style=\"stroke:#000000; stroke-linecap:round; stroke-linejoin:round; stroke-width:4; stroke-opacity:1; fill:none\" points=\"20279.9,1423.18 20279.9,1423.18 20348.9,1423.18 20279.9,1423.18 \"/>\n",
       "<path clip-path=\"url(#clip652)\" d=\"M20348.9 1423.18 L20348.9 1423.18 L20417.8 1423.18 L20417.8 1423.18 L20348.9 1423.18 L20348.9 1423.18  Z\" fill=\"#009af9\" fill-rule=\"evenodd\" fill-opacity=\"1\"/>\n",
       "<polyline clip-path=\"url(#clip652)\" style=\"stroke:#000000; stroke-linecap:round; stroke-linejoin:round; stroke-width:4; stroke-opacity:1; fill:none\" points=\"20348.9,1423.18 20348.9,1423.18 20417.8,1423.18 20348.9,1423.18 \"/>\n",
       "<path clip-path=\"url(#clip652)\" d=\"M20417.8 1423.18 L20417.8 1423.18 L20486.8 1423.18 L20486.8 1423.18 L20417.8 1423.18 L20417.8 1423.18  Z\" fill=\"#009af9\" fill-rule=\"evenodd\" fill-opacity=\"1\"/>\n",
       "<polyline clip-path=\"url(#clip652)\" style=\"stroke:#000000; stroke-linecap:round; stroke-linejoin:round; stroke-width:4; stroke-opacity:1; fill:none\" points=\"20417.8,1423.18 20417.8,1423.18 20486.8,1423.18 20417.8,1423.18 \"/>\n",
       "<path clip-path=\"url(#clip652)\" d=\"M20486.8 1423.18 L20486.8 1423.18 L20555.8 1423.18 L20555.8 1423.18 L20486.8 1423.18 L20486.8 1423.18  Z\" fill=\"#009af9\" fill-rule=\"evenodd\" fill-opacity=\"1\"/>\n",
       "<polyline clip-path=\"url(#clip652)\" style=\"stroke:#000000; stroke-linecap:round; stroke-linejoin:round; stroke-width:4; stroke-opacity:1; fill:none\" points=\"20486.8,1423.18 20486.8,1423.18 20555.8,1423.18 20486.8,1423.18 \"/>\n",
       "<path clip-path=\"url(#clip652)\" d=\"M20555.8 1423.18 L20555.8 1423.18 L20624.8 1423.18 L20624.8 1423.18 L20555.8 1423.18 L20555.8 1423.18  Z\" fill=\"#009af9\" fill-rule=\"evenodd\" fill-opacity=\"1\"/>\n",
       "<polyline clip-path=\"url(#clip652)\" style=\"stroke:#000000; stroke-linecap:round; stroke-linejoin:round; stroke-width:4; stroke-opacity:1; fill:none\" points=\"20555.8,1423.18 20555.8,1423.18 20624.8,1423.18 20555.8,1423.18 \"/>\n",
       "<path clip-path=\"url(#clip652)\" d=\"M20624.8 1423.18 L20624.8 1423.18 L20693.8 1423.18 L20693.8 1423.18 L20624.8 1423.18 L20624.8 1423.18  Z\" fill=\"#009af9\" fill-rule=\"evenodd\" fill-opacity=\"1\"/>\n",
       "<polyline clip-path=\"url(#clip652)\" style=\"stroke:#000000; stroke-linecap:round; stroke-linejoin:round; stroke-width:4; stroke-opacity:1; fill:none\" points=\"20624.8,1423.18 20624.8,1423.18 20693.8,1423.18 20624.8,1423.18 \"/>\n",
       "<path clip-path=\"url(#clip652)\" d=\"M20693.8 1423.18 L20693.8 1423.18 L20762.8 1423.18 L20762.8 1423.18 L20693.8 1423.18 L20693.8 1423.18  Z\" fill=\"#009af9\" fill-rule=\"evenodd\" fill-opacity=\"1\"/>\n",
       "<polyline clip-path=\"url(#clip652)\" style=\"stroke:#000000; stroke-linecap:round; stroke-linejoin:round; stroke-width:4; stroke-opacity:1; fill:none\" points=\"20693.8,1423.18 20693.8,1423.18 20762.8,1423.18 20693.8,1423.18 \"/>\n",
       "<path clip-path=\"url(#clip652)\" d=\"M20762.8 1423.18 L20762.8 1423.18 L20831.7 1423.18 L20831.7 1423.18 L20762.8 1423.18 L20762.8 1423.18  Z\" fill=\"#009af9\" fill-rule=\"evenodd\" fill-opacity=\"1\"/>\n",
       "<polyline clip-path=\"url(#clip652)\" style=\"stroke:#000000; stroke-linecap:round; stroke-linejoin:round; stroke-width:4; stroke-opacity:1; fill:none\" points=\"20762.8,1423.18 20762.8,1423.18 20831.7,1423.18 20762.8,1423.18 \"/>\n",
       "<path clip-path=\"url(#clip652)\" d=\"M20831.7 1423.18 L20831.7 1423.18 L20900.7 1423.18 L20900.7 1423.18 L20831.7 1423.18 L20831.7 1423.18  Z\" fill=\"#009af9\" fill-rule=\"evenodd\" fill-opacity=\"1\"/>\n",
       "<polyline clip-path=\"url(#clip652)\" style=\"stroke:#000000; stroke-linecap:round; stroke-linejoin:round; stroke-width:4; stroke-opacity:1; fill:none\" points=\"20831.7,1423.18 20831.7,1423.18 20900.7,1423.18 20831.7,1423.18 \"/>\n",
       "<path clip-path=\"url(#clip652)\" d=\"M20900.7 1423.18 L20900.7 1423.18 L20969.7 1423.18 L20969.7 1423.18 L20900.7 1423.18 L20900.7 1423.18  Z\" fill=\"#009af9\" fill-rule=\"evenodd\" fill-opacity=\"1\"/>\n",
       "<polyline clip-path=\"url(#clip652)\" style=\"stroke:#000000; stroke-linecap:round; stroke-linejoin:round; stroke-width:4; stroke-opacity:1; fill:none\" points=\"20900.7,1423.18 20900.7,1423.18 20969.7,1423.18 20900.7,1423.18 \"/>\n",
       "<path clip-path=\"url(#clip652)\" d=\"M20969.7 1423.18 L20969.7 1423.18 L21038.7 1423.18 L21038.7 1423.18 L20969.7 1423.18 L20969.7 1423.18  Z\" fill=\"#009af9\" fill-rule=\"evenodd\" fill-opacity=\"1\"/>\n",
       "<polyline clip-path=\"url(#clip652)\" style=\"stroke:#000000; stroke-linecap:round; stroke-linejoin:round; stroke-width:4; stroke-opacity:1; fill:none\" points=\"20969.7,1423.18 20969.7,1423.18 21038.7,1423.18 20969.7,1423.18 \"/>\n",
       "<path clip-path=\"url(#clip652)\" d=\"M21038.7 1423.18 L21038.7 1423.18 L21107.7 1423.18 L21107.7 1423.18 L21038.7 1423.18 L21038.7 1423.18  Z\" fill=\"#009af9\" fill-rule=\"evenodd\" fill-opacity=\"1\"/>\n",
       "<polyline clip-path=\"url(#clip652)\" style=\"stroke:#000000; stroke-linecap:round; stroke-linejoin:round; stroke-width:4; stroke-opacity:1; fill:none\" points=\"21038.7,1423.18 21038.7,1423.18 21107.7,1423.18 21038.7,1423.18 \"/>\n",
       "<path clip-path=\"url(#clip652)\" d=\"M21107.7 1423.18 L21107.7 1423.18 L21176.6 1423.18 L21176.6 1423.18 L21107.7 1423.18 L21107.7 1423.18  Z\" fill=\"#009af9\" fill-rule=\"evenodd\" fill-opacity=\"1\"/>\n",
       "<polyline clip-path=\"url(#clip652)\" style=\"stroke:#000000; stroke-linecap:round; stroke-linejoin:round; stroke-width:4; stroke-opacity:1; fill:none\" points=\"21107.7,1423.18 21107.7,1423.18 21176.6,1423.18 21107.7,1423.18 \"/>\n",
       "<path clip-path=\"url(#clip652)\" d=\"M21176.6 1423.18 L21176.6 1423.18 L21245.6 1423.18 L21245.6 1423.18 L21176.6 1423.18 L21176.6 1423.18  Z\" fill=\"#009af9\" fill-rule=\"evenodd\" fill-opacity=\"1\"/>\n",
       "<polyline clip-path=\"url(#clip652)\" style=\"stroke:#000000; stroke-linecap:round; stroke-linejoin:round; stroke-width:4; stroke-opacity:1; fill:none\" points=\"21176.6,1423.18 21176.6,1423.18 21245.6,1423.18 21176.6,1423.18 \"/>\n",
       "<path clip-path=\"url(#clip652)\" d=\"M21245.6 1423.18 L21245.6 1423.18 L21314.6 1423.18 L21314.6 1423.18 L21245.6 1423.18 L21245.6 1423.18  Z\" fill=\"#009af9\" fill-rule=\"evenodd\" fill-opacity=\"1\"/>\n",
       "<polyline clip-path=\"url(#clip652)\" style=\"stroke:#000000; stroke-linecap:round; stroke-linejoin:round; stroke-width:4; stroke-opacity:1; fill:none\" points=\"21245.6,1423.18 21245.6,1423.18 21314.6,1423.18 21245.6,1423.18 \"/>\n",
       "<path clip-path=\"url(#clip652)\" d=\"M21314.6 1423.18 L21314.6 1423.18 L21383.6 1423.18 L21383.6 1423.18 L21314.6 1423.18 L21314.6 1423.18  Z\" fill=\"#009af9\" fill-rule=\"evenodd\" fill-opacity=\"1\"/>\n",
       "<polyline clip-path=\"url(#clip652)\" style=\"stroke:#000000; stroke-linecap:round; stroke-linejoin:round; stroke-width:4; stroke-opacity:1; fill:none\" points=\"21314.6,1423.18 21314.6,1423.18 21383.6,1423.18 21314.6,1423.18 \"/>\n",
       "<path clip-path=\"url(#clip652)\" d=\"M21383.6 1423.18 L21383.6 1423.18 L21452.6 1423.18 L21452.6 1423.18 L21383.6 1423.18 L21383.6 1423.18  Z\" fill=\"#009af9\" fill-rule=\"evenodd\" fill-opacity=\"1\"/>\n",
       "<polyline clip-path=\"url(#clip652)\" style=\"stroke:#000000; stroke-linecap:round; stroke-linejoin:round; stroke-width:4; stroke-opacity:1; fill:none\" points=\"21383.6,1423.18 21383.6,1423.18 21452.6,1423.18 21383.6,1423.18 \"/>\n",
       "<path clip-path=\"url(#clip652)\" d=\"M21452.6 1423.18 L21452.6 1423.18 L21521.5 1423.18 L21521.5 1423.18 L21452.6 1423.18 L21452.6 1423.18  Z\" fill=\"#009af9\" fill-rule=\"evenodd\" fill-opacity=\"1\"/>\n",
       "<polyline clip-path=\"url(#clip652)\" style=\"stroke:#000000; stroke-linecap:round; stroke-linejoin:round; stroke-width:4; stroke-opacity:1; fill:none\" points=\"21452.6,1423.18 21452.6,1423.18 21521.5,1423.18 21452.6,1423.18 \"/>\n",
       "<path clip-path=\"url(#clip652)\" d=\"M21521.5 1423.18 L21521.5 1423.18 L21590.5 1423.18 L21590.5 1423.18 L21521.5 1423.18 L21521.5 1423.18  Z\" fill=\"#009af9\" fill-rule=\"evenodd\" fill-opacity=\"1\"/>\n",
       "<polyline clip-path=\"url(#clip652)\" style=\"stroke:#000000; stroke-linecap:round; stroke-linejoin:round; stroke-width:4; stroke-opacity:1; fill:none\" points=\"21521.5,1423.18 21521.5,1423.18 21590.5,1423.18 21521.5,1423.18 \"/>\n",
       "<path clip-path=\"url(#clip652)\" d=\"M21590.5 1423.18 L21590.5 1423.18 L21659.5 1423.18 L21659.5 1423.18 L21590.5 1423.18 L21590.5 1423.18  Z\" fill=\"#009af9\" fill-rule=\"evenodd\" fill-opacity=\"1\"/>\n",
       "<polyline clip-path=\"url(#clip652)\" style=\"stroke:#000000; stroke-linecap:round; stroke-linejoin:round; stroke-width:4; stroke-opacity:1; fill:none\" points=\"21590.5,1423.18 21590.5,1423.18 21659.5,1423.18 21590.5,1423.18 \"/>\n",
       "<path clip-path=\"url(#clip652)\" d=\"M21659.5 1423.18 L21659.5 1423.18 L21728.5 1423.18 L21728.5 1423.18 L21659.5 1423.18 L21659.5 1423.18  Z\" fill=\"#009af9\" fill-rule=\"evenodd\" fill-opacity=\"1\"/>\n",
       "<polyline clip-path=\"url(#clip652)\" style=\"stroke:#000000; stroke-linecap:round; stroke-linejoin:round; stroke-width:4; stroke-opacity:1; fill:none\" points=\"21659.5,1423.18 21659.5,1423.18 21728.5,1423.18 21659.5,1423.18 \"/>\n",
       "<path clip-path=\"url(#clip652)\" d=\"M21728.5 1423.18 L21728.5 1423.18 L21797.5 1423.18 L21797.5 1423.18 L21728.5 1423.18 L21728.5 1423.18  Z\" fill=\"#009af9\" fill-rule=\"evenodd\" fill-opacity=\"1\"/>\n",
       "<polyline clip-path=\"url(#clip652)\" style=\"stroke:#000000; stroke-linecap:round; stroke-linejoin:round; stroke-width:4; stroke-opacity:1; fill:none\" points=\"21728.5,1423.18 21728.5,1423.18 21797.5,1423.18 21728.5,1423.18 \"/>\n",
       "<path clip-path=\"url(#clip652)\" d=\"M21797.5 1423.18 L21797.5 1423.18 L21866.5 1423.18 L21866.5 1423.18 L21797.5 1423.18 L21797.5 1423.18  Z\" fill=\"#009af9\" fill-rule=\"evenodd\" fill-opacity=\"1\"/>\n",
       "<polyline clip-path=\"url(#clip652)\" style=\"stroke:#000000; stroke-linecap:round; stroke-linejoin:round; stroke-width:4; stroke-opacity:1; fill:none\" points=\"21797.5,1423.18 21797.5,1423.18 21866.5,1423.18 21797.5,1423.18 \"/>\n",
       "<path clip-path=\"url(#clip652)\" d=\"M21866.5 1423.18 L21866.5 1423.18 L21935.4 1423.18 L21935.4 1423.18 L21866.5 1423.18 L21866.5 1423.18  Z\" fill=\"#009af9\" fill-rule=\"evenodd\" fill-opacity=\"1\"/>\n",
       "<polyline clip-path=\"url(#clip652)\" style=\"stroke:#000000; stroke-linecap:round; stroke-linejoin:round; stroke-width:4; stroke-opacity:1; fill:none\" points=\"21866.5,1423.18 21866.5,1423.18 21935.4,1423.18 21866.5,1423.18 \"/>\n",
       "<path clip-path=\"url(#clip652)\" d=\"M21935.4 1423.18 L21935.4 1423.18 L22004.4 1423.18 L22004.4 1423.18 L21935.4 1423.18 L21935.4 1423.18  Z\" fill=\"#009af9\" fill-rule=\"evenodd\" fill-opacity=\"1\"/>\n",
       "<polyline clip-path=\"url(#clip652)\" style=\"stroke:#000000; stroke-linecap:round; stroke-linejoin:round; stroke-width:4; stroke-opacity:1; fill:none\" points=\"21935.4,1423.18 21935.4,1423.18 22004.4,1423.18 21935.4,1423.18 \"/>\n",
       "<path clip-path=\"url(#clip652)\" d=\"M22004.4 1423.18 L22004.4 1423.18 L22073.4 1423.18 L22073.4 1423.18 L22004.4 1423.18 L22004.4 1423.18  Z\" fill=\"#009af9\" fill-rule=\"evenodd\" fill-opacity=\"1\"/>\n",
       "<polyline clip-path=\"url(#clip652)\" style=\"stroke:#000000; stroke-linecap:round; stroke-linejoin:round; stroke-width:4; stroke-opacity:1; fill:none\" points=\"22004.4,1423.18 22004.4,1423.18 22073.4,1423.18 22004.4,1423.18 \"/>\n",
       "<path clip-path=\"url(#clip652)\" d=\"M22073.4 1423.18 L22073.4 1423.18 L22142.4 1423.18 L22142.4 1423.18 L22073.4 1423.18 L22073.4 1423.18  Z\" fill=\"#009af9\" fill-rule=\"evenodd\" fill-opacity=\"1\"/>\n",
       "<polyline clip-path=\"url(#clip652)\" style=\"stroke:#000000; stroke-linecap:round; stroke-linejoin:round; stroke-width:4; stroke-opacity:1; fill:none\" points=\"22073.4,1423.18 22073.4,1423.18 22142.4,1423.18 22073.4,1423.18 \"/>\n",
       "<path clip-path=\"url(#clip652)\" d=\"M22142.4 1423.18 L22142.4 1423.18 L22211.4 1423.18 L22211.4 1423.18 L22142.4 1423.18 L22142.4 1423.18  Z\" fill=\"#009af9\" fill-rule=\"evenodd\" fill-opacity=\"1\"/>\n",
       "<polyline clip-path=\"url(#clip652)\" style=\"stroke:#000000; stroke-linecap:round; stroke-linejoin:round; stroke-width:4; stroke-opacity:1; fill:none\" points=\"22142.4,1423.18 22142.4,1423.18 22211.4,1423.18 22142.4,1423.18 \"/>\n",
       "<path clip-path=\"url(#clip652)\" d=\"M22211.4 1423.18 L22211.4 1423.18 L22280.3 1423.18 L22280.3 1423.18 L22211.4 1423.18 L22211.4 1423.18  Z\" fill=\"#009af9\" fill-rule=\"evenodd\" fill-opacity=\"1\"/>\n",
       "<polyline clip-path=\"url(#clip652)\" style=\"stroke:#000000; stroke-linecap:round; stroke-linejoin:round; stroke-width:4; stroke-opacity:1; fill:none\" points=\"22211.4,1423.18 22211.4,1423.18 22280.3,1423.18 22211.4,1423.18 \"/>\n",
       "<path clip-path=\"url(#clip652)\" d=\"M22280.3 1423.18 L22280.3 1423.18 L22349.3 1423.18 L22349.3 1423.18 L22280.3 1423.18 L22280.3 1423.18  Z\" fill=\"#009af9\" fill-rule=\"evenodd\" fill-opacity=\"1\"/>\n",
       "<polyline clip-path=\"url(#clip652)\" style=\"stroke:#000000; stroke-linecap:round; stroke-linejoin:round; stroke-width:4; stroke-opacity:1; fill:none\" points=\"22280.3,1423.18 22280.3,1423.18 22349.3,1423.18 22280.3,1423.18 \"/>\n",
       "<path clip-path=\"url(#clip652)\" d=\"M22349.3 1423.18 L22349.3 1423.18 L22418.3 1423.18 L22418.3 1423.18 L22349.3 1423.18 L22349.3 1423.18  Z\" fill=\"#009af9\" fill-rule=\"evenodd\" fill-opacity=\"1\"/>\n",
       "<polyline clip-path=\"url(#clip652)\" style=\"stroke:#000000; stroke-linecap:round; stroke-linejoin:round; stroke-width:4; stroke-opacity:1; fill:none\" points=\"22349.3,1423.18 22349.3,1423.18 22418.3,1423.18 22349.3,1423.18 \"/>\n",
       "<path clip-path=\"url(#clip652)\" d=\"M22418.3 1423.18 L22418.3 1423.18 L22487.3 1423.18 L22487.3 1423.18 L22418.3 1423.18 L22418.3 1423.18  Z\" fill=\"#009af9\" fill-rule=\"evenodd\" fill-opacity=\"1\"/>\n",
       "<polyline clip-path=\"url(#clip652)\" style=\"stroke:#000000; stroke-linecap:round; stroke-linejoin:round; stroke-width:4; stroke-opacity:1; fill:none\" points=\"22418.3,1423.18 22418.3,1423.18 22487.3,1423.18 22418.3,1423.18 \"/>\n",
       "<path clip-path=\"url(#clip652)\" d=\"M22487.3 1423.18 L22487.3 1423.18 L22556.3 1423.18 L22556.3 1423.18 L22487.3 1423.18 L22487.3 1423.18  Z\" fill=\"#009af9\" fill-rule=\"evenodd\" fill-opacity=\"1\"/>\n",
       "<polyline clip-path=\"url(#clip652)\" style=\"stroke:#000000; stroke-linecap:round; stroke-linejoin:round; stroke-width:4; stroke-opacity:1; fill:none\" points=\"22487.3,1423.18 22487.3,1423.18 22556.3,1423.18 22487.3,1423.18 \"/>\n",
       "<path clip-path=\"url(#clip652)\" d=\"M22556.3 1423.18 L22556.3 1423.18 L22625.2 1423.18 L22625.2 1423.18 L22556.3 1423.18 L22556.3 1423.18  Z\" fill=\"#009af9\" fill-rule=\"evenodd\" fill-opacity=\"1\"/>\n",
       "<polyline clip-path=\"url(#clip652)\" style=\"stroke:#000000; stroke-linecap:round; stroke-linejoin:round; stroke-width:4; stroke-opacity:1; fill:none\" points=\"22556.3,1423.18 22556.3,1423.18 22625.2,1423.18 22556.3,1423.18 \"/>\n",
       "<path clip-path=\"url(#clip652)\" d=\"M22625.2 1423.18 L22625.2 1423.18 L22694.2 1423.18 L22694.2 1423.18 L22625.2 1423.18 L22625.2 1423.18  Z\" fill=\"#009af9\" fill-rule=\"evenodd\" fill-opacity=\"1\"/>\n",
       "<polyline clip-path=\"url(#clip652)\" style=\"stroke:#000000; stroke-linecap:round; stroke-linejoin:round; stroke-width:4; stroke-opacity:1; fill:none\" points=\"22625.2,1423.18 22625.2,1423.18 22694.2,1423.18 22625.2,1423.18 \"/>\n",
       "<path clip-path=\"url(#clip652)\" d=\"M22694.2 1423.18 L22694.2 1423.18 L22763.2 1423.18 L22763.2 1423.18 L22694.2 1423.18 L22694.2 1423.18  Z\" fill=\"#009af9\" fill-rule=\"evenodd\" fill-opacity=\"1\"/>\n",
       "<polyline clip-path=\"url(#clip652)\" style=\"stroke:#000000; stroke-linecap:round; stroke-linejoin:round; stroke-width:4; stroke-opacity:1; fill:none\" points=\"22694.2,1423.18 22694.2,1423.18 22763.2,1423.18 22694.2,1423.18 \"/>\n",
       "<path clip-path=\"url(#clip652)\" d=\"M22763.2 1423.18 L22763.2 1423.18 L22832.2 1423.18 L22832.2 1423.18 L22763.2 1423.18 L22763.2 1423.18  Z\" fill=\"#009af9\" fill-rule=\"evenodd\" fill-opacity=\"1\"/>\n",
       "<polyline clip-path=\"url(#clip652)\" style=\"stroke:#000000; stroke-linecap:round; stroke-linejoin:round; stroke-width:4; stroke-opacity:1; fill:none\" points=\"22763.2,1423.18 22763.2,1423.18 22832.2,1423.18 22763.2,1423.18 \"/>\n",
       "<path clip-path=\"url(#clip652)\" d=\"M22832.2 1423.18 L22832.2 1423.18 L22901.2 1423.18 L22901.2 1423.18 L22832.2 1423.18 L22832.2 1423.18  Z\" fill=\"#009af9\" fill-rule=\"evenodd\" fill-opacity=\"1\"/>\n",
       "<polyline clip-path=\"url(#clip652)\" style=\"stroke:#000000; stroke-linecap:round; stroke-linejoin:round; stroke-width:4; stroke-opacity:1; fill:none\" points=\"22832.2,1423.18 22832.2,1423.18 22901.2,1423.18 22832.2,1423.18 \"/>\n",
       "<path clip-path=\"url(#clip652)\" d=\"M22901.2 1423.18 L22901.2 1423.18 L22970.1 1423.18 L22970.1 1423.18 L22901.2 1423.18 L22901.2 1423.18  Z\" fill=\"#009af9\" fill-rule=\"evenodd\" fill-opacity=\"1\"/>\n",
       "<polyline clip-path=\"url(#clip652)\" style=\"stroke:#000000; stroke-linecap:round; stroke-linejoin:round; stroke-width:4; stroke-opacity:1; fill:none\" points=\"22901.2,1423.18 22901.2,1423.18 22970.1,1423.18 22901.2,1423.18 \"/>\n",
       "<path clip-path=\"url(#clip652)\" d=\"M22970.1 1423.18 L22970.1 1423.18 L23039.1 1423.18 L23039.1 1423.18 L22970.1 1423.18 L22970.1 1423.18  Z\" fill=\"#009af9\" fill-rule=\"evenodd\" fill-opacity=\"1\"/>\n",
       "<polyline clip-path=\"url(#clip652)\" style=\"stroke:#000000; stroke-linecap:round; stroke-linejoin:round; stroke-width:4; stroke-opacity:1; fill:none\" points=\"22970.1,1423.18 22970.1,1423.18 23039.1,1423.18 22970.1,1423.18 \"/>\n",
       "<path clip-path=\"url(#clip652)\" d=\"M23039.1 1423.18 L23039.1 1423.18 L23108.1 1423.18 L23108.1 1423.18 L23039.1 1423.18 L23039.1 1423.18  Z\" fill=\"#009af9\" fill-rule=\"evenodd\" fill-opacity=\"1\"/>\n",
       "<polyline clip-path=\"url(#clip652)\" style=\"stroke:#000000; stroke-linecap:round; stroke-linejoin:round; stroke-width:4; stroke-opacity:1; fill:none\" points=\"23039.1,1423.18 23039.1,1423.18 23108.1,1423.18 23039.1,1423.18 \"/>\n",
       "<path clip-path=\"url(#clip652)\" d=\"M23108.1 1423.18 L23108.1 1423.18 L23177.1 1423.18 L23177.1 1423.18 L23108.1 1423.18 L23108.1 1423.18  Z\" fill=\"#009af9\" fill-rule=\"evenodd\" fill-opacity=\"1\"/>\n",
       "<polyline clip-path=\"url(#clip652)\" style=\"stroke:#000000; stroke-linecap:round; stroke-linejoin:round; stroke-width:4; stroke-opacity:1; fill:none\" points=\"23108.1,1423.18 23108.1,1423.18 23177.1,1423.18 23108.1,1423.18 \"/>\n",
       "<path clip-path=\"url(#clip652)\" d=\"M23177.1 1423.18 L23177.1 1423.18 L23246.1 1423.18 L23246.1 1423.18 L23177.1 1423.18 L23177.1 1423.18  Z\" fill=\"#009af9\" fill-rule=\"evenodd\" fill-opacity=\"1\"/>\n",
       "<polyline clip-path=\"url(#clip652)\" style=\"stroke:#000000; stroke-linecap:round; stroke-linejoin:round; stroke-width:4; stroke-opacity:1; fill:none\" points=\"23177.1,1423.18 23177.1,1423.18 23246.1,1423.18 23177.1,1423.18 \"/>\n",
       "<path clip-path=\"url(#clip652)\" d=\"M23246.1 1423.18 L23246.1 1423.18 L23315.1 1423.18 L23315.1 1423.18 L23246.1 1423.18 L23246.1 1423.18  Z\" fill=\"#009af9\" fill-rule=\"evenodd\" fill-opacity=\"1\"/>\n",
       "<polyline clip-path=\"url(#clip652)\" style=\"stroke:#000000; stroke-linecap:round; stroke-linejoin:round; stroke-width:4; stroke-opacity:1; fill:none\" points=\"23246.1,1423.18 23246.1,1423.18 23315.1,1423.18 23246.1,1423.18 \"/>\n",
       "<path clip-path=\"url(#clip652)\" d=\"M23315.1 1423.18 L23315.1 1423.18 L23384 1423.18 L23384 1423.18 L23315.1 1423.18 L23315.1 1423.18  Z\" fill=\"#009af9\" fill-rule=\"evenodd\" fill-opacity=\"1\"/>\n",
       "<polyline clip-path=\"url(#clip652)\" style=\"stroke:#000000; stroke-linecap:round; stroke-linejoin:round; stroke-width:4; stroke-opacity:1; fill:none\" points=\"23315.1,1423.18 23315.1,1423.18 23384,1423.18 23315.1,1423.18 \"/>\n",
       "<path clip-path=\"url(#clip652)\" d=\"M23384 1423.18 L23384 1423.18 L23453 1423.18 L23453 1423.18 L23384 1423.18 L23384 1423.18  Z\" fill=\"#009af9\" fill-rule=\"evenodd\" fill-opacity=\"1\"/>\n",
       "<polyline clip-path=\"url(#clip652)\" style=\"stroke:#000000; stroke-linecap:round; stroke-linejoin:round; stroke-width:4; stroke-opacity:1; fill:none\" points=\"23384,1423.18 23384,1423.18 23453,1423.18 23384,1423.18 \"/>\n",
       "<path clip-path=\"url(#clip652)\" d=\"M23453 1423.18 L23453 1423.18 L23522 1423.18 L23522 1423.18 L23453 1423.18 L23453 1423.18  Z\" fill=\"#009af9\" fill-rule=\"evenodd\" fill-opacity=\"1\"/>\n",
       "<polyline clip-path=\"url(#clip652)\" style=\"stroke:#000000; stroke-linecap:round; stroke-linejoin:round; stroke-width:4; stroke-opacity:1; fill:none\" points=\"23453,1423.18 23453,1423.18 23522,1423.18 23453,1423.18 \"/>\n",
       "<path clip-path=\"url(#clip652)\" d=\"M23522 1423.18 L23522 1423.18 L23591 1423.18 L23591 1423.18 L23522 1423.18 L23522 1423.18  Z\" fill=\"#009af9\" fill-rule=\"evenodd\" fill-opacity=\"1\"/>\n",
       "<polyline clip-path=\"url(#clip652)\" style=\"stroke:#000000; stroke-linecap:round; stroke-linejoin:round; stroke-width:4; stroke-opacity:1; fill:none\" points=\"23522,1423.18 23522,1423.18 23591,1423.18 23522,1423.18 \"/>\n",
       "<path clip-path=\"url(#clip652)\" d=\"M23591 1423.18 L23591 1423.18 L23660 1423.18 L23660 1423.18 L23591 1423.18 L23591 1423.18  Z\" fill=\"#009af9\" fill-rule=\"evenodd\" fill-opacity=\"1\"/>\n",
       "<polyline clip-path=\"url(#clip652)\" style=\"stroke:#000000; stroke-linecap:round; stroke-linejoin:round; stroke-width:4; stroke-opacity:1; fill:none\" points=\"23591,1423.18 23591,1423.18 23660,1423.18 23591,1423.18 \"/>\n",
       "<path clip-path=\"url(#clip652)\" d=\"M23660 1423.18 L23660 1423.18 L23728.9 1423.18 L23728.9 1423.18 L23660 1423.18 L23660 1423.18  Z\" fill=\"#009af9\" fill-rule=\"evenodd\" fill-opacity=\"1\"/>\n",
       "<polyline clip-path=\"url(#clip652)\" style=\"stroke:#000000; stroke-linecap:round; stroke-linejoin:round; stroke-width:4; stroke-opacity:1; fill:none\" points=\"23660,1423.18 23660,1423.18 23728.9,1423.18 23660,1423.18 \"/>\n",
       "<path clip-path=\"url(#clip652)\" d=\"M23728.9 1423.18 L23728.9 1423.18 L23797.9 1423.18 L23797.9 1423.18 L23728.9 1423.18 L23728.9 1423.18  Z\" fill=\"#009af9\" fill-rule=\"evenodd\" fill-opacity=\"1\"/>\n",
       "<polyline clip-path=\"url(#clip652)\" style=\"stroke:#000000; stroke-linecap:round; stroke-linejoin:round; stroke-width:4; stroke-opacity:1; fill:none\" points=\"23728.9,1423.18 23728.9,1423.18 23797.9,1423.18 23728.9,1423.18 \"/>\n",
       "<path clip-path=\"url(#clip652)\" d=\"M23797.9 1372.22 L23797.9 1423.18 L23866.9 1423.18 L23866.9 1372.22 L23797.9 1372.22 L23797.9 1372.22  Z\" fill=\"#009af9\" fill-rule=\"evenodd\" fill-opacity=\"1\"/>\n",
       "<polyline clip-path=\"url(#clip652)\" style=\"stroke:#000000; stroke-linecap:round; stroke-linejoin:round; stroke-width:4; stroke-opacity:1; fill:none\" points=\"23797.9,1372.22 23797.9,1423.18 23866.9,1423.18 23866.9,1372.22 23797.9,1372.22 \"/>\n",
       "<circle clip-path=\"url(#clip652)\" style=\"fill:#009af9; stroke:none; fill-opacity:0\" cx=\"240.886\" cy=\"1168.38\" r=\"2\"/>\n",
       "<circle clip-path=\"url(#clip652)\" style=\"fill:#009af9; stroke:none; fill-opacity:0\" cx=\"309.867\" cy=\"1117.42\" r=\"2\"/>\n",
       "<circle clip-path=\"url(#clip652)\" style=\"fill:#009af9; stroke:none; fill-opacity:0\" cx=\"378.848\" cy=\"913.574\" r=\"2\"/>\n",
       "<circle clip-path=\"url(#clip652)\" style=\"fill:#009af9; stroke:none; fill-opacity:0\" cx=\"447.829\" cy=\"658.771\" r=\"2\"/>\n",
       "<circle clip-path=\"url(#clip652)\" style=\"fill:#009af9; stroke:none; fill-opacity:0\" cx=\"516.81\" cy=\"251.086\" r=\"2\"/>\n",
       "<circle clip-path=\"url(#clip652)\" style=\"fill:#009af9; stroke:none; fill-opacity:0\" cx=\"585.791\" cy=\"302.047\" r=\"2\"/>\n",
       "<circle clip-path=\"url(#clip652)\" style=\"fill:#009af9; stroke:none; fill-opacity:0\" cx=\"654.772\" cy=\"454.929\" r=\"2\"/>\n",
       "<circle clip-path=\"url(#clip652)\" style=\"fill:#009af9; stroke:none; fill-opacity:0\" cx=\"723.753\" cy=\"302.047\" r=\"2\"/>\n",
       "<circle clip-path=\"url(#clip652)\" style=\"fill:#009af9; stroke:none; fill-opacity:0\" cx=\"792.734\" cy=\"505.889\" r=\"2\"/>\n",
       "<circle clip-path=\"url(#clip652)\" style=\"fill:#009af9; stroke:none; fill-opacity:0\" cx=\"861.715\" cy=\"47.2441\" r=\"2\"/>\n",
       "<circle clip-path=\"url(#clip652)\" style=\"fill:#009af9; stroke:none; fill-opacity:0\" cx=\"930.696\" cy=\"454.929\" r=\"2\"/>\n",
       "<circle clip-path=\"url(#clip652)\" style=\"fill:#009af9; stroke:none; fill-opacity:0\" cx=\"999.677\" cy=\"760.692\" r=\"2\"/>\n",
       "<circle clip-path=\"url(#clip652)\" style=\"fill:#009af9; stroke:none; fill-opacity:0\" cx=\"1068.66\" cy=\"556.85\" r=\"2\"/>\n",
       "<circle clip-path=\"url(#clip652)\" style=\"fill:#009af9; stroke:none; fill-opacity:0\" cx=\"1137.64\" cy=\"913.574\" r=\"2\"/>\n",
       "<circle clip-path=\"url(#clip652)\" style=\"fill:#009af9; stroke:none; fill-opacity:0\" cx=\"1206.62\" cy=\"760.692\" r=\"2\"/>\n",
       "<circle clip-path=\"url(#clip652)\" style=\"fill:#009af9; stroke:none; fill-opacity:0\" cx=\"1275.6\" cy=\"556.85\" r=\"2\"/>\n",
       "<circle clip-path=\"url(#clip652)\" style=\"fill:#009af9; stroke:none; fill-opacity:0\" cx=\"1344.58\" cy=\"811.653\" r=\"2\"/>\n",
       "<circle clip-path=\"url(#clip652)\" style=\"fill:#009af9; stroke:none; fill-opacity:0\" cx=\"1413.56\" cy=\"1066.46\" r=\"2\"/>\n",
       "<circle clip-path=\"url(#clip652)\" style=\"fill:#009af9; stroke:none; fill-opacity:0\" cx=\"1482.54\" cy=\"1066.46\" r=\"2\"/>\n",
       "<circle clip-path=\"url(#clip652)\" style=\"fill:#009af9; stroke:none; fill-opacity:0\" cx=\"1551.53\" cy=\"658.771\" r=\"2\"/>\n",
       "<circle clip-path=\"url(#clip652)\" style=\"fill:#009af9; stroke:none; fill-opacity:0\" cx=\"1620.51\" cy=\"964.535\" r=\"2\"/>\n",
       "<circle clip-path=\"url(#clip652)\" style=\"fill:#009af9; stroke:none; fill-opacity:0\" cx=\"1689.49\" cy=\"811.653\" r=\"2\"/>\n",
       "<circle clip-path=\"url(#clip652)\" style=\"fill:#009af9; stroke:none; fill-opacity:0\" cx=\"1758.47\" cy=\"1219.34\" r=\"2\"/>\n",
       "<circle clip-path=\"url(#clip652)\" style=\"fill:#009af9; stroke:none; fill-opacity:0\" cx=\"1827.45\" cy=\"1321.26\" r=\"2\"/>\n",
       "<circle clip-path=\"url(#clip652)\" style=\"fill:#009af9; stroke:none; fill-opacity:0\" cx=\"1896.43\" cy=\"1168.38\" r=\"2\"/>\n",
       "<circle clip-path=\"url(#clip652)\" style=\"fill:#009af9; stroke:none; fill-opacity:0\" cx=\"1965.41\" cy=\"1219.34\" r=\"2\"/>\n",
       "<circle clip-path=\"url(#clip652)\" style=\"fill:#009af9; stroke:none; fill-opacity:0\" cx=\"2034.39\" cy=\"1219.34\" r=\"2\"/>\n",
       "<circle clip-path=\"url(#clip652)\" style=\"fill:#009af9; stroke:none; fill-opacity:0\" cx=\"2103.37\" cy=\"1321.26\" r=\"2\"/>\n",
       "<circle clip-path=\"url(#clip652)\" style=\"fill:#009af9; stroke:none; fill-opacity:0\" cx=\"2172.36\" cy=\"1117.42\" r=\"2\"/>\n",
       "<circle clip-path=\"url(#clip652)\" style=\"fill:#009af9; stroke:none; fill-opacity:0\" cx=\"2241.34\" cy=\"1066.46\" r=\"2\"/>\n",
       "<circle clip-path=\"url(#clip652)\" style=\"fill:#009af9; stroke:none; fill-opacity:0\" cx=\"2310.32\" cy=\"1270.3\" r=\"2\"/>\n",
       "</svg>\n"
      ]
     },
     "execution_count": 18,
     "metadata": {},
     "output_type": "execute_result"
    }
   ],
   "source": [
    "using Statistics # bring in statistical support for standard deviations\n",
    "t = c_bench.times / 1e6 # times in milliseconds\n",
    "m, σ = minimum(t), std(t)\n",
    "\n",
    "histogram(t, bins=500,\n",
    "    xlim=(m - 0.01, m + σ),\n",
    "    xlabel=\"milliseconds\", ylabel=\"count\", label=\"\")"
   ]
  },
  {
   "cell_type": "markdown",
   "metadata": {},
   "source": [
    "# 2. C with -ffast-math\n",
    "\n",
    "If we allow C to re-arrange the floating point operations, then it'll vectorize with SIMD (single instruction, multiple data) instructions."
   ]
  },
  {
   "cell_type": "code",
   "execution_count": 19,
   "metadata": {},
   "outputs": [
    {
     "data": {
      "text/plain": [
       "c_sum_fastmath (generic function with 1 method)"
      ]
     },
     "execution_count": 19,
     "metadata": {},
     "output_type": "execute_result"
    }
   ],
   "source": [
    "const Clib_fastmath = tempname()   # make a temporary file\n",
    "\n",
    "# The same as above but with a -ffast-math flag added\n",
    "open(`gcc -fPIC -O3 -msse3 -xc -shared -ffast-math -o $(Clib_fastmath * \".\" * Libdl.dlext) -`, \"w\") do f\n",
    "    print(f, C_code) \n",
    "end\n",
    "\n",
    "# define a Julia function that calls the C function:\n",
    "c_sum_fastmath(X::Array{Float64}) = ccall((\"c_sum\", Clib_fastmath), Float64, (Csize_t, Ptr{Float64}), length(X), X)"
   ]
  },
  {
   "cell_type": "code",
   "execution_count": 20,
   "metadata": {},
   "outputs": [
    {
     "data": {
      "text/plain": [
       "BenchmarkTools.Trial: 890 samples with 1 evaluation.\n",
       " Range \u001b[90m(\u001b[39m\u001b[36m\u001b[1mmin\u001b[22m\u001b[39m … \u001b[35mmax\u001b[39m\u001b[90m):  \u001b[39m\u001b[36m\u001b[1m4.166 ms\u001b[22m\u001b[39m … \u001b[35m12.289 ms\u001b[39m  \u001b[90m┊\u001b[39m GC \u001b[90m(\u001b[39mmin … max\u001b[90m): \u001b[39m0.00% … 0.00%\n",
       " Time  \u001b[90m(\u001b[39m\u001b[34m\u001b[1mmedian\u001b[22m\u001b[39m\u001b[90m):     \u001b[39m\u001b[34m\u001b[1m5.150 ms              \u001b[22m\u001b[39m\u001b[90m┊\u001b[39m GC \u001b[90m(\u001b[39mmedian\u001b[90m):    \u001b[39m0.00%\n",
       " Time  \u001b[90m(\u001b[39m\u001b[32m\u001b[1mmean\u001b[22m\u001b[39m ± \u001b[32mσ\u001b[39m\u001b[90m):   \u001b[39m\u001b[32m\u001b[1m5.606 ms\u001b[22m\u001b[39m ± \u001b[32m 1.280 ms\u001b[39m  \u001b[90m┊\u001b[39m GC \u001b[90m(\u001b[39mmean ± σ\u001b[90m):  \u001b[39m0.00% ± 0.00%\n",
       "\n",
       "  \u001b[39m \u001b[39m▅\u001b[39m█\u001b[39m▆\u001b[39m▁\u001b[39m▂\u001b[39m▄\u001b[39m▃\u001b[39m▅\u001b[39m▂\u001b[34m▃\u001b[39m\u001b[39m \u001b[39m \u001b[39m \u001b[39m \u001b[32m \u001b[39m\u001b[39m \u001b[39m \u001b[39m \u001b[39m \u001b[39m \u001b[39m \u001b[39m \u001b[39m \u001b[39m \u001b[39m \u001b[39m \u001b[39m \u001b[39m \u001b[39m \u001b[39m \u001b[39m \u001b[39m \u001b[39m \u001b[39m \u001b[39m \u001b[39m \u001b[39m \u001b[39m \u001b[39m \u001b[39m \u001b[39m \u001b[39m \u001b[39m \u001b[39m \u001b[39m \u001b[39m \u001b[39m \u001b[39m \u001b[39m \u001b[39m \u001b[39m \u001b[39m \u001b[39m \u001b[39m \u001b[39m \u001b[39m \u001b[39m \u001b[39m \u001b[39m \n",
       "  \u001b[39m▅\u001b[39m█\u001b[39m█\u001b[39m█\u001b[39m█\u001b[39m█\u001b[39m█\u001b[39m█\u001b[39m█\u001b[39m█\u001b[34m█\u001b[39m\u001b[39m▇\u001b[39m▆\u001b[39m▆\u001b[39m▆\u001b[32m▆\u001b[39m\u001b[39m▆\u001b[39m▅\u001b[39m▇\u001b[39m▅\u001b[39m▆\u001b[39m▅\u001b[39m▅\u001b[39m▄\u001b[39m▅\u001b[39m▄\u001b[39m▅\u001b[39m▄\u001b[39m▄\u001b[39m▄\u001b[39m▄\u001b[39m▅\u001b[39m▅\u001b[39m▄\u001b[39m▄\u001b[39m▃\u001b[39m▄\u001b[39m▃\u001b[39m▃\u001b[39m▂\u001b[39m▂\u001b[39m▄\u001b[39m▃\u001b[39m▂\u001b[39m▃\u001b[39m▃\u001b[39m▃\u001b[39m▂\u001b[39m▃\u001b[39m▃\u001b[39m▃\u001b[39m▂\u001b[39m▂\u001b[39m▂\u001b[39m▁\u001b[39m▂\u001b[39m▂\u001b[39m▂\u001b[39m \u001b[39m▄\n",
       "  4.17 ms\u001b[90m        Histogram: frequency by time\u001b[39m        9.65 ms \u001b[0m\u001b[1m<\u001b[22m\n",
       "\n",
       " Memory estimate\u001b[90m: \u001b[39m\u001b[33m0 bytes\u001b[39m, allocs estimate\u001b[90m: \u001b[39m\u001b[33m0\u001b[39m."
      ]
     },
     "execution_count": 20,
     "metadata": {},
     "output_type": "execute_result"
    }
   ],
   "source": [
    "c_fastmath_bench = @benchmark $c_sum_fastmath($a)"
   ]
  },
  {
   "cell_type": "code",
   "execution_count": 21,
   "metadata": {},
   "outputs": [
    {
     "data": {
      "text/plain": [
       "4.166443"
      ]
     },
     "execution_count": 21,
     "metadata": {},
     "output_type": "execute_result"
    }
   ],
   "source": [
    "d[\"C -ffast-math\"] = minimum(c_fastmath_bench.times) / 1e6  # in milliseconds"
   ]
  },
  {
   "cell_type": "markdown",
   "metadata": {},
   "source": [
    "# 3. Python's built in `sum` "
   ]
  },
  {
   "cell_type": "markdown",
   "metadata": {},
   "source": [
    "The `PyCall` package provides a Julia interface to Python:"
   ]
  },
  {
   "cell_type": "code",
   "execution_count": 22,
   "metadata": {
    "scrolled": true
   },
   "outputs": [
    {
     "name": "stderr",
     "output_type": "stream",
     "text": [
      "\u001b[32m\u001b[1m   Resolving\u001b[22m\u001b[39m package versions...\n",
      "\u001b[32m\u001b[1m  No Changes\u001b[22m\u001b[39m to `~/Src/Introduction-to-Julia/Project.toml`\n",
      "\u001b[32m\u001b[1m  No Changes\u001b[22m\u001b[39m to `~/Src/Introduction-to-Julia/Manifest.toml`\n"
     ]
    }
   ],
   "source": [
    "using Pkg; Pkg.add(\"PyCall\")\n",
    "using PyCall"
   ]
  },
  {
   "cell_type": "code",
   "execution_count": 23,
   "metadata": {},
   "outputs": [
    {
     "data": {
      "text/plain": [
       "PyObject <built-in function sum>"
      ]
     },
     "execution_count": 23,
     "metadata": {},
     "output_type": "execute_result"
    }
   ],
   "source": [
    "# get the Python built-in \"sum\" function:\n",
    "pysum = pybuiltin(\"sum\")"
   ]
  },
  {
   "cell_type": "code",
   "execution_count": 24,
   "metadata": {},
   "outputs": [
    {
     "data": {
      "text/plain": [
       "5.000626451388183e6"
      ]
     },
     "execution_count": 24,
     "metadata": {},
     "output_type": "execute_result"
    }
   ],
   "source": [
    "pysum(a)"
   ]
  },
  {
   "cell_type": "code",
   "execution_count": 25,
   "metadata": {},
   "outputs": [
    {
     "data": {
      "text/plain": [
       "true"
      ]
     },
     "execution_count": 25,
     "metadata": {},
     "output_type": "execute_result"
    }
   ],
   "source": [
    "pysum(a) ≈ sum(a)"
   ]
  },
  {
   "cell_type": "code",
   "execution_count": 26,
   "metadata": {},
   "outputs": [
    {
     "data": {
      "text/plain": [
       "BenchmarkTools.Trial: 9 samples with 1 evaluation.\n",
       " Range \u001b[90m(\u001b[39m\u001b[36m\u001b[1mmin\u001b[22m\u001b[39m … \u001b[35mmax\u001b[39m\u001b[90m):  \u001b[39m\u001b[36m\u001b[1m576.654 ms\u001b[22m\u001b[39m … \u001b[35m588.622 ms\u001b[39m  \u001b[90m┊\u001b[39m GC \u001b[90m(\u001b[39mmin … max\u001b[90m): \u001b[39m0.00% … 0.00%\n",
       " Time  \u001b[90m(\u001b[39m\u001b[34m\u001b[1mmedian\u001b[22m\u001b[39m\u001b[90m):     \u001b[39m\u001b[34m\u001b[1m578.734 ms               \u001b[22m\u001b[39m\u001b[90m┊\u001b[39m GC \u001b[90m(\u001b[39mmedian\u001b[90m):    \u001b[39m0.00%\n",
       " Time  \u001b[90m(\u001b[39m\u001b[32m\u001b[1mmean\u001b[22m\u001b[39m ± \u001b[32mσ\u001b[39m\u001b[90m):   \u001b[39m\u001b[32m\u001b[1m579.515 ms\u001b[22m\u001b[39m ± \u001b[32m  3.821 ms\u001b[39m  \u001b[90m┊\u001b[39m GC \u001b[90m(\u001b[39mmean ± σ\u001b[90m):  \u001b[39m0.00% ± 0.00%\n",
       "\n",
       "  \u001b[39m█\u001b[39m▁\u001b[39m \u001b[39m \u001b[39m \u001b[39m \u001b[39m▁\u001b[34m \u001b[39m\u001b[39m \u001b[39m \u001b[39m▁\u001b[39m█\u001b[39m \u001b[39m \u001b[39m \u001b[32m \u001b[39m\u001b[39m \u001b[39m \u001b[39m \u001b[39m \u001b[39m \u001b[39m \u001b[39m \u001b[39m \u001b[39m \u001b[39m \u001b[39m \u001b[39m \u001b[39m▁\u001b[39m \u001b[39m \u001b[39m \u001b[39m \u001b[39m \u001b[39m \u001b[39m \u001b[39m \u001b[39m \u001b[39m \u001b[39m \u001b[39m \u001b[39m \u001b[39m \u001b[39m \u001b[39m \u001b[39m \u001b[39m \u001b[39m \u001b[39m \u001b[39m \u001b[39m \u001b[39m \u001b[39m \u001b[39m \u001b[39m \u001b[39m \u001b[39m \u001b[39m \u001b[39m \u001b[39m \u001b[39m▁\u001b[39m \u001b[39m \n",
       "  \u001b[39m█\u001b[39m█\u001b[39m▁\u001b[39m▁\u001b[39m▁\u001b[39m▁\u001b[39m█\u001b[34m▁\u001b[39m\u001b[39m▁\u001b[39m▁\u001b[39m█\u001b[39m█\u001b[39m▁\u001b[39m▁\u001b[39m▁\u001b[32m▁\u001b[39m\u001b[39m▁\u001b[39m▁\u001b[39m▁\u001b[39m▁\u001b[39m▁\u001b[39m▁\u001b[39m▁\u001b[39m▁\u001b[39m▁\u001b[39m▁\u001b[39m▁\u001b[39m▁\u001b[39m█\u001b[39m▁\u001b[39m▁\u001b[39m▁\u001b[39m▁\u001b[39m▁\u001b[39m▁\u001b[39m▁\u001b[39m▁\u001b[39m▁\u001b[39m▁\u001b[39m▁\u001b[39m▁\u001b[39m▁\u001b[39m▁\u001b[39m▁\u001b[39m▁\u001b[39m▁\u001b[39m▁\u001b[39m▁\u001b[39m▁\u001b[39m▁\u001b[39m▁\u001b[39m▁\u001b[39m▁\u001b[39m▁\u001b[39m▁\u001b[39m▁\u001b[39m▁\u001b[39m▁\u001b[39m▁\u001b[39m▁\u001b[39m█\u001b[39m \u001b[39m▁\n",
       "  577 ms\u001b[90m           Histogram: frequency by time\u001b[39m          589 ms \u001b[0m\u001b[1m<\u001b[22m\n",
       "\n",
       " Memory estimate\u001b[90m: \u001b[39m\u001b[33m240 bytes\u001b[39m, allocs estimate\u001b[90m: \u001b[39m\u001b[33m6\u001b[39m."
      ]
     },
     "execution_count": 26,
     "metadata": {},
     "output_type": "execute_result"
    }
   ],
   "source": [
    "py_list_bench = @benchmark $pysum($a)"
   ]
  },
  {
   "cell_type": "code",
   "execution_count": 27,
   "metadata": {},
   "outputs": [
    {
     "data": {
      "text/plain": [
       "Dict{Any, Any} with 3 entries:\n",
       "  \"C\"               => 9.8893\n",
       "  \"Python built-in\" => 576.654\n",
       "  \"C -ffast-math\"   => 4.16644"
      ]
     },
     "execution_count": 27,
     "metadata": {},
     "output_type": "execute_result"
    }
   ],
   "source": [
    "d[\"Python built-in\"] = minimum(py_list_bench.times) / 1e6\n",
    "d"
   ]
  },
  {
   "cell_type": "markdown",
   "metadata": {},
   "source": [
    "# 4. Python: `numpy` \n",
    "\n",
    "## Takes advantage of hardware \"SIMD\", but only works when it works.\n",
    "\n",
    "`numpy` is an optimized C library, callable from Python.\n",
    "It may be installed within Julia as follows:"
   ]
  },
  {
   "cell_type": "code",
   "execution_count": 29,
   "metadata": {},
   "outputs": [
    {
     "name": "stderr",
     "output_type": "stream",
     "text": [
      "\u001b[32m\u001b[1m   Resolving\u001b[22m\u001b[39m package versions...\n",
      "\u001b[32m\u001b[1m    Updating\u001b[22m\u001b[39m `~/Desktop/Introduction-to-Julia/Project.toml`\n",
      " \u001b[90m [8f4d0f93] \u001b[39m\u001b[92m+ Conda v1.5.2\u001b[39m\n",
      "\u001b[32m\u001b[1m  No Changes\u001b[22m\u001b[39m to `~/Desktop/Introduction-to-Julia/Manifest.toml`\n"
     ]
    }
   ],
   "source": [
    "#using Pkg; Pkg.add(\"Conda\")\n",
    "#using Conda"
   ]
  },
  {
   "cell_type": "code",
   "execution_count": 30,
   "metadata": {},
   "outputs": [
    {
     "name": "stderr",
     "output_type": "stream",
     "text": [
      "┌ Info: Running `conda install -y numpy` in root environment\n",
      "└ @ Conda /Users/logankilpatrick/.julia/packages/Conda/sNGum/src/Conda.jl:128\n"
     ]
    },
    {
     "name": "stdout",
     "output_type": "stream",
     "text": [
      "Collecting package metadata (current_repodata.json): ...working... done\n",
      "Solving environment: ...working... done\n",
      "\n",
      "## Package Plan ##\n",
      "\n",
      "  environment location: /Users/logankilpatrick/.julia/conda/3\n",
      "\n",
      "  added / updated specs:\n",
      "    - numpy\n",
      "\n",
      "\n",
      "The following packages will be downloaded:\n",
      "\n",
      "    package                    |            build\n",
      "    ---------------------------|-----------------\n",
      "    ca-certificates-2021.7.5   |       hecd8cb5_1         113 KB\n",
      "    conda-4.10.3               |   py38hecd8cb5_0         2.9 MB\n",
      "    ------------------------------------------------------------\n",
      "                                           Total:         3.0 MB\n",
      "\n",
      "The following packages will be UPDATED:\n",
      "\n",
      "  ca-certificates                      2021.5.25-hecd8cb5_1 --> 2021.7.5-hecd8cb5_1\n",
      "  conda                               4.10.1-py38hecd8cb5_1 --> 4.10.3-py38hecd8cb5_0\n",
      "\n",
      "\n",
      "\n",
      "Downloading and Extracting Packages\n",
      "ca-certificates-2021 | 113 KB    | #################################### | 100% \n",
      "conda-4.10.3         | 2.9 MB    | #################################### | 100% \n",
      "Preparing transaction: ...working... done\n",
      "Verifying transaction: ...working... done\n",
      "Executing transaction: ...working... done\n"
     ]
    }
   ],
   "source": [
    "#Conda.add(\"numpy\")"
   ]
  },
  {
   "cell_type": "code",
   "execution_count": 28,
   "metadata": {},
   "outputs": [
    {
     "data": {
      "text/plain": [
       "BenchmarkTools.Trial: 822 samples with 1 evaluation.\n",
       " Range \u001b[90m(\u001b[39m\u001b[36m\u001b[1mmin\u001b[22m\u001b[39m … \u001b[35mmax\u001b[39m\u001b[90m):  \u001b[39m\u001b[36m\u001b[1m4.240 ms\u001b[22m\u001b[39m … \u001b[35m16.390 ms\u001b[39m  \u001b[90m┊\u001b[39m GC \u001b[90m(\u001b[39mmin … max\u001b[90m): \u001b[39m0.00% … 0.00%\n",
       " Time  \u001b[90m(\u001b[39m\u001b[34m\u001b[1mmedian\u001b[22m\u001b[39m\u001b[90m):     \u001b[39m\u001b[34m\u001b[1m5.493 ms              \u001b[22m\u001b[39m\u001b[90m┊\u001b[39m GC \u001b[90m(\u001b[39mmedian\u001b[90m):    \u001b[39m0.00%\n",
       " Time  \u001b[90m(\u001b[39m\u001b[32m\u001b[1mmean\u001b[22m\u001b[39m ± \u001b[32mσ\u001b[39m\u001b[90m):   \u001b[39m\u001b[32m\u001b[1m6.072 ms\u001b[22m\u001b[39m ± \u001b[32m 1.647 ms\u001b[39m  \u001b[90m┊\u001b[39m GC \u001b[90m(\u001b[39mmean ± σ\u001b[90m):  \u001b[39m0.00% ± 0.00%\n",
       "\n",
       "  \u001b[39m \u001b[39m \u001b[39m▁\u001b[39m█\u001b[39m▃\u001b[39m▁\u001b[39m \u001b[39m \u001b[39m \u001b[34m \u001b[39m\u001b[39m \u001b[39m \u001b[39m \u001b[39m \u001b[32m \u001b[39m\u001b[39m \u001b[39m \u001b[39m \u001b[39m \u001b[39m \u001b[39m \u001b[39m \u001b[39m \u001b[39m \u001b[39m \u001b[39m \u001b[39m \u001b[39m \u001b[39m \u001b[39m \u001b[39m \u001b[39m \u001b[39m \u001b[39m \u001b[39m \u001b[39m \u001b[39m \u001b[39m \u001b[39m \u001b[39m \u001b[39m \u001b[39m \u001b[39m \u001b[39m \u001b[39m \u001b[39m \u001b[39m \u001b[39m \u001b[39m \u001b[39m \u001b[39m \u001b[39m \u001b[39m \u001b[39m \u001b[39m \u001b[39m \u001b[39m \u001b[39m \u001b[39m \u001b[39m \n",
       "  \u001b[39m▄\u001b[39m▅\u001b[39m█\u001b[39m█\u001b[39m█\u001b[39m█\u001b[39m▇\u001b[39m▅\u001b[39m▆\u001b[34m▄\u001b[39m\u001b[39m▄\u001b[39m▄\u001b[39m▄\u001b[39m▅\u001b[32m▆\u001b[39m\u001b[39m▅\u001b[39m▅\u001b[39m▅\u001b[39m▄\u001b[39m▄\u001b[39m▃\u001b[39m▄\u001b[39m▄\u001b[39m▄\u001b[39m▄\u001b[39m▃\u001b[39m▄\u001b[39m▄\u001b[39m▃\u001b[39m▃\u001b[39m▃\u001b[39m▄\u001b[39m▃\u001b[39m▃\u001b[39m▃\u001b[39m▃\u001b[39m▃\u001b[39m▃\u001b[39m▂\u001b[39m▃\u001b[39m▃\u001b[39m▂\u001b[39m▂\u001b[39m▁\u001b[39m▂\u001b[39m▂\u001b[39m▁\u001b[39m▂\u001b[39m▂\u001b[39m▁\u001b[39m▁\u001b[39m▁\u001b[39m▂\u001b[39m▁\u001b[39m▂\u001b[39m▁\u001b[39m▁\u001b[39m▂\u001b[39m \u001b[39m▃\n",
       "  4.24 ms\u001b[90m        Histogram: frequency by time\u001b[39m        11.9 ms \u001b[0m\u001b[1m<\u001b[22m\n",
       "\n",
       " Memory estimate\u001b[90m: \u001b[39m\u001b[33m240 bytes\u001b[39m, allocs estimate\u001b[90m: \u001b[39m\u001b[33m6\u001b[39m."
      ]
     },
     "execution_count": 28,
     "metadata": {},
     "output_type": "execute_result"
    }
   ],
   "source": [
    "numpy_sum = pyimport(\"numpy\")[\"sum\"]\n",
    "\n",
    "py_numpy_bench = @benchmark $numpy_sum($a)"
   ]
  },
  {
   "cell_type": "code",
   "execution_count": 29,
   "metadata": {},
   "outputs": [
    {
     "data": {
      "text/plain": [
       "5.000626451388977e6"
      ]
     },
     "execution_count": 29,
     "metadata": {},
     "output_type": "execute_result"
    }
   ],
   "source": [
    "numpy_sum(a)"
   ]
  },
  {
   "cell_type": "code",
   "execution_count": 30,
   "metadata": {},
   "outputs": [
    {
     "data": {
      "text/plain": [
       "true"
      ]
     },
     "execution_count": 30,
     "metadata": {},
     "output_type": "execute_result"
    }
   ],
   "source": [
    "numpy_sum(a) ≈ sum(a)"
   ]
  },
  {
   "cell_type": "code",
   "execution_count": 31,
   "metadata": {
    "scrolled": true
   },
   "outputs": [
    {
     "data": {
      "text/plain": [
       "Dict{Any, Any} with 4 entries:\n",
       "  \"C\"               => 9.8893\n",
       "  \"Python numpy\"    => 4.24007\n",
       "  \"Python built-in\" => 576.654\n",
       "  \"C -ffast-math\"   => 4.16644"
      ]
     },
     "execution_count": 31,
     "metadata": {},
     "output_type": "execute_result"
    }
   ],
   "source": [
    "d[\"Python numpy\"] = minimum(py_numpy_bench.times) / 1e6\n",
    "d"
   ]
  },
  {
   "cell_type": "markdown",
   "metadata": {},
   "source": [
    "# 5. Python, hand-written "
   ]
  },
  {
   "cell_type": "code",
   "execution_count": 32,
   "metadata": {},
   "outputs": [
    {
     "data": {
      "text/plain": [
       "PyObject <function py_sum at 0x177514550>"
      ]
     },
     "execution_count": 32,
     "metadata": {},
     "output_type": "execute_result"
    }
   ],
   "source": [
    "py\"\"\"\n",
    "def py_sum(A):\n",
    "    s = 0.0\n",
    "    for a in A:\n",
    "        s += a\n",
    "    return s\n",
    "\"\"\"\n",
    "\n",
    "sum_py = py\"py_sum\""
   ]
  },
  {
   "cell_type": "code",
   "execution_count": 33,
   "metadata": {},
   "outputs": [
    {
     "data": {
      "text/plain": [
       "BenchmarkTools.Trial: 7 samples with 1 evaluation.\n",
       " Range \u001b[90m(\u001b[39m\u001b[36m\u001b[1mmin\u001b[22m\u001b[39m … \u001b[35mmax\u001b[39m\u001b[90m):  \u001b[39m\u001b[36m\u001b[1m710.514 ms\u001b[22m\u001b[39m … \u001b[35m725.231 ms\u001b[39m  \u001b[90m┊\u001b[39m GC \u001b[90m(\u001b[39mmin … max\u001b[90m): \u001b[39m0.00% … 0.00%\n",
       " Time  \u001b[90m(\u001b[39m\u001b[34m\u001b[1mmedian\u001b[22m\u001b[39m\u001b[90m):     \u001b[39m\u001b[34m\u001b[1m719.247 ms               \u001b[22m\u001b[39m\u001b[90m┊\u001b[39m GC \u001b[90m(\u001b[39mmedian\u001b[90m):    \u001b[39m0.00%\n",
       " Time  \u001b[90m(\u001b[39m\u001b[32m\u001b[1mmean\u001b[22m\u001b[39m ± \u001b[32mσ\u001b[39m\u001b[90m):   \u001b[39m\u001b[32m\u001b[1m719.323 ms\u001b[22m\u001b[39m ± \u001b[32m  5.358 ms\u001b[39m  \u001b[90m┊\u001b[39m GC \u001b[90m(\u001b[39mmean ± σ\u001b[90m):  \u001b[39m0.00% ± 0.00%\n",
       "\n",
       "  \u001b[39m█\u001b[39m \u001b[39m \u001b[39m \u001b[39m \u001b[39m \u001b[39m \u001b[39m \u001b[39m \u001b[39m \u001b[39m \u001b[39m \u001b[39m \u001b[39m \u001b[39m \u001b[39m \u001b[39m \u001b[39m \u001b[39m█\u001b[39m \u001b[39m \u001b[39m \u001b[39m \u001b[39m \u001b[39m \u001b[39m \u001b[39m \u001b[39m \u001b[39m \u001b[39m█\u001b[34m \u001b[39m\u001b[39m \u001b[39m \u001b[39m \u001b[39m \u001b[39m \u001b[39m█\u001b[32m \u001b[39m\u001b[39m \u001b[39m \u001b[39m \u001b[39m \u001b[39m \u001b[39m \u001b[39m \u001b[39m \u001b[39m \u001b[39m \u001b[39m \u001b[39m \u001b[39m \u001b[39m \u001b[39m \u001b[39m \u001b[39m█\u001b[39m█\u001b[39m \u001b[39m \u001b[39m \u001b[39m \u001b[39m█\u001b[39m \u001b[39m \n",
       "  \u001b[39m█\u001b[39m▁\u001b[39m▁\u001b[39m▁\u001b[39m▁\u001b[39m▁\u001b[39m▁\u001b[39m▁\u001b[39m▁\u001b[39m▁\u001b[39m▁\u001b[39m▁\u001b[39m▁\u001b[39m▁\u001b[39m▁\u001b[39m▁\u001b[39m▁\u001b[39m▁\u001b[39m█\u001b[39m▁\u001b[39m▁\u001b[39m▁\u001b[39m▁\u001b[39m▁\u001b[39m▁\u001b[39m▁\u001b[39m▁\u001b[39m▁\u001b[39m▁\u001b[39m█\u001b[34m▁\u001b[39m\u001b[39m▁\u001b[39m▁\u001b[39m▁\u001b[39m▁\u001b[39m▁\u001b[39m█\u001b[32m▁\u001b[39m\u001b[39m▁\u001b[39m▁\u001b[39m▁\u001b[39m▁\u001b[39m▁\u001b[39m▁\u001b[39m▁\u001b[39m▁\u001b[39m▁\u001b[39m▁\u001b[39m▁\u001b[39m▁\u001b[39m▁\u001b[39m▁\u001b[39m▁\u001b[39m▁\u001b[39m█\u001b[39m█\u001b[39m▁\u001b[39m▁\u001b[39m▁\u001b[39m▁\u001b[39m█\u001b[39m \u001b[39m▁\n",
       "  711 ms\u001b[90m           Histogram: frequency by time\u001b[39m          725 ms \u001b[0m\u001b[1m<\u001b[22m\n",
       "\n",
       " Memory estimate\u001b[90m: \u001b[39m\u001b[33m240 bytes\u001b[39m, allocs estimate\u001b[90m: \u001b[39m\u001b[33m6\u001b[39m."
      ]
     },
     "execution_count": 33,
     "metadata": {},
     "output_type": "execute_result"
    }
   ],
   "source": [
    "py_hand = @benchmark $sum_py($a)"
   ]
  },
  {
   "cell_type": "code",
   "execution_count": 34,
   "metadata": {},
   "outputs": [
    {
     "data": {
      "text/plain": [
       "5.000626451388183e6"
      ]
     },
     "execution_count": 34,
     "metadata": {},
     "output_type": "execute_result"
    }
   ],
   "source": [
    "sum_py(a)"
   ]
  },
  {
   "cell_type": "code",
   "execution_count": 35,
   "metadata": {},
   "outputs": [
    {
     "data": {
      "text/plain": [
       "true"
      ]
     },
     "execution_count": 35,
     "metadata": {},
     "output_type": "execute_result"
    }
   ],
   "source": [
    "sum_py(a) ≈ sum(a)"
   ]
  },
  {
   "cell_type": "code",
   "execution_count": 36,
   "metadata": {
    "scrolled": true
   },
   "outputs": [
    {
     "data": {
      "text/plain": [
       "Dict{Any, Any} with 5 entries:\n",
       "  \"C\"                   => 9.8893\n",
       "  \"Python numpy\"        => 4.24007\n",
       "  \"Python hand-written\" => 710.514\n",
       "  \"Python built-in\"     => 576.654\n",
       "  \"C -ffast-math\"       => 4.16644"
      ]
     },
     "execution_count": 36,
     "metadata": {},
     "output_type": "execute_result"
    }
   ],
   "source": [
    "d[\"Python hand-written\"] = minimum(py_hand.times) / 1e6\n",
    "d"
   ]
  },
  {
   "cell_type": "markdown",
   "metadata": {},
   "source": [
    "# 6. Julia (built-in) \n",
    "\n",
    "## Written directly in Julia, not in C!"
   ]
  },
  {
   "cell_type": "code",
   "execution_count": 37,
   "metadata": {},
   "outputs": [
    {
     "data": {
      "text/html": [
       "sum(a::<b>AbstractArray</b>; <i>dims, kw...</i>) in Base at <a href=\"https://github.com/JuliaLang/julia/tree/bd47eca2c8aacd145b6c5c02e47e2b9ec27ab456/base/reducedim.jl#L1010\" target=\"_blank\">reducedim.jl:1010</a>"
      ],
      "text/plain": [
       "sum(\u001b[90ma\u001b[39m::\u001b[1mAbstractArray\u001b[22m; dims, kw...)\n",
       "\u001b[90m     @\u001b[39m \u001b[90mBase\u001b[39m \u001b[90m\u001b[4mreducedim.jl:1010\u001b[24m\u001b[39m"
      ]
     },
     "execution_count": 37,
     "metadata": {},
     "output_type": "execute_result"
    }
   ],
   "source": [
    "@which sum(a)"
   ]
  },
  {
   "cell_type": "code",
   "execution_count": 38,
   "metadata": {},
   "outputs": [
    {
     "data": {
      "text/plain": [
       "BenchmarkTools.Trial: 1033 samples with 1 evaluation.\n",
       " Range \u001b[90m(\u001b[39m\u001b[36m\u001b[1mmin\u001b[22m\u001b[39m … \u001b[35mmax\u001b[39m\u001b[90m):  \u001b[39m\u001b[36m\u001b[1m3.839 ms\u001b[22m\u001b[39m … \u001b[35m11.828 ms\u001b[39m  \u001b[90m┊\u001b[39m GC \u001b[90m(\u001b[39mmin … max\u001b[90m): \u001b[39m0.00% … 0.00%\n",
       " Time  \u001b[90m(\u001b[39m\u001b[34m\u001b[1mmedian\u001b[22m\u001b[39m\u001b[90m):     \u001b[39m\u001b[34m\u001b[1m4.491 ms              \u001b[22m\u001b[39m\u001b[90m┊\u001b[39m GC \u001b[90m(\u001b[39mmedian\u001b[90m):    \u001b[39m0.00%\n",
       " Time  \u001b[90m(\u001b[39m\u001b[32m\u001b[1mmean\u001b[22m\u001b[39m ± \u001b[32mσ\u001b[39m\u001b[90m):   \u001b[39m\u001b[32m\u001b[1m4.828 ms\u001b[22m\u001b[39m ± \u001b[32m 1.006 ms\u001b[39m  \u001b[90m┊\u001b[39m GC \u001b[90m(\u001b[39mmean ± σ\u001b[90m):  \u001b[39m0.00% ± 0.00%\n",
       "\n",
       "  \u001b[39m \u001b[39m \u001b[39m▂\u001b[39m▆\u001b[39m█\u001b[39m▇\u001b[39m▁\u001b[34m▁\u001b[39m\u001b[39m \u001b[39m \u001b[32m \u001b[39m\u001b[39m \u001b[39m \u001b[39m \u001b[39m \u001b[39m \u001b[39m \u001b[39m \u001b[39m \u001b[39m \u001b[39m \u001b[39m \u001b[39m \u001b[39m \u001b[39m \u001b[39m \u001b[39m \u001b[39m \u001b[39m \u001b[39m \u001b[39m \u001b[39m \u001b[39m \u001b[39m \u001b[39m \u001b[39m \u001b[39m \u001b[39m \u001b[39m \u001b[39m \u001b[39m \u001b[39m \u001b[39m \u001b[39m \u001b[39m \u001b[39m \u001b[39m \u001b[39m \u001b[39m \u001b[39m \u001b[39m \u001b[39m \u001b[39m \u001b[39m \u001b[39m \u001b[39m \u001b[39m \u001b[39m \u001b[39m \u001b[39m \n",
       "  \u001b[39m▃\u001b[39m▃\u001b[39m█\u001b[39m█\u001b[39m█\u001b[39m█\u001b[39m█\u001b[34m█\u001b[39m\u001b[39m█\u001b[39m█\u001b[32m▆\u001b[39m\u001b[39m▅\u001b[39m▅\u001b[39m▄\u001b[39m▄\u001b[39m▃\u001b[39m▃\u001b[39m▃\u001b[39m▃\u001b[39m▃\u001b[39m▃\u001b[39m▃\u001b[39m▂\u001b[39m▃\u001b[39m▂\u001b[39m▂\u001b[39m▃\u001b[39m▃\u001b[39m▂\u001b[39m▂\u001b[39m▂\u001b[39m▂\u001b[39m▂\u001b[39m▃\u001b[39m▂\u001b[39m▂\u001b[39m▂\u001b[39m▂\u001b[39m▁\u001b[39m▂\u001b[39m▂\u001b[39m▂\u001b[39m▂\u001b[39m▂\u001b[39m▂\u001b[39m▂\u001b[39m▂\u001b[39m▂\u001b[39m▂\u001b[39m▁\u001b[39m▁\u001b[39m▂\u001b[39m▁\u001b[39m▂\u001b[39m▂\u001b[39m▂\u001b[39m▁\u001b[39m▂\u001b[39m \u001b[39m▃\n",
       "  3.84 ms\u001b[90m        Histogram: frequency by time\u001b[39m        9.56 ms \u001b[0m\u001b[1m<\u001b[22m\n",
       "\n",
       " Memory estimate\u001b[90m: \u001b[39m\u001b[33m0 bytes\u001b[39m, allocs estimate\u001b[90m: \u001b[39m\u001b[33m0\u001b[39m."
      ]
     },
     "execution_count": 38,
     "metadata": {},
     "output_type": "execute_result"
    }
   ],
   "source": [
    "j_bench = @benchmark sum($a)"
   ]
  },
  {
   "cell_type": "code",
   "execution_count": 39,
   "metadata": {
    "scrolled": true
   },
   "outputs": [
    {
     "data": {
      "text/plain": [
       "Dict{Any, Any} with 6 entries:\n",
       "  \"C\"                   => 9.8893\n",
       "  \"Python numpy\"        => 4.24007\n",
       "  \"Python hand-written\" => 710.514\n",
       "  \"Python built-in\"     => 576.654\n",
       "  \"Julia built-in\"      => 3.83872\n",
       "  \"C -ffast-math\"       => 4.16644"
      ]
     },
     "execution_count": 39,
     "metadata": {},
     "output_type": "execute_result"
    }
   ],
   "source": [
    "d[\"Julia built-in\"] = minimum(j_bench.times) / 1e6\n",
    "d"
   ]
  },
  {
   "cell_type": "markdown",
   "metadata": {},
   "source": [
    "# 7. Julia (hand-written) "
   ]
  },
  {
   "cell_type": "code",
   "execution_count": 40,
   "metadata": {
    "scrolled": true
   },
   "outputs": [
    {
     "data": {
      "text/plain": [
       "mysum (generic function with 1 method)"
      ]
     },
     "execution_count": 40,
     "metadata": {},
     "output_type": "execute_result"
    }
   ],
   "source": [
    "function mysum(A)   \n",
    "    s = 0.0 # s = zero(eltype(a))\n",
    "    for a in A\n",
    "        s += a\n",
    "    end\n",
    "    s\n",
    "end"
   ]
  },
  {
   "cell_type": "code",
   "execution_count": 41,
   "metadata": {},
   "outputs": [
    {
     "data": {
      "text/plain": [
       "BenchmarkTools.Trial: 478 samples with 1 evaluation.\n",
       " Range \u001b[90m(\u001b[39m\u001b[36m\u001b[1mmin\u001b[22m\u001b[39m … \u001b[35mmax\u001b[39m\u001b[90m):  \u001b[39m\u001b[36m\u001b[1m 9.803 ms\u001b[22m\u001b[39m … \u001b[35m 13.399 ms\u001b[39m  \u001b[90m┊\u001b[39m GC \u001b[90m(\u001b[39mmin … max\u001b[90m): \u001b[39m0.00% … 0.00%\n",
       " Time  \u001b[90m(\u001b[39m\u001b[34m\u001b[1mmedian\u001b[22m\u001b[39m\u001b[90m):     \u001b[39m\u001b[34m\u001b[1m10.221 ms               \u001b[22m\u001b[39m\u001b[90m┊\u001b[39m GC \u001b[90m(\u001b[39mmedian\u001b[90m):    \u001b[39m0.00%\n",
       " Time  \u001b[90m(\u001b[39m\u001b[32m\u001b[1mmean\u001b[22m\u001b[39m ± \u001b[32mσ\u001b[39m\u001b[90m):   \u001b[39m\u001b[32m\u001b[1m10.449 ms\u001b[22m\u001b[39m ± \u001b[32m638.697 μs\u001b[39m  \u001b[90m┊\u001b[39m GC \u001b[90m(\u001b[39mmean ± σ\u001b[90m):  \u001b[39m0.00% ± 0.00%\n",
       "\n",
       "  \u001b[39m▂\u001b[39m▅\u001b[39m▃\u001b[39m▇\u001b[39m█\u001b[39m▃\u001b[39m▂\u001b[39m▂\u001b[34m▆\u001b[39m\u001b[39m \u001b[39m \u001b[39m \u001b[39m▃\u001b[32m \u001b[39m\u001b[39m \u001b[39m \u001b[39m \u001b[39m \u001b[39m \u001b[39m \u001b[39m \u001b[39m \u001b[39m \u001b[39m \u001b[39m \u001b[39m \u001b[39m \u001b[39m \u001b[39m \u001b[39m \u001b[39m \u001b[39m \u001b[39m \u001b[39m \u001b[39m \u001b[39m \u001b[39m \u001b[39m \u001b[39m \u001b[39m \u001b[39m \u001b[39m \u001b[39m \u001b[39m \u001b[39m \u001b[39m \u001b[39m \u001b[39m \u001b[39m \u001b[39m \u001b[39m \u001b[39m \u001b[39m \u001b[39m \u001b[39m \u001b[39m \u001b[39m \u001b[39m \u001b[39m \u001b[39m \u001b[39m \u001b[39m \n",
       "  \u001b[39m█\u001b[39m█\u001b[39m█\u001b[39m█\u001b[39m█\u001b[39m█\u001b[39m█\u001b[39m█\u001b[34m█\u001b[39m\u001b[39m█\u001b[39m▆\u001b[39m▆\u001b[39m█\u001b[32m▄\u001b[39m\u001b[39m▇\u001b[39m▄\u001b[39m▄\u001b[39m▆\u001b[39m▆\u001b[39m▃\u001b[39m▄\u001b[39m▄\u001b[39m▅\u001b[39m▄\u001b[39m▄\u001b[39m▃\u001b[39m▄\u001b[39m▃\u001b[39m▃\u001b[39m▄\u001b[39m▃\u001b[39m▃\u001b[39m▄\u001b[39m▃\u001b[39m▃\u001b[39m▃\u001b[39m▂\u001b[39m▁\u001b[39m▂\u001b[39m▃\u001b[39m▄\u001b[39m▃\u001b[39m▂\u001b[39m▁\u001b[39m▂\u001b[39m▁\u001b[39m▂\u001b[39m▁\u001b[39m▂\u001b[39m▁\u001b[39m▂\u001b[39m▁\u001b[39m▁\u001b[39m▃\u001b[39m▂\u001b[39m▂\u001b[39m▁\u001b[39m▁\u001b[39m▁\u001b[39m▃\u001b[39m \u001b[39m▃\n",
       "  9.8 ms\u001b[90m          Histogram: frequency by time\u001b[39m         12.8 ms \u001b[0m\u001b[1m<\u001b[22m\n",
       "\n",
       " Memory estimate\u001b[90m: \u001b[39m\u001b[33m0 bytes\u001b[39m, allocs estimate\u001b[90m: \u001b[39m\u001b[33m0\u001b[39m."
      ]
     },
     "execution_count": 41,
     "metadata": {},
     "output_type": "execute_result"
    }
   ],
   "source": [
    "j_bench_hand = @benchmark mysum($a)"
   ]
  },
  {
   "cell_type": "code",
   "execution_count": 42,
   "metadata": {
    "scrolled": true
   },
   "outputs": [
    {
     "data": {
      "text/plain": [
       "Dict{Any, Any} with 7 entries:\n",
       "  \"C\"                   => 9.8893\n",
       "  \"Python numpy\"        => 4.24007\n",
       "  \"Julia hand-written\"  => 9.8034\n",
       "  \"Python hand-written\" => 710.514\n",
       "  \"Python built-in\"     => 576.654\n",
       "  \"Julia built-in\"      => 3.83872\n",
       "  \"C -ffast-math\"       => 4.16644"
      ]
     },
     "execution_count": 42,
     "metadata": {},
     "output_type": "execute_result"
    }
   ],
   "source": [
    "d[\"Julia hand-written\"] = minimum(j_bench_hand.times) / 1e6\n",
    "d"
   ]
  },
  {
   "cell_type": "markdown",
   "metadata": {},
   "source": [
    "# 8. Julia (hand-written w. simd) "
   ]
  },
  {
   "cell_type": "code",
   "execution_count": 43,
   "metadata": {},
   "outputs": [
    {
     "data": {
      "text/plain": [
       "mysum_simd (generic function with 1 method)"
      ]
     },
     "execution_count": 43,
     "metadata": {},
     "output_type": "execute_result"
    }
   ],
   "source": [
    "function mysum_simd(A)   \n",
    "    s = 0.0 # s = zero(eltype(A))\n",
    "    @simd for a in A\n",
    "        s += a\n",
    "    end\n",
    "    s\n",
    "end"
   ]
  },
  {
   "cell_type": "code",
   "execution_count": 44,
   "metadata": {},
   "outputs": [
    {
     "data": {
      "text/plain": [
       "BenchmarkTools.Trial: 1044 samples with 1 evaluation.\n",
       " Range \u001b[90m(\u001b[39m\u001b[36m\u001b[1mmin\u001b[22m\u001b[39m … \u001b[35mmax\u001b[39m\u001b[90m):  \u001b[39m\u001b[36m\u001b[1m3.860 ms\u001b[22m\u001b[39m … \u001b[35m  8.122 ms\u001b[39m  \u001b[90m┊\u001b[39m GC \u001b[90m(\u001b[39mmin … max\u001b[90m): \u001b[39m0.00% … 0.00%\n",
       " Time  \u001b[90m(\u001b[39m\u001b[34m\u001b[1mmedian\u001b[22m\u001b[39m\u001b[90m):     \u001b[39m\u001b[34m\u001b[1m4.500 ms               \u001b[22m\u001b[39m\u001b[90m┊\u001b[39m GC \u001b[90m(\u001b[39mmedian\u001b[90m):    \u001b[39m0.00%\n",
       " Time  \u001b[90m(\u001b[39m\u001b[32m\u001b[1mmean\u001b[22m\u001b[39m ± \u001b[32mσ\u001b[39m\u001b[90m):   \u001b[39m\u001b[32m\u001b[1m4.776 ms\u001b[22m\u001b[39m ± \u001b[32m763.014 μs\u001b[39m  \u001b[90m┊\u001b[39m GC \u001b[90m(\u001b[39mmean ± σ\u001b[90m):  \u001b[39m0.00% ± 0.00%\n",
       "\n",
       "  \u001b[39m \u001b[39m▁\u001b[39m▅\u001b[39m▇\u001b[39m▇\u001b[39m█\u001b[39m▆\u001b[39m▆\u001b[39m█\u001b[39m▄\u001b[39m▂\u001b[34m▄\u001b[39m\u001b[39m \u001b[39m▁\u001b[39m \u001b[39m \u001b[32m \u001b[39m\u001b[39m \u001b[39m \u001b[39m \u001b[39m \u001b[39m \u001b[39m \u001b[39m \u001b[39m \u001b[39m \u001b[39m \u001b[39m \u001b[39m \u001b[39m \u001b[39m \u001b[39m \u001b[39m \u001b[39m \u001b[39m \u001b[39m \u001b[39m \u001b[39m \u001b[39m \u001b[39m \u001b[39m \u001b[39m \u001b[39m \u001b[39m \u001b[39m \u001b[39m \u001b[39m \u001b[39m \u001b[39m \u001b[39m \u001b[39m \u001b[39m \u001b[39m \u001b[39m \u001b[39m \u001b[39m \u001b[39m \u001b[39m \u001b[39m \u001b[39m \u001b[39m \n",
       "  \u001b[39m▅\u001b[39m█\u001b[39m█\u001b[39m█\u001b[39m█\u001b[39m█\u001b[39m█\u001b[39m█\u001b[39m█\u001b[39m█\u001b[39m█\u001b[34m█\u001b[39m\u001b[39m▇\u001b[39m█\u001b[39m█\u001b[39m▇\u001b[32m▅\u001b[39m\u001b[39m▆\u001b[39m▅\u001b[39m▆\u001b[39m▅\u001b[39m▅\u001b[39m▅\u001b[39m▆\u001b[39m▆\u001b[39m▆\u001b[39m▅\u001b[39m▇\u001b[39m▆\u001b[39m▅\u001b[39m▅\u001b[39m▅\u001b[39m▄\u001b[39m▅\u001b[39m▅\u001b[39m▅\u001b[39m▅\u001b[39m▃\u001b[39m▅\u001b[39m▃\u001b[39m▃\u001b[39m▄\u001b[39m▄\u001b[39m▂\u001b[39m▃\u001b[39m▂\u001b[39m▃\u001b[39m▃\u001b[39m▃\u001b[39m▃\u001b[39m▂\u001b[39m▃\u001b[39m▂\u001b[39m▂\u001b[39m▂\u001b[39m▂\u001b[39m▂\u001b[39m▁\u001b[39m▂\u001b[39m \u001b[39m▄\n",
       "  3.86 ms\u001b[90m         Histogram: frequency by time\u001b[39m         7.2 ms \u001b[0m\u001b[1m<\u001b[22m\n",
       "\n",
       " Memory estimate\u001b[90m: \u001b[39m\u001b[33m0 bytes\u001b[39m, allocs estimate\u001b[90m: \u001b[39m\u001b[33m0\u001b[39m."
      ]
     },
     "execution_count": 44,
     "metadata": {},
     "output_type": "execute_result"
    }
   ],
   "source": [
    "j_bench_hand_simd = @benchmark mysum_simd($a)"
   ]
  },
  {
   "cell_type": "code",
   "execution_count": 45,
   "metadata": {},
   "outputs": [
    {
     "data": {
      "text/plain": [
       "5.00062645138901e6"
      ]
     },
     "execution_count": 45,
     "metadata": {},
     "output_type": "execute_result"
    }
   ],
   "source": [
    "mysum_simd(a)"
   ]
  },
  {
   "cell_type": "code",
   "execution_count": 46,
   "metadata": {
    "scrolled": true
   },
   "outputs": [
    {
     "data": {
      "text/plain": [
       "Dict{Any, Any} with 8 entries:\n",
       "  \"Julia hand-written simd\" => 3.86027\n",
       "  \"C\"                       => 9.8893\n",
       "  \"Python numpy\"            => 4.24007\n",
       "  \"Julia hand-written\"      => 9.8034\n",
       "  \"Python hand-written\"     => 710.514\n",
       "  \"Python built-in\"         => 576.654\n",
       "  \"Julia built-in\"          => 3.83872\n",
       "  \"C -ffast-math\"           => 4.16644"
      ]
     },
     "execution_count": 46,
     "metadata": {},
     "output_type": "execute_result"
    }
   ],
   "source": [
    "d[\"Julia hand-written simd\"] = minimum(j_bench_hand_simd.times) / 1e6\n",
    "d"
   ]
  },
  {
   "cell_type": "markdown",
   "metadata": {},
   "source": [
    "# Summary"
   ]
  },
  {
   "cell_type": "code",
   "execution_count": 47,
   "metadata": {
    "scrolled": true
   },
   "outputs": [
    {
     "name": "stdout",
     "output_type": "stream",
     "text": [
      "Julia built-in..............3.8\n",
      "Julia hand-written simd.....3.9\n",
      "C -ffast-math...............4.2\n",
      "Python numpy................4.2\n",
      "Julia hand-written..........9.8\n",
      "C...........................9.9\n",
      "Python built-in...........576.7\n",
      "Python hand-written.......710.5\n"
     ]
    }
   ],
   "source": [
    "for (key, value) in sort(collect(d), by=last)\n",
    "    println(rpad(key, 25, \".\"), lpad(round(value; digits=1), 6, \".\"))\n",
    "end"
   ]
  },
  {
   "cell_type": "code",
   "execution_count": null,
   "metadata": {},
   "outputs": [],
   "source": []
  }
 ],
 "metadata": {
  "anaconda-cloud": {},
  "kernelspec": {
   "display_name": "Julia 1.10.2",
   "language": "julia",
   "name": "julia-1.10"
  },
  "language_info": {
   "file_extension": ".jl",
   "mimetype": "application/julia",
   "name": "julia",
   "version": "1.10.2"
  },
  "toc": {
   "colors": {
    "hover_highlight": "#DAA520",
    "running_highlight": "#FF0000",
    "selected_highlight": "#FFD700"
   },
   "moveMenuLeft": true,
   "nav_menu": {
    "height": "212px",
    "width": "252px"
   },
   "navigate_menu": true,
   "number_sections": true,
   "sideBar": true,
   "threshold": "2",
   "toc_cell": false,
   "toc_section_display": "block",
   "toc_window_display": false
  }
 },
 "nbformat": 4,
 "nbformat_minor": 4
}
